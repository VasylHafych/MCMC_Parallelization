{
 "cells": [
  {
   "cell_type": "markdown",
   "metadata": {},
   "source": [
    "# Master Process Only:"
   ]
  },
  {
   "cell_type": "code",
   "execution_count": 1,
   "metadata": {},
   "outputs": [
    {
     "data": {
      "text/plain": [
       "PyPlot"
      ]
     },
     "execution_count": 1,
     "metadata": {},
     "output_type": "execute_result"
    }
   ],
   "source": [
    "using Distributed\n",
    "using LaTeXStrings\n",
    "using KDTree\n",
    "using CPUTime\n",
    "using JLD2\n",
    "\n",
    "Distributed.addprocs(4)\n",
    "\n",
    "using PyPlot\n",
    "plt = PyPlot"
   ]
  },
  {
   "cell_type": "markdown",
   "metadata": {},
   "source": [
    "# Workers:"
   ]
  },
  {
   "cell_type": "code",
   "execution_count": 2,
   "metadata": {},
   "outputs": [],
   "source": [
    "@everywhere begin \n",
    "    using Distributed\n",
    "    using Distributions \n",
    "    using IntervalSets\n",
    "    using ValueShapes\n",
    "    using ArraysOfArrays\n",
    "    using StatsBase \n",
    "    using LinearAlgebra\n",
    "    using BATPar\n",
    "    using BAT\n",
    "end"
   ]
  },
  {
   "cell_type": "code",
   "execution_count": 3,
   "metadata": {},
   "outputs": [],
   "source": [
    "@everywhere begin \n",
    "    g(x;) = prod(pdf.(Normal(), x))\n",
    "    N = 2\n",
    "    min_v = -10.\n",
    "    max_v = 10.\n",
    "    lgV = N*log(max_v-min_v); \n",
    "    likelihood = params -> LogDVal((log(g(params.a))))\n",
    "end"
   ]
  },
  {
   "cell_type": "code",
   "execution_count": 5,
   "metadata": {},
   "outputs": [],
   "source": [
    "@everywhere begin\n",
    "\n",
    "    true_param =(μ1=4, μ2=-4, σ=0.13)\n",
    "\n",
    "    function g(x::AbstractArray; true_param=true_param)\n",
    "        tmp = 1\n",
    "        for i in eachindex(x)\n",
    "            if i > 2\n",
    "                tmp *= pdf(Cauchy(true_param.μ1 + true_param.μ2, true_param.σ), x[i])\n",
    "            else \n",
    "                tmp *= 0.5*pdf(Cauchy(true_param.μ1, true_param.σ), x[i]) + 0.5*pdf(Cauchy(true_param.μ2, true_param.σ), x[i])\n",
    "            end\n",
    "        end\n",
    "        return tmp\n",
    "    end\n",
    "\n",
    "    function LogTrueIntegral(N; max = max_v, min=min_v,  true_param=true_param) \n",
    "        tmp = 0\n",
    "        for i in 1:N\n",
    "            if i > 2\n",
    "                tmp += log(cdf(Cauchy(true_param.μ1 + true_param.μ2,true_param.σ), max_v) - cdf(Cauchy(true_param.μ1 + true_param.μ2,true_param.σ), min_v))\n",
    "            else \n",
    "                tmp += log(cdf(Cauchy(true_param.μ1,true_param.σ), max_v) - cdf(Cauchy(true_param.μ1 ,true_param.σ), min_v))\n",
    "            end\n",
    "        end\n",
    "        return tmp\n",
    "    end\n",
    "\n",
    "    N = 6\n",
    "    min_v = -10.\n",
    "    max_v = 10.\n",
    "    lgV = N*log(max_v-min_v); \n",
    "    likelihood = params -> LogDVal((log(g(params.a))))\n",
    "    \n",
    "end\n",
    "    "
   ]
  },
  {
   "cell_type": "markdown",
   "metadata": {},
   "source": [
    "## Exploration samples: "
   ]
  },
  {
   "cell_type": "code",
   "execution_count": 6,
   "metadata": {},
   "outputs": [
    {
     "name": "stderr",
     "output_type": "stream",
     "text": [
      "┌ Info: Trying to generate 75 viable MCMC chain(s).\n",
      "└ @ BAT /Users/vhafych/MPP-Server/gitrepos/BAT.jl/src/samplers/mcmc/mcmc_tuner.jl:206\n",
      "┌ Info: Selected 75 MCMC chain(s).\n",
      "└ @ BAT /Users/vhafych/MPP-Server/gitrepos/BAT.jl/src/samplers/mcmc/mcmc_tuner.jl:317\n",
      "┌ Info: Begin tuning of 75 MCMC chain(s).\n",
      "└ @ BAT /Users/vhafych/MPP-Server/gitrepos/BAT.jl/src/samplers/mcmc/mcmc_tuner.jl:72\n",
      "┌ Info: MCMC Tuning cycle 1 finished, 75 chains, 0 tuned, 0 converged.\n",
      "└ @ BAT /Users/vhafych/MPP-Server/gitrepos/BAT.jl/src/samplers/mcmc/mcmc_tuner.jl:105\n",
      "┌ Info: MCMC Tuning cycle 2 finished, 75 chains, 0 tuned, 0 converged.\n",
      "└ @ BAT /Users/vhafych/MPP-Server/gitrepos/BAT.jl/src/samplers/mcmc/mcmc_tuner.jl:105\n",
      "┌ Info: MCMC Tuning cycle 3 finished, 75 chains, 0 tuned, 0 converged.\n",
      "└ @ BAT /Users/vhafych/MPP-Server/gitrepos/BAT.jl/src/samplers/mcmc/mcmc_tuner.jl:105\n",
      "┌ Info: MCMC Tuning cycle 4 finished, 75 chains, 0 tuned, 0 converged.\n",
      "└ @ BAT /Users/vhafych/MPP-Server/gitrepos/BAT.jl/src/samplers/mcmc/mcmc_tuner.jl:105\n",
      "┌ Info: MCMC Tuning cycle 5 finished, 75 chains, 1 tuned, 0 converged.\n",
      "└ @ BAT /Users/vhafych/MPP-Server/gitrepos/BAT.jl/src/samplers/mcmc/mcmc_tuner.jl:105\n",
      "┌ Info: MCMC Tuning cycle 6 finished, 75 chains, 14 tuned, 0 converged.\n",
      "└ @ BAT /Users/vhafych/MPP-Server/gitrepos/BAT.jl/src/samplers/mcmc/mcmc_tuner.jl:105\n",
      "┌ Info: MCMC Tuning cycle 7 finished, 75 chains, 27 tuned, 0 converged.\n",
      "└ @ BAT /Users/vhafych/MPP-Server/gitrepos/BAT.jl/src/samplers/mcmc/mcmc_tuner.jl:105\n",
      "┌ Info: MCMC Tuning cycle 8 finished, 75 chains, 37 tuned, 0 converged.\n",
      "└ @ BAT /Users/vhafych/MPP-Server/gitrepos/BAT.jl/src/samplers/mcmc/mcmc_tuner.jl:105\n",
      "┌ Info: MCMC Tuning cycle 9 finished, 75 chains, 59 tuned, 0 converged.\n",
      "└ @ BAT /Users/vhafych/MPP-Server/gitrepos/BAT.jl/src/samplers/mcmc/mcmc_tuner.jl:105\n",
      "┌ Info: MCMC Tuning cycle 10 finished, 75 chains, 62 tuned, 0 converged.\n",
      "└ @ BAT /Users/vhafych/MPP-Server/gitrepos/BAT.jl/src/samplers/mcmc/mcmc_tuner.jl:105\n",
      "┌ Info: MCMC Tuning cycle 11 finished, 75 chains, 66 tuned, 0 converged.\n",
      "└ @ BAT /Users/vhafych/MPP-Server/gitrepos/BAT.jl/src/samplers/mcmc/mcmc_tuner.jl:105\n",
      "┌ Info: MCMC Tuning cycle 12 finished, 75 chains, 57 tuned, 0 converged.\n",
      "└ @ BAT /Users/vhafych/MPP-Server/gitrepos/BAT.jl/src/samplers/mcmc/mcmc_tuner.jl:105\n",
      "┌ Info: MCMC Tuning cycle 13 finished, 75 chains, 51 tuned, 0 converged.\n",
      "└ @ BAT /Users/vhafych/MPP-Server/gitrepos/BAT.jl/src/samplers/mcmc/mcmc_tuner.jl:105\n",
      "┌ Info: MCMC Tuning cycle 14 finished, 75 chains, 55 tuned, 0 converged.\n",
      "└ @ BAT /Users/vhafych/MPP-Server/gitrepos/BAT.jl/src/samplers/mcmc/mcmc_tuner.jl:105\n",
      "┌ Info: MCMC Tuning cycle 15 finished, 75 chains, 59 tuned, 0 converged.\n",
      "└ @ BAT /Users/vhafych/MPP-Server/gitrepos/BAT.jl/src/samplers/mcmc/mcmc_tuner.jl:105\n",
      "┌ Info: MCMC Tuning cycle 16 finished, 75 chains, 56 tuned, 0 converged.\n",
      "└ @ BAT /Users/vhafych/MPP-Server/gitrepos/BAT.jl/src/samplers/mcmc/mcmc_tuner.jl:105\n",
      "┌ Info: MCMC Tuning cycle 17 finished, 75 chains, 47 tuned, 0 converged.\n",
      "└ @ BAT /Users/vhafych/MPP-Server/gitrepos/BAT.jl/src/samplers/mcmc/mcmc_tuner.jl:105\n",
      "┌ Info: MCMC Tuning cycle 18 finished, 75 chains, 53 tuned, 0 converged.\n",
      "└ @ BAT /Users/vhafych/MPP-Server/gitrepos/BAT.jl/src/samplers/mcmc/mcmc_tuner.jl:105\n",
      "┌ Info: MCMC Tuning cycle 19 finished, 75 chains, 53 tuned, 0 converged.\n",
      "└ @ BAT /Users/vhafych/MPP-Server/gitrepos/BAT.jl/src/samplers/mcmc/mcmc_tuner.jl:105\n",
      "┌ Info: MCMC Tuning cycle 20 finished, 75 chains, 56 tuned, 0 converged.\n",
      "└ @ BAT /Users/vhafych/MPP-Server/gitrepos/BAT.jl/src/samplers/mcmc/mcmc_tuner.jl:105\n",
      "┌ Info: MCMC Tuning cycle 21 finished, 75 chains, 63 tuned, 0 converged.\n",
      "└ @ BAT /Users/vhafych/MPP-Server/gitrepos/BAT.jl/src/samplers/mcmc/mcmc_tuner.jl:105\n",
      "┌ Info: MCMC Tuning cycle 22 finished, 75 chains, 58 tuned, 0 converged.\n",
      "└ @ BAT /Users/vhafych/MPP-Server/gitrepos/BAT.jl/src/samplers/mcmc/mcmc_tuner.jl:105\n",
      "┌ Info: MCMC Tuning cycle 23 finished, 75 chains, 59 tuned, 0 converged.\n",
      "└ @ BAT /Users/vhafych/MPP-Server/gitrepos/BAT.jl/src/samplers/mcmc/mcmc_tuner.jl:105\n",
      "┌ Info: MCMC Tuning cycle 24 finished, 75 chains, 53 tuned, 0 converged.\n",
      "└ @ BAT /Users/vhafych/MPP-Server/gitrepos/BAT.jl/src/samplers/mcmc/mcmc_tuner.jl:105\n",
      "┌ Info: MCMC Tuning cycle 25 finished, 75 chains, 64 tuned, 0 converged.\n",
      "└ @ BAT /Users/vhafych/MPP-Server/gitrepos/BAT.jl/src/samplers/mcmc/mcmc_tuner.jl:105\n",
      "┌ Info: MCMC Tuning cycle 26 finished, 75 chains, 64 tuned, 0 converged.\n",
      "└ @ BAT /Users/vhafych/MPP-Server/gitrepos/BAT.jl/src/samplers/mcmc/mcmc_tuner.jl:105\n",
      "┌ Info: MCMC Tuning cycle 27 finished, 75 chains, 62 tuned, 0 converged.\n",
      "└ @ BAT /Users/vhafych/MPP-Server/gitrepos/BAT.jl/src/samplers/mcmc/mcmc_tuner.jl:105\n",
      "┌ Info: MCMC Tuning cycle 28 finished, 75 chains, 56 tuned, 0 converged.\n",
      "└ @ BAT /Users/vhafych/MPP-Server/gitrepos/BAT.jl/src/samplers/mcmc/mcmc_tuner.jl:105\n",
      "┌ Info: MCMC Tuning cycle 29 finished, 75 chains, 64 tuned, 0 converged.\n",
      "└ @ BAT /Users/vhafych/MPP-Server/gitrepos/BAT.jl/src/samplers/mcmc/mcmc_tuner.jl:105\n",
      "┌ Info: MCMC Tuning cycle 30 finished, 75 chains, 60 tuned, 0 converged.\n",
      "└ @ BAT /Users/vhafych/MPP-Server/gitrepos/BAT.jl/src/samplers/mcmc/mcmc_tuner.jl:105\n",
      "┌ Warning: MCMC tuning of 75 chains aborted after 30 cycle(s).\n",
      "└ @ BAT /Users/vhafych/MPP-Server/gitrepos/BAT.jl/src/samplers/mcmc/mcmc_tuner.jl:115\n"
     ]
    }
   ],
   "source": [
    "prior = NamedTupleDist(a = [[min_v .. max_v for i in 1:N]...],);\n",
    "posterior = PosteriorDensity(likelihood, prior);\n",
    "\n",
    "nnsamples = 450\n",
    "nnchains = 75\n",
    "\n",
    "samples, stats = bat_sample(posterior, (nnsamples, nnchains), MetropolisHastings(),);\n",
    "\n",
    "smpl = flatview(unshaped.(samples.v))\n",
    "weights_LogLik = samples.logd\n",
    "weights_Histogram = samples.weight;\n",
    "\n",
    "data_kdtree = Data(smpl[:,1:5:end], weights_Histogram[1:5:end], weights_LogLik[1:5:end]);"
   ]
  },
  {
   "cell_type": "markdown",
   "metadata": {},
   "source": [
    "# Space Partitioning"
   ]
  },
  {
   "cell_type": "code",
   "execution_count": 46,
   "metadata": {},
   "outputs": [
    {
     "name": "stderr",
     "output_type": "stream",
     "text": [
      "┌ Info: KDTree: Increasing tree depth: depth = 1\n",
      "└ @ KDTree /Users/vhafych/MPP-Server/gitrepos/KDTree/src/KDTree.jl:186\n",
      "┌ Info: KDTree: Increasing tree depth: depth = 2\n",
      "└ @ KDTree /Users/vhafych/MPP-Server/gitrepos/KDTree/src/KDTree.jl:186\n",
      "┌ Info: KDTree: Increasing tree depth: depth = 3\n",
      "└ @ KDTree /Users/vhafych/MPP-Server/gitrepos/KDTree/src/KDTree.jl:186\n",
      "┌ Info: KDTree: Increasing tree depth: depth = 4\n",
      "└ @ KDTree /Users/vhafych/MPP-Server/gitrepos/KDTree/src/KDTree.jl:186\n",
      "┌ Info: KDTree: Increasing tree depth: depth = 5\n",
      "└ @ KDTree /Users/vhafych/MPP-Server/gitrepos/KDTree/src/KDTree.jl:186\n",
      "┌ Info: KDTree: Increasing tree depth: depth = 6\n",
      "└ @ KDTree /Users/vhafych/MPP-Server/gitrepos/KDTree/src/KDTree.jl:186\n",
      "┌ Info: KDTree: Increasing tree depth: depth = 7\n",
      "└ @ KDTree /Users/vhafych/MPP-Server/gitrepos/KDTree/src/KDTree.jl:186\n",
      "┌ Info: KDTree: Increasing tree depth: depth = 8\n",
      "└ @ KDTree /Users/vhafych/MPP-Server/gitrepos/KDTree/src/KDTree.jl:186\n",
      "┌ Info: KDTree: Increasing tree depth: depth = 9\n",
      "└ @ KDTree /Users/vhafych/MPP-Server/gitrepos/KDTree/src/KDTree.jl:186\n",
      "┌ Info: KDTree: Increasing tree depth: depth = 10\n",
      "└ @ KDTree /Users/vhafych/MPP-Server/gitrepos/KDTree/src/KDTree.jl:186\n",
      "┌ Info: KDTree: Increasing tree depth: depth = 11\n",
      "└ @ KDTree /Users/vhafych/MPP-Server/gitrepos/KDTree/src/KDTree.jl:186\n",
      "┌ Info: KDTree: Increasing tree depth: depth = 12\n",
      "└ @ KDTree /Users/vhafych/MPP-Server/gitrepos/KDTree/src/KDTree.jl:186\n",
      "┌ Info: KDTree: Increasing tree depth: depth = 13\n",
      "└ @ KDTree /Users/vhafych/MPP-Server/gitrepos/KDTree/src/KDTree.jl:186\n",
      "┌ Info: KDTree: Increasing tree depth: depth = 14\n",
      "└ @ KDTree /Users/vhafych/MPP-Server/gitrepos/KDTree/src/KDTree.jl:186\n",
      "┌ Info: KDTree: Increasing tree depth: depth = 15\n",
      "└ @ KDTree /Users/vhafych/MPP-Server/gitrepos/KDTree/src/KDTree.jl:186\n",
      "┌ Info: KDTree: Increasing tree depth: depth = 16\n",
      "└ @ KDTree /Users/vhafych/MPP-Server/gitrepos/KDTree/src/KDTree.jl:186\n",
      "┌ Info: KDTree: Increasing tree depth: depth = 17\n",
      "└ @ KDTree /Users/vhafych/MPP-Server/gitrepos/KDTree/src/KDTree.jl:186\n",
      "┌ Info: KDTree: Increasing tree depth: depth = 18\n",
      "└ @ KDTree /Users/vhafych/MPP-Server/gitrepos/KDTree/src/KDTree.jl:186\n",
      "┌ Info: KDTree: Increasing tree depth: depth = 19\n",
      "└ @ KDTree /Users/vhafych/MPP-Server/gitrepos/KDTree/src/KDTree.jl:186\n",
      "┌ Info: KDTree: Increasing tree depth: depth = 20\n",
      "└ @ KDTree /Users/vhafych/MPP-Server/gitrepos/KDTree/src/KDTree.jl:186\n",
      "┌ Info: KDTree: Increasing tree depth: depth = 21\n",
      "└ @ KDTree /Users/vhafych/MPP-Server/gitrepos/KDTree/src/KDTree.jl:186\n",
      "┌ Info: KDTree: Increasing tree depth: depth = 22\n",
      "└ @ KDTree /Users/vhafych/MPP-Server/gitrepos/KDTree/src/KDTree.jl:186\n",
      "┌ Info: KDTree: Increasing tree depth: depth = 23\n",
      "└ @ KDTree /Users/vhafych/MPP-Server/gitrepos/KDTree/src/KDTree.jl:186\n",
      "┌ Info: KDTree: Increasing tree depth: depth = 24\n",
      "└ @ KDTree /Users/vhafych/MPP-Server/gitrepos/KDTree/src/KDTree.jl:186\n",
      "┌ Info: KDTree: Increasing tree depth: depth = 25\n",
      "└ @ KDTree /Users/vhafych/MPP-Server/gitrepos/KDTree/src/KDTree.jl:186\n",
      "┌ Info: KDTree: Increasing tree depth: depth = 26\n",
      "└ @ KDTree /Users/vhafych/MPP-Server/gitrepos/KDTree/src/KDTree.jl:186\n",
      "┌ Info: KDTree: Increasing tree depth: depth = 27\n",
      "└ @ KDTree /Users/vhafych/MPP-Server/gitrepos/KDTree/src/KDTree.jl:186\n",
      "┌ Info: KDTree: Increasing tree depth: depth = 28\n",
      "└ @ KDTree /Users/vhafych/MPP-Server/gitrepos/KDTree/src/KDTree.jl:186\n",
      "┌ Info: KDTree: Increasing tree depth: depth = 29\n",
      "└ @ KDTree /Users/vhafych/MPP-Server/gitrepos/KDTree/src/KDTree.jl:186\n",
      "┌ Info: KDTree: Increasing tree depth: depth = 30\n",
      "└ @ KDTree /Users/vhafych/MPP-Server/gitrepos/KDTree/src/KDTree.jl:186\n",
      "┌ Info: KDTree: Increasing tree depth: depth = 31\n",
      "└ @ KDTree /Users/vhafych/MPP-Server/gitrepos/KDTree/src/KDTree.jl:186\n",
      "┌ Info: KDTree: Increasing tree depth: depth = 32\n",
      "└ @ KDTree /Users/vhafych/MPP-Server/gitrepos/KDTree/src/KDTree.jl:186\n",
      "┌ Info: KDTree: Increasing tree depth: depth = 33\n",
      "└ @ KDTree /Users/vhafych/MPP-Server/gitrepos/KDTree/src/KDTree.jl:186\n",
      "┌ Info: KDTree: Increasing tree depth: depth = 34\n",
      "└ @ KDTree /Users/vhafych/MPP-Server/gitrepos/KDTree/src/KDTree.jl:186\n",
      "┌ Info: KDTree: Increasing tree depth: depth = 35\n",
      "└ @ KDTree /Users/vhafych/MPP-Server/gitrepos/KDTree/src/KDTree.jl:186\n",
      "┌ Info: KDTree: Increasing tree depth: depth = 36\n",
      "└ @ KDTree /Users/vhafych/MPP-Server/gitrepos/KDTree/src/KDTree.jl:186\n",
      "┌ Info: KDTree: Increasing tree depth: depth = 37\n",
      "└ @ KDTree /Users/vhafych/MPP-Server/gitrepos/KDTree/src/KDTree.jl:186\n",
      "┌ Info: KDTree: Increasing tree depth: depth = 38\n",
      "└ @ KDTree /Users/vhafych/MPP-Server/gitrepos/KDTree/src/KDTree.jl:186\n",
      "┌ Info: KDTree: Increasing tree depth: depth = 39\n",
      "└ @ KDTree /Users/vhafych/MPP-Server/gitrepos/KDTree/src/KDTree.jl:186\n",
      "┌ Info: KDTree: Increasing tree depth: depth = 40\n",
      "└ @ KDTree /Users/vhafych/MPP-Server/gitrepos/KDTree/src/KDTree.jl:186\n",
      "┌ Info: KDTree: Increasing tree depth: depth = 41\n",
      "└ @ KDTree /Users/vhafych/MPP-Server/gitrepos/KDTree/src/KDTree.jl:186\n",
      "┌ Info: KDTree: Increasing tree depth: depth = 42\n",
      "└ @ KDTree /Users/vhafych/MPP-Server/gitrepos/KDTree/src/KDTree.jl:186\n",
      "┌ Info: KDTree: Increasing tree depth: depth = 43\n",
      "└ @ KDTree /Users/vhafych/MPP-Server/gitrepos/KDTree/src/KDTree.jl:186\n",
      "┌ Info: KDTree: Increasing tree depth: depth = 44\n",
      "└ @ KDTree /Users/vhafych/MPP-Server/gitrepos/KDTree/src/KDTree.jl:186\n",
      "┌ Info: KDTree: Increasing tree depth: depth = 45\n",
      "└ @ KDTree /Users/vhafych/MPP-Server/gitrepos/KDTree/src/KDTree.jl:186\n",
      "┌ Info: KDTree: Increasing tree depth: depth = 46\n",
      "└ @ KDTree /Users/vhafych/MPP-Server/gitrepos/KDTree/src/KDTree.jl:186\n",
      "┌ Info: KDTree: Increasing tree depth: depth = 47\n",
      "└ @ KDTree /Users/vhafych/MPP-Server/gitrepos/KDTree/src/KDTree.jl:186\n",
      "┌ Info: KDTree: Increasing tree depth: depth = 48\n",
      "└ @ KDTree /Users/vhafych/MPP-Server/gitrepos/KDTree/src/KDTree.jl:186\n",
      "┌ Info: KDTree: Increasing tree depth: depth = 49\n",
      "└ @ KDTree /Users/vhafych/MPP-Server/gitrepos/KDTree/src/KDTree.jl:186\n",
      "┌ Info: KDTree: Increasing tree depth: depth = 50\n",
      "└ @ KDTree /Users/vhafych/MPP-Server/gitrepos/KDTree/src/KDTree.jl:186\n",
      "┌ Info: KDTree: Increasing tree depth: depth = 51\n",
      "└ @ KDTree /Users/vhafych/MPP-Server/gitrepos/KDTree/src/KDTree.jl:186\n",
      "┌ Info: KDTree: Increasing tree depth: depth = 52\n",
      "└ @ KDTree /Users/vhafych/MPP-Server/gitrepos/KDTree/src/KDTree.jl:186\n",
      "┌ Info: KDTree: Increasing tree depth: depth = 53\n",
      "└ @ KDTree /Users/vhafych/MPP-Server/gitrepos/KDTree/src/KDTree.jl:186\n",
      "┌ Info: KDTree: Increasing tree depth: depth = 54\n",
      "└ @ KDTree /Users/vhafych/MPP-Server/gitrepos/KDTree/src/KDTree.jl:186\n",
      "┌ Info: KDTree: Increasing tree depth: depth = 55\n",
      "└ @ KDTree /Users/vhafych/MPP-Server/gitrepos/KDTree/src/KDTree.jl:186\n",
      "┌ Info: KDTree: Increasing tree depth: depth = 56\n",
      "└ @ KDTree /Users/vhafych/MPP-Server/gitrepos/KDTree/src/KDTree.jl:186\n",
      "┌ Info: KDTree: Increasing tree depth: depth = 57\n",
      "└ @ KDTree /Users/vhafych/MPP-Server/gitrepos/KDTree/src/KDTree.jl:186\n",
      "┌ Info: KDTree: Increasing tree depth: depth = 58\n",
      "└ @ KDTree /Users/vhafych/MPP-Server/gitrepos/KDTree/src/KDTree.jl:186\n",
      "┌ Info: KDTree: Increasing tree depth: depth = 59\n",
      "└ @ KDTree /Users/vhafych/MPP-Server/gitrepos/KDTree/src/KDTree.jl:186\n",
      "┌ Info: KDTree: Increasing tree depth: depth = 60\n",
      "└ @ KDTree /Users/vhafych/MPP-Server/gitrepos/KDTree/src/KDTree.jl:186\n",
      "┌ Info: KDTree: Increasing tree depth: depth = 61\n",
      "└ @ KDTree /Users/vhafych/MPP-Server/gitrepos/KDTree/src/KDTree.jl:186\n",
      "┌ Info: KDTree: Increasing tree depth: depth = 62\n",
      "└ @ KDTree /Users/vhafych/MPP-Server/gitrepos/KDTree/src/KDTree.jl:186\n",
      "┌ Info: KDTree: Increasing tree depth: depth = 63\n",
      "└ @ KDTree /Users/vhafych/MPP-Server/gitrepos/KDTree/src/KDTree.jl:186\n",
      "┌ Info: KDTree: Increasing tree depth: depth = 64\n",
      "└ @ KDTree /Users/vhafych/MPP-Server/gitrepos/KDTree/src/KDTree.jl:186\n",
      "┌ Info: KDTree: Increasing tree depth: depth = 65\n",
      "└ @ KDTree /Users/vhafych/MPP-Server/gitrepos/KDTree/src/KDTree.jl:186\n",
      "┌ Info: KDTree: Increasing tree depth: depth = 66\n",
      "└ @ KDTree /Users/vhafych/MPP-Server/gitrepos/KDTree/src/KDTree.jl:186\n",
      "┌ Info: KDTree: Increasing tree depth: depth = 67\n",
      "└ @ KDTree /Users/vhafych/MPP-Server/gitrepos/KDTree/src/KDTree.jl:186\n",
      "┌ Info: KDTree: Increasing tree depth: depth = 68\n",
      "└ @ KDTree /Users/vhafych/MPP-Server/gitrepos/KDTree/src/KDTree.jl:186\n",
      "┌ Info: KDTree: Increasing tree depth: depth = 69\n",
      "└ @ KDTree /Users/vhafych/MPP-Server/gitrepos/KDTree/src/KDTree.jl:186\n",
      "┌ Info: KDTree: Increasing tree depth: depth = 70\n",
      "└ @ KDTree /Users/vhafych/MPP-Server/gitrepos/KDTree/src/KDTree.jl:186\n",
      "┌ Info: KDTree: Increasing tree depth: depth = 71\n",
      "└ @ KDTree /Users/vhafych/MPP-Server/gitrepos/KDTree/src/KDTree.jl:186\n",
      "┌ Info: KDTree: Increasing tree depth: depth = 72\n",
      "└ @ KDTree /Users/vhafych/MPP-Server/gitrepos/KDTree/src/KDTree.jl:186\n",
      "┌ Info: KDTree: Increasing tree depth: depth = 73\n",
      "└ @ KDTree /Users/vhafych/MPP-Server/gitrepos/KDTree/src/KDTree.jl:186\n",
      "┌ Info: KDTree: Increasing tree depth: depth = 74\n",
      "└ @ KDTree /Users/vhafych/MPP-Server/gitrepos/KDTree/src/KDTree.jl:186\n",
      "┌ Info: KDTree: Increasing tree depth: depth = 75\n",
      "└ @ KDTree /Users/vhafych/MPP-Server/gitrepos/KDTree/src/KDTree.jl:186\n",
      "┌ Info: KDTree: Increasing tree depth: depth = 76\n",
      "└ @ KDTree /Users/vhafych/MPP-Server/gitrepos/KDTree/src/KDTree.jl:186\n",
      "┌ Info: KDTree: Increasing tree depth: depth = 77\n",
      "└ @ KDTree /Users/vhafych/MPP-Server/gitrepos/KDTree/src/KDTree.jl:186\n",
      "┌ Info: KDTree: Increasing tree depth: depth = 78\n",
      "└ @ KDTree /Users/vhafych/MPP-Server/gitrepos/KDTree/src/KDTree.jl:186\n",
      "┌ Info: KDTree: Increasing tree depth: depth = 79\n",
      "└ @ KDTree /Users/vhafych/MPP-Server/gitrepos/KDTree/src/KDTree.jl:186\n",
      "┌ Info: KDTree: Increasing tree depth: depth = 80\n",
      "└ @ KDTree /Users/vhafych/MPP-Server/gitrepos/KDTree/src/KDTree.jl:186\n",
      "┌ Info: KDTree: Increasing tree depth: depth = 81\n",
      "└ @ KDTree /Users/vhafych/MPP-Server/gitrepos/KDTree/src/KDTree.jl:186\n",
      "┌ Info: KDTree: Increasing tree depth: depth = 82\n",
      "└ @ KDTree /Users/vhafych/MPP-Server/gitrepos/KDTree/src/KDTree.jl:186\n",
      "┌ Info: KDTree: Increasing tree depth: depth = 83\n",
      "└ @ KDTree /Users/vhafych/MPP-Server/gitrepos/KDTree/src/KDTree.jl:186\n",
      "┌ Info: KDTree: Increasing tree depth: depth = 84\n",
      "└ @ KDTree /Users/vhafych/MPP-Server/gitrepos/KDTree/src/KDTree.jl:186\n",
      "┌ Info: KDTree: Increasing tree depth: depth = 85\n",
      "└ @ KDTree /Users/vhafych/MPP-Server/gitrepos/KDTree/src/KDTree.jl:186\n",
      "┌ Info: KDTree: Increasing tree depth: depth = 86\n",
      "└ @ KDTree /Users/vhafych/MPP-Server/gitrepos/KDTree/src/KDTree.jl:186\n",
      "┌ Info: KDTree: Increasing tree depth: depth = 87\n",
      "└ @ KDTree /Users/vhafych/MPP-Server/gitrepos/KDTree/src/KDTree.jl:186\n",
      "┌ Info: KDTree: Increasing tree depth: depth = 88\n",
      "└ @ KDTree /Users/vhafych/MPP-Server/gitrepos/KDTree/src/KDTree.jl:186\n",
      "┌ Info: KDTree: Increasing tree depth: depth = 89\n",
      "└ @ KDTree /Users/vhafych/MPP-Server/gitrepos/KDTree/src/KDTree.jl:186\n",
      "┌ Info: KDTree: Increasing tree depth: depth = 90\n",
      "└ @ KDTree /Users/vhafych/MPP-Server/gitrepos/KDTree/src/KDTree.jl:186\n",
      "┌ Info: KDTree: Increasing tree depth: depth = 91\n",
      "└ @ KDTree /Users/vhafych/MPP-Server/gitrepos/KDTree/src/KDTree.jl:186\n",
      "┌ Info: KDTree: Increasing tree depth: depth = 92\n",
      "└ @ KDTree /Users/vhafych/MPP-Server/gitrepos/KDTree/src/KDTree.jl:186\n",
      "┌ Info: KDTree: Increasing tree depth: depth = 93\n",
      "└ @ KDTree /Users/vhafych/MPP-Server/gitrepos/KDTree/src/KDTree.jl:186\n",
      "┌ Info: KDTree: Increasing tree depth: depth = 94\n",
      "└ @ KDTree /Users/vhafych/MPP-Server/gitrepos/KDTree/src/KDTree.jl:186\n",
      "┌ Info: KDTree: Increasing tree depth: depth = 95\n",
      "└ @ KDTree /Users/vhafych/MPP-Server/gitrepos/KDTree/src/KDTree.jl:186\n",
      "┌ Info: KDTree: Increasing tree depth: depth = 96\n",
      "└ @ KDTree /Users/vhafych/MPP-Server/gitrepos/KDTree/src/KDTree.jl:186\n",
      "┌ Info: KDTree: Increasing tree depth: depth = 97\n",
      "└ @ KDTree /Users/vhafych/MPP-Server/gitrepos/KDTree/src/KDTree.jl:186\n",
      "┌ Info: KDTree: Increasing tree depth: depth = 98\n",
      "└ @ KDTree /Users/vhafych/MPP-Server/gitrepos/KDTree/src/KDTree.jl:186\n",
      "┌ Info: KDTree: Increasing tree depth: depth = 99\n",
      "└ @ KDTree /Users/vhafych/MPP-Server/gitrepos/KDTree/src/KDTree.jl:186\n",
      "┌ Info: KDTree: Increasing tree depth: depth = 100\n",
      "└ @ KDTree /Users/vhafych/MPP-Server/gitrepos/KDTree/src/KDTree.jl:186\n"
     ]
    }
   ],
   "source": [
    "KDTree.evaluate_total_cost(data::Data) = KDTree.cost_f_1(data)\n",
    "\n",
    "output, cost_array = DefineKDTree(data_kdtree, [1,2,3,4], 100);\n",
    "\n",
    "extend_tree_bounds!(output, repeat([min_v], N), repeat([max_v], N))"
   ]
  },
  {
   "cell_type": "markdown",
   "metadata": {},
   "source": [
    "# Sampling of subspaces "
   ]
  },
  {
   "cell_type": "code",
   "execution_count": 47,
   "metadata": {},
   "outputs": [
    {
     "name": "stderr",
     "output_type": "stream",
     "text": [
      "[ Info: BATPar: Sampling subspace 4:\n",
      "[ Info: Trying to generate 10 viable MCMC chain(s).\n",
      "[ Info: Selected 10 MCMC chain(s).\n",
      "[ Info: Begin tuning of 10 MCMC chain(s).\n",
      "[ Info: MCMC Tuning cycle 1 finished, 10 chains, 0 tuned, 0 converged.\n",
      "[ Info: MCMC Tuning cycle 2 finished, 10 chains, 0 tuned, 0 converged.\n",
      "[ Info: MCMC Tuning cycle 3 finished, 10 chains, 0 tuned, 0 converged.\n",
      "[ Info: BATPar: Sampling subspace 1:\n",
      "[ Info: Trying to generate 10 viable MCMC chain(s).\n",
      "[ Info: BATPar: Sampling subspace 2:\n",
      "[ Info: Trying to generate 10 viable MCMC chain(s).\n",
      "[ Info: BATPar: Sampling subspace 3:\n",
      "[ Info: Trying to generate 10 viable MCMC chain(s).\n",
      "[ Info: Selected 10 MCMC chain(s).\n",
      "[ Info: Begin tuning of 10 MCMC chain(s).\n",
      "[ Info: MCMC Tuning cycle 1 finished, 10 chains, 0 tuned, 0 converged.\n",
      "[ Info: MCMC Tuning cycle 2 finished, 10 chains, 0 tuned, 0 converged.\n",
      "[ Info: MCMC Tuning cycle 3 finished, 10 chains, 0 tuned, 0 converged.\n",
      "[ Info: MCMC Tuning cycle 4 finished, 10 chains, 0 tuned, 0 converged.\n",
      "[ Info: Selected 10 MCMC chain(s).\n",
      "[ Info: Begin tuning of 10 MCMC chain(s).\n",
      "[ Info: Selected 10 MCMC chain(s).\n",
      "[ Info: Begin tuning of 10 MCMC chain(s).\n",
      "[ Info: MCMC Tuning cycle 1 finished, 10 chains, 0 tuned, 0 converged.\n",
      "[ Info: MCMC Tuning cycle 1 finished, 10 chains, 0 tuned, 0 converged.\n",
      "[ Info: MCMC Tuning cycle 2 finished, 10 chains, 0 tuned, 0 converged.\n",
      "[ Info: MCMC Tuning cycle 2 finished, 10 chains, 0 tuned, 0 converged.\n",
      "[ Info: MCMC Tuning cycle 3 finished, 10 chains, 0 tuned, 0 converged.\n",
      "[ Info: MCMC Tuning cycle 3 finished, 10 chains, 0 tuned, 0 converged.\n",
      "[ Info: MCMC Tuning cycle 4 finished, 10 chains, 0 tuned, 0 converged.\n",
      "[ Info: MCMC Tuning cycle 4 finished, 10 chains, 0 tuned, 0 converged.\n",
      "[ Info: MCMC Tuning cycle 5 finished, 10 chains, 0 tuned, 0 converged.\n",
      "[ Info: MCMC Tuning cycle 4 finished, 10 chains, 0 tuned, 0 converged.\n",
      "[ Info: MCMC Tuning cycle 6 finished, 10 chains, 2 tuned, 0 converged.\n",
      "[ Info: MCMC Tuning cycle 5 finished, 10 chains, 0 tuned, 0 converged.\n",
      "[ Info: MCMC Tuning cycle 6 finished, 10 chains, 1 tuned, 0 converged.\n",
      "[ Info: MCMC Tuning cycle 7 finished, 10 chains, 2 tuned, 0 converged.\n",
      "[ Info: MCMC Tuning cycle 5 finished, 10 chains, 1 tuned, 0 converged.\n",
      "[ Info: MCMC Tuning cycle 5 finished, 10 chains, 0 tuned, 0 converged.\n",
      "[ Info: MCMC Tuning cycle 8 finished, 10 chains, 4 tuned, 0 converged.\n",
      "[ Info: MCMC Tuning cycle 9 finished, 10 chains, 7 tuned, 0 converged.\n",
      "[ Info: MCMC Tuning cycle 7 finished, 10 chains, 5 tuned, 10 converged.\n",
      "[ Info: MCMC Tuning cycle 8 finished, 10 chains, 9 tuned, 0 converged.\n",
      "[ Info: MCMC Tuning cycle 6 finished, 10 chains, 1 tuned, 10 converged.\n",
      "[ Info: MCMC Tuning cycle 10 finished, 10 chains, 10 tuned, 0 converged.\n",
      "[ Info: MCMC Tuning cycle 9 finished, 10 chains, 9 tuned, 10 converged.\n",
      "[ Info: MCMC Tuning cycle 7 finished, 10 chains, 3 tuned, 0 converged.\n",
      "[ Info: MCMC Tuning cycle 6 finished, 10 chains, 1 tuned, 0 converged.\n",
      "[ Info: MCMC Tuning cycle 8 finished, 10 chains, 8 tuned, 0 converged.\n",
      "[ Info: MCMC Tuning cycle 10 finished, 10 chains, 8 tuned, 10 converged.\n",
      "[ Info: MCMC Tuning cycle 11 finished, 10 chains, 10 tuned, 0 converged.\n",
      "[ Info: MCMC Tuning cycle 7 finished, 10 chains, 3 tuned, 0 converged.\n",
      "[ Info: MCMC Tuning cycle 11 finished, 10 chains, 10 tuned, 0 converged.\n",
      "[ Info: MCMC Tuning cycle 8 finished, 10 chains, 6 tuned, 0 converged.\n",
      "[ Info: MCMC Tuning cycle 9 finished, 10 chains, 8 tuned, 0 converged.\n",
      "[ Info: MCMC Tuning cycle 9 finished, 10 chains, 10 tuned, 0 converged.\n",
      "[ Info: MCMC Tuning cycle 10 finished, 10 chains, 10 tuned, 0 converged.\n",
      "[ Info: MCMC Tuning cycle 10 finished, 10 chains, 8 tuned, 0 converged.\n",
      "[ Info: MCMC Tuning cycle 11 finished, 10 chains, 10 tuned, 0 converged.\n",
      "[ Info: MCMC Tuning cycle 12 finished, 10 chains, 10 tuned, 0 converged.\n",
      "[ Info: MCMC Tuning cycle 11 finished, 10 chains, 10 tuned, 0 converged.\n",
      "[ Info: MCMC Tuning cycle 13 finished, 10 chains, 10 tuned, 0 converged.\n",
      "[ Info: MCMC Tuning cycle 12 finished, 10 chains, 10 tuned, 0 converged.\n",
      "[ Info: MCMC Tuning cycle 14 finished, 10 chains, 10 tuned, 0 converged.\n",
      "[ Info: MCMC Tuning cycle 12 finished, 10 chains, 10 tuned, 0 converged.\n",
      "[ Info: MCMC Tuning cycle 13 finished, 10 chains, 9 tuned, 0 converged.\n",
      "[ Info: MCMC Tuning cycle 13 finished, 10 chains, 9 tuned, 0 converged.\n",
      "[ Info: MCMC Tuning cycle 15 finished, 10 chains, 10 tuned, 0 converged.\n",
      "[ Info: MCMC Tuning cycle 14 finished, 10 chains, 10 tuned, 0 converged.\n",
      "[ Info: MCMC Tuning cycle 14 finished, 10 chains, 9 tuned, 0 converged.\n",
      "[ Info: MCMC Tuning cycle 16 finished, 10 chains, 9 tuned, 0 converged.\n",
      "[ Info: MCMC Tuning cycle 15 finished, 10 chains, 10 tuned, 0 converged.\n",
      "[ Info: MCMC Tuning cycle 17 finished, 10 chains, 10 tuned, 0 converged.\n",
      "[ Info: MCMC Tuning cycle 15 finished, 10 chains, 9 tuned, 0 converged.\n",
      "[ Info: MCMC Tuning cycle 16 finished, 10 chains, 10 tuned, 10 converged.\n",
      "[ Info: MCMC tuning of 10 chains successful after 16 cycle(s).\n",
      "[ Info: MCMC Tuning cycle 12 finished, 10 chains, 9 tuned, 0 converged.\n",
      "[ Info: MCMC Tuning cycle 13 finished, 10 chains, 10 tuned, 0 converged.\n",
      "[ Info: MCMC Tuning cycle 14 finished, 10 chains, 8 tuned, 10 converged.\n",
      "[ Info: MCMC Tuning cycle 16 finished, 10 chains, 10 tuned, 0 converged.\n",
      "[ Info: MCMC Tuning cycle 18 finished, 10 chains, 10 tuned, 0 converged.\n",
      "[ Info: MCMC Tuning cycle 15 finished, 10 chains, 10 tuned, 10 converged.\n",
      "[ Info: MCMC tuning of 10 chains successful after 15 cycle(s).\n",
      "[ Info: MCMC Tuning cycle 17 finished, 10 chains, 10 tuned, 0 converged.\n",
      "[ Info: MCMC Tuning cycle 19 finished, 10 chains, 8 tuned, 0 converged.\n",
      "[ Info: MCMC Tuning cycle 18 finished, 10 chains, 9 tuned, 0 converged.\n",
      "[ Info: MCMC Tuning cycle 20 finished, 10 chains, 10 tuned, 10 converged.\n",
      "[ Info: MCMC tuning of 10 chains successful after 20 cycle(s).\n",
      "[ Info: MCMC Tuning cycle 19 finished, 10 chains, 9 tuned, 0 converged.\n",
      "[ Info: MCMC Tuning cycle 20 finished, 10 chains, 9 tuned, 10 converged.\n",
      "[ Info: MCMC Tuning cycle 21 finished, 10 chains, 10 tuned, 0 converged.\n",
      "[ Info: MCMC Tuning cycle 22 finished, 10 chains, 9 tuned, 0 converged.\n",
      "[ Info: MCMC Tuning cycle 23 finished, 10 chains, 9 tuned, 0 converged.\n",
      "[ Info: MCMC Tuning cycle 24 finished, 10 chains, 10 tuned, 0 converged.\n",
      "[ Info: MCMC Tuning cycle 25 finished, 10 chains, 10 tuned, 10 converged.\n",
      "[ Info: MCMC tuning of 10 chains successful after 25 cycle(s).\n",
      "[ Info: Harmonic Mean Integration started. Samples in dataset 1 / 2: \t50000 / 49999\tParameters:\t6\n",
      "[ Info: Data Whitening.\n",
      "[ Info: Harmonic Mean Integration started. Samples in dataset 1 / 2: \t50000 / 49999\tParameters:\t6\n",
      "[ Info: Data Whitening.\n",
      "[ Info: Apply Whitening Transformation to Data Set 2\n",
      "[ Info: Create Space Partitioning Tree\n",
      "[ Info: Determine Hyperrectangle Starting Samples\n",
      "[ Info: Harmonic Mean Integration started. Samples in dataset 1 / 2: \t50000 / 49999\tParameters:\t6\n",
      "[ Info: Data Whitening.\n",
      "[ Info: Determine Tolerances for Hyperrectangle Creation\n",
      "[ Info: Apply Whitening Transformation to Data Set 2\n",
      "[ Info: Create Space Partitioning Tree\n",
      "[ Info: Determine Hyperrectangle Starting Samples\n",
      "[ Info: Determine Tolerances for Hyperrectangle Creation\n",
      "[ Info: Apply Whitening Transformation to Data Set 2\n",
      "[ Info: Create Space Partitioning Tree\n",
      "[ Info: Harmonic Mean Integration started. Samples in dataset 1 / 2: \t50000 / 49999\tParameters:\t6\n",
      "[ Info: Data Whitening.\n",
      "[ Info: Apply Whitening Transformation to Data Set 2\n",
      "[ Info: Create Space Partitioning Tree\n",
      "[ Info: Determine Hyperrectangle Starting Samples\n",
      "[ Info: Determine Tolerances for Hyperrectangle Creation\n",
      "[ Info: Determine Hyperrectangle Starting Samples\n",
      "[ Info: Create 67 Hyperrectangles using 8 thread(s)\n",
      "[ Info: Determine Tolerances for Hyperrectangle Creation\n",
      "[ Info: Create 69 Hyperrectangles using 8 thread(s)\n"
     ]
    },
    {
     "name": "stdout",
     "output_type": "stream",
     "text": [
      "Progress: 100%|█████████████████████████████████████████| Time: 0:00:00\u001b[K\n"
     ]
    },
    {
     "name": "stderr",
     "output_type": "stream",
     "text": [
      "[ Info: Updating 67 Hyperrectangles using 8 thread(s)\n",
      "[ Info: Integrating 67 Hyperrectangles\n",
      "[ Info: Estimating Uncertainty (cov. weighted result)\n"
     ]
    },
    {
     "name": "stdout",
     "output_type": "stream",
     "text": [
      "Progress: 100%|█████████████████████████████████████████| Time: 0:00:00\u001b[K\n"
     ]
    },
    {
     "name": "stderr",
     "output_type": "stream",
     "text": [
      "[ Info: BATPar: Sampling subspace 5:\n",
      "[ Info: Trying to generate 10 viable MCMC chain(s).\n",
      "[ Info: Selected 10 MCMC chain(s).\n",
      "[ Info: Begin tuning of 10 MCMC chain(s).\n",
      "[ Info: MCMC Tuning cycle 1 finished, 10 chains, 0 tuned, 0 converged.\n",
      "[ Info: MCMC Tuning cycle 2 finished, 10 chains, 0 tuned, 0 converged.\n",
      "[ Info: Updating 69 Hyperrectangles using 8 thread(s)\n",
      "[ Info: Integrating 69 Hyperrectangles\n",
      "[ Info: MCMC Tuning cycle 3 finished, 10 chains, 0 tuned, 0 converged.\n",
      "[ Info: Estimating Uncertainty (cov. weighted result)\n",
      "[ Info: Create 56 Hyperrectangles using 8 thread(s)\n",
      "[ Info: BATPar: Sampling subspace 6:\n",
      "[ Info: Trying to generate 10 viable MCMC chain(s).\n",
      "[ Info: MCMC Tuning cycle 4 finished, 10 chains, 0 tuned, 0 converged.\n",
      "[ Info: Selected 10 MCMC chain(s).\n",
      "[ Info: Begin tuning of 10 MCMC chain(s).\n",
      "[ Info: MCMC Tuning cycle 1 finished, 10 chains, 0 tuned, 0 converged.\n",
      "[ Info: MCMC Tuning cycle 2 finished, 10 chains, 0 tuned, 0 converged.\n",
      "[ Info: MCMC Tuning cycle 3 finished, 10 chains, 0 tuned, 0 converged.\n"
     ]
    },
    {
     "name": "stdout",
     "output_type": "stream",
     "text": [
      "Progress: 100%|█████████████████████████████████████████| Time: 0:00:00\u001b[K\n"
     ]
    },
    {
     "name": "stderr",
     "output_type": "stream",
     "text": [
      "[ Info: MCMC Tuning cycle 5 finished, 10 chains, 0 tuned, 0 converged.\n",
      "[ Info: MCMC Tuning cycle 6 finished, 10 chains, 0 tuned, 0 converged.\n",
      "[ Info: MCMC Tuning cycle 7 finished, 10 chains, 4 tuned, 0 converged.\n",
      "[ Info: MCMC Tuning cycle 4 finished, 10 chains, 0 tuned, 0 converged.\n",
      "[ Info: Updating 56 Hyperrectangles using 8 thread(s)\n",
      "[ Info: Integrating 56 Hyperrectangles\n",
      "[ Info: MCMC Tuning cycle 5 finished, 10 chains, 0 tuned, 0 converged.\n",
      "[ Info: MCMC Tuning cycle 8 finished, 10 chains, 7 tuned, 0 converged.\n",
      "[ Info: Estimating Uncertainty (cov. weighted result)\n",
      "[ Info: BATPar: Sampling subspace 7:\n",
      "[ Info: Trying to generate 10 viable MCMC chain(s).\n",
      "[ Info: MCMC Tuning cycle 6 finished, 10 chains, 1 tuned, 0 converged.\n",
      "[ Info: MCMC Tuning cycle 9 finished, 10 chains, 7 tuned, 0 converged.\n",
      "[ Info: MCMC Tuning cycle 7 finished, 10 chains, 5 tuned, 0 converged.\n",
      "[ Info: MCMC Tuning cycle 10 finished, 10 chains, 10 tuned, 0 converged.\n",
      "[ Info: Selected 10 MCMC chain(s).\n",
      "[ Info: Begin tuning of 10 MCMC chain(s).\n",
      "[ Info: MCMC Tuning cycle 1 finished, 10 chains, 0 tuned, 0 converged.\n",
      "[ Info: MCMC Tuning cycle 8 finished, 10 chains, 9 tuned, 10 converged.\n",
      "[ Info: MCMC Tuning cycle 2 finished, 10 chains, 0 tuned, 0 converged.\n",
      "[ Info: MCMC Tuning cycle 11 finished, 10 chains, 9 tuned, 0 converged.\n",
      "[ Info: MCMC Tuning cycle 3 finished, 10 chains, 0 tuned, 0 converged.\n",
      "[ Info: MCMC Tuning cycle 4 finished, 10 chains, 0 tuned, 0 converged.\n",
      "[ Info: MCMC Tuning cycle 9 finished, 10 chains, 9 tuned, 10 converged.\n",
      "[ Info: MCMC Tuning cycle 12 finished, 10 chains, 9 tuned, 0 converged.\n",
      "[ Info: MCMC Tuning cycle 5 finished, 10 chains, 2 tuned, 0 converged.\n",
      "[ Info: Create 42 Hyperrectangles using 8 thread(s)\n",
      "[ Info: MCMC Tuning cycle 13 finished, 10 chains, 9 tuned, 10 converged.\n",
      "[ Info: MCMC Tuning cycle 6 finished, 10 chains, 4 tuned, 0 converged.\n",
      "[ Info: MCMC Tuning cycle 14 finished, 10 chains, 9 tuned, 0 converged.\n",
      "[ Info: MCMC Tuning cycle 7 finished, 10 chains, 4 tuned, 0 converged.\n",
      "[ Info: MCMC Tuning cycle 10 finished, 10 chains, 10 tuned, 10 converged.\n",
      "[ Info: MCMC tuning of 10 chains successful after 10 cycle(s).\n",
      "[ Info: MCMC Tuning cycle 15 finished, 10 chains, 10 tuned, 0 converged.\n"
     ]
    },
    {
     "name": "stdout",
     "output_type": "stream",
     "text": [
      "Progress: 100%|█████████████████████████████████████████| Time: 0:00:00\u001b[K\n"
     ]
    },
    {
     "name": "stderr",
     "output_type": "stream",
     "text": [
      "[ Info: MCMC Tuning cycle 8 finished, 10 chains, 8 tuned, 10 converged.\n",
      "[ Info: MCMC Tuning cycle 16 finished, 10 chains, 10 tuned, 0 converged.\n",
      "[ Info: MCMC Tuning cycle 17 finished, 10 chains, 10 tuned, 0 converged.\n",
      "[ Info: MCMC Tuning cycle 9 finished, 10 chains, 6 tuned, 0 converged.\n",
      "[ Info: Updating 42 Hyperrectangles using 8 thread(s)\n",
      "[ Info: Integrating 42 Hyperrectangles\n",
      "[ Info: Estimating Uncertainty (cov. weighted result)\n",
      "[ Info: MCMC Tuning cycle 10 finished, 10 chains, 10 tuned, 0 converged.\n",
      "[ Info: BATPar: Sampling subspace 8:\n",
      "[ Info: Trying to generate 10 viable MCMC chain(s).\n",
      "[ Info: Selected 10 MCMC chain(s).\n",
      "[ Info: Begin tuning of 10 MCMC chain(s).\n",
      "[ Info: MCMC Tuning cycle 18 finished, 10 chains, 10 tuned, 0 converged.\n",
      "[ Info: MCMC Tuning cycle 11 finished, 10 chains, 10 tuned, 0 converged.\n",
      "[ Info: MCMC Tuning cycle 1 finished, 10 chains, 0 tuned, 0 converged.\n",
      "[ Info: MCMC Tuning cycle 19 finished, 10 chains, 10 tuned, 0 converged.\n",
      "[ Info: MCMC Tuning cycle 20 finished, 10 chains, 10 tuned, 0 converged.\n",
      "[ Info: MCMC Tuning cycle 2 finished, 10 chains, 0 tuned, 0 converged.\n",
      "[ Info: MCMC Tuning cycle 12 finished, 10 chains, 10 tuned, 10 converged.\n",
      "[ Info: MCMC tuning of 10 chains successful after 12 cycle(s).\n",
      "[ Info: MCMC Tuning cycle 3 finished, 10 chains, 0 tuned, 0 converged.\n",
      "[ Info: MCMC Tuning cycle 4 finished, 10 chains, 0 tuned, 0 converged.\n",
      "[ Info: MCMC Tuning cycle 5 finished, 10 chains, 0 tuned, 0 converged.\n",
      "[ Info: MCMC Tuning cycle 21 finished, 10 chains, 10 tuned, 0 converged.\n",
      "[ Info: MCMC Tuning cycle 6 finished, 10 chains, 1 tuned, 0 converged.\n",
      "[ Info: MCMC Tuning cycle 22 finished, 10 chains, 10 tuned, 10 converged.\n",
      "[ Info: MCMC tuning of 10 chains successful after 22 cycle(s).\n",
      "[ Info: MCMC Tuning cycle 7 finished, 10 chains, 7 tuned, 0 converged.\n",
      "[ Info: MCMC Tuning cycle 8 finished, 10 chains, 7 tuned, 0 converged.\n",
      "[ Info: MCMC Tuning cycle 9 finished, 10 chains, 9 tuned, 0 converged.\n",
      "[ Info: MCMC Tuning cycle 10 finished, 10 chains, 8 tuned, 0 converged.\n",
      "[ Info: MCMC Tuning cycle 11 finished, 10 chains, 9 tuned, 10 converged.\n",
      "[ Info: MCMC Tuning cycle 12 finished, 10 chains, 10 tuned, 0 converged.\n",
      "[ Info: MCMC Tuning cycle 13 finished, 10 chains, 9 tuned, 10 converged.\n",
      "[ Info: MCMC Tuning cycle 14 finished, 10 chains, 9 tuned, 10 converged.\n",
      "[ Info: MCMC Tuning cycle 15 finished, 10 chains, 10 tuned, 0 converged.\n",
      "[ Info: MCMC Tuning cycle 16 finished, 10 chains, 9 tuned, 10 converged.\n",
      "[ Info: MCMC Tuning cycle 17 finished, 10 chains, 10 tuned, 0 converged.\n",
      "[ Info: Harmonic Mean Integration started. Samples in dataset 1 / 2: \t50000 / 49999\tParameters:\t6\n",
      "[ Info: Data Whitening.\n",
      "[ Info: Harmonic Mean Integration started. Samples in dataset 1 / 2: \t50000 / 49999\tParameters:\t6\n",
      "[ Info: Data Whitening.\n",
      "[ Info: Apply Whitening Transformation to Data Set 2\n",
      "[ Info: Create Space Partitioning Tree\n",
      "[ Info: Apply Whitening Transformation to Data Set 2\n",
      "[ Info: Create Space Partitioning Tree\n",
      "[ Info: MCMC Tuning cycle 18 finished, 10 chains, 10 tuned, 0 converged.\n",
      "[ Info: Harmonic Mean Integration started. Samples in dataset 1 / 2: \t50000 / 49999\tParameters:\t6\n",
      "[ Info: Data Whitening.\n",
      "[ Info: Determine Hyperrectangle Starting Samples\n",
      "[ Info: Apply Whitening Transformation to Data Set 2\n",
      "[ Info: Create Space Partitioning Tree\n",
      "[ Info: Determine Tolerances for Hyperrectangle Creation\n",
      "[ Info: Determine Hyperrectangle Starting Samples\n",
      "[ Info: MCMC Tuning cycle 19 finished, 10 chains, 10 tuned, 0 converged.\n",
      "[ Info: Determine Tolerances for Hyperrectangle Creation\n",
      "[ Info: Determine Hyperrectangle Starting Samples\n",
      "[ Info: MCMC Tuning cycle 20 finished, 10 chains, 10 tuned, 0 converged.\n",
      "[ Info: Determine Tolerances for Hyperrectangle Creation\n",
      "[ Info: MCMC Tuning cycle 21 finished, 10 chains, 10 tuned, 0 converged.\n",
      "[ Info: MCMC Tuning cycle 22 finished, 10 chains, 10 tuned, 0 converged.\n",
      "[ Info: MCMC Tuning cycle 23 finished, 10 chains, 10 tuned, 0 converged.\n",
      "[ Info: MCMC Tuning cycle 24 finished, 10 chains, 10 tuned, 0 converged.\n",
      "[ Info: MCMC Tuning cycle 25 finished, 10 chains, 10 tuned, 0 converged.\n",
      "[ Info: Create 68 Hyperrectangles using 8 thread(s)\n",
      "[ Info: MCMC Tuning cycle 26 finished, 10 chains, 9 tuned, 0 converged.\n",
      "[ Info: MCMC Tuning cycle 27 finished, 10 chains, 10 tuned, 0 converged.\n",
      "[ Info: MCMC Tuning cycle 28 finished, 10 chains, 10 tuned, 0 converged.\n",
      "[ Info: Create 44 Hyperrectangles using 8 thread(s)\n",
      "[ Info: MCMC Tuning cycle 29 finished, 10 chains, 10 tuned, 0 converged.\n",
      "[ Info: MCMC Tuning cycle 30 finished, 10 chains, 9 tuned, 0 converged.\n",
      "[ Info: MCMC Tuning cycle 31 finished, 10 chains, 10 tuned, 0 converged.\n"
     ]
    },
    {
     "name": "stdout",
     "output_type": "stream",
     "text": [
      "Progress: 100%|█████████████████████████████████████████| Time: 0:00:00\u001b[K\n"
     ]
    },
    {
     "name": "stderr",
     "output_type": "stream",
     "text": [
      "[ Info: MCMC Tuning cycle 32 finished, 10 chains, 10 tuned, 0 converged.\n"
     ]
    },
    {
     "name": "stdout",
     "output_type": "stream",
     "text": [
      "Progress: 100%|█████████████████████████████████████████| Time: 0:00:01\u001b[K\n"
     ]
    },
    {
     "name": "stderr",
     "output_type": "stream",
     "text": [
      "[ Info: MCMC Tuning cycle 33 finished, 10 chains, 9 tuned, 0 converged.\n",
      "[ Info: Updating 68 Hyperrectangles using 8 thread(s)\n",
      "[ Info: Integrating 68 Hyperrectangles\n",
      "[ Info: Updating 44 Hyperrectangles using 8 thread(s)\n",
      "[ Info: Integrating 44 Hyperrectangles\n",
      "[ Info: Estimating Uncertainty (cov. weighted result)\n",
      "[ Info: Estimating Uncertainty (cov. weighted result)\n",
      "[ Info: MCMC Tuning cycle 34 finished, 10 chains, 10 tuned, 10 converged.\n",
      "[ Info: MCMC tuning of 10 chains successful after 34 cycle(s).\n",
      "[ Info: BATPar: Sampling subspace 9:\n",
      "[ Info: Trying to generate 10 viable MCMC chain(s).\n",
      "[ Info: BATPar: Sampling subspace 10:\n",
      "[ Info: Trying to generate 10 viable MCMC chain(s).\n",
      "[ Info: Selected 10 MCMC chain(s).\n",
      "[ Info: Begin tuning of 10 MCMC chain(s).\n",
      "[ Info: Selected 10 MCMC chain(s).\n",
      "[ Info: Begin tuning of 10 MCMC chain(s).\n",
      "[ Info: MCMC Tuning cycle 1 finished, 10 chains, 0 tuned, 0 converged.\n",
      "[ Info: MCMC Tuning cycle 1 finished, 10 chains, 0 tuned, 0 converged.\n",
      "[ Info: MCMC Tuning cycle 2 finished, 10 chains, 0 tuned, 0 converged.\n",
      "[ Info: MCMC Tuning cycle 2 finished, 10 chains, 0 tuned, 0 converged.\n",
      "[ Info: MCMC Tuning cycle 3 finished, 10 chains, 0 tuned, 0 converged.\n",
      "[ Info: MCMC Tuning cycle 3 finished, 10 chains, 0 tuned, 0 converged.\n",
      "[ Info: MCMC Tuning cycle 4 finished, 10 chains, 0 tuned, 0 converged.\n",
      "[ Info: MCMC Tuning cycle 5 finished, 10 chains, 0 tuned, 0 converged.\n",
      "[ Info: MCMC Tuning cycle 4 finished, 10 chains, 0 tuned, 0 converged.\n",
      "[ Info: MCMC Tuning cycle 5 finished, 10 chains, 0 tuned, 0 converged.\n",
      "[ Info: MCMC Tuning cycle 6 finished, 10 chains, 3 tuned, 0 converged.\n",
      "[ Info: MCMC Tuning cycle 6 finished, 10 chains, 0 tuned, 0 converged.\n",
      "[ Info: MCMC Tuning cycle 7 finished, 10 chains, 3 tuned, 0 converged.\n",
      "[ Info: Create 56 Hyperrectangles using 8 thread(s)\n",
      "[ Info: MCMC Tuning cycle 7 finished, 10 chains, 5 tuned, 0 converged.\n",
      "[ Info: MCMC Tuning cycle 8 finished, 10 chains, 7 tuned, 0 converged.\n",
      "[ Info: MCMC Tuning cycle 8 finished, 10 chains, 7 tuned, 0 converged.\n",
      "[ Info: MCMC Tuning cycle 9 finished, 10 chains, 9 tuned, 0 converged.\n",
      "[ Info: MCMC Tuning cycle 9 finished, 10 chains, 7 tuned, 10 converged.\n",
      "[ Info: MCMC Tuning cycle 10 finished, 10 chains, 9 tuned, 10 converged.\n",
      "[ Info: MCMC Tuning cycle 10 finished, 10 chains, 10 tuned, 0 converged.\n",
      "[ Info: MCMC Tuning cycle 11 finished, 10 chains, 10 tuned, 10 converged.\n",
      "[ Info: MCMC tuning of 10 chains successful after 11 cycle(s).\n",
      "[ Info: MCMC Tuning cycle 11 finished, 10 chains, 9 tuned, 10 converged.\n",
      "[ Info: Harmonic Mean Integration started. Samples in dataset 1 / 2: \t50000 / 49999\tParameters:\t6\n",
      "[ Info: Data Whitening.\n",
      "[ Info: Apply Whitening Transformation to Data Set 2\n",
      "[ Info: Create Space Partitioning Tree\n",
      "[ Info: Determine Hyperrectangle Starting Samples\n",
      "[ Info: Determine Tolerances for Hyperrectangle Creation\n"
     ]
    },
    {
     "name": "stdout",
     "output_type": "stream",
     "text": [
      "Progress: 100%|█████████████████████████████████████████| Time: 0:00:01\u001b[K\n"
     ]
    },
    {
     "name": "stderr",
     "output_type": "stream",
     "text": [
      "[ Info: MCMC Tuning cycle 12 finished, 10 chains, 10 tuned, 0 converged.\n",
      "[ Info: Updating 56 Hyperrectangles using 8 thread(s)\n",
      "[ Info: Integrating 56 Hyperrectangles\n",
      "[ Info: Estimating Uncertainty (cov. weighted result)\n",
      "[ Info: MCMC Tuning cycle 13 finished, 10 chains, 10 tuned, 0 converged.\n",
      "[ Info: BATPar: Sampling subspace 11:\n",
      "[ Info: Trying to generate 10 viable MCMC chain(s).\n",
      "[ Info: Selected 10 MCMC chain(s).\n",
      "[ Info: Begin tuning of 10 MCMC chain(s).\n",
      "[ Info: MCMC Tuning cycle 14 finished, 10 chains, 10 tuned, 0 converged.\n",
      "[ Info: MCMC Tuning cycle 1 finished, 10 chains, 0 tuned, 0 converged.\n",
      "[ Info: MCMC Tuning cycle 15 finished, 10 chains, 10 tuned, 0 converged.\n",
      "[ Info: MCMC Tuning cycle 2 finished, 10 chains, 0 tuned, 0 converged.\n",
      "[ Info: MCMC Tuning cycle 16 finished, 10 chains, 10 tuned, 0 converged.\n",
      "[ Info: MCMC Tuning cycle 3 finished, 10 chains, 0 tuned, 0 converged.\n",
      "[ Info: MCMC Tuning cycle 17 finished, 10 chains, 10 tuned, 10 converged.\n",
      "[ Info: MCMC tuning of 10 chains successful after 17 cycle(s).\n",
      "[ Info: MCMC Tuning cycle 4 finished, 10 chains, 1 tuned, 0 converged.\n",
      "[ Info: MCMC Tuning cycle 5 finished, 10 chains, 0 tuned, 0 converged.\n",
      "[ Info: MCMC Tuning cycle 6 finished, 10 chains, 1 tuned, 0 converged.\n",
      "[ Info: MCMC Tuning cycle 7 finished, 10 chains, 2 tuned, 0 converged.\n",
      "[ Info: Harmonic Mean Integration started. Samples in dataset 1 / 2: \t50000 / 49999\tParameters:\t6\n",
      "[ Info: Data Whitening.\n",
      "[ Info: MCMC Tuning cycle 8 finished, 10 chains, 7 tuned, 0 converged.\n",
      "[ Info: Apply Whitening Transformation to Data Set 2\n",
      "[ Info: MCMC Tuning cycle 9 finished, 10 chains, 8 tuned, 0 converged.\n",
      "[ Info: MCMC Tuning cycle 10 finished, 10 chains, 9 tuned, 0 converged.\n",
      "[ Info: Create Space Partitioning Tree\n",
      "[ Info: MCMC Tuning cycle 11 finished, 10 chains, 10 tuned, 0 converged.\n",
      "[ Info: Determine Hyperrectangle Starting Samples\n",
      "[ Info: MCMC Tuning cycle 12 finished, 10 chains, 9 tuned, 0 converged.\n",
      "[ Info: Determine Tolerances for Hyperrectangle Creation\n",
      "[ Info: Create 69 Hyperrectangles using 8 thread(s)\n",
      "[ Info: MCMC Tuning cycle 13 finished, 10 chains, 9 tuned, 10 converged.\n",
      "[ Info: MCMC Tuning cycle 14 finished, 10 chains, 10 tuned, 0 converged.\n",
      "[ Info: MCMC Tuning cycle 15 finished, 10 chains, 10 tuned, 0 converged.\n",
      "[ Info: MCMC Tuning cycle 16 finished, 10 chains, 10 tuned, 0 converged.\n",
      "[ Info: MCMC Tuning cycle 17 finished, 10 chains, 10 tuned, 0 converged.\n",
      "[ Info: Harmonic Mean Integration started. Samples in dataset 1 / 2: \t50000 / 49999\tParameters:\t6\n",
      "[ Info: Data Whitening.\n",
      "[ Info: MCMC Tuning cycle 18 finished, 10 chains, 9 tuned, 10 converged.\n",
      "[ Info: Apply Whitening Transformation to Data Set 2\n",
      "[ Info: Create Space Partitioning Tree\n",
      "[ Info: Determine Hyperrectangle Starting Samples\n",
      "[ Info: MCMC Tuning cycle 19 finished, 10 chains, 10 tuned, 10 converged.\n",
      "[ Info: MCMC tuning of 10 chains successful after 19 cycle(s).\n",
      "[ Info: Determine Tolerances for Hyperrectangle Creation\n"
     ]
    },
    {
     "name": "stdout",
     "output_type": "stream",
     "text": [
      "Progress: 100%|█████████████████████████████████████████| Time: 0:00:01\u001b[K\n"
     ]
    },
    {
     "name": "stderr",
     "output_type": "stream",
     "text": [
      "[ Info: Updating 69 Hyperrectangles using 8 thread(s)\n",
      "[ Info: Integrating 69 Hyperrectangles\n"
     ]
    },
    {
     "name": "stdout",
     "output_type": "stream",
     "text": [
      "Progress: 100%|█████████████████████████████████████████| Time: 0:00:00\u001b[K\n"
     ]
    },
    {
     "name": "stderr",
     "output_type": "stream",
     "text": [
      "[ Info: Estimating Uncertainty (cov. weighted result)\n",
      "[ Info: BATPar: Sampling subspace 12:\n",
      "[ Info: Trying to generate 10 viable MCMC chain(s).\n",
      "[ Info: Selected 10 MCMC chain(s).\n",
      "[ Info: Begin tuning of 10 MCMC chain(s).\n",
      "[ Info: MCMC Tuning cycle 1 finished, 10 chains, 0 tuned, 0 converged.\n",
      "[ Info: MCMC Tuning cycle 2 finished, 10 chains, 1 tuned, 0 converged.\n",
      "[ Info: MCMC Tuning cycle 3 finished, 10 chains, 0 tuned, 10 converged.\n",
      "[ Info: MCMC Tuning cycle 4 finished, 10 chains, 0 tuned, 0 converged.\n",
      "[ Info: Create 51 Hyperrectangles using 8 thread(s)\n",
      "[ Info: MCMC Tuning cycle 5 finished, 10 chains, 2 tuned, 0 converged.\n",
      "[ Info: Harmonic Mean Integration started. Samples in dataset 1 / 2: \t50000 / 49999\tParameters:\t6\n",
      "[ Info: Data Whitening.\n",
      "[ Info: Apply Whitening Transformation to Data Set 2\n",
      "[ Info: Create Space Partitioning Tree\n",
      "[ Info: Determine Hyperrectangle Starting Samples\n",
      "[ Info: Determine Tolerances for Hyperrectangle Creation\n"
     ]
    },
    {
     "name": "stdout",
     "output_type": "stream",
     "text": [
      "Progress: 100%|█████████████████████████████████████████| Time: 0:00:00\u001b[K\n"
     ]
    },
    {
     "name": "stderr",
     "output_type": "stream",
     "text": [
      "[ Info: MCMC Tuning cycle 6 finished, 10 chains, 4 tuned, 0 converged.\n",
      "[ Info: MCMC Tuning cycle 7 finished, 10 chains, 8 tuned, 0 converged.\n",
      "[ Info: Updating 51 Hyperrectangles using 8 thread(s)\n",
      "[ Info: Integrating 51 Hyperrectangles\n",
      "[ Info: MCMC Tuning cycle 8 finished, 10 chains, 8 tuned, 10 converged.\n",
      "[ Info: Estimating Uncertainty (cov. weighted result)\n",
      "[ Info: BATPar: Sampling subspace 13:\n",
      "[ Info: Trying to generate 10 viable MCMC chain(s).\n",
      "[ Info: MCMC Tuning cycle 9 finished, 10 chains, 9 tuned, 10 converged.\n",
      "[ Info: Selected 10 MCMC chain(s).\n",
      "[ Info: Begin tuning of 10 MCMC chain(s).\n",
      "[ Info: MCMC Tuning cycle 10 finished, 10 chains, 10 tuned, 10 converged.\n",
      "[ Info: MCMC tuning of 10 chains successful after 10 cycle(s).\n",
      "[ Info: MCMC Tuning cycle 1 finished, 10 chains, 0 tuned, 0 converged.\n",
      "[ Info: MCMC Tuning cycle 2 finished, 10 chains, 0 tuned, 0 converged.\n",
      "[ Info: MCMC Tuning cycle 3 finished, 10 chains, 0 tuned, 0 converged.\n",
      "[ Info: MCMC Tuning cycle 4 finished, 10 chains, 0 tuned, 0 converged.\n",
      "[ Info: Create 59 Hyperrectangles using 8 thread(s)\n",
      "[ Info: MCMC Tuning cycle 5 finished, 10 chains, 1 tuned, 0 converged.\n",
      "[ Info: MCMC Tuning cycle 6 finished, 10 chains, 4 tuned, 0 converged.\n",
      "[ Info: MCMC Tuning cycle 7 finished, 10 chains, 7 tuned, 10 converged.\n",
      "[ Info: MCMC Tuning cycle 8 finished, 10 chains, 8 tuned, 10 converged.\n",
      "[ Info: Create 71 Hyperrectangles using 8 thread(s)\n",
      "[ Info: MCMC Tuning cycle 9 finished, 10 chains, 10 tuned, 0 converged.\n",
      "[ Info: MCMC Tuning cycle 10 finished, 10 chains, 8 tuned, 10 converged.\n",
      "[ Info: MCMC Tuning cycle 11 finished, 10 chains, 9 tuned, 0 converged.\n",
      "[ Info: MCMC Tuning cycle 12 finished, 10 chains, 10 tuned, 0 converged.\n",
      "[ Info: MCMC Tuning cycle 13 finished, 10 chains, 10 tuned, 0 converged.\n",
      "[ Info: MCMC Tuning cycle 14 finished, 10 chains, 9 tuned, 0 converged.\n"
     ]
    },
    {
     "name": "stdout",
     "output_type": "stream",
     "text": [
      "Progress: 100%|█████████████████████████████████████████| Time: 0:00:01\u001b[K\n"
     ]
    },
    {
     "name": "stderr",
     "output_type": "stream",
     "text": [
      "[ Info: MCMC Tuning cycle 15 finished, 10 chains, 10 tuned, 10 converged.\n",
      "[ Info: MCMC tuning of 10 chains successful after 15 cycle(s).\n"
     ]
    },
    {
     "name": "stdout",
     "output_type": "stream",
     "text": [
      "Progress: 100%|█████████████████████████████████████████| Time: 0:00:01\u001b[K\n"
     ]
    },
    {
     "name": "stderr",
     "output_type": "stream",
     "text": [
      "[ Info: Updating 71 Hyperrectangles using 8 thread(s)\n",
      "[ Info: Integrating 71 Hyperrectangles\n",
      "[ Info: Updating 59 Hyperrectangles using 8 thread(s)\n",
      "[ Info: Estimating Uncertainty (cov. weighted result)\n",
      "[ Info: BATPar: Sampling subspace 14:\n",
      "[ Info: Trying to generate 10 viable MCMC chain(s).\n",
      "[ Info: Integrating 59 Hyperrectangles\n",
      "[ Info: Estimating Uncertainty (cov. weighted result)\n",
      "[ Info: BATPar: Sampling subspace 15:\n",
      "[ Info: Trying to generate 10 viable MCMC chain(s).\n",
      "[ Info: Selected 10 MCMC chain(s).\n",
      "[ Info: Begin tuning of 10 MCMC chain(s).\n",
      "[ Info: Selected 10 MCMC chain(s).\n",
      "[ Info: Begin tuning of 10 MCMC chain(s).\n",
      "[ Info: MCMC Tuning cycle 1 finished, 10 chains, 0 tuned, 0 converged.\n",
      "[ Info: Harmonic Mean Integration started. Samples in dataset 1 / 2: \t50000 / 49999\tParameters:\t6\n",
      "[ Info: Data Whitening.\n",
      "[ Info: MCMC Tuning cycle 1 finished, 10 chains, 0 tuned, 0 converged.\n",
      "[ Info: Apply Whitening Transformation to Data Set 2\n",
      "[ Info: Create Space Partitioning Tree\n",
      "[ Info: MCMC Tuning cycle 2 finished, 10 chains, 0 tuned, 0 converged.\n",
      "[ Info: MCMC Tuning cycle 2 finished, 10 chains, 0 tuned, 0 converged.\n",
      "[ Info: Determine Hyperrectangle Starting Samples\n",
      "[ Info: MCMC Tuning cycle 3 finished, 10 chains, 0 tuned, 0 converged.\n",
      "[ Info: Determine Tolerances for Hyperrectangle Creation\n",
      "[ Info: MCMC Tuning cycle 4 finished, 10 chains, 1 tuned, 0 converged.\n",
      "[ Info: MCMC Tuning cycle 3 finished, 10 chains, 1 tuned, 0 converged.\n",
      "[ Info: MCMC Tuning cycle 5 finished, 10 chains, 1 tuned, 0 converged.\n",
      "[ Info: MCMC Tuning cycle 4 finished, 10 chains, 0 tuned, 0 converged.\n",
      "[ Info: MCMC Tuning cycle 5 finished, 10 chains, 1 tuned, 0 converged.\n",
      "[ Info: MCMC Tuning cycle 6 finished, 10 chains, 6 tuned, 0 converged.\n",
      "[ Info: MCMC Tuning cycle 6 finished, 10 chains, 7 tuned, 0 converged.\n",
      "[ Info: MCMC Tuning cycle 7 finished, 10 chains, 7 tuned, 0 converged.\n",
      "[ Info: MCMC Tuning cycle 8 finished, 10 chains, 9 tuned, 10 converged.\n",
      "[ Info: MCMC Tuning cycle 9 finished, 10 chains, 10 tuned, 10 converged.\n",
      "[ Info: MCMC tuning of 10 chains successful after 9 cycle(s).\n",
      "[ Info: MCMC Tuning cycle 7 finished, 10 chains, 10 tuned, 10 converged.\n",
      "[ Info: MCMC tuning of 10 chains successful after 7 cycle(s).\n",
      "[ Info: Harmonic Mean Integration started. Samples in dataset 1 / 2: \t50000 / 49999\tParameters:\t6\n",
      "[ Info: Data Whitening.\n",
      "[ Info: Apply Whitening Transformation to Data Set 2\n",
      "[ Info: Create Space Partitioning Tree\n",
      "[ Info: Determine Hyperrectangle Starting Samples\n",
      "[ Info: Create 68 Hyperrectangles using 8 thread(s)\n",
      "[ Info: Determine Tolerances for Hyperrectangle Creation\n",
      "[ Info: Harmonic Mean Integration started. Samples in dataset 1 / 2: \t50000 / 49999\tParameters:\t6\n",
      "[ Info: Data Whitening.\n",
      "[ Info: Apply Whitening Transformation to Data Set 2\n",
      "[ Info: Create Space Partitioning Tree\n"
     ]
    },
    {
     "name": "stdout",
     "output_type": "stream",
     "text": [
      "Progress: 100%|█████████████████████████████████████████| Time: 0:00:01\u001b[K\n"
     ]
    },
    {
     "name": "stderr",
     "output_type": "stream",
     "text": [
      "[ Info: Create 52 Hyperrectangles using 8 thread(s)\n",
      "[ Info: Determine Hyperrectangle Starting Samples\n",
      "[ Info: Updating 68 Hyperrectangles using 8 thread(s)\n",
      "[ Info: Integrating 68 Hyperrectangles\n",
      "[ Info: Estimating Uncertainty (cov. weighted result)\n",
      "[ Info: BATPar: Sampling subspace 16:\n",
      "[ Info: Trying to generate 10 viable MCMC chain(s).\n",
      "[ Info: Determine Tolerances for Hyperrectangle Creation\n",
      "[ Info: Selected 10 MCMC chain(s).\n",
      "[ Info: Begin tuning of 10 MCMC chain(s).\n",
      "[ Info: MCMC Tuning cycle 1 finished, 10 chains, 0 tuned, 0 converged.\n",
      "[ Info: Harmonic Mean Integration started. Samples in dataset 1 / 2: \t50000 / 49999\tParameters:\t6\n",
      "[ Info: Data Whitening.\n",
      "[ Info: Apply Whitening Transformation to Data Set 2\n",
      "[ Info: Create Space Partitioning Tree\n",
      "[ Info: Determine Hyperrectangle Starting Samples\n",
      "[ Info: MCMC Tuning cycle 2 finished, 10 chains, 0 tuned, 0 converged.\n",
      "[ Info: Determine Tolerances for Hyperrectangle Creation\n",
      "[ Info: MCMC Tuning cycle 3 finished, 10 chains, 0 tuned, 0 converged.\n",
      "[ Info: MCMC Tuning cycle 4 finished, 10 chains, 0 tuned, 0 converged.\n",
      "[ Info: MCMC Tuning cycle 5 finished, 10 chains, 3 tuned, 0 converged.\n"
     ]
    },
    {
     "name": "stdout",
     "output_type": "stream",
     "text": [
      "Progress: 100%|█████████████████████████████████████████| Time: 0:00:00\u001b[K\n"
     ]
    },
    {
     "name": "stderr",
     "output_type": "stream",
     "text": [
      "[ Info: Updating 52 Hyperrectangles using 8 thread(s)\n",
      "[ Info: Integrating 52 Hyperrectangles\n",
      "[ Info: Estimating Uncertainty (cov. weighted result)\n",
      "[ Info: BATPar: Sampling subspace 17:\n",
      "[ Info: Trying to generate 10 viable MCMC chain(s).\n",
      "[ Info: Selected 10 MCMC chain(s).\n",
      "[ Info: Begin tuning of 10 MCMC chain(s).\n",
      "[ Info: MCMC Tuning cycle 1 finished, 10 chains, 0 tuned, 0 converged.\n",
      "[ Info: MCMC Tuning cycle 6 finished, 10 chains, 6 tuned, 0 converged.\n",
      "[ Info: MCMC Tuning cycle 2 finished, 10 chains, 0 tuned, 0 converged.\n",
      "[ Info: Create 69 Hyperrectangles using 8 thread(s)\n",
      "[ Info: MCMC Tuning cycle 3 finished, 10 chains, 0 tuned, 0 converged.\n",
      "[ Info: MCMC Tuning cycle 4 finished, 10 chains, 0 tuned, 0 converged.\n",
      "[ Info: MCMC Tuning cycle 7 finished, 10 chains, 7 tuned, 10 converged.\n",
      "[ Info: MCMC Tuning cycle 8 finished, 10 chains, 9 tuned, 10 converged.\n",
      "[ Info: MCMC Tuning cycle 9 finished, 10 chains, 10 tuned, 10 converged.\n",
      "[ Info: MCMC tuning of 10 chains successful after 9 cycle(s).\n",
      "[ Info: MCMC Tuning cycle 5 finished, 10 chains, 0 tuned, 0 converged.\n",
      "[ Info: MCMC Tuning cycle 6 finished, 10 chains, 0 tuned, 10 converged.\n",
      "[ Info: MCMC Tuning cycle 7 finished, 10 chains, 8 tuned, 0 converged.\n",
      "[ Info: MCMC Tuning cycle 8 finished, 10 chains, 8 tuned, 10 converged.\n",
      "[ Info: Create 45 Hyperrectangles using 8 thread(s)\n",
      "[ Info: MCMC Tuning cycle 9 finished, 10 chains, 9 tuned, 10 converged.\n",
      "[ Info: MCMC Tuning cycle 10 finished, 10 chains, 9 tuned, 0 converged.\n",
      "[ Info: MCMC Tuning cycle 11 finished, 10 chains, 10 tuned, 0 converged.\n"
     ]
    },
    {
     "name": "stdout",
     "output_type": "stream",
     "text": [
      "Progress: 100%|█████████████████████████████████████████| Time: 0:00:02\u001b[K\n",
      "Progress: 100%|█████████████████████████████████████████| Time: 0:00:01\u001b[K\n"
     ]
    },
    {
     "name": "stderr",
     "output_type": "stream",
     "text": [
      "[ Info: MCMC Tuning cycle 12 finished, 10 chains, 10 tuned, 0 converged.\n",
      "[ Info: Updating 69 Hyperrectangles using 8 thread(s)\n",
      "[ Info: Integrating 69 Hyperrectangles\n",
      "[ Info: Estimating Uncertainty (cov. weighted result)\n",
      "[ Info: BATPar: Sampling subspace 18:\n",
      "[ Info: Trying to generate 10 viable MCMC chain(s).\n",
      "[ Info: Updating 45 Hyperrectangles using 8 thread(s)\n",
      "[ Info: Integrating 45 Hyperrectangles\n",
      "[ Info: Estimating Uncertainty (cov. weighted result)\n",
      "[ Info: BATPar: Sampling subspace 19:\n",
      "[ Info: Trying to generate 10 viable MCMC chain(s).\n",
      "[ Info: MCMC Tuning cycle 13 finished, 10 chains, 10 tuned, 10 converged.\n",
      "[ Info: MCMC tuning of 10 chains successful after 13 cycle(s).\n",
      "[ Info: Selected 10 MCMC chain(s).\n",
      "[ Info: Selected 10 MCMC chain(s).\n",
      "[ Info: Begin tuning of 10 MCMC chain(s).\n",
      "[ Info: Begin tuning of 10 MCMC chain(s).\n",
      "[ Info: MCMC Tuning cycle 1 finished, 10 chains, 0 tuned, 0 converged.\n",
      "[ Info: MCMC Tuning cycle 2 finished, 10 chains, 0 tuned, 0 converged.\n",
      "[ Info: MCMC Tuning cycle 1 finished, 10 chains, 0 tuned, 0 converged.\n",
      "[ Info: MCMC Tuning cycle 2 finished, 10 chains, 0 tuned, 0 converged.\n",
      "[ Info: MCMC Tuning cycle 3 finished, 10 chains, 0 tuned, 0 converged.\n",
      "[ Info: MCMC Tuning cycle 4 finished, 10 chains, 0 tuned, 0 converged.\n",
      "[ Info: MCMC Tuning cycle 5 finished, 10 chains, 1 tuned, 0 converged.\n",
      "[ Info: MCMC Tuning cycle 3 finished, 10 chains, 0 tuned, 0 converged.\n",
      "[ Info: MCMC Tuning cycle 4 finished, 10 chains, 0 tuned, 0 converged.\n",
      "[ Info: MCMC Tuning cycle 6 finished, 10 chains, 1 tuned, 10 converged.\n",
      "[ Info: MCMC Tuning cycle 5 finished, 10 chains, 1 tuned, 0 converged.\n",
      "[ Info: MCMC Tuning cycle 6 finished, 10 chains, 4 tuned, 0 converged.\n",
      "[ Info: MCMC Tuning cycle 7 finished, 10 chains, 8 tuned, 10 converged.\n",
      "[ Info: MCMC Tuning cycle 8 finished, 10 chains, 7 tuned, 10 converged.\n",
      "[ Info: Harmonic Mean Integration started. Samples in dataset 1 / 2: \t50000 / 49999\tParameters:\t6\n",
      "[ Info: Data Whitening.\n",
      "[ Info: Apply Whitening Transformation to Data Set 2\n",
      "[ Info: Create Space Partitioning Tree\n",
      "[ Info: MCMC Tuning cycle 9 finished, 10 chains, 10 tuned, 0 converged.\n",
      "[ Info: MCMC Tuning cycle 7 finished, 10 chains, 7 tuned, 10 converged.\n"
     ]
    },
    {
     "name": "stdout",
     "output_type": "stream",
     "text": [
      "Progress: 100%|█████████████████████████████████████████| Time: 0:00:00\u001b[K\n"
     ]
    },
    {
     "name": "stderr",
     "output_type": "stream",
     "text": [
      "[ Info: MCMC Tuning cycle 8 finished, 10 chains, 8 tuned, 10 converged.\n",
      "[ Info: MCMC Tuning cycle 10 finished, 10 chains, 10 tuned, 0 converged.\n",
      "[ Info: Determine Hyperrectangle Starting Samples\n",
      "[ Info: MCMC Tuning cycle 9 finished, 10 chains, 10 tuned, 0 converged.\n",
      "[ Info: Determine Tolerances for Hyperrectangle Creation\n",
      "[ Info: MCMC Tuning cycle 10 finished, 10 chains, 10 tuned, 0 converged.\n",
      "[ Info: MCMC Tuning cycle 11 finished, 10 chains, 10 tuned, 0 converged.\n",
      "[ Info: MCMC Tuning cycle 11 finished, 10 chains, 9 tuned, 0 converged.\n",
      "[ Info: MCMC Tuning cycle 12 finished, 10 chains, 10 tuned, 10 converged.\n",
      "[ Info: MCMC tuning of 10 chains successful after 12 cycle(s).\n",
      "[ Info: MCMC Tuning cycle 12 finished, 10 chains, 10 tuned, 0 converged.\n",
      "[ Info: MCMC Tuning cycle 13 finished, 10 chains, 10 tuned, 10 converged.\n",
      "[ Info: MCMC tuning of 10 chains successful after 13 cycle(s).\n",
      "[ Info: Harmonic Mean Integration started. Samples in dataset 1 / 2: \t50000 / 49999\tParameters:\t6\n",
      "[ Info: Data Whitening.\n",
      "[ Info: Apply Whitening Transformation to Data Set 2\n",
      "[ Info: Create Space Partitioning Tree\n",
      "[ Info: Determine Hyperrectangle Starting Samples\n",
      "[ Info: Determine Tolerances for Hyperrectangle Creation\n",
      "[ Info: Create 54 Hyperrectangles using 8 thread(s)\n"
     ]
    },
    {
     "name": "stdout",
     "output_type": "stream",
     "text": [
      "Progress: 100%|█████████████████████████████████████████| Time: 0:00:01\u001b[K\n"
     ]
    },
    {
     "name": "stderr",
     "output_type": "stream",
     "text": [
      "[ Info: Create 46 Hyperrectangles using 8 thread(s)\n",
      "[ Info: Harmonic Mean Integration started. Samples in dataset 1 / 2: \t50000 / 49999\tParameters:\t6\n",
      "[ Info: Data Whitening.\n",
      "[ Info: Updating 54 Hyperrectangles using 8 thread(s)\n",
      "[ Info: Apply Whitening Transformation to Data Set 2\n",
      "[ Info: Create Space Partitioning Tree\n"
     ]
    },
    {
     "name": "stdout",
     "output_type": "stream",
     "text": [
      "Progress: 100%|█████████████████████████████████████████| Time: 0:00:00\u001b[K\n"
     ]
    },
    {
     "name": "stderr",
     "output_type": "stream",
     "text": [
      "[ Info: Integrating 54 Hyperrectangles\n",
      "[ Info: Estimating Uncertainty (cov. weighted result)\n",
      "[ Info: BATPar: Sampling subspace 20:\n",
      "[ Info: Trying to generate 10 viable MCMC chain(s).\n",
      "[ Info: Selected 10 MCMC chain(s).\n",
      "[ Info: Begin tuning of 10 MCMC chain(s).\n",
      "[ Info: Determine Hyperrectangle Starting Samples\n",
      "[ Info: MCMC Tuning cycle 1 finished, 10 chains, 0 tuned, 0 converged.\n",
      "[ Info: Determine Tolerances for Hyperrectangle Creation\n"
     ]
    },
    {
     "name": "stdout",
     "output_type": "stream",
     "text": [
      "Progress: 100%|█████████████████████████████████████████| Time: 0:00:00\u001b[K\n"
     ]
    },
    {
     "name": "stderr",
     "output_type": "stream",
     "text": [
      "[ Info: MCMC Tuning cycle 2 finished, 10 chains, 0 tuned, 0 converged.\n",
      "[ Info: MCMC Tuning cycle 3 finished, 10 chains, 0 tuned, 0 converged.\n",
      "[ Info: MCMC Tuning cycle 4 finished, 10 chains, 0 tuned, 0 converged.\n",
      "[ Info: Updating 46 Hyperrectangles using 8 thread(s)\n",
      "[ Info: Integrating 46 Hyperrectangles\n",
      "[ Info: Estimating Uncertainty (cov. weighted result)\n",
      "[ Info: BATPar: Sampling subspace 21:\n",
      "[ Info: Trying to generate 10 viable MCMC chain(s).\n",
      "[ Info: MCMC Tuning cycle 5 finished, 10 chains, 1 tuned, 0 converged.\n",
      "[ Info: Selected 10 MCMC chain(s).\n",
      "[ Info: Begin tuning of 10 MCMC chain(s).\n",
      "[ Info: MCMC Tuning cycle 6 finished, 10 chains, 3 tuned, 10 converged.\n",
      "[ Info: MCMC Tuning cycle 7 finished, 10 chains, 7 tuned, 0 converged.\n",
      "[ Info: MCMC Tuning cycle 8 finished, 10 chains, 9 tuned, 0 converged.\n",
      "[ Info: Harmonic Mean Integration started. Samples in dataset 1 / 2: \t50000 / 49999\tParameters:\t6\n",
      "[ Info: Data Whitening.\n",
      "[ Info: Apply Whitening Transformation to Data Set 2\n",
      "[ Info: Create Space Partitioning Tree\n",
      "[ Info: MCMC Tuning cycle 9 finished, 10 chains, 10 tuned, 10 converged.\n",
      "[ Info: MCMC tuning of 10 chains successful after 9 cycle(s).\n",
      "[ Info: Create 36 Hyperrectangles using 8 thread(s)\n",
      "[ Info: Determine Hyperrectangle Starting Samples\n",
      "[ Info: Determine Tolerances for Hyperrectangle Creation\n",
      "[ Info: MCMC Tuning cycle 1 finished, 10 chains, 0 tuned, 0 converged.\n",
      "[ Info: MCMC Tuning cycle 2 finished, 10 chains, 0 tuned, 0 converged.\n",
      "[ Info: MCMC Tuning cycle 3 finished, 10 chains, 0 tuned, 0 converged.\n",
      "[ Info: MCMC Tuning cycle 4 finished, 10 chains, 0 tuned, 0 converged.\n"
     ]
    },
    {
     "name": "stdout",
     "output_type": "stream",
     "text": [
      "Progress: 100%|█████████████████████████████████████████| Time: 0:00:00\u001b[K\n"
     ]
    },
    {
     "name": "stderr",
     "output_type": "stream",
     "text": [
      "[ Info: MCMC Tuning cycle 5 finished, 10 chains, 0 tuned, 0 converged.\n",
      "[ Info: Updating 36 Hyperrectangles using 8 thread(s)\n",
      "[ Info: Integrating 36 Hyperrectangles\n",
      "[ Info: MCMC Tuning cycle 6 finished, 10 chains, 0 tuned, 0 converged.\n",
      "[ Info: Estimating Uncertainty (cov. weighted result)\n",
      "[ Info: BATPar: Sampling subspace 22:\n",
      "[ Info: Trying to generate 10 viable MCMC chain(s).\n",
      "[ Info: Selected 10 MCMC chain(s).\n",
      "[ Info: Begin tuning of 10 MCMC chain(s).\n",
      "[ Info: MCMC Tuning cycle 7 finished, 10 chains, 6 tuned, 10 converged.\n",
      "[ Info: MCMC Tuning cycle 8 finished, 10 chains, 7 tuned, 0 converged.\n",
      "[ Info: MCMC Tuning cycle 1 finished, 10 chains, 0 tuned, 0 converged.\n",
      "[ Info: MCMC Tuning cycle 2 finished, 10 chains, 1 tuned, 0 converged.\n",
      "[ Info: MCMC Tuning cycle 9 finished, 10 chains, 8 tuned, 0 converged.\n",
      "[ Info: Create 67 Hyperrectangles using 8 thread(s)\n",
      "[ Info: MCMC Tuning cycle 10 finished, 10 chains, 9 tuned, 0 converged.\n",
      "[ Info: MCMC Tuning cycle 3 finished, 10 chains, 0 tuned, 0 converged.\n",
      "[ Info: MCMC Tuning cycle 4 finished, 10 chains, 0 tuned, 0 converged.\n",
      "[ Info: MCMC Tuning cycle 5 finished, 10 chains, 0 tuned, 10 converged.\n",
      "[ Info: MCMC Tuning cycle 6 finished, 10 chains, 1 tuned, 10 converged.\n",
      "[ Info: MCMC Tuning cycle 7 finished, 10 chains, 7 tuned, 10 converged.\n",
      "[ Info: MCMC Tuning cycle 8 finished, 10 chains, 9 tuned, 0 converged.\n",
      "[ Info: MCMC Tuning cycle 11 finished, 10 chains, 8 tuned, 0 converged.\n",
      "[ Info: MCMC Tuning cycle 12 finished, 10 chains, 9 tuned, 0 converged.\n",
      "[ Info: MCMC Tuning cycle 9 finished, 10 chains, 10 tuned, 10 converged.\n",
      "[ Info: MCMC tuning of 10 chains successful after 9 cycle(s).\n",
      "[ Info: MCMC Tuning cycle 13 finished, 10 chains, 9 tuned, 0 converged.\n"
     ]
    },
    {
     "name": "stdout",
     "output_type": "stream",
     "text": [
      "Progress: 100%|█████████████████████████████████████████| Time: 0:00:01\u001b[K\n"
     ]
    },
    {
     "name": "stderr",
     "output_type": "stream",
     "text": [
      "[ Info: MCMC Tuning cycle 14 finished, 10 chains, 10 tuned, 0 converged.\n",
      "[ Info: MCMC Tuning cycle 15 finished, 10 chains, 9 tuned, 0 converged.\n",
      "[ Info: Updating 67 Hyperrectangles using 8 thread(s)\n",
      "[ Info: Integrating 67 Hyperrectangles\n",
      "[ Info: Estimating Uncertainty (cov. weighted result)\n",
      "[ Info: BATPar: Sampling subspace 23:\n",
      "[ Info: Trying to generate 10 viable MCMC chain(s).\n",
      "[ Info: MCMC Tuning cycle 16 finished, 10 chains, 9 tuned, 0 converged.\n",
      "[ Info: Selected 10 MCMC chain(s).\n",
      "[ Info: Begin tuning of 10 MCMC chain(s).\n",
      "[ Info: MCMC Tuning cycle 1 finished, 10 chains, 0 tuned, 0 converged.\n",
      "[ Info: MCMC Tuning cycle 17 finished, 10 chains, 9 tuned, 0 converged.\n",
      "[ Info: MCMC Tuning cycle 2 finished, 10 chains, 0 tuned, 0 converged.\n",
      "[ Info: MCMC Tuning cycle 18 finished, 10 chains, 10 tuned, 0 converged.\n",
      "[ Info: MCMC Tuning cycle 3 finished, 10 chains, 0 tuned, 0 converged.\n",
      "[ Info: Harmonic Mean Integration started. Samples in dataset 1 / 2: \t50000 / 49999\tParameters:\t6\n",
      "[ Info: MCMC Tuning cycle 4 finished, 10 chains, 0 tuned, 0 converged.\n",
      "[ Info: Data Whitening.\n",
      "[ Info: Apply Whitening Transformation to Data Set 2\n",
      "[ Info: Create Space Partitioning Tree\n",
      "[ Info: MCMC Tuning cycle 19 finished, 10 chains, 9 tuned, 10 converged.\n",
      "[ Info: MCMC Tuning cycle 5 finished, 10 chains, 0 tuned, 0 converged.\n",
      "[ Info: Determine Hyperrectangle Starting Samples\n",
      "[ Info: MCMC Tuning cycle 20 finished, 10 chains, 10 tuned, 0 converged.\n",
      "[ Info: MCMC Tuning cycle 6 finished, 10 chains, 1 tuned, 0 converged.\n",
      "[ Info: MCMC Tuning cycle 21 finished, 10 chains, 9 tuned, 0 converged.\n",
      "[ Info: MCMC Tuning cycle 22 finished, 10 chains, 8 tuned, 10 converged.\n"
     ]
    },
    {
     "name": "stdout",
     "output_type": "stream",
     "text": [
      "Progress: 100%|█████████████████████████████████████████| Time: 0:00:00\u001b[K\n"
     ]
    },
    {
     "name": "stderr",
     "output_type": "stream",
     "text": [
      "[ Info: Determine Tolerances for Hyperrectangle Creation\n",
      "[ Info: MCMC Tuning cycle 23 finished, 10 chains, 8 tuned, 0 converged.\n",
      "[ Info: MCMC Tuning cycle 7 finished, 10 chains, 3 tuned, 0 converged.\n",
      "[ Info: MCMC Tuning cycle 24 finished, 10 chains, 10 tuned, 10 converged.\n",
      "[ Info: MCMC tuning of 10 chains successful after 24 cycle(s).\n",
      "[ Info: MCMC Tuning cycle 8 finished, 10 chains, 8 tuned, 10 converged.\n",
      "[ Info: MCMC Tuning cycle 9 finished, 10 chains, 10 tuned, 0 converged.\n",
      "[ Info: MCMC Tuning cycle 10 finished, 10 chains, 7 tuned, 0 converged.\n",
      "[ Info: MCMC Tuning cycle 11 finished, 10 chains, 10 tuned, 0 converged.\n",
      "[ Info: MCMC Tuning cycle 12 finished, 10 chains, 10 tuned, 10 converged.\n",
      "[ Info: MCMC tuning of 10 chains successful after 12 cycle(s).\n",
      "[ Info: Harmonic Mean Integration started. Samples in dataset 1 / 2: \t50000 / 49999\tParameters:\t6\n",
      "[ Info: Data Whitening.\n",
      "[ Info: Apply Whitening Transformation to Data Set 2\n",
      "[ Info: Create Space Partitioning Tree\n",
      "[ Info: Determine Hyperrectangle Starting Samples\n",
      "[ Info: Determine Tolerances for Hyperrectangle Creation\n",
      "[ Info: Create 60 Hyperrectangles using 8 thread(s)\n",
      "[ Info: Create 72 Hyperrectangles using 8 thread(s)\n"
     ]
    },
    {
     "name": "stdout",
     "output_type": "stream",
     "text": [
      "Progress: 100%|█████████████████████████████████████████| Time: 0:00:00\u001b[K\n"
     ]
    },
    {
     "name": "stderr",
     "output_type": "stream",
     "text": [
      "[ Info: Harmonic Mean Integration started. Samples in dataset 1 / 2: \t50000 / 49999\tParameters:\t6\n",
      "[ Info: Data Whitening.\n",
      "[ Info: Apply Whitening Transformation to Data Set 2\n",
      "[ Info: Updating 60 Hyperrectangles using 8 thread(s)\n",
      "[ Info: Create Space Partitioning Tree\n",
      "[ Info: Integrating 60 Hyperrectangles\n"
     ]
    },
    {
     "name": "stdout",
     "output_type": "stream",
     "text": [
      "Progress: 100%|█████████████████████████████████████████| Time: 0:00:00\u001b[K\n"
     ]
    },
    {
     "name": "stderr",
     "output_type": "stream",
     "text": [
      "[ Info: Determine Hyperrectangle Starting Samples\n"
     ]
    },
    {
     "name": "stdout",
     "output_type": "stream",
     "text": [
      "Progress: 100%|█████████████████████████████████████████| Time: 0:00:00\u001b[K\n"
     ]
    },
    {
     "name": "stderr",
     "output_type": "stream",
     "text": [
      "[ Info: Estimating Uncertainty (cov. weighted result)\n",
      "[ Info: Determine Tolerances for Hyperrectangle Creation\n",
      "[ Info: BATPar: Sampling subspace 24:\n",
      "[ Info: Trying to generate 10 viable MCMC chain(s).\n",
      "[ Info: Selected 10 MCMC chain(s).\n",
      "[ Info: Begin tuning of 10 MCMC chain(s).\n",
      "[ Info: MCMC Tuning cycle 1 finished, 10 chains, 0 tuned, 0 converged.\n",
      "[ Info: MCMC Tuning cycle 2 finished, 10 chains, 1 tuned, 0 converged.\n",
      "[ Info: MCMC Tuning cycle 3 finished, 10 chains, 0 tuned, 0 converged.\n"
     ]
    },
    {
     "name": "stdout",
     "output_type": "stream",
     "text": [
      "Progress: 100%|█████████████████████████████████████████| Time: 0:00:01\u001b[K\n"
     ]
    },
    {
     "name": "stderr",
     "output_type": "stream",
     "text": [
      "[ Info: MCMC Tuning cycle 4 finished, 10 chains, 0 tuned, 0 converged.\n",
      "[ Info: MCMC Tuning cycle 5 finished, 10 chains, 0 tuned, 0 converged.\n",
      "[ Info: MCMC Tuning cycle 6 finished, 10 chains, 0 tuned, 0 converged.\n",
      "[ Info: Updating 72 Hyperrectangles using 8 thread(s)\n",
      "[ Info: Integrating 72 Hyperrectangles\n",
      "[ Info: MCMC Tuning cycle 7 finished, 10 chains, 4 tuned, 0 converged.\n",
      "[ Info: Estimating Uncertainty (cov. weighted result)\n",
      "[ Info: BATPar: Sampling subspace 25:\n",
      "[ Info: Trying to generate 10 viable MCMC chain(s).\n",
      "[ Info: Selected 10 MCMC chain(s).\n",
      "[ Info: Begin tuning of 10 MCMC chain(s).\n",
      "[ Info: MCMC Tuning cycle 8 finished, 10 chains, 6 tuned, 0 converged.\n",
      "[ Info: Harmonic Mean Integration started. Samples in dataset 1 / 2: \t50000 / 49999\tParameters:\t6\n",
      "[ Info: Data Whitening.\n",
      "[ Info: MCMC Tuning cycle 1 finished, 10 chains, 0 tuned, 0 converged.\n",
      "[ Info: Apply Whitening Transformation to Data Set 2\n",
      "[ Info: Create Space Partitioning Tree\n",
      "[ Info: MCMC Tuning cycle 2 finished, 10 chains, 0 tuned, 0 converged.\n",
      "[ Info: Determine Hyperrectangle Starting Samples\n",
      "[ Info: MCMC Tuning cycle 3 finished, 10 chains, 0 tuned, 0 converged.\n",
      "[ Info: Create 65 Hyperrectangles using 8 thread(s)\n",
      "[ Info: Determine Tolerances for Hyperrectangle Creation\n",
      "[ Info: MCMC Tuning cycle 4 finished, 10 chains, 0 tuned, 0 converged.\n",
      "[ Info: MCMC Tuning cycle 9 finished, 10 chains, 6 tuned, 0 converged.\n",
      "[ Info: MCMC Tuning cycle 10 finished, 10 chains, 8 tuned, 0 converged.\n",
      "[ Info: MCMC Tuning cycle 11 finished, 10 chains, 10 tuned, 0 converged.\n",
      "[ Info: MCMC Tuning cycle 12 finished, 10 chains, 9 tuned, 10 converged.\n",
      "[ Info: MCMC Tuning cycle 5 finished, 10 chains, 1 tuned, 10 converged.\n",
      "[ Info: MCMC Tuning cycle 6 finished, 10 chains, 2 tuned, 0 converged.\n",
      "[ Info: MCMC Tuning cycle 7 finished, 10 chains, 8 tuned, 0 converged.\n",
      "[ Info: MCMC Tuning cycle 13 finished, 10 chains, 10 tuned, 0 converged.\n",
      "[ Info: MCMC Tuning cycle 14 finished, 10 chains, 10 tuned, 0 converged.\n",
      "[ Info: MCMC Tuning cycle 8 finished, 10 chains, 9 tuned, 10 converged.\n"
     ]
    },
    {
     "name": "stdout",
     "output_type": "stream",
     "text": [
      "Progress: 100%|█████████████████████████████████████████| Time: 0:00:01\u001b[K\n"
     ]
    },
    {
     "name": "stderr",
     "output_type": "stream",
     "text": [
      "[ Info: MCMC Tuning cycle 15 finished, 10 chains, 10 tuned, 0 converged.\n",
      "[ Info: MCMC Tuning cycle 9 finished, 10 chains, 8 tuned, 10 converged.\n",
      "[ Info: MCMC Tuning cycle 16 finished, 10 chains, 10 tuned, 0 converged.\n",
      "[ Info: MCMC Tuning cycle 10 finished, 10 chains, 10 tuned, 10 converged.\n",
      "[ Info: MCMC tuning of 10 chains successful after 10 cycle(s).\n",
      "[ Info: Updating 65 Hyperrectangles using 8 thread(s)\n",
      "[ Info: Integrating 65 Hyperrectangles\n",
      "[ Info: Estimating Uncertainty (cov. weighted result)\n",
      "[ Info: BATPar: Sampling subspace 26:\n",
      "[ Info: Trying to generate 10 viable MCMC chain(s).\n",
      "[ Info: MCMC Tuning cycle 17 finished, 10 chains, 9 tuned, 0 converged.\n",
      "[ Info: Selected 10 MCMC chain(s).\n",
      "[ Info: Begin tuning of 10 MCMC chain(s).\n",
      "[ Info: MCMC Tuning cycle 1 finished, 10 chains, 0 tuned, 0 converged.\n",
      "[ Info: MCMC Tuning cycle 18 finished, 10 chains, 10 tuned, 0 converged.\n",
      "[ Info: MCMC Tuning cycle 19 finished, 10 chains, 10 tuned, 0 converged.\n",
      "[ Info: MCMC Tuning cycle 2 finished, 10 chains, 0 tuned, 0 converged.\n",
      "[ Info: MCMC Tuning cycle 3 finished, 10 chains, 0 tuned, 0 converged.\n",
      "[ Info: MCMC Tuning cycle 20 finished, 10 chains, 9 tuned, 0 converged.\n",
      "[ Info: MCMC Tuning cycle 4 finished, 10 chains, 0 tuned, 0 converged.\n",
      "[ Info: Create 59 Hyperrectangles using 8 thread(s)\n",
      "[ Info: MCMC Tuning cycle 21 finished, 10 chains, 10 tuned, 0 converged.\n",
      "[ Info: MCMC Tuning cycle 5 finished, 10 chains, 0 tuned, 0 converged.\n",
      "[ Info: MCMC Tuning cycle 6 finished, 10 chains, 0 tuned, 0 converged.\n",
      "[ Info: MCMC Tuning cycle 22 finished, 10 chains, 9 tuned, 0 converged.\n",
      "[ Info: MCMC Tuning cycle 7 finished, 10 chains, 3 tuned, 0 converged.\n",
      "[ Info: MCMC Tuning cycle 23 finished, 10 chains, 10 tuned, 10 converged.\n",
      "[ Info: MCMC tuning of 10 chains successful after 23 cycle(s).\n",
      "[ Info: MCMC Tuning cycle 8 finished, 10 chains, 6 tuned, 0 converged.\n",
      "[ Info: MCMC Tuning cycle 9 finished, 10 chains, 9 tuned, 0 converged.\n",
      "[ Info: MCMC Tuning cycle 10 finished, 10 chains, 8 tuned, 0 converged.\n"
     ]
    },
    {
     "name": "stdout",
     "output_type": "stream",
     "text": [
      "Progress: 100%|█████████████████████████████████████████| Time: 0:00:01\u001b[K\n"
     ]
    },
    {
     "name": "stderr",
     "output_type": "stream",
     "text": [
      "[ Info: MCMC Tuning cycle 11 finished, 10 chains, 10 tuned, 0 converged.\n",
      "[ Info: MCMC Tuning cycle 12 finished, 10 chains, 10 tuned, 10 converged.\n",
      "[ Info: MCMC tuning of 10 chains successful after 12 cycle(s).\n",
      "[ Info: Updating 59 Hyperrectangles using 8 thread(s)\n",
      "[ Info: Integrating 59 Hyperrectangles\n",
      "[ Info: Estimating Uncertainty (cov. weighted result)\n",
      "[ Info: BATPar: Sampling subspace 27:\n",
      "[ Info: Trying to generate 10 viable MCMC chain(s).\n",
      "[ Info: Selected 10 MCMC chain(s).\n",
      "[ Info: Begin tuning of 10 MCMC chain(s).\n",
      "[ Info: MCMC Tuning cycle 1 finished, 10 chains, 0 tuned, 0 converged.\n",
      "[ Info: MCMC Tuning cycle 2 finished, 10 chains, 0 tuned, 0 converged.\n",
      "[ Info: MCMC Tuning cycle 3 finished, 10 chains, 0 tuned, 0 converged.\n",
      "[ Info: MCMC Tuning cycle 4 finished, 10 chains, 0 tuned, 0 converged.\n",
      "[ Info: MCMC Tuning cycle 5 finished, 10 chains, 0 tuned, 0 converged.\n",
      "[ Info: MCMC Tuning cycle 6 finished, 10 chains, 0 tuned, 0 converged.\n",
      "[ Info: MCMC Tuning cycle 7 finished, 10 chains, 4 tuned, 0 converged.\n",
      "[ Info: MCMC Tuning cycle 8 finished, 10 chains, 4 tuned, 0 converged.\n",
      "[ Info: MCMC Tuning cycle 9 finished, 10 chains, 8 tuned, 10 converged.\n",
      "[ Info: MCMC Tuning cycle 10 finished, 10 chains, 8 tuned, 0 converged.\n",
      "[ Info: Harmonic Mean Integration started. Samples in dataset 1 / 2: \t50000 / 49999\tParameters:\t6\n",
      "[ Info: Data Whitening.\n",
      "[ Info: Harmonic Mean Integration started. Samples in dataset 1 / 2: \t50000 / 49999\tParameters:\t6\n",
      "[ Info: Data Whitening.\n",
      "[ Info: Apply Whitening Transformation to Data Set 2\n",
      "[ Info: Create Space Partitioning Tree\n",
      "[ Info: Apply Whitening Transformation to Data Set 2\n",
      "[ Info: Create Space Partitioning Tree\n",
      "[ Info: Determine Hyperrectangle Starting Samples\n",
      "[ Info: MCMC Tuning cycle 11 finished, 10 chains, 10 tuned, 0 converged.\n",
      "[ Info: Determine Tolerances for Hyperrectangle Creation\n",
      "[ Info: Determine Hyperrectangle Starting Samples\n",
      "[ Info: MCMC Tuning cycle 12 finished, 10 chains, 8 tuned, 0 converged.\n",
      "[ Info: Determine Tolerances for Hyperrectangle Creation\n",
      "[ Info: MCMC Tuning cycle 13 finished, 10 chains, 10 tuned, 0 converged.\n",
      "[ Info: MCMC Tuning cycle 14 finished, 10 chains, 10 tuned, 0 converged.\n",
      "[ Info: MCMC Tuning cycle 15 finished, 10 chains, 10 tuned, 0 converged.\n",
      "[ Info: MCMC Tuning cycle 16 finished, 10 chains, 10 tuned, 0 converged.\n",
      "[ Info: Create 58 Hyperrectangles using 8 thread(s)\n",
      "[ Info: MCMC Tuning cycle 17 finished, 10 chains, 10 tuned, 0 converged.\n",
      "[ Info: Harmonic Mean Integration started. Samples in dataset 1 / 2: \t50000 / 49999\tParameters:\t6\n",
      "[ Info: Data Whitening.\n",
      "[ Info: MCMC Tuning cycle 18 finished, 10 chains, 10 tuned, 0 converged.\n",
      "[ Info: Apply Whitening Transformation to Data Set 2\n",
      "[ Info: Create Space Partitioning Tree\n",
      "[ Info: MCMC Tuning cycle 19 finished, 10 chains, 10 tuned, 0 converged.\n",
      "[ Info: Determine Hyperrectangle Starting Samples\n",
      "[ Info: MCMC Tuning cycle 20 finished, 10 chains, 10 tuned, 0 converged.\n",
      "[ Info: Create 60 Hyperrectangles using 8 thread(s)\n",
      "[ Info: Determine Tolerances for Hyperrectangle Creation\n",
      "[ Info: MCMC Tuning cycle 21 finished, 10 chains, 8 tuned, 0 converged.\n",
      "[ Info: MCMC Tuning cycle 22 finished, 10 chains, 9 tuned, 0 converged.\n",
      "[ Info: MCMC Tuning cycle 23 finished, 10 chains, 8 tuned, 10 converged.\n"
     ]
    },
    {
     "name": "stdout",
     "output_type": "stream",
     "text": [
      "Progress: 100%|█████████████████████████████████████████| Time: 0:00:00\u001b[K\n"
     ]
    },
    {
     "name": "stderr",
     "output_type": "stream",
     "text": [
      "[ Info: Updating 58 Hyperrectangles using 8 thread(s)\n",
      "[ Info: Integrating 58 Hyperrectangles\n",
      "[ Info: Estimating Uncertainty (cov. weighted result)\n",
      "[ Info: BATPar: Sampling subspace 28:\n",
      "[ Info: Trying to generate 10 viable MCMC chain(s).\n",
      "[ Info: Selected 10 MCMC chain(s).\n",
      "[ Info: Begin tuning of 10 MCMC chain(s).\n",
      "[ Info: MCMC Tuning cycle 24 finished, 10 chains, 9 tuned, 0 converged.\n",
      "[ Info: MCMC Tuning cycle 25 finished, 10 chains, 10 tuned, 0 converged.\n"
     ]
    },
    {
     "name": "stdout",
     "output_type": "stream",
     "text": [
      "Progress: 100%|█████████████████████████████████████████| Time: 0:00:00\u001b[K\n"
     ]
    },
    {
     "name": "stderr",
     "output_type": "stream",
     "text": [
      "[ Info: MCMC Tuning cycle 26 finished, 10 chains, 9 tuned, 0 converged.\n",
      "[ Info: MCMC Tuning cycle 1 finished, 10 chains, 0 tuned, 0 converged.\n",
      "[ Info: MCMC Tuning cycle 2 finished, 10 chains, 0 tuned, 0 converged.\n",
      "[ Info: MCMC Tuning cycle 27 finished, 10 chains, 10 tuned, 0 converged.\n",
      "[ Info: Updating 60 Hyperrectangles using 8 thread(s)\n",
      "[ Info: MCMC Tuning cycle 3 finished, 10 chains, 0 tuned, 0 converged.\n",
      "[ Info: Integrating 60 Hyperrectangles\n",
      "[ Info: Estimating Uncertainty (cov. weighted result)\n",
      "[ Info: BATPar: Sampling subspace 29:\n",
      "[ Info: Trying to generate 10 viable MCMC chain(s).\n",
      "[ Info: MCMC Tuning cycle 28 finished, 10 chains, 9 tuned, 0 converged.\n",
      "[ Info: MCMC Tuning cycle 4 finished, 10 chains, 0 tuned, 0 converged.\n",
      "[ Info: Selected 10 MCMC chain(s).\n",
      "[ Info: Begin tuning of 10 MCMC chain(s).\n",
      "[ Info: MCMC Tuning cycle 5 finished, 10 chains, 1 tuned, 0 converged.\n",
      "[ Info: MCMC Tuning cycle 29 finished, 10 chains, 10 tuned, 0 converged.\n",
      "[ Info: MCMC Tuning cycle 1 finished, 10 chains, 0 tuned, 0 converged.\n",
      "[ Info: MCMC Tuning cycle 2 finished, 10 chains, 0 tuned, 0 converged.\n",
      "[ Info: MCMC Tuning cycle 6 finished, 10 chains, 2 tuned, 0 converged.\n",
      "[ Info: MCMC Tuning cycle 7 finished, 10 chains, 5 tuned, 0 converged.\n",
      "[ Info: MCMC Tuning cycle 3 finished, 10 chains, 0 tuned, 0 converged.\n",
      "[ Info: Create 55 Hyperrectangles using 8 thread(s)\n",
      "[ Info: MCMC Tuning cycle 4 finished, 10 chains, 0 tuned, 0 converged.\n",
      "[ Info: MCMC Tuning cycle 30 finished, 10 chains, 10 tuned, 0 converged.\n",
      "[ Info: MCMC Tuning cycle 5 finished, 10 chains, 0 tuned, 0 converged.\n",
      "[ Info: MCMC Tuning cycle 31 finished, 10 chains, 10 tuned, 0 converged.\n",
      "[ Info: MCMC Tuning cycle 8 finished, 10 chains, 7 tuned, 0 converged.\n",
      "[ Info: MCMC Tuning cycle 32 finished, 10 chains, 10 tuned, 0 converged.\n",
      "[ Info: MCMC Tuning cycle 9 finished, 10 chains, 6 tuned, 0 converged.\n",
      "[ Info: MCMC Tuning cycle 6 finished, 10 chains, 3 tuned, 0 converged.\n",
      "[ Info: MCMC Tuning cycle 33 finished, 10 chains, 10 tuned, 0 converged.\n",
      "[ Info: MCMC Tuning cycle 7 finished, 10 chains, 4 tuned, 0 converged.\n",
      "[ Info: MCMC Tuning cycle 10 finished, 10 chains, 10 tuned, 10 converged.\n",
      "[ Info: MCMC tuning of 10 chains successful after 10 cycle(s).\n",
      "[ Info: MCMC Tuning cycle 34 finished, 10 chains, 9 tuned, 10 converged.\n",
      "[ Info: MCMC Tuning cycle 8 finished, 10 chains, 9 tuned, 0 converged.\n",
      "[ Info: MCMC Tuning cycle 9 finished, 10 chains, 9 tuned, 0 converged.\n",
      "[ Info: MCMC Tuning cycle 35 finished, 10 chains, 10 tuned, 10 converged.\n",
      "[ Info: MCMC tuning of 10 chains successful after 35 cycle(s).\n"
     ]
    },
    {
     "name": "stdout",
     "output_type": "stream",
     "text": [
      "Progress: 100%|█████████████████████████████████████████| Time: 0:00:01\u001b[K\n"
     ]
    },
    {
     "name": "stderr",
     "output_type": "stream",
     "text": [
      "[ Info: MCMC Tuning cycle 10 finished, 10 chains, 9 tuned, 0 converged.\n",
      "[ Info: Updating 55 Hyperrectangles using 8 thread(s)\n",
      "[ Info: Integrating 55 Hyperrectangles\n",
      "[ Info: Estimating Uncertainty (cov. weighted result)\n",
      "[ Info: BATPar: Sampling subspace 30:\n",
      "[ Info: Trying to generate 10 viable MCMC chain(s).\n",
      "[ Info: MCMC Tuning cycle 11 finished, 10 chains, 9 tuned, 0 converged.\n",
      "[ Info: Selected 10 MCMC chain(s).\n",
      "[ Info: Begin tuning of 10 MCMC chain(s).\n",
      "[ Info: MCMC Tuning cycle 12 finished, 10 chains, 9 tuned, 10 converged.\n",
      "[ Info: MCMC Tuning cycle 13 finished, 10 chains, 10 tuned, 0 converged.\n",
      "[ Info: MCMC Tuning cycle 1 finished, 10 chains, 0 tuned, 0 converged.\n",
      "[ Info: MCMC Tuning cycle 14 finished, 10 chains, 9 tuned, 10 converged.\n",
      "[ Info: MCMC Tuning cycle 2 finished, 10 chains, 0 tuned, 0 converged.\n",
      "[ Info: MCMC Tuning cycle 15 finished, 10 chains, 9 tuned, 10 converged.\n",
      "[ Info: MCMC Tuning cycle 3 finished, 10 chains, 0 tuned, 0 converged.\n",
      "[ Info: MCMC Tuning cycle 16 finished, 10 chains, 10 tuned, 10 converged.\n",
      "[ Info: MCMC tuning of 10 chains successful after 16 cycle(s).\n",
      "[ Info: MCMC Tuning cycle 4 finished, 10 chains, 1 tuned, 0 converged.\n",
      "[ Info: MCMC Tuning cycle 5 finished, 10 chains, 0 tuned, 0 converged.\n",
      "[ Info: MCMC Tuning cycle 6 finished, 10 chains, 4 tuned, 10 converged.\n",
      "[ Info: MCMC Tuning cycle 7 finished, 10 chains, 7 tuned, 0 converged.\n",
      "[ Info: MCMC Tuning cycle 8 finished, 10 chains, 9 tuned, 10 converged.\n",
      "[ Info: MCMC Tuning cycle 9 finished, 10 chains, 9 tuned, 10 converged.\n",
      "[ Info: MCMC Tuning cycle 10 finished, 10 chains, 10 tuned, 10 converged.\n",
      "[ Info: MCMC tuning of 10 chains successful after 10 cycle(s).\n",
      "[ Info: Harmonic Mean Integration started. Samples in dataset 1 / 2: \t50000 / 49999\tParameters:\t6\n",
      "[ Info: Data Whitening.\n",
      "[ Info: Apply Whitening Transformation to Data Set 2\n",
      "[ Info: Create Space Partitioning Tree\n",
      "[ Info: Harmonic Mean Integration started. Samples in dataset 1 / 2: \t50000 / 49999\tParameters:\t6\n",
      "[ Info: Data Whitening.\n",
      "[ Info: Determine Hyperrectangle Starting Samples\n",
      "[ Info: Apply Whitening Transformation to Data Set 2\n",
      "[ Info: Create Space Partitioning Tree\n",
      "[ Info: Determine Tolerances for Hyperrectangle Creation\n",
      "[ Info: Determine Hyperrectangle Starting Samples\n",
      "[ Info: Determine Tolerances for Hyperrectangle Creation\n",
      "[ Info: Harmonic Mean Integration started. Samples in dataset 1 / 2: \t50000 / 49999\tParameters:\t6\n",
      "[ Info: Data Whitening.\n",
      "[ Info: Apply Whitening Transformation to Data Set 2\n",
      "[ Info: Create Space Partitioning Tree\n",
      "[ Info: Create 55 Hyperrectangles using 8 thread(s)\n",
      "[ Info: Determine Hyperrectangle Starting Samples\n",
      "[ Info: Determine Tolerances for Hyperrectangle Creation\n",
      "[ Info: Create 51 Hyperrectangles using 8 thread(s)\n"
     ]
    },
    {
     "name": "stdout",
     "output_type": "stream",
     "text": [
      "Progress: 100%|█████████████████████████████████████████| Time: 0:00:00\u001b[K\n"
     ]
    },
    {
     "name": "stderr",
     "output_type": "stream",
     "text": [
      "[ Info: Harmonic Mean Integration started. Samples in dataset 1 / 2: \t50000 / 49999\tParameters:\t6\n",
      "[ Info: Data Whitening.\n",
      "[ Info: Apply Whitening Transformation to Data Set 2\n",
      "[ Info: Create Space Partitioning Tree\n",
      "[ Info: Updating 51 Hyperrectangles using 8 thread(s)\n",
      "[ Info: Integrating 51 Hyperrectangles\n",
      "[ Info: Create 53 Hyperrectangles using 8 thread(s)\n"
     ]
    },
    {
     "name": "stdout",
     "output_type": "stream",
     "text": [
      "Progress: 100%|█████████████████████████████████████████| Time: 0:00:00\u001b[K\n"
     ]
    },
    {
     "name": "stderr",
     "output_type": "stream",
     "text": [
      "[ Info: Determine Hyperrectangle Starting Samples\n",
      "[ Info: Estimating Uncertainty (cov. weighted result)\n",
      "[ Info: BATPar: Sampling subspace 31:\n",
      "[ Info: Trying to generate 10 viable MCMC chain(s).\n",
      "[ Info: Selected 10 MCMC chain(s).\n",
      "[ Info: Begin tuning of 10 MCMC chain(s).\n",
      "[ Info: MCMC Tuning cycle 1 finished, 10 chains, 0 tuned, 0 converged.\n",
      "[ Info: Determine Tolerances for Hyperrectangle Creation\n"
     ]
    },
    {
     "name": "stdout",
     "output_type": "stream",
     "text": [
      "Progress: 100%|█████████████████████████████████████████| Time: 0:00:00\u001b[K\n"
     ]
    },
    {
     "name": "stderr",
     "output_type": "stream",
     "text": [
      "[ Info: MCMC Tuning cycle 2 finished, 10 chains, 0 tuned, 0 converged.\n",
      "[ Info: MCMC Tuning cycle 3 finished, 10 chains, 0 tuned, 0 converged.\n",
      "[ Info: Updating 55 Hyperrectangles using 8 thread(s)\n",
      "[ Info: Integrating 55 Hyperrectangles\n",
      "[ Info: Estimating Uncertainty (cov. weighted result)\n",
      "[ Info: BATPar: Sampling subspace 32:\n",
      "[ Info: Trying to generate 10 viable MCMC chain(s).\n",
      "[ Info: Selected 10 MCMC chain(s).\n",
      "[ Info: Begin tuning of 10 MCMC chain(s).\n",
      "[ Info: MCMC Tuning cycle 1 finished, 10 chains, 0 tuned, 0 converged.\n",
      "[ Info: MCMC Tuning cycle 2 finished, 10 chains, 0 tuned, 0 converged.\n",
      "[ Info: MCMC Tuning cycle 3 finished, 10 chains, 1 tuned, 0 converged.\n",
      "[ Info: MCMC Tuning cycle 4 finished, 10 chains, 0 tuned, 0 converged.\n",
      "[ Info: MCMC Tuning cycle 5 finished, 10 chains, 0 tuned, 10 converged.\n",
      "[ Info: MCMC Tuning cycle 4 finished, 10 chains, 1 tuned, 0 converged.\n"
     ]
    },
    {
     "name": "stdout",
     "output_type": "stream",
     "text": [
      "Progress: 100%|█████████████████████████████████████████| Time: 0:00:00\u001b[K\n"
     ]
    },
    {
     "name": "stderr",
     "output_type": "stream",
     "text": [
      "[ Info: Create 100 Hyperrectangles using 8 thread(s)\n",
      "[ Info: MCMC Tuning cycle 6 finished, 10 chains, 5 tuned, 10 converged.\n",
      "[ Info: Updating 53 Hyperrectangles using 8 thread(s)\n",
      "[ Info: MCMC Tuning cycle 5 finished, 10 chains, 2 tuned, 0 converged.\n",
      "[ Info: Integrating 53 Hyperrectangles\n",
      "[ Info: Estimating Uncertainty (cov. weighted result)\n",
      "[ Info: BATPar: Sampling subspace 33:\n",
      "[ Info: Trying to generate 10 viable MCMC chain(s).\n",
      "[ Info: MCMC Tuning cycle 7 finished, 10 chains, 7 tuned, 0 converged.\n",
      "[ Info: MCMC Tuning cycle 6 finished, 10 chains, 3 tuned, 0 converged.\n",
      "[ Info: MCMC Tuning cycle 8 finished, 10 chains, 10 tuned, 0 converged.\n",
      "[ Info: MCMC Tuning cycle 9 finished, 10 chains, 7 tuned, 0 converged.\n",
      "[ Info: MCMC Tuning cycle 7 finished, 10 chains, 8 tuned, 0 converged.\n",
      "[ Info: MCMC Tuning cycle 10 finished, 10 chains, 10 tuned, 0 converged.\n",
      "[ Info: MCMC Tuning cycle 8 finished, 10 chains, 9 tuned, 0 converged.\n",
      "[ Info: MCMC Tuning cycle 11 finished, 10 chains, 10 tuned, 10 converged.\n",
      "[ Info: MCMC tuning of 10 chains successful after 11 cycle(s).\n",
      "[ Info: Selected 10 MCMC chain(s).\n",
      "[ Info: Begin tuning of 10 MCMC chain(s).\n",
      "[ Info: MCMC Tuning cycle 9 finished, 10 chains, 10 tuned, 10 converged.\n",
      "[ Info: MCMC tuning of 10 chains successful after 9 cycle(s).\n",
      "[ Info: MCMC Tuning cycle 1 finished, 10 chains, 0 tuned, 0 converged.\n",
      "[ Info: MCMC Tuning cycle 2 finished, 10 chains, 0 tuned, 0 converged.\n",
      "[ Info: MCMC Tuning cycle 3 finished, 10 chains, 0 tuned, 0 converged.\n",
      "[ Info: MCMC Tuning cycle 4 finished, 10 chains, 0 tuned, 0 converged.\n",
      "[ Info: MCMC Tuning cycle 5 finished, 10 chains, 0 tuned, 0 converged.\n",
      "[ Info: MCMC Tuning cycle 6 finished, 10 chains, 1 tuned, 0 converged.\n",
      "[ Info: MCMC Tuning cycle 7 finished, 10 chains, 5 tuned, 0 converged.\n",
      "[ Info: MCMC Tuning cycle 8 finished, 10 chains, 7 tuned, 0 converged.\n",
      "[ Info: MCMC Tuning cycle 9 finished, 10 chains, 9 tuned, 10 converged.\n",
      "[ Info: MCMC Tuning cycle 10 finished, 10 chains, 10 tuned, 0 converged.\n"
     ]
    },
    {
     "name": "stdout",
     "output_type": "stream",
     "text": [
      "Progress: 100%|█████████████████████████████████████████| Time: 0:00:02\u001b[K\n"
     ]
    },
    {
     "name": "stderr",
     "output_type": "stream",
     "text": [
      "[ Info: Updating 100 Hyperrectangles using 8 thread(s)\n",
      "[ Info: Integrating 100 Hyperrectangles\n"
     ]
    },
    {
     "name": "stdout",
     "output_type": "stream",
     "text": [
      "Progress: 100%|█████████████████████████████████████████| Time: 0:00:00\u001b[K\n"
     ]
    },
    {
     "name": "stderr",
     "output_type": "stream",
     "text": [
      "[ Info: Estimating Uncertainty (cov. weighted result)\n",
      "[ Info: BATPar: Sampling subspace 34:\n",
      "[ Info: Trying to generate 10 viable MCMC chain(s).\n",
      "[ Info: MCMC Tuning cycle 11 finished, 10 chains, 10 tuned, 10 converged.\n",
      "[ Info: Selected 10 MCMC chain(s).\n",
      "[ Info: Begin tuning of 10 MCMC chain(s).\n",
      "[ Info: MCMC tuning of 10 chains successful after 11 cycle(s).\n",
      "[ Info: MCMC Tuning cycle 1 finished, 10 chains, 0 tuned, 0 converged.\n",
      "[ Info: MCMC Tuning cycle 2 finished, 10 chains, 0 tuned, 0 converged.\n",
      "[ Info: MCMC Tuning cycle 3 finished, 10 chains, 0 tuned, 0 converged.\n",
      "[ Info: MCMC Tuning cycle 4 finished, 10 chains, 0 tuned, 0 converged.\n",
      "[ Info: MCMC Tuning cycle 5 finished, 10 chains, 1 tuned, 0 converged.\n",
      "[ Info: Harmonic Mean Integration started. Samples in dataset 1 / 2: \t50000 / 49999\tParameters:\t6\n",
      "[ Info: Data Whitening.\n",
      "[ Info: Apply Whitening Transformation to Data Set 2\n",
      "[ Info: Create Space Partitioning Tree\n",
      "[ Info: Determine Hyperrectangle Starting Samples\n",
      "[ Info: MCMC Tuning cycle 6 finished, 10 chains, 2 tuned, 0 converged.\n",
      "[ Info: Determine Tolerances for Hyperrectangle Creation\n",
      "[ Info: Harmonic Mean Integration started. Samples in dataset 1 / 2: \t50000 / 49999\tParameters:\t6\n",
      "[ Info: Data Whitening.\n",
      "[ Info: Apply Whitening Transformation to Data Set 2\n",
      "[ Info: Create Space Partitioning Tree\n",
      "[ Info: MCMC Tuning cycle 7 finished, 10 chains, 4 tuned, 0 converged.\n",
      "[ Info: Determine Hyperrectangle Starting Samples\n",
      "[ Info: MCMC Tuning cycle 8 finished, 10 chains, 7 tuned, 0 converged.\n",
      "[ Info: Determine Tolerances for Hyperrectangle Creation\n",
      "[ Info: MCMC Tuning cycle 9 finished, 10 chains, 10 tuned, 10 converged.\n",
      "[ Info: MCMC tuning of 10 chains successful after 9 cycle(s).\n",
      "[ Info: Create 63 Hyperrectangles using 8 thread(s)\n",
      "[ Info: Create 93 Hyperrectangles using 8 thread(s)\n",
      "[ Info: Harmonic Mean Integration started. Samples in dataset 1 / 2: \t50000 / 49999\tParameters:\t6\n",
      "[ Info: Data Whitening.\n",
      "[ Info: Apply Whitening Transformation to Data Set 2\n",
      "[ Info: Create Space Partitioning Tree\n"
     ]
    },
    {
     "name": "stdout",
     "output_type": "stream",
     "text": [
      "Progress: 100%|█████████████████████████████████████████| Time: 0:00:00\u001b[K\n",
      "Progress: 100%|█████████████████████████████████████████| Time: 0:00:01\u001b[K\n"
     ]
    },
    {
     "name": "stderr",
     "output_type": "stream",
     "text": [
      "[ Info: Determine Hyperrectangle Starting Samples\n",
      "[ Info: Determine Tolerances for Hyperrectangle Creation\n",
      "[ Info: Updating 63 Hyperrectangles using 8 thread(s)\n",
      "[ Info: Integrating 63 Hyperrectangles\n",
      "[ Info: Estimating Uncertainty (cov. weighted result)\n",
      "[ Info: BATPar: Sampling subspace 35:\n",
      "[ Info: Trying to generate 10 viable MCMC chain(s).\n",
      "[ Info: Selected 10 MCMC chain(s).\n",
      "[ Info: Begin tuning of 10 MCMC chain(s).\n",
      "[ Info: MCMC Tuning cycle 1 finished, 10 chains, 0 tuned, 0 converged.\n",
      "[ Info: MCMC Tuning cycle 2 finished, 10 chains, 0 tuned, 0 converged.\n",
      "[ Info: MCMC Tuning cycle 3 finished, 10 chains, 0 tuned, 0 converged.\n",
      "[ Info: MCMC Tuning cycle 4 finished, 10 chains, 0 tuned, 0 converged.\n",
      "[ Info: MCMC Tuning cycle 5 finished, 10 chains, 2 tuned, 10 converged.\n",
      "[ Info: MCMC Tuning cycle 6 finished, 10 chains, 2 tuned, 10 converged.\n",
      "[ Info: MCMC Tuning cycle 7 finished, 10 chains, 7 tuned, 10 converged.\n",
      "[ Info: Create 73 Hyperrectangles using 8 thread(s)\n"
     ]
    },
    {
     "name": "stdout",
     "output_type": "stream",
     "text": [
      "Progress: 100%|█████████████████████████████████████████| Time: 0:00:02\u001b[K\n"
     ]
    },
    {
     "name": "stderr",
     "output_type": "stream",
     "text": [
      "[ Info: MCMC Tuning cycle 8 finished, 10 chains, 10 tuned, 10 converged.\n",
      "[ Info: MCMC tuning of 10 chains successful after 8 cycle(s).\n",
      "[ Info: Updating 93 Hyperrectangles using 8 thread(s)\n",
      "[ Info: Integrating 93 Hyperrectangles\n"
     ]
    },
    {
     "name": "stdout",
     "output_type": "stream",
     "text": [
      "Progress: 100%|█████████████████████████████████████████| Time: 0:00:00\u001b[K\n"
     ]
    },
    {
     "name": "stderr",
     "output_type": "stream",
     "text": [
      "[ Info: Estimating Uncertainty (cov. weighted result)\n",
      "[ Info: BATPar: Sampling subspace 36:\n",
      "[ Info: Trying to generate 10 viable MCMC chain(s).\n",
      "[ Info: Selected 10 MCMC chain(s).\n",
      "[ Info: Begin tuning of 10 MCMC chain(s).\n",
      "[ Info: MCMC Tuning cycle 1 finished, 10 chains, 0 tuned, 0 converged.\n",
      "[ Info: Harmonic Mean Integration started. Samples in dataset 1 / 2: \t50000 / 49999\tParameters:\t6\n",
      "[ Info: Data Whitening.\n",
      "[ Info: Apply Whitening Transformation to Data Set 2\n",
      "[ Info: Create Space Partitioning Tree\n",
      "[ Info: MCMC Tuning cycle 2 finished, 10 chains, 0 tuned, 0 converged.\n",
      "[ Info: Determine Hyperrectangle Starting Samples\n",
      "[ Info: MCMC Tuning cycle 3 finished, 10 chains, 0 tuned, 0 converged.\n",
      "[ Info: Determine Tolerances for Hyperrectangle Creation\n",
      "[ Info: MCMC Tuning cycle 4 finished, 10 chains, 0 tuned, 0 converged.\n",
      "[ Info: MCMC Tuning cycle 5 finished, 10 chains, 0 tuned, 0 converged.\n"
     ]
    },
    {
     "name": "stdout",
     "output_type": "stream",
     "text": [
      "Progress: 100%|█████████████████████████████████████████| Time: 0:00:01\u001b[K\n"
     ]
    },
    {
     "name": "stderr",
     "output_type": "stream",
     "text": [
      "[ Info: MCMC Tuning cycle 6 finished, 10 chains, 1 tuned, 0 converged.\n",
      "[ Info: MCMC Tuning cycle 7 finished, 10 chains, 3 tuned, 0 converged.\n",
      "[ Info: MCMC Tuning cycle 8 finished, 10 chains, 6 tuned, 10 converged.\n",
      "[ Info: Updating 73 Hyperrectangles using 8 thread(s)\n",
      "[ Info: Integrating 73 Hyperrectangles\n"
     ]
    },
    {
     "name": "stdout",
     "output_type": "stream",
     "text": [
      "Progress: 100%|█████████████████████████████████████████| Time: 0:00:00\u001b[K\n"
     ]
    },
    {
     "name": "stderr",
     "output_type": "stream",
     "text": [
      "[ Info: MCMC Tuning cycle 9 finished, 10 chains, 9 tuned, 0 converged.\n",
      "[ Info: Estimating Uncertainty (cov. weighted result)\n",
      "[ Info: BATPar: Sampling subspace 37:\n",
      "[ Info: Trying to generate 10 viable MCMC chain(s).\n",
      "[ Info: Selected 10 MCMC chain(s).\n",
      "[ Info: Begin tuning of 10 MCMC chain(s).\n",
      "[ Info: MCMC Tuning cycle 1 finished, 10 chains, 0 tuned, 0 converged.\n",
      "[ Info: MCMC Tuning cycle 2 finished, 10 chains, 0 tuned, 0 converged.\n",
      "[ Info: MCMC Tuning cycle 3 finished, 10 chains, 0 tuned, 0 converged.\n",
      "[ Info: MCMC Tuning cycle 4 finished, 10 chains, 0 tuned, 0 converged.\n",
      "[ Info: MCMC Tuning cycle 10 finished, 10 chains, 10 tuned, 0 converged.\n",
      "[ Info: Create 74 Hyperrectangles using 8 thread(s)\n",
      "[ Info: MCMC Tuning cycle 5 finished, 10 chains, 0 tuned, 10 converged.\n",
      "[ Info: MCMC Tuning cycle 11 finished, 10 chains, 10 tuned, 0 converged.\n",
      "[ Info: MCMC Tuning cycle 12 finished, 10 chains, 9 tuned, 10 converged.\n",
      "[ Info: Harmonic Mean Integration started. Samples in dataset 1 / 2: \t50000 / 49999\tParameters:\t6\n",
      "[ Info: Data Whitening.\n",
      "[ Info: MCMC Tuning cycle 13 finished, 10 chains, 9 tuned, 0 converged.\n",
      "[ Info: Apply Whitening Transformation to Data Set 2\n",
      "[ Info: Create Space Partitioning Tree\n",
      "[ Info: MCMC Tuning cycle 14 finished, 10 chains, 10 tuned, 0 converged.\n",
      "[ Info: MCMC Tuning cycle 6 finished, 10 chains, 4 tuned, 10 converged.\n"
     ]
    },
    {
     "name": "stdout",
     "output_type": "stream",
     "text": [
      "Progress: 100%|█████████████████████████████████████████| Time: 0:00:00\u001b[K\n"
     ]
    },
    {
     "name": "stderr",
     "output_type": "stream",
     "text": [
      "[ Info: MCMC Tuning cycle 7 finished, 10 chains, 7 tuned, 10 converged.\n",
      "[ Info: MCMC Tuning cycle 15 finished, 10 chains, 9 tuned, 0 converged.\n",
      "[ Info: Determine Hyperrectangle Starting Samples\n",
      "[ Info: MCMC Tuning cycle 16 finished, 10 chains, 10 tuned, 10 converged.\n",
      "[ Info: MCMC tuning of 10 chains successful after 16 cycle(s).\n",
      "[ Info: MCMC Tuning cycle 8 finished, 10 chains, 10 tuned, 10 converged.\n",
      "[ Info: MCMC tuning of 10 chains successful after 8 cycle(s).\n",
      "[ Info: Determine Tolerances for Hyperrectangle Creation\n"
     ]
    },
    {
     "name": "stdout",
     "output_type": "stream",
     "text": [
      "Progress: 100%|█████████████████████████████████████████| Time: 0:00:01\u001b[K\n"
     ]
    },
    {
     "name": "stderr",
     "output_type": "stream",
     "text": [
      "[ Info: Create 110 Hyperrectangles using 8 thread(s)\n",
      "[ Info: Updating 74 Hyperrectangles using 8 thread(s)\n"
     ]
    },
    {
     "name": "stdout",
     "output_type": "stream",
     "text": [
      "Progress: 100%|█████████████████████████████████████████| Time: 0:00:00\u001b[K\n"
     ]
    },
    {
     "name": "stderr",
     "output_type": "stream",
     "text": [
      "[ Info: Integrating 74 Hyperrectangles\n"
     ]
    },
    {
     "name": "stdout",
     "output_type": "stream",
     "text": [
      "Progress: 100%|█████████████████████████████████████████| Time: 0:00:00\u001b[K\n"
     ]
    },
    {
     "name": "stderr",
     "output_type": "stream",
     "text": [
      "[ Info: Estimating Uncertainty (cov. weighted result)\n",
      "[ Info: BATPar: Sampling subspace 38:\n",
      "[ Info: Trying to generate 10 viable MCMC chain(s).\n",
      "[ Info: Selected 10 MCMC chain(s).\n",
      "[ Info: Begin tuning of 10 MCMC chain(s).\n",
      "[ Info: MCMC Tuning cycle 1 finished, 10 chains, 0 tuned, 0 converged.\n",
      "[ Info: MCMC Tuning cycle 2 finished, 10 chains, 0 tuned, 0 converged.\n",
      "[ Info: MCMC Tuning cycle 3 finished, 10 chains, 0 tuned, 0 converged.\n",
      "[ Info: MCMC Tuning cycle 4 finished, 10 chains, 0 tuned, 10 converged.\n"
     ]
    },
    {
     "name": "stdout",
     "output_type": "stream",
     "text": [
      "Progress: 100%|█████████████████████████████████████████| Time: 0:00:01\u001b[K\n"
     ]
    },
    {
     "name": "stderr",
     "output_type": "stream",
     "text": [
      "[ Info: Updating 110 Hyperrectangles using 8 thread(s)\n",
      "[ Info: Integrating 110 Hyperrectangles\n",
      "[ Info: MCMC Tuning cycle 5 finished, 10 chains, 3 tuned, 10 converged.\n",
      "[ Info: Estimating Uncertainty (cov. weighted result)\n",
      "[ Info: BATPar: Sampling subspace 39:\n",
      "[ Info: Trying to generate 10 viable MCMC chain(s).\n",
      "[ Info: MCMC Tuning cycle 6 finished, 10 chains, 6 tuned, 10 converged.\n",
      "[ Info: Selected 10 MCMC chain(s).\n",
      "[ Info: Begin tuning of 10 MCMC chain(s).\n",
      "[ Info: MCMC Tuning cycle 7 finished, 10 chains, 8 tuned, 10 converged.\n",
      "[ Info: MCMC Tuning cycle 1 finished, 10 chains, 0 tuned, 0 converged.\n",
      "[ Info: MCMC Tuning cycle 8 finished, 10 chains, 10 tuned, 0 converged.\n",
      "[ Info: MCMC Tuning cycle 2 finished, 10 chains, 0 tuned, 0 converged.\n",
      "[ Info: MCMC Tuning cycle 9 finished, 10 chains, 10 tuned, 10 converged.\n",
      "[ Info: MCMC tuning of 10 chains successful after 9 cycle(s).\n",
      "[ Info: MCMC Tuning cycle 3 finished, 10 chains, 0 tuned, 0 converged.\n",
      "[ Info: MCMC Tuning cycle 4 finished, 10 chains, 1 tuned, 0 converged.\n",
      "[ Info: Harmonic Mean Integration started. Samples in dataset 1 / 2: \t50000 / 49999\tParameters:\t6\n",
      "[ Info: Data Whitening.\n",
      "[ Info: Apply Whitening Transformation to Data Set 2\n",
      "[ Info: Create Space Partitioning Tree\n",
      "[ Info: Determine Hyperrectangle Starting Samples\n",
      "[ Info: MCMC Tuning cycle 5 finished, 10 chains, 3 tuned, 0 converged.\n",
      "[ Info: Determine Tolerances for Hyperrectangle Creation\n",
      "[ Info: MCMC Tuning cycle 6 finished, 10 chains, 6 tuned, 0 converged.\n",
      "[ Info: Harmonic Mean Integration started. Samples in dataset 1 / 2: \t50000 / 49999\tParameters:\t6\n",
      "[ Info: Data Whitening.\n",
      "[ Info: Apply Whitening Transformation to Data Set 2\n",
      "[ Info: Create Space Partitioning Tree\n",
      "[ Info: MCMC Tuning cycle 7 finished, 10 chains, 8 tuned, 10 converged.\n",
      "[ Info: Determine Hyperrectangle Starting Samples\n",
      "[ Info: MCMC Tuning cycle 8 finished, 10 chains, 6 tuned, 10 converged.\n",
      "[ Info: MCMC Tuning cycle 9 finished, 10 chains, 9 tuned, 10 converged.\n",
      "[ Info: Determine Tolerances for Hyperrectangle Creation\n",
      "[ Info: MCMC Tuning cycle 10 finished, 10 chains, 10 tuned, 10 converged.\n",
      "[ Info: MCMC tuning of 10 chains successful after 10 cycle(s).\n",
      "[ Info: Create 84 Hyperrectangles using 8 thread(s)\n",
      "[ Info: Create 122 Hyperrectangles using 8 thread(s)\n"
     ]
    },
    {
     "name": "stdout",
     "output_type": "stream",
     "text": [
      "Progress: 100%|█████████████████████████████████████████| Time: 0:00:01\u001b[K\n"
     ]
    },
    {
     "name": "stderr",
     "output_type": "stream",
     "text": [
      "[ Info: Harmonic Mean Integration started. Samples in dataset 1 / 2: \t50000 / 49999\tParameters:\t6\n",
      "[ Info: Data Whitening.\n",
      "[ Info: Apply Whitening Transformation to Data Set 2\n",
      "[ Info: Create Space Partitioning Tree\n",
      "[ Info: Updating 84 Hyperrectangles using 8 thread(s)\n",
      "[ Info: Determine Hyperrectangle Starting Samples\n",
      "[ Info: Integrating 84 Hyperrectangles\n"
     ]
    },
    {
     "name": "stdout",
     "output_type": "stream",
     "text": [
      "Progress: 100%|█████████████████████████████████████████| Time: 0:00:00\u001b[K\n"
     ]
    },
    {
     "name": "stderr",
     "output_type": "stream",
     "text": [
      "[ Info: Estimating Uncertainty (cov. weighted result)\n",
      "[ Info: BATPar: Sampling subspace 40:\n",
      "[ Info: Trying to generate 10 viable MCMC chain(s).\n",
      "[ Info: Selected 10 MCMC chain(s).\n",
      "[ Info: Begin tuning of 10 MCMC chain(s).\n",
      "[ Info: Determine Tolerances for Hyperrectangle Creation\n",
      "[ Info: MCMC Tuning cycle 1 finished, 10 chains, 0 tuned, 0 converged.\n",
      "[ Info: MCMC Tuning cycle 2 finished, 10 chains, 0 tuned, 0 converged.\n",
      "[ Info: MCMC Tuning cycle 3 finished, 10 chains, 0 tuned, 0 converged.\n",
      "[ Info: MCMC Tuning cycle 4 finished, 10 chains, 0 tuned, 0 converged.\n",
      "[ Info: MCMC Tuning cycle 5 finished, 10 chains, 2 tuned, 0 converged.\n",
      "[ Info: MCMC Tuning cycle 6 finished, 10 chains, 2 tuned, 10 converged.\n",
      "[ Info: MCMC Tuning cycle 7 finished, 10 chains, 7 tuned, 10 converged.\n",
      "[ Info: MCMC Tuning cycle 8 finished, 10 chains, 10 tuned, 0 converged.\n",
      "[ Info: MCMC Tuning cycle 9 finished, 10 chains, 8 tuned, 0 converged.\n"
     ]
    },
    {
     "name": "stdout",
     "output_type": "stream",
     "text": [
      "Progress: 100%|█████████████████████████████████████████| Time: 0:00:02\u001b[K\n"
     ]
    },
    {
     "name": "stderr",
     "output_type": "stream",
     "text": [
      "[ Info: MCMC Tuning cycle 10 finished, 10 chains, 9 tuned, 10 converged.\n",
      "[ Info: Updating 122 Hyperrectangles using 8 thread(s)\n",
      "[ Info: Integrating 122 Hyperrectangles\n"
     ]
    },
    {
     "name": "stdout",
     "output_type": "stream",
     "text": [
      "Progress: 100%|█████████████████████████████████████████| Time: 0:00:00\u001b[K\n"
     ]
    },
    {
     "name": "stderr",
     "output_type": "stream",
     "text": [
      "[ Info: Estimating Uncertainty (cov. weighted result)\n",
      "[ Info: Create 136 Hyperrectangles using 8 thread(s)\n",
      "[ Info: BATPar: Sampling subspace 41:\n",
      "[ Info: Trying to generate 10 viable MCMC chain(s).\n",
      "[ Info: Selected 10 MCMC chain(s).\n",
      "[ Info: Begin tuning of 10 MCMC chain(s).\n",
      "[ Info: MCMC Tuning cycle 1 finished, 10 chains, 0 tuned, 0 converged.\n",
      "[ Info: Harmonic Mean Integration started. Samples in dataset 1 / 2: \t50000 / 49999\tParameters:\t6\n",
      "[ Info: Data Whitening.\n",
      "[ Info: Apply Whitening Transformation to Data Set 2\n",
      "[ Info: Create Space Partitioning Tree\n",
      "[ Info: MCMC Tuning cycle 2 finished, 10 chains, 0 tuned, 0 converged.\n",
      "[ Info: Determine Hyperrectangle Starting Samples\n",
      "[ Info: MCMC Tuning cycle 11 finished, 10 chains, 10 tuned, 10 converged.\n",
      "[ Info: MCMC tuning of 10 chains successful after 11 cycle(s).\n"
     ]
    },
    {
     "name": "stdout",
     "output_type": "stream",
     "text": [
      "Progress: 100%|█████████████████████████████████████████| Time: 0:00:00\u001b[K\n"
     ]
    },
    {
     "name": "stderr",
     "output_type": "stream",
     "text": [
      "[ Info: Determine Tolerances for Hyperrectangle Creation\n",
      "[ Info: MCMC Tuning cycle 3 finished, 10 chains, 0 tuned, 0 converged.\n",
      "[ Info: MCMC Tuning cycle 4 finished, 10 chains, 0 tuned, 0 converged.\n",
      "[ Info: MCMC Tuning cycle 5 finished, 10 chains, 3 tuned, 0 converged.\n",
      "[ Info: MCMC Tuning cycle 6 finished, 10 chains, 8 tuned, 10 converged.\n",
      "[ Info: MCMC Tuning cycle 7 finished, 10 chains, 8 tuned, 10 converged.\n",
      "[ Info: MCMC Tuning cycle 8 finished, 10 chains, 9 tuned, 10 converged.\n",
      "[ Info: MCMC Tuning cycle 9 finished, 10 chains, 9 tuned, 10 converged.\n",
      "[ Info: MCMC Tuning cycle 10 finished, 10 chains, 10 tuned, 0 converged.\n",
      "[ Info: Create 118 Hyperrectangles using 8 thread(s)\n",
      "[ Info: MCMC Tuning cycle 11 finished, 10 chains, 10 tuned, 10 converged.\n",
      "[ Info: MCMC tuning of 10 chains successful after 11 cycle(s).\n"
     ]
    },
    {
     "name": "stdout",
     "output_type": "stream",
     "text": [
      "Progress: 100%|█████████████████████████████████████████| Time: 0:00:05\u001b[K\n"
     ]
    },
    {
     "name": "stderr",
     "output_type": "stream",
     "text": [
      "[ Info: Harmonic Mean Integration started. Samples in dataset 1 / 2: \t50000 / 49999\tParameters:\t6\n",
      "[ Info: Data Whitening.\n",
      "[ Info: Updating 136 Hyperrectangles using 8 thread(s)\n",
      "[ Info: Apply Whitening Transformation to Data Set 2\n",
      "[ Info: Create Space Partitioning Tree\n"
     ]
    },
    {
     "name": "stdout",
     "output_type": "stream",
     "text": [
      "Progress: 100%|█████████████████████████████████████████| Time: 0:00:00\u001b[K\n"
     ]
    },
    {
     "name": "stderr",
     "output_type": "stream",
     "text": [
      "[ Info: Integrating 136 Hyperrectangles\n",
      "[ Info: Determine Hyperrectangle Starting Samples\n"
     ]
    },
    {
     "name": "stdout",
     "output_type": "stream",
     "text": [
      "Progress: 100%|█████████████████████████████████████████| Time: 0:00:00\u001b[K\n",
      "Progress: 100%|█████████████████████████████████████████| Time: 0:00:00\u001b[K\n"
     ]
    },
    {
     "name": "stderr",
     "output_type": "stream",
     "text": [
      "[ Info: Estimating Uncertainty (cov. weighted result)\n",
      "[ Info: BATPar: Sampling subspace 42:\n",
      "[ Info: Trying to generate 10 viable MCMC chain(s).\n",
      "[ Info: Determine Tolerances for Hyperrectangle Creation\n",
      "[ Info: Selected 10 MCMC chain(s).\n",
      "[ Info: Begin tuning of 10 MCMC chain(s).\n",
      "[ Info: MCMC Tuning cycle 1 finished, 10 chains, 0 tuned, 0 converged.\n",
      "[ Info: MCMC Tuning cycle 2 finished, 10 chains, 0 tuned, 0 converged.\n",
      "[ Info: MCMC Tuning cycle 3 finished, 10 chains, 0 tuned, 0 converged.\n",
      "[ Info: MCMC Tuning cycle 4 finished, 10 chains, 0 tuned, 10 converged.\n",
      "[ Info: MCMC Tuning cycle 5 finished, 10 chains, 4 tuned, 10 converged.\n",
      "[ Info: MCMC Tuning cycle 6 finished, 10 chains, 6 tuned, 10 converged.\n"
     ]
    },
    {
     "name": "stdout",
     "output_type": "stream",
     "text": [
      "Progress: 100%|█████████████████████████████████████████| Time: 0:00:04\u001b[K\n"
     ]
    },
    {
     "name": "stderr",
     "output_type": "stream",
     "text": [
      "[ Info: MCMC Tuning cycle 7 finished, 10 chains, 9 tuned, 10 converged.\n",
      "[ Info: Create 119 Hyperrectangles using 8 thread(s)\n",
      "[ Info: MCMC Tuning cycle 8 finished, 10 chains, 10 tuned, 10 converged.\n",
      "[ Info: MCMC tuning of 10 chains successful after 8 cycle(s).\n",
      "[ Info: Updating 118 Hyperrectangles using 8 thread(s)\n",
      "[ Info: Integrating 118 Hyperrectangles\n"
     ]
    },
    {
     "name": "stdout",
     "output_type": "stream",
     "text": [
      "Progress: 100%|█████████████████████████████████████████| Time: 0:00:00\u001b[K\n"
     ]
    },
    {
     "name": "stderr",
     "output_type": "stream",
     "text": [
      "[ Info: Estimating Uncertainty (cov. weighted result)\n",
      "[ Info: BATPar: Sampling subspace 43:\n",
      "[ Info: Trying to generate 10 viable MCMC chain(s).\n",
      "[ Info: Selected 10 MCMC chain(s).\n",
      "[ Info: Begin tuning of 10 MCMC chain(s).\n",
      "[ Info: Harmonic Mean Integration started. Samples in dataset 1 / 2: \t50000 / 49999\tParameters:\t6\n",
      "[ Info: Data Whitening.\n",
      "[ Info: MCMC Tuning cycle 1 finished, 10 chains, 0 tuned, 0 converged.\n",
      "[ Info: Apply Whitening Transformation to Data Set 2\n",
      "[ Info: Create Space Partitioning Tree\n",
      "[ Info: MCMC Tuning cycle 2 finished, 10 chains, 0 tuned, 0 converged.\n",
      "[ Info: Determine Hyperrectangle Starting Samples\n",
      "[ Info: MCMC Tuning cycle 3 finished, 10 chains, 1 tuned, 0 converged.\n",
      "[ Info: MCMC Tuning cycle 4 finished, 10 chains, 1 tuned, 0 converged.\n"
     ]
    },
    {
     "name": "stdout",
     "output_type": "stream",
     "text": [
      "Progress: 100%|█████████████████████████████████████████| Time: 0:00:00\u001b[K\n"
     ]
    },
    {
     "name": "stderr",
     "output_type": "stream",
     "text": [
      "[ Info: Determine Tolerances for Hyperrectangle Creation\n",
      "[ Info: MCMC Tuning cycle 5 finished, 10 chains, 3 tuned, 0 converged.\n",
      "[ Info: MCMC Tuning cycle 6 finished, 10 chains, 4 tuned, 10 converged.\n",
      "[ Info: MCMC Tuning cycle 7 finished, 10 chains, 9 tuned, 10 converged.\n",
      "[ Info: MCMC Tuning cycle 8 finished, 10 chains, 10 tuned, 0 converged.\n",
      "[ Info: MCMC Tuning cycle 9 finished, 10 chains, 9 tuned, 0 converged.\n",
      "[ Info: MCMC Tuning cycle 10 finished, 10 chains, 9 tuned, 0 converged.\n",
      "[ Info: MCMC Tuning cycle 11 finished, 10 chains, 9 tuned, 0 converged.\n"
     ]
    },
    {
     "name": "stdout",
     "output_type": "stream",
     "text": [
      "Progress: 100%|█████████████████████████████████████████| Time: 0:00:02\u001b[K\n"
     ]
    },
    {
     "name": "stderr",
     "output_type": "stream",
     "text": [
      "[ Info: MCMC Tuning cycle 12 finished, 10 chains, 9 tuned, 0 converged.\n",
      "[ Info: Updating 119 Hyperrectangles using 8 thread(s)\n",
      "[ Info: Integrating 119 Hyperrectangles\n",
      "[ Info: MCMC Tuning cycle 13 finished, 10 chains, 10 tuned, 10 converged.\n",
      "[ Info: MCMC tuning of 10 chains successful after 13 cycle(s).\n"
     ]
    },
    {
     "name": "stdout",
     "output_type": "stream",
     "text": [
      "Progress: 100%|█████████████████████████████████████████| Time: 0:00:00\u001b[K\n"
     ]
    },
    {
     "name": "stderr",
     "output_type": "stream",
     "text": [
      "[ Info: Estimating Uncertainty (cov. weighted result)\n",
      "[ Info: Create 134 Hyperrectangles using 8 thread(s)\n",
      "[ Info: BATPar: Sampling subspace 44:\n",
      "[ Info: Trying to generate 10 viable MCMC chain(s).\n",
      "[ Info: Selected 10 MCMC chain(s).\n",
      "[ Info: Begin tuning of 10 MCMC chain(s).\n",
      "[ Info: MCMC Tuning cycle 1 finished, 10 chains, 0 tuned, 0 converged.\n",
      "[ Info: MCMC Tuning cycle 2 finished, 10 chains, 0 tuned, 0 converged.\n",
      "[ Info: MCMC Tuning cycle 3 finished, 10 chains, 0 tuned, 0 converged.\n",
      "[ Info: MCMC Tuning cycle 4 finished, 10 chains, 0 tuned, 0 converged.\n",
      "[ Info: MCMC Tuning cycle 5 finished, 10 chains, 2 tuned, 0 converged.\n",
      "[ Info: MCMC Tuning cycle 6 finished, 10 chains, 6 tuned, 0 converged.\n",
      "[ Info: MCMC Tuning cycle 7 finished, 10 chains, 5 tuned, 10 converged.\n",
      "[ Info: MCMC Tuning cycle 8 finished, 10 chains, 9 tuned, 0 converged.\n",
      "[ Info: MCMC Tuning cycle 9 finished, 10 chains, 10 tuned, 0 converged.\n",
      "[ Info: MCMC Tuning cycle 10 finished, 10 chains, 9 tuned, 10 converged.\n",
      "[ Info: MCMC Tuning cycle 11 finished, 10 chains, 10 tuned, 0 converged.\n",
      "[ Info: Harmonic Mean Integration started. Samples in dataset 1 / 2: \t50000 / 49999\tParameters:\t6\n",
      "[ Info: Data Whitening.\n",
      "[ Info: Apply Whitening Transformation to Data Set 2\n",
      "[ Info: Create Space Partitioning Tree\n",
      "[ Info: Determine Hyperrectangle Starting Samples\n",
      "[ Info: Determine Tolerances for Hyperrectangle Creation\n",
      "[ Info: MCMC Tuning cycle 12 finished, 10 chains, 8 tuned, 0 converged.\n",
      "[ Info: MCMC Tuning cycle 13 finished, 10 chains, 10 tuned, 0 converged.\n",
      "[ Info: MCMC Tuning cycle 14 finished, 10 chains, 10 tuned, 0 converged.\n",
      "[ Info: MCMC Tuning cycle 15 finished, 10 chains, 9 tuned, 10 converged.\n",
      "[ Info: MCMC Tuning cycle 16 finished, 10 chains, 10 tuned, 0 converged.\n",
      "[ Info: MCMC Tuning cycle 17 finished, 10 chains, 9 tuned, 10 converged.\n",
      "[ Info: MCMC Tuning cycle 18 finished, 10 chains, 10 tuned, 10 converged.\n",
      "[ Info: MCMC tuning of 10 chains successful after 18 cycle(s).\n",
      "[ Info: Harmonic Mean Integration started. Samples in dataset 1 / 2: \t50000 / 49999\tParameters:\t6\n",
      "[ Info: Data Whitening.\n",
      "[ Info: Apply Whitening Transformation to Data Set 2\n",
      "[ Info: Create Space Partitioning Tree\n"
     ]
    },
    {
     "name": "stdout",
     "output_type": "stream",
     "text": [
      "Progress: 100%|█████████████████████████████████████████| Time: 0:00:03\u001b[K\n"
     ]
    },
    {
     "name": "stderr",
     "output_type": "stream",
     "text": [
      "[ Info: Updating 134 Hyperrectangles using 8 thread(s)\n",
      "[ Info: Integrating 134 Hyperrectangles\n",
      "[ Info: Determine Hyperrectangle Starting Samples\n",
      "[ Info: Estimating Uncertainty (cov. weighted result)\n",
      "[ Info: BATPar: Sampling subspace 45:\n",
      "[ Info: Trying to generate 10 viable MCMC chain(s).\n",
      "[ Info: Determine Tolerances for Hyperrectangle Creation\n",
      "[ Info: Create 121 Hyperrectangles using 8 thread(s)\n",
      "[ Info: Selected 10 MCMC chain(s).\n",
      "[ Info: Begin tuning of 10 MCMC chain(s).\n",
      "[ Info: MCMC Tuning cycle 1 finished, 10 chains, 0 tuned, 0 converged.\n",
      "[ Info: MCMC Tuning cycle 2 finished, 10 chains, 0 tuned, 0 converged.\n",
      "[ Info: MCMC Tuning cycle 3 finished, 10 chains, 0 tuned, 0 converged.\n",
      "[ Info: MCMC Tuning cycle 4 finished, 10 chains, 0 tuned, 0 converged.\n",
      "[ Info: MCMC Tuning cycle 5 finished, 10 chains, 1 tuned, 10 converged.\n",
      "[ Info: MCMC Tuning cycle 6 finished, 10 chains, 6 tuned, 10 converged.\n",
      "[ Info: MCMC Tuning cycle 7 finished, 10 chains, 8 tuned, 10 converged.\n",
      "[ Info: MCMC Tuning cycle 8 finished, 10 chains, 10 tuned, 10 converged.\n",
      "[ Info: MCMC tuning of 10 chains successful after 8 cycle(s).\n",
      "[ Info: Create 82 Hyperrectangles using 8 thread(s)\n"
     ]
    },
    {
     "name": "stdout",
     "output_type": "stream",
     "text": [
      "Progress: 100%|█████████████████████████████████████████| Time: 0:00:02\u001b[K\n"
     ]
    },
    {
     "name": "stderr",
     "output_type": "stream",
     "text": [
      "[ Info: Updating 121 Hyperrectangles using 8 thread(s)\n",
      "[ Info: Integrating 121 Hyperrectangles\n"
     ]
    },
    {
     "name": "stdout",
     "output_type": "stream",
     "text": [
      "Progress: 100%|█████████████████████████████████████████| Time: 0:00:00\u001b[K\n"
     ]
    },
    {
     "name": "stderr",
     "output_type": "stream",
     "text": [
      "[ Info: Estimating Uncertainty (cov. weighted result)\n",
      "[ Info: BATPar: Sampling subspace 46:\n",
      "[ Info: Trying to generate 10 viable MCMC chain(s).\n",
      "[ Info: Selected 10 MCMC chain(s).\n",
      "[ Info: Begin tuning of 10 MCMC chain(s).\n",
      "[ Info: MCMC Tuning cycle 1 finished, 10 chains, 0 tuned, 0 converged.\n",
      "[ Info: MCMC Tuning cycle 2 finished, 10 chains, 0 tuned, 0 converged.\n",
      "[ Info: Harmonic Mean Integration started. Samples in dataset 1 / 2: \t50000 / 49999\tParameters:\t6\n",
      "[ Info: Data Whitening.\n",
      "[ Info: MCMC Tuning cycle 3 finished, 10 chains, 0 tuned, 0 converged.\n",
      "[ Info: Apply Whitening Transformation to Data Set 2\n",
      "[ Info: Create Space Partitioning Tree\n",
      "[ Info: Determine Hyperrectangle Starting Samples\n",
      "[ Info: Determine Tolerances for Hyperrectangle Creation\n",
      "[ Info: MCMC Tuning cycle 4 finished, 10 chains, 0 tuned, 0 converged.\n",
      "[ Info: MCMC Tuning cycle 5 finished, 10 chains, 0 tuned, 0 converged.\n"
     ]
    },
    {
     "name": "stdout",
     "output_type": "stream",
     "text": [
      "Progress: 100%|█████████████████████████████████████████| Time: 0:00:01\u001b[K\n"
     ]
    },
    {
     "name": "stderr",
     "output_type": "stream",
     "text": [
      "[ Info: Updating 82 Hyperrectangles using 8 thread(s)\n",
      "[ Info: Integrating 82 Hyperrectangles\n",
      "[ Info: MCMC Tuning cycle 6 finished, 10 chains, 2 tuned, 10 converged.\n",
      "[ Info: Estimating Uncertainty (cov. weighted result)\n",
      "[ Info: BATPar: Sampling subspace 47:\n",
      "[ Info: Trying to generate 10 viable MCMC chain(s).\n",
      "[ Info: MCMC Tuning cycle 7 finished, 10 chains, 6 tuned, 0 converged.\n",
      "[ Info: MCMC Tuning cycle 8 finished, 10 chains, 5 tuned, 0 converged.\n",
      "[ Info: Selected 10 MCMC chain(s).\n",
      "[ Info: Begin tuning of 10 MCMC chain(s).\n",
      "[ Info: MCMC Tuning cycle 1 finished, 10 chains, 0 tuned, 0 converged.\n",
      "[ Info: MCMC Tuning cycle 9 finished, 10 chains, 9 tuned, 10 converged.\n",
      "[ Info: MCMC Tuning cycle 2 finished, 10 chains, 0 tuned, 0 converged.\n",
      "[ Info: MCMC Tuning cycle 10 finished, 10 chains, 10 tuned, 10 converged.\n",
      "[ Info: MCMC tuning of 10 chains successful after 10 cycle(s).\n",
      "[ Info: MCMC Tuning cycle 3 finished, 10 chains, 0 tuned, 0 converged.\n",
      "[ Info: MCMC Tuning cycle 4 finished, 10 chains, 0 tuned, 0 converged.\n",
      "[ Info: MCMC Tuning cycle 5 finished, 10 chains, 1 tuned, 0 converged.\n",
      "[ Info: MCMC Tuning cycle 6 finished, 10 chains, 1 tuned, 0 converged.\n",
      "[ Info: Create 52 Hyperrectangles using 8 thread(s)\n",
      "[ Info: MCMC Tuning cycle 7 finished, 10 chains, 3 tuned, 0 converged.\n",
      "[ Info: MCMC Tuning cycle 8 finished, 10 chains, 6 tuned, 0 converged.\n",
      "[ Info: Harmonic Mean Integration started. Samples in dataset 1 / 2: \t50000 / 49999\tParameters:\t6\n",
      "[ Info: Data Whitening.\n",
      "[ Info: Apply Whitening Transformation to Data Set 2\n",
      "[ Info: Create Space Partitioning Tree\n",
      "[ Info: MCMC Tuning cycle 9 finished, 10 chains, 10 tuned, 0 converged.\n",
      "[ Info: MCMC Tuning cycle 10 finished, 10 chains, 9 tuned, 0 converged.\n",
      "[ Info: Determine Hyperrectangle Starting Samples\n",
      "[ Info: Determine Tolerances for Hyperrectangle Creation\n",
      "[ Info: MCMC Tuning cycle 11 finished, 10 chains, 10 tuned, 10 converged.\n",
      "[ Info: MCMC tuning of 10 chains successful after 11 cycle(s).\n"
     ]
    },
    {
     "name": "stdout",
     "output_type": "stream",
     "text": [
      "Progress: 100%|█████████████████████████████████████████| Time: 0:00:01\u001b[K\n"
     ]
    },
    {
     "name": "stderr",
     "output_type": "stream",
     "text": [
      "[ Info: Updating 52 Hyperrectangles using 8 thread(s)\n",
      "[ Info: Integrating 52 Hyperrectangles\n",
      "[ Info: Estimating Uncertainty (cov. weighted result)\n",
      "[ Info: BATPar: Sampling subspace 48:\n",
      "[ Info: Trying to generate 10 viable MCMC chain(s).\n",
      "[ Info: Selected 10 MCMC chain(s).\n",
      "[ Info: Begin tuning of 10 MCMC chain(s).\n",
      "[ Info: MCMC Tuning cycle 1 finished, 10 chains, 0 tuned, 0 converged.\n",
      "[ Info: MCMC Tuning cycle 2 finished, 10 chains, 0 tuned, 0 converged.\n",
      "[ Info: MCMC Tuning cycle 3 finished, 10 chains, 0 tuned, 0 converged.\n",
      "[ Info: MCMC Tuning cycle 4 finished, 10 chains, 0 tuned, 0 converged.\n",
      "[ Info: Create 57 Hyperrectangles using 8 thread(s)\n",
      "[ Info: MCMC Tuning cycle 5 finished, 10 chains, 0 tuned, 0 converged.\n",
      "[ Info: MCMC Tuning cycle 6 finished, 10 chains, 1 tuned, 0 converged.\n",
      "[ Info: MCMC Tuning cycle 7 finished, 10 chains, 1 tuned, 0 converged.\n",
      "[ Info: MCMC Tuning cycle 8 finished, 10 chains, 4 tuned, 10 converged.\n",
      "[ Info: Harmonic Mean Integration started. Samples in dataset 1 / 2: \t50000 / 49999\tParameters:\t6\n",
      "[ Info: Data Whitening.\n",
      "[ Info: Apply Whitening Transformation to Data Set 2\n",
      "[ Info: Create Space Partitioning Tree\n",
      "[ Info: MCMC Tuning cycle 9 finished, 10 chains, 9 tuned, 0 converged.\n"
     ]
    },
    {
     "name": "stdout",
     "output_type": "stream",
     "text": [
      "Progress: 100%|█████████████████████████████████████████| Time: 0:00:00\u001b[K\n"
     ]
    },
    {
     "name": "stderr",
     "output_type": "stream",
     "text": [
      "[ Info: MCMC Tuning cycle 10 finished, 10 chains, 9 tuned, 0 converged.\n",
      "[ Info: Updating 57 Hyperrectangles using 8 thread(s)\n",
      "[ Info: MCMC Tuning cycle 11 finished, 10 chains, 10 tuned, 0 converged.\n",
      "[ Info: Integrating 57 Hyperrectangles\n",
      "[ Info: Estimating Uncertainty (cov. weighted result)\n",
      "[ Info: BATPar: Sampling subspace 49:\n",
      "[ Info: Trying to generate 10 viable MCMC chain(s).\n",
      "[ Info: MCMC Tuning cycle 12 finished, 10 chains, 10 tuned, 0 converged.\n",
      "[ Info: Selected 10 MCMC chain(s).\n",
      "[ Info: Begin tuning of 10 MCMC chain(s).\n",
      "[ Info: MCMC Tuning cycle 13 finished, 10 chains, 9 tuned, 0 converged.\n",
      "[ Info: MCMC Tuning cycle 1 finished, 10 chains, 0 tuned, 0 converged.\n",
      "[ Info: Determine Hyperrectangle Starting Samples\n",
      "[ Info: MCMC Tuning cycle 2 finished, 10 chains, 0 tuned, 0 converged.\n",
      "[ Info: Determine Tolerances for Hyperrectangle Creation\n",
      "[ Info: MCMC Tuning cycle 3 finished, 10 chains, 0 tuned, 0 converged.\n",
      "[ Info: MCMC Tuning cycle 14 finished, 10 chains, 10 tuned, 0 converged.\n",
      "[ Info: MCMC Tuning cycle 4 finished, 10 chains, 1 tuned, 0 converged.\n",
      "[ Info: MCMC Tuning cycle 15 finished, 10 chains, 9 tuned, 0 converged.\n",
      "[ Info: MCMC Tuning cycle 5 finished, 10 chains, 0 tuned, 0 converged.\n",
      "[ Info: MCMC Tuning cycle 16 finished, 10 chains, 10 tuned, 0 converged.\n",
      "[ Info: MCMC Tuning cycle 6 finished, 10 chains, 4 tuned, 0 converged.\n",
      "[ Info: MCMC Tuning cycle 17 finished, 10 chains, 10 tuned, 0 converged.\n",
      "[ Info: MCMC Tuning cycle 18 finished, 10 chains, 10 tuned, 0 converged.\n",
      "[ Info: MCMC Tuning cycle 19 finished, 10 chains, 9 tuned, 0 converged.\n",
      "[ Info: MCMC Tuning cycle 20 finished, 10 chains, 10 tuned, 0 converged.\n",
      "[ Info: MCMC Tuning cycle 7 finished, 10 chains, 5 tuned, 10 converged.\n",
      "[ Info: Harmonic Mean Integration started. Samples in dataset 1 / 2: \t50000 / 49999\tParameters:\t6\n",
      "[ Info: Data Whitening.\n",
      "[ Info: Apply Whitening Transformation to Data Set 2\n",
      "[ Info: Create Space Partitioning Tree\n",
      "[ Info: MCMC Tuning cycle 8 finished, 10 chains, 10 tuned, 0 converged.\n",
      "[ Info: Create 73 Hyperrectangles using 8 thread(s)\n",
      "[ Info: Determine Hyperrectangle Starting Samples\n",
      "[ Info: MCMC Tuning cycle 9 finished, 10 chains, 8 tuned, 0 converged.\n",
      "[ Info: MCMC Tuning cycle 10 finished, 10 chains, 10 tuned, 10 converged.\n",
      "[ Info: MCMC tuning of 10 chains successful after 10 cycle(s).\n"
     ]
    },
    {
     "name": "stdout",
     "output_type": "stream",
     "text": [
      "Progress: 100%|█████████████████████████████████████████| Time: 0:00:00\u001b[K\n"
     ]
    },
    {
     "name": "stderr",
     "output_type": "stream",
     "text": [
      "[ Info: Determine Tolerances for Hyperrectangle Creation\n",
      "[ Info: MCMC Tuning cycle 21 finished, 10 chains, 10 tuned, 0 converged.\n",
      "[ Info: MCMC Tuning cycle 22 finished, 10 chains, 9 tuned, 10 converged.\n",
      "[ Info: MCMC Tuning cycle 23 finished, 10 chains, 10 tuned, 10 converged.\n",
      "[ Info: MCMC tuning of 10 chains successful after 23 cycle(s).\n"
     ]
    },
    {
     "name": "stdout",
     "output_type": "stream",
     "text": [
      "Progress: 100%|█████████████████████████████████████████| Time: 0:00:01\u001b[K\n"
     ]
    },
    {
     "name": "stderr",
     "output_type": "stream",
     "text": [
      "[ Info: Updating 73 Hyperrectangles using 8 thread(s)\n",
      "[ Info: Integrating 73 Hyperrectangles\n",
      "[ Info: Estimating Uncertainty (cov. weighted result)\n",
      "[ Info: BATPar: Sampling subspace 50:\n",
      "[ Info: Trying to generate 10 viable MCMC chain(s).\n",
      "[ Info: Create 65 Hyperrectangles using 8 thread(s)\n",
      "[ Info: Selected 10 MCMC chain(s).\n",
      "[ Info: Begin tuning of 10 MCMC chain(s).\n",
      "[ Info: MCMC Tuning cycle 1 finished, 10 chains, 0 tuned, 0 converged.\n",
      "[ Info: MCMC Tuning cycle 2 finished, 10 chains, 0 tuned, 0 converged.\n",
      "[ Info: MCMC Tuning cycle 3 finished, 10 chains, 0 tuned, 0 converged.\n",
      "[ Info: MCMC Tuning cycle 4 finished, 10 chains, 1 tuned, 0 converged.\n",
      "[ Info: MCMC Tuning cycle 5 finished, 10 chains, 4 tuned, 10 converged.\n",
      "[ Info: MCMC Tuning cycle 6 finished, 10 chains, 7 tuned, 0 converged.\n"
     ]
    },
    {
     "name": "stdout",
     "output_type": "stream",
     "text": [
      "Progress: 100%|█████████████████████████████████████████| Time: 0:00:01\u001b[K\n"
     ]
    },
    {
     "name": "stderr",
     "output_type": "stream",
     "text": [
      "[ Info: MCMC Tuning cycle 7 finished, 10 chains, 8 tuned, 0 converged.\n",
      "[ Info: MCMC Tuning cycle 8 finished, 10 chains, 7 tuned, 0 converged.\n",
      "[ Info: Updating 65 Hyperrectangles using 8 thread(s)\n",
      "[ Info: Integrating 65 Hyperrectangles\n",
      "[ Info: Estimating Uncertainty (cov. weighted result)\n",
      "[ Info: BATPar: Sampling subspace 51:\n",
      "[ Info: Trying to generate 10 viable MCMC chain(s).\n",
      "[ Info: Harmonic Mean Integration started. Samples in dataset 1 / 2: \t50000 / 49999\tParameters:\t6\n",
      "[ Info: Data Whitening.\n",
      "[ Info: Apply Whitening Transformation to Data Set 2\n",
      "[ Info: Create Space Partitioning Tree\n",
      "[ Info: Selected 10 MCMC chain(s).\n",
      "[ Info: Begin tuning of 10 MCMC chain(s).\n",
      "[ Info: Determine Hyperrectangle Starting Samples\n",
      "[ Info: MCMC Tuning cycle 1 finished, 10 chains, 0 tuned, 0 converged.\n",
      "[ Info: MCMC Tuning cycle 2 finished, 10 chains, 0 tuned, 0 converged.\n",
      "[ Info: MCMC Tuning cycle 9 finished, 10 chains, 9 tuned, 0 converged.\n",
      "[ Info: Determine Tolerances for Hyperrectangle Creation\n",
      "[ Info: MCMC Tuning cycle 3 finished, 10 chains, 0 tuned, 0 converged.\n",
      "[ Info: MCMC Tuning cycle 10 finished, 10 chains, 9 tuned, 10 converged.\n",
      "[ Info: MCMC Tuning cycle 4 finished, 10 chains, 0 tuned, 0 converged.\n",
      "[ Info: MCMC Tuning cycle 11 finished, 10 chains, 10 tuned, 10 converged.\n",
      "[ Info: MCMC tuning of 10 chains successful after 11 cycle(s).\n",
      "[ Info: MCMC Tuning cycle 5 finished, 10 chains, 1 tuned, 0 converged.\n",
      "[ Info: Harmonic Mean Integration started. Samples in dataset 1 / 2: \t50000 / 49999\tParameters:\t6\n",
      "[ Info: Data Whitening.\n",
      "[ Info: Apply Whitening Transformation to Data Set 2\n",
      "[ Info: Create Space Partitioning Tree\n",
      "[ Info: Determine Hyperrectangle Starting Samples\n",
      "[ Info: Determine Tolerances for Hyperrectangle Creation\n",
      "[ Info: MCMC Tuning cycle 6 finished, 10 chains, 1 tuned, 0 converged.\n",
      "[ Info: MCMC Tuning cycle 7 finished, 10 chains, 7 tuned, 0 converged.\n",
      "[ Info: MCMC Tuning cycle 8 finished, 10 chains, 8 tuned, 10 converged.\n",
      "[ Info: MCMC Tuning cycle 9 finished, 10 chains, 8 tuned, 10 converged.\n",
      "[ Info: MCMC Tuning cycle 10 finished, 10 chains, 10 tuned, 0 converged.\n",
      "[ Info: Create 74 Hyperrectangles using 8 thread(s)\n",
      "[ Info: MCMC Tuning cycle 11 finished, 10 chains, 10 tuned, 10 converged.\n",
      "[ Info: MCMC tuning of 10 chains successful after 11 cycle(s).\n",
      "[ Info: Create 54 Hyperrectangles using 8 thread(s)\n"
     ]
    },
    {
     "name": "stdout",
     "output_type": "stream",
     "text": [
      "Progress: 100%|█████████████████████████████████████████| Time: 0:00:01\u001b[K\n"
     ]
    },
    {
     "name": "stderr",
     "output_type": "stream",
     "text": [
      "[ Info: Harmonic Mean Integration started. Samples in dataset 1 / 2: \t50000 / 49999\tParameters:\t6\n",
      "[ Info: Data Whitening.\n",
      "[ Info: Updating 74 Hyperrectangles using 8 thread(s)\n",
      "[ Info: Integrating 74 Hyperrectangles\n",
      "[ Info: Apply Whitening Transformation to Data Set 2\n",
      "[ Info: Create Space Partitioning Tree\n",
      "[ Info: Estimating Uncertainty (cov. weighted result)\n",
      "[ Info: BATPar: Sampling subspace 52:\n",
      "[ Info: Trying to generate 10 viable MCMC chain(s).\n",
      "[ Info: Selected 10 MCMC chain(s).\n",
      "[ Info: Begin tuning of 10 MCMC chain(s).\n",
      "[ Info: Determine Hyperrectangle Starting Samples\n",
      "[ Info: MCMC Tuning cycle 1 finished, 10 chains, 0 tuned, 0 converged.\n"
     ]
    },
    {
     "name": "stdout",
     "output_type": "stream",
     "text": [
      "Progress: 100%|█████████████████████████████████████████| Time: 0:00:01\u001b[K\n",
      "Progress: 100%|█████████████████████████████████████████| Time: 0:00:00\u001b[K\n"
     ]
    },
    {
     "name": "stderr",
     "output_type": "stream",
     "text": [
      "[ Info: MCMC Tuning cycle 2 finished, 10 chains, 0 tuned, 0 converged.\n",
      "[ Info: Determine Tolerances for Hyperrectangle Creation\n",
      "[ Info: MCMC Tuning cycle 3 finished, 10 chains, 0 tuned, 0 converged.\n",
      "[ Info: Updating 54 Hyperrectangles using 8 thread(s)\n",
      "[ Info: Integrating 54 Hyperrectangles\n",
      "[ Info: Estimating Uncertainty (cov. weighted result)\n",
      "[ Info: BATPar: Sampling subspace 53:\n",
      "[ Info: Trying to generate 10 viable MCMC chain(s).\n",
      "[ Info: Selected 10 MCMC chain(s).\n",
      "[ Info: Begin tuning of 10 MCMC chain(s).\n",
      "[ Info: MCMC Tuning cycle 1 finished, 10 chains, 0 tuned, 0 converged.\n",
      "[ Info: MCMC Tuning cycle 2 finished, 10 chains, 0 tuned, 0 converged.\n",
      "[ Info: MCMC Tuning cycle 4 finished, 10 chains, 0 tuned, 0 converged.\n",
      "[ Info: Harmonic Mean Integration started. Samples in dataset 1 / 2: \t50000 / 49999\tParameters:\t6\n",
      "[ Info: Data Whitening.\n",
      "[ Info: MCMC Tuning cycle 3 finished, 10 chains, 0 tuned, 0 converged.\n",
      "[ Info: Create 103 Hyperrectangles using 8 thread(s)\n",
      "[ Info: MCMC Tuning cycle 5 finished, 10 chains, 0 tuned, 0 converged.\n",
      "[ Info: MCMC Tuning cycle 4 finished, 10 chains, 0 tuned, 0 converged.\n",
      "[ Info: MCMC Tuning cycle 6 finished, 10 chains, 2 tuned, 0 converged.\n",
      "[ Info: MCMC Tuning cycle 5 finished, 10 chains, 2 tuned, 10 converged.\n",
      "[ Info: MCMC Tuning cycle 7 finished, 10 chains, 5 tuned, 0 converged.\n",
      "[ Info: MCMC Tuning cycle 8 finished, 10 chains, 8 tuned, 0 converged.\n",
      "[ Info: MCMC Tuning cycle 6 finished, 10 chains, 5 tuned, 10 converged.\n",
      "[ Info: Apply Whitening Transformation to Data Set 2\n",
      "[ Info: Create Space Partitioning Tree\n"
     ]
    },
    {
     "name": "stdout",
     "output_type": "stream",
     "text": [
      "Progress: 100%|█████████████████████████████████████████| Time: 0:00:00\u001b[K\n"
     ]
    },
    {
     "name": "stderr",
     "output_type": "stream",
     "text": [
      "[ Info: MCMC Tuning cycle 7 finished, 10 chains, 9 tuned, 0 converged.\n",
      "[ Info: MCMC Tuning cycle 9 finished, 10 chains, 9 tuned, 0 converged.\n",
      "[ Info: Determine Hyperrectangle Starting Samples\n",
      "[ Info: MCMC Tuning cycle 10 finished, 10 chains, 8 tuned, 0 converged.\n",
      "[ Info: MCMC Tuning cycle 11 finished, 10 chains, 8 tuned, 10 converged.\n",
      "[ Info: Determine Tolerances for Hyperrectangle Creation\n",
      "[ Info: MCMC Tuning cycle 8 finished, 10 chains, 7 tuned, 10 converged.\n",
      "[ Info: MCMC Tuning cycle 9 finished, 10 chains, 9 tuned, 0 converged.\n",
      "[ Info: MCMC Tuning cycle 10 finished, 10 chains, 9 tuned, 10 converged.\n",
      "[ Info: MCMC Tuning cycle 11 finished, 10 chains, 10 tuned, 0 converged.\n",
      "[ Info: MCMC Tuning cycle 12 finished, 10 chains, 9 tuned, 0 converged.\n",
      "[ Info: MCMC Tuning cycle 13 finished, 10 chains, 9 tuned, 0 converged.\n",
      "[ Info: Create 53 Hyperrectangles using 8 thread(s)\n",
      "[ Info: MCMC Tuning cycle 12 finished, 10 chains, 10 tuned, 0 converged.\n",
      "[ Info: MCMC Tuning cycle 13 finished, 10 chains, 8 tuned, 0 converged.\n",
      "[ Info: MCMC Tuning cycle 14 finished, 10 chains, 9 tuned, 0 converged.\n"
     ]
    },
    {
     "name": "stdout",
     "output_type": "stream",
     "text": [
      "Progress: 100%|█████████████████████████████████████████| Time: 0:00:01\u001b[K\n"
     ]
    },
    {
     "name": "stderr",
     "output_type": "stream",
     "text": [
      "[ Info: Updating 103 Hyperrectangles using 8 thread(s)\n",
      "[ Info: MCMC Tuning cycle 14 finished, 10 chains, 8 tuned, 0 converged.\n",
      "[ Info: Integrating 103 Hyperrectangles\n",
      "[ Info: MCMC Tuning cycle 15 finished, 10 chains, 9 tuned, 0 converged.\n"
     ]
    },
    {
     "name": "stdout",
     "output_type": "stream",
     "text": [
      "Progress: 100%|█████████████████████████████████████████| Time: 0:00:00\u001b[K\n"
     ]
    },
    {
     "name": "stderr",
     "output_type": "stream",
     "text": [
      "[ Info: MCMC Tuning cycle 15 finished, 10 chains, 9 tuned, 0 converged.\n",
      "[ Info: Estimating Uncertainty (cov. weighted result)\n",
      "[ Info: BATPar: Sampling subspace 54:\n",
      "[ Info: Trying to generate 10 viable MCMC chain(s).\n",
      "[ Info: MCMC Tuning cycle 16 finished, 10 chains, 9 tuned, 10 converged.\n",
      "[ Info: Selected 10 MCMC chain(s).\n",
      "[ Info: Begin tuning of 10 MCMC chain(s).\n",
      "[ Info: MCMC Tuning cycle 16 finished, 10 chains, 7 tuned, 0 converged.\n",
      "[ Info: MCMC Tuning cycle 17 finished, 10 chains, 10 tuned, 10 converged.\n",
      "[ Info: MCMC tuning of 10 chains successful after 17 cycle(s).\n",
      "[ Info: MCMC Tuning cycle 17 finished, 10 chains, 9 tuned, 0 converged.\n",
      "[ Info: MCMC Tuning cycle 18 finished, 10 chains, 8 tuned, 0 converged.\n",
      "[ Info: MCMC Tuning cycle 19 finished, 10 chains, 9 tuned, 0 converged.\n",
      "[ Info: MCMC Tuning cycle 1 finished, 10 chains, 0 tuned, 0 converged.\n",
      "[ Info: MCMC Tuning cycle 2 finished, 10 chains, 0 tuned, 0 converged.\n",
      "[ Info: MCMC Tuning cycle 3 finished, 10 chains, 0 tuned, 0 converged.\n",
      "[ Info: MCMC Tuning cycle 4 finished, 10 chains, 0 tuned, 0 converged.\n",
      "[ Info: MCMC Tuning cycle 5 finished, 10 chains, 0 tuned, 0 converged.\n"
     ]
    },
    {
     "name": "stdout",
     "output_type": "stream",
     "text": [
      "Progress: 100%|█████████████████████████████████████████| Time: 0:00:01\u001b[K\n"
     ]
    },
    {
     "name": "stderr",
     "output_type": "stream",
     "text": [
      "[ Info: MCMC Tuning cycle 6 finished, 10 chains, 2 tuned, 10 converged.\n",
      "[ Info: Updating 53 Hyperrectangles using 8 thread(s)\n",
      "[ Info: Integrating 53 Hyperrectangles\n",
      "[ Info: MCMC Tuning cycle 20 finished, 10 chains, 10 tuned, 10 converged.\n",
      "[ Info: MCMC tuning of 10 chains successful after 20 cycle(s).\n",
      "[ Info: Estimating Uncertainty (cov. weighted result)\n",
      "[ Info: BATPar: Sampling subspace 55:\n",
      "[ Info: Trying to generate 10 viable MCMC chain(s).\n",
      "[ Info: MCMC Tuning cycle 7 finished, 10 chains, 4 tuned, 10 converged.\n",
      "[ Info: Selected 10 MCMC chain(s).\n",
      "[ Info: Begin tuning of 10 MCMC chain(s).\n",
      "[ Info: MCMC Tuning cycle 1 finished, 10 chains, 0 tuned, 0 converged.\n",
      "[ Info: MCMC Tuning cycle 8 finished, 10 chains, 10 tuned, 0 converged.\n",
      "[ Info: MCMC Tuning cycle 2 finished, 10 chains, 1 tuned, 0 converged.\n",
      "[ Info: MCMC Tuning cycle 9 finished, 10 chains, 10 tuned, 0 converged.\n",
      "[ Info: MCMC Tuning cycle 3 finished, 10 chains, 0 tuned, 0 converged.\n",
      "[ Info: MCMC Tuning cycle 10 finished, 10 chains, 10 tuned, 0 converged.\n",
      "[ Info: MCMC Tuning cycle 4 finished, 10 chains, 0 tuned, 0 converged.\n",
      "[ Info: MCMC Tuning cycle 5 finished, 10 chains, 3 tuned, 0 converged.\n",
      "[ Info: MCMC Tuning cycle 6 finished, 10 chains, 5 tuned, 0 converged.\n",
      "[ Info: MCMC Tuning cycle 7 finished, 10 chains, 8 tuned, 0 converged.\n",
      "[ Info: MCMC Tuning cycle 8 finished, 10 chains, 8 tuned, 10 converged.\n",
      "[ Info: MCMC Tuning cycle 11 finished, 10 chains, 9 tuned, 10 converged.\n",
      "[ Info: MCMC Tuning cycle 9 finished, 10 chains, 9 tuned, 10 converged.\n",
      "[ Info: MCMC Tuning cycle 12 finished, 10 chains, 9 tuned, 10 converged.\n",
      "[ Info: MCMC Tuning cycle 13 finished, 10 chains, 10 tuned, 10 converged.\n",
      "[ Info: MCMC tuning of 10 chains successful after 13 cycle(s).\n",
      "[ Info: MCMC Tuning cycle 10 finished, 10 chains, 10 tuned, 10 converged.\n",
      "[ Info: MCMC tuning of 10 chains successful after 10 cycle(s).\n",
      "[ Info: Harmonic Mean Integration started. Samples in dataset 1 / 2: \t50000 / 49999\tParameters:\t6\n",
      "[ Info: Data Whitening.\n",
      "[ Info: Apply Whitening Transformation to Data Set 2\n",
      "[ Info: Create Space Partitioning Tree\n",
      "[ Info: Determine Hyperrectangle Starting Samples\n",
      "[ Info: Harmonic Mean Integration started. Samples in dataset 1 / 2: \t50000 / 49999\tParameters:\t6\n",
      "[ Info: Data Whitening.\n",
      "[ Info: Determine Tolerances for Hyperrectangle Creation\n",
      "[ Info: Apply Whitening Transformation to Data Set 2\n",
      "[ Info: Create Space Partitioning Tree\n",
      "[ Info: Determine Hyperrectangle Starting Samples\n",
      "[ Info: Determine Tolerances for Hyperrectangle Creation\n",
      "[ Info: Create 67 Hyperrectangles using 8 thread(s)\n",
      "[ Info: Create 53 Hyperrectangles using 8 thread(s)\n",
      "[ Info: Harmonic Mean Integration started. Samples in dataset 1 / 2: \t50000 / 49999\tParameters:\t6\n",
      "[ Info: Data Whitening.\n",
      "[ Info: Apply Whitening Transformation to Data Set 2\n",
      "[ Info: Create Space Partitioning Tree\n",
      "[ Info: Determine Hyperrectangle Starting Samples\n"
     ]
    },
    {
     "name": "stdout",
     "output_type": "stream",
     "text": [
      "Progress: 100%|█████████████████████████████████████████| Time: 0:00:00\u001b[K\n"
     ]
    },
    {
     "name": "stderr",
     "output_type": "stream",
     "text": [
      "[ Info: Determine Tolerances for Hyperrectangle Creation\n",
      "[ Info: Updating 67 Hyperrectangles using 8 thread(s)\n",
      "[ Info: Integrating 67 Hyperrectangles\n"
     ]
    },
    {
     "name": "stdout",
     "output_type": "stream",
     "text": [
      "Progress: 100%|█████████████████████████████████████████| Time: 0:00:00\u001b[K\n"
     ]
    },
    {
     "name": "stderr",
     "output_type": "stream",
     "text": [
      "[ Info: Harmonic Mean Integration started. Samples in dataset 1 / 2: \t50000 / 49999\tParameters:\t6\n",
      "[ Info: Data Whitening.\n",
      "[ Info: Estimating Uncertainty (cov. weighted result)\n",
      "[ Info: BATPar: Sampling subspace 56:\n",
      "[ Info: Trying to generate 10 viable MCMC chain(s).\n",
      "[ Info: Apply Whitening Transformation to Data Set 2\n",
      "[ Info: Create Space Partitioning Tree\n",
      "[ Info: Determine Hyperrectangle Starting Samples\n",
      "[ Info: Selected 10 MCMC chain(s).\n",
      "[ Info: Begin tuning of 10 MCMC chain(s).\n",
      "[ Info: Determine Tolerances for Hyperrectangle Creation\n",
      "[ Info: MCMC Tuning cycle 1 finished, 10 chains, 0 tuned, 0 converged.\n",
      "[ Info: MCMC Tuning cycle 2 finished, 10 chains, 0 tuned, 0 converged.\n",
      "[ Info: MCMC Tuning cycle 3 finished, 10 chains, 0 tuned, 0 converged.\n"
     ]
    },
    {
     "name": "stdout",
     "output_type": "stream",
     "text": [
      "Progress: 100%|█████████████████████████████████████████| Time: 0:00:00\u001b[K\n"
     ]
    },
    {
     "name": "stderr",
     "output_type": "stream",
     "text": [
      "[ Info: MCMC Tuning cycle 4 finished, 10 chains, 0 tuned, 0 converged.\n",
      "[ Info: Updating 53 Hyperrectangles using 8 thread(s)\n",
      "[ Info: Integrating 53 Hyperrectangles\n",
      "[ Info: Estimating Uncertainty (cov. weighted result)\n",
      "[ Info: BATPar: Sampling subspace 57:\n",
      "[ Info: Trying to generate 10 viable MCMC chain(s).\n",
      "[ Info: Selected 10 MCMC chain(s).\n",
      "[ Info: Begin tuning of 10 MCMC chain(s).\n",
      "[ Info: MCMC Tuning cycle 5 finished, 10 chains, 1 tuned, 0 converged.\n",
      "[ Info: MCMC Tuning cycle 1 finished, 10 chains, 0 tuned, 0 converged.\n",
      "[ Info: MCMC Tuning cycle 2 finished, 10 chains, 0 tuned, 0 converged.\n",
      "[ Info: MCMC Tuning cycle 6 finished, 10 chains, 3 tuned, 10 converged.\n",
      "[ Info: MCMC Tuning cycle 3 finished, 10 chains, 0 tuned, 0 converged.\n",
      "[ Info: Create 61 Hyperrectangles using 8 thread(s)\n",
      "[ Info: MCMC Tuning cycle 7 finished, 10 chains, 7 tuned, 10 converged.\n",
      "[ Info: MCMC Tuning cycle 4 finished, 10 chains, 0 tuned, 0 converged.\n",
      "[ Info: MCMC Tuning cycle 5 finished, 10 chains, 0 tuned, 10 converged.\n",
      "[ Info: MCMC Tuning cycle 8 finished, 10 chains, 10 tuned, 0 converged.\n",
      "[ Info: MCMC Tuning cycle 9 finished, 10 chains, 9 tuned, 0 converged.\n",
      "[ Info: MCMC Tuning cycle 10 finished, 10 chains, 10 tuned, 0 converged.\n",
      "[ Info: MCMC Tuning cycle 11 finished, 10 chains, 10 tuned, 10 converged.\n",
      "[ Info: MCMC tuning of 10 chains successful after 11 cycle(s).\n",
      "[ Info: MCMC Tuning cycle 6 finished, 10 chains, 4 tuned, 0 converged.\n",
      "[ Info: MCMC Tuning cycle 7 finished, 10 chains, 8 tuned, 0 converged.\n"
     ]
    },
    {
     "name": "stdout",
     "output_type": "stream",
     "text": [
      "Progress: 100%|█████████████████████████████████████████| Time: 0:00:00\u001b[K\n"
     ]
    },
    {
     "name": "stderr",
     "output_type": "stream",
     "text": [
      "[ Info: MCMC Tuning cycle 8 finished, 10 chains, 7 tuned, 0 converged.\n",
      "[ Info: Updating 61 Hyperrectangles using 8 thread(s)\n",
      "[ Info: Integrating 61 Hyperrectangles\n",
      "[ Info: MCMC Tuning cycle 9 finished, 10 chains, 9 tuned, 0 converged.\n",
      "[ Info: Create 68 Hyperrectangles using 8 thread(s)\n",
      "[ Info: MCMC Tuning cycle 10 finished, 10 chains, 9 tuned, 0 converged.\n"
     ]
    },
    {
     "name": "stdout",
     "output_type": "stream",
     "text": [
      "Progress: 100%|█████████████████████████████████████████| Time: 0:00:00\u001b[K\n"
     ]
    },
    {
     "name": "stderr",
     "output_type": "stream",
     "text": [
      "[ Info: Estimating Uncertainty (cov. weighted result)\n"
     ]
    },
    {
     "name": "stdout",
     "output_type": "stream",
     "text": [
      "Progress: 100%|█████████████████████████████████████████| Time: 0:00:01\u001b[K\n"
     ]
    },
    {
     "name": "stderr",
     "output_type": "stream",
     "text": [
      "[ Info: MCMC Tuning cycle 11 finished, 10 chains, 9 tuned, 0 converged.\n",
      "[ Info: MCMC Tuning cycle 12 finished, 10 chains, 10 tuned, 10 converged.\n",
      "[ Info: MCMC tuning of 10 chains successful after 12 cycle(s).\n",
      "[ Info: BATPar: Sampling subspace 58:\n",
      "[ Info: Trying to generate 10 viable MCMC chain(s).\n",
      "[ Info: Selected 10 MCMC chain(s).\n",
      "[ Info: Begin tuning of 10 MCMC chain(s).\n",
      "[ Info: MCMC Tuning cycle 1 finished, 10 chains, 0 tuned, 0 converged.\n",
      "[ Info: MCMC Tuning cycle 2 finished, 10 chains, 0 tuned, 0 converged.\n",
      "[ Info: Updating 68 Hyperrectangles using 8 thread(s)\n",
      "[ Info: Integrating 68 Hyperrectangles\n",
      "[ Info: MCMC Tuning cycle 3 finished, 10 chains, 0 tuned, 0 converged.\n",
      "[ Info: Estimating Uncertainty (cov. weighted result)\n",
      "[ Info: BATPar: Sampling subspace 59:\n",
      "[ Info: Trying to generate 10 viable MCMC chain(s).\n",
      "[ Info: Selected 10 MCMC chain(s).\n",
      "[ Info: Begin tuning of 10 MCMC chain(s).\n",
      "[ Info: MCMC Tuning cycle 4 finished, 10 chains, 0 tuned, 0 converged.\n",
      "[ Info: MCMC Tuning cycle 1 finished, 10 chains, 0 tuned, 0 converged.\n",
      "[ Info: MCMC Tuning cycle 2 finished, 10 chains, 0 tuned, 0 converged.\n",
      "[ Info: MCMC Tuning cycle 3 finished, 10 chains, 0 tuned, 0 converged.\n",
      "[ Info: MCMC Tuning cycle 4 finished, 10 chains, 0 tuned, 0 converged.\n",
      "[ Info: MCMC Tuning cycle 5 finished, 10 chains, 1 tuned, 0 converged.\n",
      "[ Info: MCMC Tuning cycle 6 finished, 10 chains, 3 tuned, 0 converged.\n",
      "[ Info: MCMC Tuning cycle 7 finished, 10 chains, 10 tuned, 10 converged.\n",
      "[ Info: MCMC tuning of 10 chains successful after 7 cycle(s).\n",
      "[ Info: MCMC Tuning cycle 5 finished, 10 chains, 0 tuned, 0 converged.\n",
      "[ Info: MCMC Tuning cycle 6 finished, 10 chains, 3 tuned, 0 converged.\n",
      "[ Info: MCMC Tuning cycle 7 finished, 10 chains, 6 tuned, 0 converged.\n",
      "[ Info: MCMC Tuning cycle 8 finished, 10 chains, 5 tuned, 0 converged.\n",
      "[ Info: MCMC Tuning cycle 9 finished, 10 chains, 9 tuned, 0 converged.\n",
      "[ Info: MCMC Tuning cycle 10 finished, 10 chains, 8 tuned, 10 converged.\n",
      "[ Info: Harmonic Mean Integration started. Samples in dataset 1 / 2: \t50000 / 49999\tParameters:\t6\n",
      "[ Info: Data Whitening.\n",
      "[ Info: Apply Whitening Transformation to Data Set 2\n",
      "[ Info: Create Space Partitioning Tree\n",
      "[ Info: Determine Hyperrectangle Starting Samples\n",
      "[ Info: Harmonic Mean Integration started. Samples in dataset 1 / 2: \t50000 / 49999\tParameters:\t6\n",
      "[ Info: Data Whitening.\n",
      "[ Info: Determine Tolerances for Hyperrectangle Creation\n",
      "[ Info: Apply Whitening Transformation to Data Set 2\n",
      "[ Info: Create Space Partitioning Tree\n",
      "[ Info: MCMC Tuning cycle 11 finished, 10 chains, 8 tuned, 0 converged.\n",
      "[ Info: Determine Hyperrectangle Starting Samples\n",
      "[ Info: MCMC Tuning cycle 12 finished, 10 chains, 10 tuned, 0 converged.\n",
      "[ Info: Determine Tolerances for Hyperrectangle Creation\n",
      "[ Info: MCMC Tuning cycle 13 finished, 10 chains, 10 tuned, 0 converged.\n",
      "[ Info: MCMC Tuning cycle 14 finished, 10 chains, 9 tuned, 0 converged.\n",
      "[ Info: MCMC Tuning cycle 15 finished, 10 chains, 10 tuned, 0 converged.\n",
      "[ Info: MCMC Tuning cycle 16 finished, 10 chains, 9 tuned, 10 converged.\n",
      "[ Info: MCMC Tuning cycle 17 finished, 10 chains, 10 tuned, 0 converged.\n",
      "[ Info: MCMC Tuning cycle 18 finished, 10 chains, 10 tuned, 10 converged.\n",
      "[ Info: MCMC tuning of 10 chains successful after 18 cycle(s).\n",
      "[ Info: Create 56 Hyperrectangles using 8 thread(s)\n",
      "[ Info: Harmonic Mean Integration started. Samples in dataset 1 / 2: \t50000 / 49999\tParameters:\t6\n",
      "[ Info: Data Whitening.\n",
      "[ Info: Apply Whitening Transformation to Data Set 2\n",
      "[ Info: Create Space Partitioning Tree\n",
      "[ Info: Determine Hyperrectangle Starting Samples\n",
      "[ Info: Determine Tolerances for Hyperrectangle Creation\n",
      "[ Info: Create 56 Hyperrectangles using 8 thread(s)\n"
     ]
    },
    {
     "name": "stdout",
     "output_type": "stream",
     "text": [
      "Progress: 100%|█████████████████████████████████████████| Time: 0:00:01\u001b[K\n"
     ]
    },
    {
     "name": "stderr",
     "output_type": "stream",
     "text": [
      "[ Info: Updating 56 Hyperrectangles using 8 thread(s)\n",
      "[ Info: Integrating 56 Hyperrectangles\n",
      "[ Info: Estimating Uncertainty (cov. weighted result)\n",
      "[ Info: BATPar: Sampling subspace 60:\n",
      "[ Info: Trying to generate 10 viable MCMC chain(s).\n",
      "[ Info: Selected 10 MCMC chain(s).\n",
      "[ Info: Begin tuning of 10 MCMC chain(s).\n",
      "[ Info: Harmonic Mean Integration started. Samples in dataset 1 / 2: \t50000 / 49999\tParameters:\t6\n",
      "[ Info: Data Whitening.\n",
      "[ Info: MCMC Tuning cycle 1 finished, 10 chains, 0 tuned, 0 converged.\n",
      "[ Info: Apply Whitening Transformation to Data Set 2\n",
      "[ Info: Create Space Partitioning Tree\n",
      "[ Info: MCMC Tuning cycle 2 finished, 10 chains, 0 tuned, 0 converged.\n",
      "[ Info: MCMC Tuning cycle 3 finished, 10 chains, 0 tuned, 0 converged.\n"
     ]
    },
    {
     "name": "stdout",
     "output_type": "stream",
     "text": [
      "Progress: 100%|█████████████████████████████████████████| Time: 0:00:01\u001b[K\n"
     ]
    },
    {
     "name": "stderr",
     "output_type": "stream",
     "text": [
      "[ Info: MCMC Tuning cycle 4 finished, 10 chains, 0 tuned, 0 converged.\n",
      "[ Info: Determine Hyperrectangle Starting Samples\n",
      "[ Info: Updating 56 Hyperrectangles using 8 thread(s)\n",
      "[ Info: Integrating 56 Hyperrectangles\n",
      "[ Info: MCMC Tuning cycle 5 finished, 10 chains, 0 tuned, 0 converged.\n",
      "[ Info: Estimating Uncertainty (cov. weighted result)\n",
      "[ Info: BATPar: Sampling subspace 61:\n",
      "[ Info: Trying to generate 10 viable MCMC chain(s).\n",
      "[ Info: Selected 10 MCMC chain(s).\n",
      "[ Info: Begin tuning of 10 MCMC chain(s).\n",
      "[ Info: Determine Tolerances for Hyperrectangle Creation\n",
      "[ Info: MCMC Tuning cycle 6 finished, 10 chains, 3 tuned, 10 converged.\n",
      "[ Info: MCMC Tuning cycle 7 finished, 10 chains, 5 tuned, 0 converged.\n",
      "[ Info: MCMC Tuning cycle 1 finished, 10 chains, 0 tuned, 0 converged.\n",
      "[ Info: Create 55 Hyperrectangles using 8 thread(s)\n",
      "[ Info: MCMC Tuning cycle 2 finished, 10 chains, 0 tuned, 0 converged.\n",
      "[ Info: MCMC Tuning cycle 3 finished, 10 chains, 0 tuned, 0 converged.\n",
      "[ Info: MCMC Tuning cycle 4 finished, 10 chains, 0 tuned, 0 converged.\n",
      "[ Info: MCMC Tuning cycle 5 finished, 10 chains, 1 tuned, 10 converged.\n",
      "[ Info: MCMC Tuning cycle 8 finished, 10 chains, 10 tuned, 0 converged.\n",
      "[ Info: MCMC Tuning cycle 6 finished, 10 chains, 2 tuned, 10 converged.\n",
      "[ Info: MCMC Tuning cycle 9 finished, 10 chains, 8 tuned, 0 converged.\n",
      "[ Info: MCMC Tuning cycle 10 finished, 10 chains, 8 tuned, 0 converged.\n",
      "[ Info: MCMC Tuning cycle 7 finished, 10 chains, 8 tuned, 0 converged.\n",
      "[ Info: MCMC Tuning cycle 11 finished, 10 chains, 9 tuned, 10 converged.\n",
      "[ Info: MCMC Tuning cycle 12 finished, 10 chains, 10 tuned, 0 converged.\n",
      "[ Info: MCMC Tuning cycle 13 finished, 10 chains, 10 tuned, 0 converged.\n"
     ]
    },
    {
     "name": "stdout",
     "output_type": "stream",
     "text": [
      "Progress: 100%|█████████████████████████████████████████| Time: 0:00:01\u001b[K\n"
     ]
    },
    {
     "name": "stderr",
     "output_type": "stream",
     "text": [
      "[ Info: MCMC Tuning cycle 14 finished, 10 chains, 10 tuned, 0 converged.\n",
      "[ Info: MCMC Tuning cycle 8 finished, 10 chains, 10 tuned, 10 converged.\n",
      "[ Info: MCMC tuning of 10 chains successful after 8 cycle(s).\n",
      "[ Info: Updating 55 Hyperrectangles using 8 thread(s)\n",
      "[ Info: Integrating 55 Hyperrectangles\n",
      "[ Info: Estimating Uncertainty (cov. weighted result)\n",
      "[ Info: BATPar: Sampling subspace 62:\n",
      "[ Info: Trying to generate 10 viable MCMC chain(s).\n",
      "[ Info: MCMC Tuning cycle 15 finished, 10 chains, 10 tuned, 0 converged.\n",
      "[ Info: Create 65 Hyperrectangles using 8 thread(s)\n",
      "[ Info: MCMC Tuning cycle 16 finished, 10 chains, 10 tuned, 0 converged.\n",
      "[ Info: MCMC Tuning cycle 17 finished, 10 chains, 10 tuned, 0 converged.\n",
      "[ Info: Selected 10 MCMC chain(s).\n",
      "[ Info: Begin tuning of 10 MCMC chain(s).\n",
      "[ Info: MCMC Tuning cycle 1 finished, 10 chains, 0 tuned, 0 converged.\n",
      "[ Info: MCMC Tuning cycle 18 finished, 10 chains, 9 tuned, 10 converged.\n",
      "[ Info: MCMC Tuning cycle 2 finished, 10 chains, 0 tuned, 0 converged.\n",
      "[ Info: MCMC Tuning cycle 19 finished, 10 chains, 10 tuned, 10 converged.\n",
      "[ Info: MCMC tuning of 10 chains successful after 19 cycle(s).\n",
      "[ Info: MCMC Tuning cycle 3 finished, 10 chains, 0 tuned, 0 converged.\n",
      "[ Info: MCMC Tuning cycle 4 finished, 10 chains, 0 tuned, 10 converged.\n",
      "[ Info: MCMC Tuning cycle 5 finished, 10 chains, 2 tuned, 0 converged.\n",
      "[ Info: MCMC Tuning cycle 6 finished, 10 chains, 10 tuned, 10 converged.\n",
      "[ Info: MCMC tuning of 10 chains successful after 6 cycle(s).\n"
     ]
    },
    {
     "name": "stdout",
     "output_type": "stream",
     "text": [
      "Progress: 100%|█████████████████████████████████████████| Time: 0:00:01\u001b[K\n"
     ]
    },
    {
     "name": "stderr",
     "output_type": "stream",
     "text": [
      "[ Info: Updating 65 Hyperrectangles using 8 thread(s)\n",
      "[ Info: Integrating 65 Hyperrectangles\n",
      "[ Info: Estimating Uncertainty (cov. weighted result)\n",
      "[ Info: BATPar: Sampling subspace 63:\n",
      "[ Info: Trying to generate 10 viable MCMC chain(s).\n",
      "[ Info: Selected 10 MCMC chain(s).\n",
      "[ Info: Begin tuning of 10 MCMC chain(s).\n",
      "[ Info: MCMC Tuning cycle 1 finished, 10 chains, 0 tuned, 0 converged.\n",
      "[ Info: MCMC Tuning cycle 2 finished, 10 chains, 1 tuned, 0 converged.\n",
      "[ Info: MCMC Tuning cycle 3 finished, 10 chains, 1 tuned, 0 converged.\n",
      "[ Info: MCMC Tuning cycle 4 finished, 10 chains, 0 tuned, 0 converged.\n",
      "[ Info: MCMC Tuning cycle 5 finished, 10 chains, 0 tuned, 0 converged.\n",
      "[ Info: MCMC Tuning cycle 6 finished, 10 chains, 2 tuned, 0 converged.\n",
      "[ Info: Harmonic Mean Integration started. Samples in dataset 1 / 2: \t50000 / 49999\tParameters:\t6\n",
      "[ Info: Data Whitening.\n",
      "[ Info: MCMC Tuning cycle 7 finished, 10 chains, 3 tuned, 0 converged.\n",
      "[ Info: Apply Whitening Transformation to Data Set 2\n",
      "[ Info: Create Space Partitioning Tree\n",
      "[ Info: MCMC Tuning cycle 8 finished, 10 chains, 7 tuned, 0 converged.\n",
      "[ Info: Harmonic Mean Integration started. Samples in dataset 1 / 2: \t50000 / 49999\tParameters:\t6\n",
      "[ Info: Data Whitening.\n",
      "[ Info: MCMC Tuning cycle 9 finished, 10 chains, 9 tuned, 0 converged.\n",
      "[ Info: Apply Whitening Transformation to Data Set 2\n",
      "[ Info: Determine Hyperrectangle Starting Samples\n",
      "[ Info: Create Space Partitioning Tree\n",
      "[ Info: MCMC Tuning cycle 10 finished, 10 chains, 9 tuned, 0 converged.\n",
      "[ Info: Determine Tolerances for Hyperrectangle Creation\n",
      "[ Info: Determine Hyperrectangle Starting Samples\n",
      "[ Info: MCMC Tuning cycle 11 finished, 10 chains, 10 tuned, 0 converged.\n",
      "[ Info: Determine Tolerances for Hyperrectangle Creation\n",
      "[ Info: MCMC Tuning cycle 12 finished, 10 chains, 9 tuned, 0 converged.\n",
      "[ Info: MCMC Tuning cycle 13 finished, 10 chains, 9 tuned, 10 converged.\n",
      "[ Info: Harmonic Mean Integration started. Samples in dataset 1 / 2: \t50000 / 49999\tParameters:\t6\n",
      "[ Info: Data Whitening.\n",
      "[ Info: Apply Whitening Transformation to Data Set 2\n",
      "[ Info: Create Space Partitioning Tree\n",
      "[ Info: Determine Hyperrectangle Starting Samples\n",
      "[ Info: Determine Tolerances for Hyperrectangle Creation\n",
      "[ Info: MCMC Tuning cycle 14 finished, 10 chains, 10 tuned, 0 converged.\n",
      "[ Info: MCMC Tuning cycle 15 finished, 10 chains, 10 tuned, 0 converged.\n",
      "[ Info: Create 60 Hyperrectangles using 8 thread(s)\n",
      "[ Info: Create 108 Hyperrectangles using 8 thread(s)\n",
      "[ Info: MCMC Tuning cycle 16 finished, 10 chains, 10 tuned, 0 converged.\n",
      "[ Info: Create 90 Hyperrectangles using 8 thread(s)\n",
      "[ Info: MCMC Tuning cycle 17 finished, 10 chains, 10 tuned, 0 converged.\n",
      "[ Info: MCMC Tuning cycle 18 finished, 10 chains, 9 tuned, 10 converged.\n",
      "[ Info: MCMC Tuning cycle 19 finished, 10 chains, 9 tuned, 0 converged.\n",
      "[ Info: MCMC Tuning cycle 20 finished, 10 chains, 10 tuned, 0 converged.\n",
      "[ Info: MCMC Tuning cycle 21 finished, 10 chains, 10 tuned, 0 converged.\n",
      "[ Info: MCMC Tuning cycle 22 finished, 10 chains, 10 tuned, 0 converged.\n",
      "[ Info: MCMC Tuning cycle 23 finished, 10 chains, 10 tuned, 0 converged.\n"
     ]
    },
    {
     "name": "stdout",
     "output_type": "stream",
     "text": [
      "Progress: 100%|█████████████████████████████████████████| Time: 0:00:01\u001b[K\n"
     ]
    },
    {
     "name": "stderr",
     "output_type": "stream",
     "text": [
      "[ Info: MCMC Tuning cycle 24 finished, 10 chains, 10 tuned, 0 converged.\n",
      "[ Info: Updating 60 Hyperrectangles using 8 thread(s)\n",
      "[ Info: Integrating 60 Hyperrectangles\n",
      "[ Info: Estimating Uncertainty (cov. weighted result)\n",
      "[ Info: BATPar: Sampling subspace 64:\n",
      "[ Info: Trying to generate 10 viable MCMC chain(s).\n",
      "[ Info: MCMC Tuning cycle 25 finished, 10 chains, 9 tuned, 0 converged.\n",
      "[ Info: Selected 10 MCMC chain(s).\n",
      "[ Info: Begin tuning of 10 MCMC chain(s).\n",
      "[ Info: MCMC Tuning cycle 26 finished, 10 chains, 10 tuned, 0 converged.\n",
      "[ Info: MCMC Tuning cycle 1 finished, 10 chains, 0 tuned, 0 converged.\n",
      "[ Info: MCMC Tuning cycle 27 finished, 10 chains, 10 tuned, 10 converged.\n",
      "[ Info: MCMC tuning of 10 chains successful after 27 cycle(s).\n",
      "[ Info: MCMC Tuning cycle 2 finished, 10 chains, 0 tuned, 0 converged.\n",
      "[ Info: MCMC Tuning cycle 3 finished, 10 chains, 0 tuned, 0 converged.\n",
      "[ Info: MCMC Tuning cycle 4 finished, 10 chains, 0 tuned, 0 converged.\n",
      "[ Info: MCMC Tuning cycle 5 finished, 10 chains, 0 tuned, 10 converged.\n",
      "[ Info: MCMC Tuning cycle 6 finished, 10 chains, 3 tuned, 10 converged.\n"
     ]
    },
    {
     "name": "stdout",
     "output_type": "stream",
     "text": [
      "Progress: 100%|█████████████████████████████████████████| Time: 0:00:02\u001b[K\n"
     ]
    },
    {
     "name": "stderr",
     "output_type": "stream",
     "text": [
      "[ Info: Updating 90 Hyperrectangles using 8 thread(s)\n",
      "[ Info: Integrating 90 Hyperrectangles\n"
     ]
    },
    {
     "name": "stdout",
     "output_type": "stream",
     "text": [
      "Progress: 100%|█████████████████████████████████████████| Time: 0:00:00\u001b[K\n"
     ]
    },
    {
     "name": "stderr",
     "output_type": "stream",
     "text": [
      "[ Info: Estimating Uncertainty (cov. weighted result)\n",
      "[ Info: BATPar: Sampling subspace 65:\n",
      "[ Info: Trying to generate 10 viable MCMC chain(s).\n",
      "[ Info: Selected 10 MCMC chain(s).\n",
      "[ Info: Begin tuning of 10 MCMC chain(s).\n",
      "[ Info: MCMC Tuning cycle 1 finished, 10 chains, 0 tuned, 0 converged.\n"
     ]
    },
    {
     "name": "stdout",
     "output_type": "stream",
     "text": [
      "Progress: 100%|█████████████████████████████████████████| Time: 0:00:03\u001b[K\n"
     ]
    },
    {
     "name": "stderr",
     "output_type": "stream",
     "text": [
      "[ Info: MCMC Tuning cycle 7 finished, 10 chains, 8 tuned, 0 converged.\n",
      "[ Info: MCMC Tuning cycle 8 finished, 10 chains, 9 tuned, 0 converged.\n",
      "[ Info: Updating 108 Hyperrectangles using 8 thread(s)\n",
      "[ Info: Integrating 108 Hyperrectangles\n",
      "[ Info: MCMC Tuning cycle 9 finished, 10 chains, 7 tuned, 10 converged.\n",
      "[ Info: MCMC Tuning cycle 2 finished, 10 chains, 0 tuned, 0 converged.\n",
      "[ Info: MCMC Tuning cycle 3 finished, 10 chains, 0 tuned, 0 converged.\n",
      "[ Info: MCMC Tuning cycle 10 finished, 10 chains, 9 tuned, 10 converged.\n",
      "[ Info: MCMC Tuning cycle 4 finished, 10 chains, 1 tuned, 10 converged.\n"
     ]
    },
    {
     "name": "stdout",
     "output_type": "stream",
     "text": [
      "Progress: 100%|█████████████████████████████████████████| Time: 0:00:00\u001b[K\n"
     ]
    },
    {
     "name": "stderr",
     "output_type": "stream",
     "text": [
      "[ Info: MCMC Tuning cycle 11 finished, 10 chains, 10 tuned, 0 converged.\n",
      "[ Info: MCMC Tuning cycle 5 finished, 10 chains, 2 tuned, 10 converged.\n",
      "[ Info: Estimating Uncertainty (cov. weighted result)\n",
      "[ Info: BATPar: Sampling subspace 66:\n",
      "[ Info: Trying to generate 10 viable MCMC chain(s).\n",
      "[ Info: Selected 10 MCMC chain(s).\n",
      "[ Info: Begin tuning of 10 MCMC chain(s).\n",
      "[ Info: MCMC Tuning cycle 6 finished, 10 chains, 7 tuned, 10 converged.\n",
      "[ Info: MCMC Tuning cycle 1 finished, 10 chains, 0 tuned, 0 converged.\n",
      "[ Info: MCMC Tuning cycle 2 finished, 10 chains, 0 tuned, 0 converged.\n",
      "[ Info: MCMC Tuning cycle 7 finished, 10 chains, 8 tuned, 0 converged.\n",
      "[ Info: MCMC Tuning cycle 3 finished, 10 chains, 0 tuned, 0 converged.\n",
      "[ Info: MCMC Tuning cycle 12 finished, 10 chains, 9 tuned, 0 converged.\n",
      "[ Info: MCMC Tuning cycle 4 finished, 10 chains, 1 tuned, 0 converged.\n",
      "[ Info: MCMC Tuning cycle 13 finished, 10 chains, 10 tuned, 0 converged.\n",
      "[ Info: MCMC Tuning cycle 14 finished, 10 chains, 10 tuned, 0 converged.\n",
      "[ Info: MCMC Tuning cycle 5 finished, 10 chains, 2 tuned, 0 converged.\n",
      "[ Info: MCMC Tuning cycle 6 finished, 10 chains, 4 tuned, 0 converged.\n",
      "[ Info: MCMC Tuning cycle 7 finished, 10 chains, 6 tuned, 0 converged.\n",
      "[ Info: MCMC Tuning cycle 8 finished, 10 chains, 10 tuned, 0 converged.\n",
      "[ Info: MCMC Tuning cycle 9 finished, 10 chains, 9 tuned, 10 converged.\n",
      "[ Info: MCMC Tuning cycle 8 finished, 10 chains, 7 tuned, 10 converged.\n",
      "[ Info: MCMC Tuning cycle 15 finished, 10 chains, 9 tuned, 10 converged.\n",
      "[ Info: MCMC Tuning cycle 10 finished, 10 chains, 10 tuned, 0 converged.\n",
      "[ Info: MCMC Tuning cycle 16 finished, 10 chains, 10 tuned, 0 converged.\n",
      "[ Info: MCMC Tuning cycle 11 finished, 10 chains, 9 tuned, 0 converged.\n",
      "[ Info: MCMC Tuning cycle 17 finished, 10 chains, 10 tuned, 10 converged.\n",
      "[ Info: MCMC tuning of 10 chains successful after 17 cycle(s).\n",
      "[ Info: MCMC Tuning cycle 12 finished, 10 chains, 10 tuned, 0 converged.\n",
      "[ Info: MCMC Tuning cycle 13 finished, 10 chains, 9 tuned, 10 converged.\n",
      "[ Info: Harmonic Mean Integration started. Samples in dataset 1 / 2: \t50000 / 49999\tParameters:\t6\n",
      "[ Info: Data Whitening.\n",
      "[ Info: Apply Whitening Transformation to Data Set 2\n",
      "[ Info: Create Space Partitioning Tree\n",
      "[ Info: MCMC Tuning cycle 14 finished, 10 chains, 10 tuned, 10 converged.\n",
      "[ Info: MCMC tuning of 10 chains successful after 14 cycle(s).\n",
      "[ Info: MCMC Tuning cycle 9 finished, 10 chains, 9 tuned, 10 converged.\n",
      "[ Info: Determine Hyperrectangle Starting Samples\n",
      "[ Info: MCMC Tuning cycle 10 finished, 10 chains, 10 tuned, 10 converged.\n",
      "[ Info: MCMC tuning of 10 chains successful after 10 cycle(s).\n",
      "[ Info: Determine Tolerances for Hyperrectangle Creation\n",
      "[ Info: Create 92 Hyperrectangles using 8 thread(s)\n",
      "[ Info: Harmonic Mean Integration started. Samples in dataset 1 / 2: \t50000 / 49999\tParameters:\t6\n",
      "[ Info: Data Whitening.\n",
      "[ Info: Apply Whitening Transformation to Data Set 2\n",
      "[ Info: Create Space Partitioning Tree\n",
      "[ Info: Determine Hyperrectangle Starting Samples\n",
      "[ Info: Determine Tolerances for Hyperrectangle Creation\n",
      "[ Info: Harmonic Mean Integration started. Samples in dataset 1 / 2: \t50000 / 49999\tParameters:\t6\n",
      "[ Info: Data Whitening.\n",
      "[ Info: Apply Whitening Transformation to Data Set 2\n",
      "[ Info: Create Space Partitioning Tree\n",
      "[ Info: Determine Hyperrectangle Starting Samples\n",
      "[ Info: Determine Tolerances for Hyperrectangle Creation\n",
      "[ Info: Harmonic Mean Integration started. Samples in dataset 1 / 2: \t50000 / 49999\tParameters:\t6\n",
      "[ Info: Data Whitening.\n",
      "[ Info: Apply Whitening Transformation to Data Set 2\n",
      "[ Info: Create Space Partitioning Tree\n",
      "[ Info: Determine Hyperrectangle Starting Samples\n",
      "[ Info: Determine Tolerances for Hyperrectangle Creation\n"
     ]
    },
    {
     "name": "stdout",
     "output_type": "stream",
     "text": [
      "Progress: 100%|█████████████████████████████████████████| Time: 0:00:01\u001b[K\n"
     ]
    },
    {
     "name": "stderr",
     "output_type": "stream",
     "text": [
      "[ Info: Create 55 Hyperrectangles using 8 thread(s)\n",
      "[ Info: Updating 92 Hyperrectangles using 8 thread(s)\n",
      "[ Info: Integrating 92 Hyperrectangles\n",
      "[ Info: Estimating Uncertainty (cov. weighted result)\n",
      "[ Info: BATPar: Sampling subspace 67:\n",
      "[ Info: Trying to generate 10 viable MCMC chain(s).\n",
      "[ Info: Selected 10 MCMC chain(s).\n",
      "[ Info: Begin tuning of 10 MCMC chain(s).\n",
      "[ Info: MCMC Tuning cycle 1 finished, 10 chains, 0 tuned, 0 converged.\n",
      "[ Info: MCMC Tuning cycle 2 finished, 10 chains, 0 tuned, 0 converged.\n",
      "[ Info: MCMC Tuning cycle 3 finished, 10 chains, 1 tuned, 0 converged.\n",
      "[ Info: Create 54 Hyperrectangles using 8 thread(s)\n",
      "[ Info: Create 105 Hyperrectangles using 8 thread(s)\n"
     ]
    },
    {
     "name": "stdout",
     "output_type": "stream",
     "text": [
      "Progress: 100%|█████████████████████████████████████████| Time: 0:00:01\u001b[K\n"
     ]
    },
    {
     "name": "stderr",
     "output_type": "stream",
     "text": [
      "[ Info: Updating 55 Hyperrectangles using 8 thread(s)\n",
      "[ Info: MCMC Tuning cycle 4 finished, 10 chains, 1 tuned, 0 converged.\n",
      "[ Info: Integrating 55 Hyperrectangles\n",
      "[ Info: Estimating Uncertainty (cov. weighted result)\n",
      "[ Info: BATPar: Sampling subspace 68:\n",
      "[ Info: Trying to generate 10 viable MCMC chain(s).\n",
      "[ Info: MCMC Tuning cycle 5 finished, 10 chains, 3 tuned, 0 converged.\n",
      "[ Info: Selected 10 MCMC chain(s).\n",
      "[ Info: Begin tuning of 10 MCMC chain(s).\n",
      "[ Info: MCMC Tuning cycle 6 finished, 10 chains, 3 tuned, 10 converged.\n",
      "[ Info: MCMC Tuning cycle 1 finished, 10 chains, 0 tuned, 0 converged.\n",
      "[ Info: MCMC Tuning cycle 7 finished, 10 chains, 9 tuned, 0 converged.\n",
      "[ Info: MCMC Tuning cycle 2 finished, 10 chains, 0 tuned, 0 converged.\n",
      "[ Info: MCMC Tuning cycle 8 finished, 10 chains, 10 tuned, 0 converged.\n"
     ]
    },
    {
     "name": "stdout",
     "output_type": "stream",
     "text": [
      "Progress: 100%|█████████████████████████████████████████| Time: 0:00:01\u001b[K\n"
     ]
    },
    {
     "name": "stderr",
     "output_type": "stream",
     "text": [
      "[ Info: Updating 54 Hyperrectangles using 8 thread(s)\n",
      "[ Info: Integrating 54 Hyperrectangles\n",
      "[ Info: MCMC Tuning cycle 3 finished, 10 chains, 0 tuned, 0 converged.\n",
      "[ Info: MCMC Tuning cycle 9 finished, 10 chains, 9 tuned, 0 converged.\n"
     ]
    },
    {
     "name": "stdout",
     "output_type": "stream",
     "text": [
      "Progress: 100%|█████████████████████████████████████████| Time: 0:00:00\u001b[K\n"
     ]
    },
    {
     "name": "stderr",
     "output_type": "stream",
     "text": [
      "[ Info: MCMC Tuning cycle 4 finished, 10 chains, 0 tuned, 0 converged.\n",
      "[ Info: MCMC Tuning cycle 10 finished, 10 chains, 7 tuned, 0 converged.\n",
      "[ Info: Estimating Uncertainty (cov. weighted result)\n",
      "[ Info: MCMC Tuning cycle 5 finished, 10 chains, 3 tuned, 10 converged.\n",
      "[ Info: BATPar: Sampling subspace 69:\n",
      "[ Info: Trying to generate 10 viable MCMC chain(s).\n",
      "[ Info: Selected 10 MCMC chain(s).\n",
      "[ Info: Begin tuning of 10 MCMC chain(s).\n",
      "[ Info: MCMC Tuning cycle 6 finished, 10 chains, 6 tuned, 0 converged.\n",
      "[ Info: MCMC Tuning cycle 1 finished, 10 chains, 0 tuned, 0 converged.\n",
      "[ Info: MCMC Tuning cycle 11 finished, 10 chains, 9 tuned, 0 converged.\n",
      "[ Info: MCMC Tuning cycle 12 finished, 10 chains, 9 tuned, 0 converged.\n",
      "[ Info: MCMC Tuning cycle 7 finished, 10 chains, 6 tuned, 0 converged.\n",
      "[ Info: MCMC Tuning cycle 2 finished, 10 chains, 0 tuned, 0 converged.\n",
      "[ Info: MCMC Tuning cycle 8 finished, 10 chains, 8 tuned, 10 converged.\n",
      "[ Info: MCMC Tuning cycle 3 finished, 10 chains, 0 tuned, 0 converged.\n",
      "[ Info: MCMC Tuning cycle 9 finished, 10 chains, 9 tuned, 10 converged.\n",
      "[ Info: MCMC Tuning cycle 4 finished, 10 chains, 0 tuned, 0 converged.\n",
      "[ Info: MCMC Tuning cycle 13 finished, 10 chains, 9 tuned, 10 converged.\n",
      "[ Info: MCMC Tuning cycle 14 finished, 10 chains, 10 tuned, 10 converged.\n",
      "[ Info: MCMC tuning of 10 chains successful after 14 cycle(s).\n",
      "[ Info: MCMC Tuning cycle 5 finished, 10 chains, 2 tuned, 10 converged.\n",
      "[ Info: MCMC Tuning cycle 6 finished, 10 chains, 8 tuned, 10 converged.\n",
      "[ Info: MCMC Tuning cycle 7 finished, 10 chains, 10 tuned, 10 converged.\n",
      "[ Info: MCMC tuning of 10 chains successful after 7 cycle(s).\n",
      "[ Info: MCMC Tuning cycle 10 finished, 10 chains, 10 tuned, 0 converged.\n",
      "[ Info: MCMC Tuning cycle 11 finished, 10 chains, 9 tuned, 10 converged.\n",
      "[ Info: MCMC Tuning cycle 12 finished, 10 chains, 9 tuned, 10 converged.\n",
      "[ Info: MCMC Tuning cycle 13 finished, 10 chains, 10 tuned, 10 converged.\n",
      "[ Info: MCMC tuning of 10 chains successful after 13 cycle(s).\n"
     ]
    },
    {
     "name": "stdout",
     "output_type": "stream",
     "text": [
      "Progress: 100%|█████████████████████████████████████████| Time: 0:00:04\u001b[K\n"
     ]
    },
    {
     "name": "stderr",
     "output_type": "stream",
     "text": [
      "[ Info: Updating 105 Hyperrectangles using 8 thread(s)\n",
      "[ Info: Integrating 105 Hyperrectangles\n",
      "[ Info: Harmonic Mean Integration started. Samples in dataset 1 / 2: \t50000 / 49999\tParameters:\t6\n",
      "[ Info: Data Whitening.\n",
      "[ Info: Apply Whitening Transformation to Data Set 2\n",
      "[ Info: Create Space Partitioning Tree\n",
      "[ Info: Estimating Uncertainty (cov. weighted result)\n",
      "[ Info: Determine Hyperrectangle Starting Samples\n",
      "[ Info: BATPar: Sampling subspace 70:\n",
      "[ Info: Trying to generate 10 viable MCMC chain(s).\n",
      "[ Info: Determine Tolerances for Hyperrectangle Creation\n",
      "[ Info: Selected 10 MCMC chain(s).\n",
      "[ Info: Begin tuning of 10 MCMC chain(s).\n",
      "[ Info: MCMC Tuning cycle 1 finished, 10 chains, 0 tuned, 0 converged.\n",
      "[ Info: MCMC Tuning cycle 2 finished, 10 chains, 0 tuned, 0 converged.\n",
      "[ Info: Harmonic Mean Integration started. Samples in dataset 1 / 2: \t50000 / 49999\tParameters:\t6\n",
      "[ Info: Data Whitening.\n",
      "[ Info: MCMC Tuning cycle 3 finished, 10 chains, 0 tuned, 0 converged.\n",
      "[ Info: Apply Whitening Transformation to Data Set 2\n",
      "[ Info: Create Space Partitioning Tree\n",
      "[ Info: MCMC Tuning cycle 4 finished, 10 chains, 0 tuned, 0 converged.\n",
      "[ Info: Harmonic Mean Integration started. Samples in dataset 1 / 2: \t50000 / 49999\tParameters:\t6\n",
      "[ Info: Data Whitening.\n",
      "[ Info: Determine Hyperrectangle Starting Samples\n",
      "[ Info: Apply Whitening Transformation to Data Set 2\n",
      "[ Info: Create Space Partitioning Tree\n",
      "[ Info: MCMC Tuning cycle 5 finished, 10 chains, 1 tuned, 0 converged.\n",
      "[ Info: Determine Tolerances for Hyperrectangle Creation\n",
      "[ Info: MCMC Tuning cycle 6 finished, 10 chains, 6 tuned, 10 converged.\n",
      "[ Info: Create 61 Hyperrectangles using 8 thread(s)\n",
      "[ Info: Determine Hyperrectangle Starting Samples\n",
      "[ Info: Determine Tolerances for Hyperrectangle Creation\n",
      "[ Info: Create 101 Hyperrectangles using 8 thread(s)\n",
      "[ Info: MCMC Tuning cycle 7 finished, 10 chains, 7 tuned, 10 converged.\n",
      "[ Info: MCMC Tuning cycle 8 finished, 10 chains, 8 tuned, 0 converged.\n",
      "[ Info: MCMC Tuning cycle 9 finished, 10 chains, 10 tuned, 0 converged.\n",
      "[ Info: MCMC Tuning cycle 10 finished, 10 chains, 10 tuned, 0 converged.\n"
     ]
    },
    {
     "name": "stdout",
     "output_type": "stream",
     "text": [
      "Progress: 100%|█████████████████████████████████████████| Time: 0:00:00\u001b[K\n"
     ]
    },
    {
     "name": "stderr",
     "output_type": "stream",
     "text": [
      "[ Info: MCMC Tuning cycle 11 finished, 10 chains, 9 tuned, 10 converged.\n",
      "[ Info: Create 91 Hyperrectangles using 8 thread(s)\n",
      "[ Info: MCMC Tuning cycle 12 finished, 10 chains, 9 tuned, 0 converged.\n",
      "[ Info: MCMC Tuning cycle 13 finished, 10 chains, 9 tuned, 10 converged.\n",
      "[ Info: Updating 61 Hyperrectangles using 8 thread(s)\n",
      "[ Info: Integrating 61 Hyperrectangles\n",
      "[ Info: Estimating Uncertainty (cov. weighted result)\n",
      "[ Info: BATPar: Sampling subspace 71:\n",
      "[ Info: Trying to generate 10 viable MCMC chain(s).\n",
      "[ Info: MCMC Tuning cycle 14 finished, 10 chains, 10 tuned, 10 converged.\n",
      "[ Info: MCMC tuning of 10 chains successful after 14 cycle(s).\n",
      "[ Info: Selected 10 MCMC chain(s).\n",
      "[ Info: Begin tuning of 10 MCMC chain(s).\n",
      "[ Info: MCMC Tuning cycle 1 finished, 10 chains, 0 tuned, 0 converged.\n",
      "[ Info: MCMC Tuning cycle 2 finished, 10 chains, 0 tuned, 0 converged.\n",
      "[ Info: MCMC Tuning cycle 3 finished, 10 chains, 0 tuned, 0 converged.\n",
      "[ Info: MCMC Tuning cycle 4 finished, 10 chains, 0 tuned, 0 converged.\n",
      "[ Info: MCMC Tuning cycle 5 finished, 10 chains, 0 tuned, 0 converged.\n",
      "[ Info: MCMC Tuning cycle 6 finished, 10 chains, 1 tuned, 0 converged.\n"
     ]
    },
    {
     "name": "stdout",
     "output_type": "stream",
     "text": [
      "Progress: 100%|█████████████████████████████████████████| Time: 0:00:02\u001b[K\n"
     ]
    },
    {
     "name": "stderr",
     "output_type": "stream",
     "text": [
      "[ Info: MCMC Tuning cycle 7 finished, 10 chains, 6 tuned, 0 converged.\n",
      "[ Info: MCMC Tuning cycle 8 finished, 10 chains, 7 tuned, 10 converged.\n",
      "[ Info: Updating 101 Hyperrectangles using 8 thread(s)\n",
      "[ Info: Integrating 101 Hyperrectangles\n",
      "[ Info: MCMC Tuning cycle 9 finished, 10 chains, 9 tuned, 10 converged.\n"
     ]
    },
    {
     "name": "stdout",
     "output_type": "stream",
     "text": [
      "Progress: 100%|█████████████████████████████████████████| Time: 0:00:00\u001b[K\n"
     ]
    },
    {
     "name": "stderr",
     "output_type": "stream",
     "text": [
      "[ Info: Estimating Uncertainty (cov. weighted result)\n",
      "[ Info: BATPar: Sampling subspace 72:\n",
      "[ Info: Trying to generate 10 viable MCMC chain(s).\n",
      "[ Info: MCMC Tuning cycle 10 finished, 10 chains, 10 tuned, 10 converged.\n",
      "[ Info: MCMC tuning of 10 chains successful after 10 cycle(s).\n",
      "[ Info: Selected 10 MCMC chain(s).\n",
      "[ Info: Begin tuning of 10 MCMC chain(s).\n"
     ]
    },
    {
     "name": "stdout",
     "output_type": "stream",
     "text": [
      "Progress: 100%|█████████████████████████████████████████| Time: 0:00:02\u001b[K\n"
     ]
    },
    {
     "name": "stderr",
     "output_type": "stream",
     "text": [
      "[ Info: Updating 91 Hyperrectangles using 8 thread(s)\n",
      "[ Info: Integrating 91 Hyperrectangles\n",
      "[ Info: MCMC Tuning cycle 1 finished, 10 chains, 0 tuned, 0 converged.\n",
      "[ Info: MCMC Tuning cycle 2 finished, 10 chains, 0 tuned, 0 converged.\n"
     ]
    },
    {
     "name": "stdout",
     "output_type": "stream",
     "text": [
      "Progress: 100%|█████████████████████████████████████████| Time: 0:00:00\u001b[K\n"
     ]
    },
    {
     "name": "stderr",
     "output_type": "stream",
     "text": [
      "[ Info: Estimating Uncertainty (cov. weighted result)\n",
      "[ Info: BATPar: Sampling subspace 73:\n",
      "[ Info: Trying to generate 10 viable MCMC chain(s).\n",
      "[ Info: MCMC Tuning cycle 3 finished, 10 chains, 0 tuned, 0 converged.\n",
      "[ Info: Selected 10 MCMC chain(s).\n",
      "[ Info: Begin tuning of 10 MCMC chain(s).\n",
      "[ Info: MCMC Tuning cycle 4 finished, 10 chains, 0 tuned, 0 converged.\n",
      "[ Info: MCMC Tuning cycle 1 finished, 10 chains, 0 tuned, 0 converged.\n",
      "[ Info: MCMC Tuning cycle 5 finished, 10 chains, 0 tuned, 0 converged.\n",
      "[ Info: MCMC Tuning cycle 2 finished, 10 chains, 0 tuned, 0 converged.\n",
      "[ Info: MCMC Tuning cycle 6 finished, 10 chains, 1 tuned, 0 converged.\n",
      "[ Info: MCMC Tuning cycle 7 finished, 10 chains, 2 tuned, 0 converged.\n",
      "[ Info: MCMC Tuning cycle 8 finished, 10 chains, 5 tuned, 10 converged.\n",
      "[ Info: Harmonic Mean Integration started. Samples in dataset 1 / 2: \t50000 / 49999\tParameters:\t6\n",
      "[ Info: Data Whitening.\n",
      "[ Info: MCMC Tuning cycle 9 finished, 10 chains, 10 tuned, 0 converged.\n",
      "[ Info: Apply Whitening Transformation to Data Set 2\n",
      "[ Info: Create Space Partitioning Tree\n",
      "[ Info: MCMC Tuning cycle 3 finished, 10 chains, 0 tuned, 0 converged.\n",
      "[ Info: Determine Hyperrectangle Starting Samples\n",
      "[ Info: MCMC Tuning cycle 4 finished, 10 chains, 0 tuned, 0 converged.\n",
      "[ Info: Determine Tolerances for Hyperrectangle Creation\n",
      "[ Info: MCMC Tuning cycle 5 finished, 10 chains, 0 tuned, 0 converged.\n",
      "[ Info: MCMC Tuning cycle 6 finished, 10 chains, 2 tuned, 0 converged.\n",
      "[ Info: MCMC Tuning cycle 7 finished, 10 chains, 6 tuned, 0 converged.\n",
      "[ Info: MCMC Tuning cycle 10 finished, 10 chains, 10 tuned, 0 converged.\n",
      "[ Info: MCMC Tuning cycle 8 finished, 10 chains, 7 tuned, 10 converged.\n",
      "[ Info: MCMC Tuning cycle 11 finished, 10 chains, 9 tuned, 0 converged.\n",
      "[ Info: MCMC Tuning cycle 12 finished, 10 chains, 9 tuned, 0 converged.\n",
      "[ Info: MCMC Tuning cycle 13 finished, 10 chains, 10 tuned, 10 converged.\n",
      "[ Info: MCMC tuning of 10 chains successful after 13 cycle(s).\n",
      "[ Info: MCMC Tuning cycle 9 finished, 10 chains, 10 tuned, 10 converged.\n",
      "[ Info: MCMC tuning of 10 chains successful after 9 cycle(s).\n",
      "[ Info: Harmonic Mean Integration started. Samples in dataset 1 / 2: \t50000 / 49999\tParameters:\t6\n",
      "[ Info: Data Whitening.\n",
      "[ Info: Apply Whitening Transformation to Data Set 2\n",
      "[ Info: Create Space Partitioning Tree\n",
      "[ Info: Determine Hyperrectangle Starting Samples\n",
      "[ Info: Create 101 Hyperrectangles using 8 thread(s)\n",
      "[ Info: Determine Tolerances for Hyperrectangle Creation\n",
      "[ Info: Create 72 Hyperrectangles using 8 thread(s)\n",
      "[ Info: Harmonic Mean Integration started. Samples in dataset 1 / 2: \t50000 / 49999\tParameters:\t6\n",
      "[ Info: Data Whitening.\n",
      "[ Info: Apply Whitening Transformation to Data Set 2\n",
      "[ Info: Create Space Partitioning Tree\n",
      "[ Info: Determine Hyperrectangle Starting Samples\n"
     ]
    },
    {
     "name": "stdout",
     "output_type": "stream",
     "text": [
      "Progress: 100%|█████████████████████████████████████████| Time: 0:00:01\u001b[K\n"
     ]
    },
    {
     "name": "stderr",
     "output_type": "stream",
     "text": [
      "[ Info: Harmonic Mean Integration started. Samples in dataset 1 / 2: \t50000 / 49999\tParameters:\t6\n",
      "[ Info: Data Whitening.\n",
      "[ Info: Determine Tolerances for Hyperrectangle Creation\n",
      "[ Info: Apply Whitening Transformation to Data Set 2\n",
      "[ Info: Create Space Partitioning Tree\n",
      "[ Info: Updating 101 Hyperrectangles using 8 thread(s)\n",
      "[ Info: Integrating 101 Hyperrectangles\n"
     ]
    },
    {
     "name": "stdout",
     "output_type": "stream",
     "text": [
      "Progress: 100%|█████████████████████████████████████████| Time: 0:00:00\u001b[K\n"
     ]
    },
    {
     "name": "stderr",
     "output_type": "stream",
     "text": [
      "[ Info: Determine Hyperrectangle Starting Samples\n",
      "[ Info: Estimating Uncertainty (cov. weighted result)\n",
      "[ Info: BATPar: Sampling subspace 74:\n",
      "[ Info: Trying to generate 10 viable MCMC chain(s).\n",
      "[ Info: Determine Tolerances for Hyperrectangle Creation\n",
      "[ Info: Selected 10 MCMC chain(s).\n",
      "[ Info: Begin tuning of 10 MCMC chain(s).\n",
      "[ Info: Updating 72 Hyperrectangles using 8 thread(s)\n",
      "[ Info: Integrating 72 Hyperrectangles\n",
      "[ Info: MCMC Tuning cycle 1 finished, 10 chains, 0 tuned, 0 converged.\n",
      "[ Info: Estimating Uncertainty (cov. weighted result)\n",
      "[ Info: BATPar: Sampling subspace 75:\n",
      "[ Info: Trying to generate 10 viable MCMC chain(s).\n",
      "[ Info: MCMC Tuning cycle 2 finished, 10 chains, 0 tuned, 0 converged.\n",
      "[ Info: Selected 10 MCMC chain(s).\n",
      "[ Info: Begin tuning of 10 MCMC chain(s).\n",
      "[ Info: MCMC Tuning cycle 1 finished, 10 chains, 0 tuned, 0 converged.\n",
      "[ Info: MCMC Tuning cycle 3 finished, 10 chains, 0 tuned, 0 converged.\n",
      "[ Info: MCMC Tuning cycle 2 finished, 10 chains, 0 tuned, 0 converged.\n",
      "[ Info: MCMC Tuning cycle 4 finished, 10 chains, 0 tuned, 0 converged.\n",
      "[ Info: MCMC Tuning cycle 3 finished, 10 chains, 0 tuned, 0 converged.\n",
      "[ Info: MCMC Tuning cycle 5 finished, 10 chains, 0 tuned, 0 converged.\n",
      "[ Info: Create 93 Hyperrectangles using 8 thread(s)\n",
      "[ Info: MCMC Tuning cycle 4 finished, 10 chains, 0 tuned, 0 converged.\n",
      "[ Info: Create 68 Hyperrectangles using 8 thread(s)\n",
      "[ Info: MCMC Tuning cycle 6 finished, 10 chains, 3 tuned, 0 converged.\n",
      "[ Info: MCMC Tuning cycle 5 finished, 10 chains, 0 tuned, 0 converged.\n",
      "[ Info: MCMC Tuning cycle 6 finished, 10 chains, 5 tuned, 0 converged.\n",
      "[ Info: MCMC Tuning cycle 7 finished, 10 chains, 6 tuned, 0 converged.\n",
      "[ Info: MCMC Tuning cycle 8 finished, 10 chains, 8 tuned, 0 converged.\n",
      "[ Info: MCMC Tuning cycle 7 finished, 10 chains, 8 tuned, 10 converged.\n",
      "[ Info: MCMC Tuning cycle 8 finished, 10 chains, 10 tuned, 10 converged.\n",
      "[ Info: MCMC tuning of 10 chains successful after 8 cycle(s).\n",
      "[ Info: MCMC Tuning cycle 9 finished, 10 chains, 9 tuned, 10 converged.\n",
      "[ Info: MCMC Tuning cycle 10 finished, 10 chains, 10 tuned, 0 converged.\n",
      "[ Info: MCMC Tuning cycle 11 finished, 10 chains, 9 tuned, 0 converged.\n",
      "[ Info: MCMC Tuning cycle 12 finished, 10 chains, 9 tuned, 10 converged.\n",
      "[ Info: MCMC Tuning cycle 13 finished, 10 chains, 10 tuned, 10 converged.\n",
      "[ Info: MCMC tuning of 10 chains successful after 13 cycle(s).\n"
     ]
    },
    {
     "name": "stdout",
     "output_type": "stream",
     "text": [
      "Progress: 100%|█████████████████████████████████████████| Time: 0:00:01\u001b[K\n"
     ]
    },
    {
     "name": "stderr",
     "output_type": "stream",
     "text": [
      "[ Info: Updating 68 Hyperrectangles using 8 thread(s)\n",
      "[ Info: Integrating 68 Hyperrectangles\n",
      "[ Info: Estimating Uncertainty (cov. weighted result)\n",
      "[ Info: BATPar: Sampling subspace 76:\n",
      "[ Info: Trying to generate 10 viable MCMC chain(s).\n",
      "[ Info: Selected 10 MCMC chain(s).\n",
      "[ Info: Begin tuning of 10 MCMC chain(s).\n",
      "[ Info: MCMC Tuning cycle 1 finished, 10 chains, 0 tuned, 0 converged.\n",
      "[ Info: MCMC Tuning cycle 2 finished, 10 chains, 0 tuned, 0 converged.\n"
     ]
    },
    {
     "name": "stdout",
     "output_type": "stream",
     "text": [
      "Progress: 100%|█████████████████████████████████████████| Time: 0:00:02\u001b[K\n"
     ]
    },
    {
     "name": "stderr",
     "output_type": "stream",
     "text": [
      "[ Info: MCMC Tuning cycle 3 finished, 10 chains, 0 tuned, 0 converged.\n",
      "[ Info: Updating 93 Hyperrectangles using 8 thread(s)\n",
      "[ Info: Integrating 93 Hyperrectangles\n",
      "[ Info: Estimating Uncertainty (cov. weighted result)\n",
      "[ Info: BATPar: Sampling subspace 77:\n",
      "[ Info: Trying to generate 10 viable MCMC chain(s).\n",
      "[ Info: Selected 10 MCMC chain(s).\n",
      "[ Info: Begin tuning of 10 MCMC chain(s).\n",
      "[ Info: MCMC Tuning cycle 1 finished, 10 chains, 0 tuned, 0 converged.\n",
      "[ Info: MCMC Tuning cycle 2 finished, 10 chains, 0 tuned, 0 converged.\n",
      "[ Info: MCMC Tuning cycle 4 finished, 10 chains, 0 tuned, 0 converged.\n",
      "[ Info: MCMC Tuning cycle 5 finished, 10 chains, 0 tuned, 0 converged.\n",
      "[ Info: MCMC Tuning cycle 3 finished, 10 chains, 0 tuned, 0 converged.\n",
      "[ Info: MCMC Tuning cycle 6 finished, 10 chains, 4 tuned, 10 converged.\n",
      "[ Info: MCMC Tuning cycle 7 finished, 10 chains, 6 tuned, 10 converged.\n",
      "[ Info: MCMC Tuning cycle 8 finished, 10 chains, 9 tuned, 0 converged.\n",
      "[ Info: MCMC Tuning cycle 9 finished, 10 chains, 9 tuned, 0 converged.\n",
      "[ Info: MCMC Tuning cycle 4 finished, 10 chains, 0 tuned, 0 converged.\n",
      "[ Info: MCMC Tuning cycle 10 finished, 10 chains, 10 tuned, 0 converged.\n",
      "[ Info: MCMC Tuning cycle 5 finished, 10 chains, 0 tuned, 0 converged.\n",
      "[ Info: MCMC Tuning cycle 6 finished, 10 chains, 2 tuned, 0 converged.\n",
      "[ Info: MCMC Tuning cycle 7 finished, 10 chains, 7 tuned, 0 converged.\n",
      "[ Info: MCMC Tuning cycle 8 finished, 10 chains, 8 tuned, 10 converged.\n",
      "[ Info: MCMC Tuning cycle 11 finished, 10 chains, 10 tuned, 10 converged.\n",
      "[ Info: MCMC tuning of 10 chains successful after 11 cycle(s).\n",
      "[ Info: MCMC Tuning cycle 9 finished, 10 chains, 9 tuned, 10 converged.\n",
      "[ Info: Harmonic Mean Integration started. Samples in dataset 1 / 2: \t50000 / 49999\tParameters:\t6\n",
      "[ Info: Data Whitening.\n",
      "[ Info: Apply Whitening Transformation to Data Set 2\n",
      "[ Info: Create Space Partitioning Tree\n",
      "[ Info: Harmonic Mean Integration started. Samples in dataset 1 / 2: \t50000 / 49999\tParameters:\t6\n",
      "[ Info: Data Whitening.\n",
      "[ Info: Apply Whitening Transformation to Data Set 2\n",
      "[ Info: Create Space Partitioning Tree\n",
      "[ Info: Determine Hyperrectangle Starting Samples\n",
      "[ Info: Determine Tolerances for Hyperrectangle Creation\n",
      "[ Info: MCMC Tuning cycle 10 finished, 10 chains, 10 tuned, 10 converged.\n",
      "[ Info: MCMC tuning of 10 chains successful after 10 cycle(s).\n",
      "[ Info: Determine Hyperrectangle Starting Samples\n",
      "[ Info: Determine Tolerances for Hyperrectangle Creation\n",
      "[ Info: Create 55 Hyperrectangles using 8 thread(s)\n",
      "[ Info: Create 69 Hyperrectangles using 8 thread(s)\n",
      "[ Info: Harmonic Mean Integration started. Samples in dataset 1 / 2: \t50000 / 49999\tParameters:\t6\n",
      "[ Info: Data Whitening.\n",
      "[ Info: Apply Whitening Transformation to Data Set 2\n",
      "[ Info: Create Space Partitioning Tree\n",
      "[ Info: Determine Hyperrectangle Starting Samples\n",
      "[ Info: Determine Tolerances for Hyperrectangle Creation\n"
     ]
    },
    {
     "name": "stdout",
     "output_type": "stream",
     "text": [
      "Progress: 100%|█████████████████████████████████████████| Time: 0:00:01\u001b[K\n"
     ]
    },
    {
     "name": "stderr",
     "output_type": "stream",
     "text": [
      "[ Info: Harmonic Mean Integration started. Samples in dataset 1 / 2: \t50000 / 49999\tParameters:\t6\n",
      "[ Info: Data Whitening.\n",
      "[ Info: Updating 55 Hyperrectangles using 8 thread(s)\n",
      "[ Info: Integrating 55 Hyperrectangles\n",
      "[ Info: Apply Whitening Transformation to Data Set 2\n",
      "[ Info: Create Space Partitioning Tree\n",
      "[ Info: Determine Hyperrectangle Starting Samples\n"
     ]
    },
    {
     "name": "stdout",
     "output_type": "stream",
     "text": [
      "Progress: 100%|█████████████████████████████████████████| Time: 0:00:01\u001b[K\n"
     ]
    },
    {
     "name": "stderr",
     "output_type": "stream",
     "text": [
      "[ Info: Determine Tolerances for Hyperrectangle Creation\n",
      "[ Info: Updating 69 Hyperrectangles using 8 thread(s)\n",
      "[ Info: Integrating 69 Hyperrectangles\n",
      "[ Info: Estimating Uncertainty (cov. weighted result)\n",
      "[ Info: BATPar: Sampling subspace 78:\n",
      "[ Info: Trying to generate 10 viable MCMC chain(s).\n"
     ]
    },
    {
     "name": "stdout",
     "output_type": "stream",
     "text": [
      "Progress: 100%|█████████████████████████████████████████| Time: 0:00:00\u001b[K\n"
     ]
    },
    {
     "name": "stderr",
     "output_type": "stream",
     "text": [
      "[ Info: Estimating Uncertainty (cov. weighted result)\n",
      "[ Info: Selected 10 MCMC chain(s).\n",
      "[ Info: Begin tuning of 10 MCMC chain(s).\n",
      "[ Info: BATPar: Sampling subspace 79:\n",
      "[ Info: Trying to generate 10 viable MCMC chain(s).\n",
      "[ Info: MCMC Tuning cycle 1 finished, 10 chains, 0 tuned, 0 converged.\n",
      "[ Info: Selected 10 MCMC chain(s).\n",
      "[ Info: Begin tuning of 10 MCMC chain(s).\n",
      "[ Info: MCMC Tuning cycle 1 finished, 10 chains, 0 tuned, 0 converged.\n",
      "[ Info: MCMC Tuning cycle 2 finished, 10 chains, 0 tuned, 0 converged.\n",
      "[ Info: MCMC Tuning cycle 2 finished, 10 chains, 0 tuned, 0 converged.\n",
      "[ Info: MCMC Tuning cycle 3 finished, 10 chains, 0 tuned, 0 converged.\n",
      "[ Info: MCMC Tuning cycle 3 finished, 10 chains, 0 tuned, 0 converged.\n",
      "[ Info: MCMC Tuning cycle 4 finished, 10 chains, 0 tuned, 0 converged.\n",
      "[ Info: MCMC Tuning cycle 4 finished, 10 chains, 0 tuned, 0 converged.\n",
      "[ Info: MCMC Tuning cycle 5 finished, 10 chains, 0 tuned, 0 converged.\n",
      "[ Info: MCMC Tuning cycle 6 finished, 10 chains, 1 tuned, 0 converged.\n",
      "[ Info: MCMC Tuning cycle 5 finished, 10 chains, 0 tuned, 0 converged.\n",
      "[ Info: MCMC Tuning cycle 6 finished, 10 chains, 3 tuned, 0 converged.\n",
      "[ Info: Create 56 Hyperrectangles using 8 thread(s)\n",
      "[ Info: MCMC Tuning cycle 7 finished, 10 chains, 5 tuned, 0 converged.\n",
      "[ Info: MCMC Tuning cycle 7 finished, 10 chains, 6 tuned, 10 converged.\n",
      "[ Info: MCMC Tuning cycle 8 finished, 10 chains, 7 tuned, 0 converged.\n",
      "[ Info: MCMC Tuning cycle 9 finished, 10 chains, 9 tuned, 0 converged.\n",
      "[ Info: MCMC Tuning cycle 10 finished, 10 chains, 10 tuned, 10 converged.\n",
      "[ Info: MCMC tuning of 10 chains successful after 10 cycle(s).\n",
      "[ Info: MCMC Tuning cycle 8 finished, 10 chains, 9 tuned, 0 converged.\n",
      "[ Info: MCMC Tuning cycle 9 finished, 10 chains, 9 tuned, 0 converged.\n",
      "[ Info: MCMC Tuning cycle 10 finished, 10 chains, 8 tuned, 0 converged.\n"
     ]
    },
    {
     "name": "stdout",
     "output_type": "stream",
     "text": [
      "Progress: 100%|█████████████████████████████████████████| Time: 0:00:00\u001b[K\n"
     ]
    },
    {
     "name": "stderr",
     "output_type": "stream",
     "text": [
      "[ Info: MCMC Tuning cycle 11 finished, 10 chains, 8 tuned, 10 converged.\n",
      "[ Info: Updating 56 Hyperrectangles using 8 thread(s)\n",
      "[ Info: Integrating 56 Hyperrectangles\n",
      "[ Info: MCMC Tuning cycle 12 finished, 10 chains, 10 tuned, 10 converged.\n",
      "[ Info: MCMC tuning of 10 chains successful after 12 cycle(s).\n"
     ]
    },
    {
     "name": "stdout",
     "output_type": "stream",
     "text": [
      "Progress: 100%|█████████████████████████████████████████| Time: 0:00:00\u001b[K\n"
     ]
    },
    {
     "name": "stderr",
     "output_type": "stream",
     "text": [
      "[ Info: Estimating Uncertainty (cov. weighted result)\n",
      "[ Info: BATPar: Sampling subspace 80:\n",
      "[ Info: Trying to generate 10 viable MCMC chain(s).\n",
      "[ Info: Selected 10 MCMC chain(s).\n",
      "[ Info: Begin tuning of 10 MCMC chain(s).\n",
      "[ Info: MCMC Tuning cycle 1 finished, 10 chains, 0 tuned, 0 converged.\n",
      "[ Info: MCMC Tuning cycle 2 finished, 10 chains, 0 tuned, 0 converged.\n",
      "[ Info: MCMC Tuning cycle 3 finished, 10 chains, 0 tuned, 0 converged.\n",
      "[ Info: MCMC Tuning cycle 4 finished, 10 chains, 0 tuned, 0 converged.\n",
      "[ Info: MCMC Tuning cycle 5 finished, 10 chains, 1 tuned, 0 converged.\n",
      "[ Info: MCMC Tuning cycle 6 finished, 10 chains, 2 tuned, 0 converged.\n",
      "[ Info: MCMC Tuning cycle 7 finished, 10 chains, 6 tuned, 0 converged.\n",
      "[ Info: Create 62 Hyperrectangles using 8 thread(s)\n",
      "[ Info: MCMC Tuning cycle 8 finished, 10 chains, 8 tuned, 10 converged.\n",
      "[ Info: Harmonic Mean Integration started. Samples in dataset 1 / 2: \t50000 / 49999\tParameters:\t6\n",
      "[ Info: Data Whitening.\n",
      "[ Info: Apply Whitening Transformation to Data Set 2\n",
      "[ Info: Create Space Partitioning Tree\n"
     ]
    },
    {
     "name": "stdout",
     "output_type": "stream",
     "text": [
      "Progress: 100%|█████████████████████████████████████████| Time: 0:00:00\u001b[K\n"
     ]
    },
    {
     "name": "stderr",
     "output_type": "stream",
     "text": [
      "[ Info: MCMC Tuning cycle 9 finished, 10 chains, 9 tuned, 10 converged.\n",
      "[ Info: Determine Hyperrectangle Starting Samples\n",
      "[ Info: MCMC Tuning cycle 10 finished, 10 chains, 10 tuned, 10 converged.\n",
      "[ Info: MCMC tuning of 10 chains successful after 10 cycle(s).\n",
      "[ Info: Determine Tolerances for Hyperrectangle Creation\n",
      "[ Info: Harmonic Mean Integration started. Samples in dataset 1 / 2: \t50000 / 49999\tParameters:\t6\n",
      "[ Info: Data Whitening.\n",
      "[ Info: Apply Whitening Transformation to Data Set 2\n",
      "[ Info: Create Space Partitioning Tree\n",
      "[ Info: Determine Hyperrectangle Starting Samples\n",
      "[ Info: Determine Tolerances for Hyperrectangle Creation\n"
     ]
    },
    {
     "name": "stdout",
     "output_type": "stream",
     "text": [
      "Progress: 100%|█████████████████████████████████████████| Time: 0:00:01\u001b[K\n"
     ]
    },
    {
     "name": "stderr",
     "output_type": "stream",
     "text": [
      "[ Info: Updating 62 Hyperrectangles using 8 thread(s)\n",
      "[ Info: Integrating 62 Hyperrectangles\n",
      "[ Info: Estimating Uncertainty (cov. weighted result)\n",
      "[ Info: BATPar: Sampling subspace 81:\n",
      "[ Info: Trying to generate 10 viable MCMC chain(s).\n",
      "[ Info: Selected 10 MCMC chain(s).\n",
      "[ Info: Begin tuning of 10 MCMC chain(s).\n",
      "[ Info: MCMC Tuning cycle 1 finished, 10 chains, 0 tuned, 0 converged.\n",
      "[ Info: MCMC Tuning cycle 2 finished, 10 chains, 0 tuned, 0 converged.\n",
      "[ Info: MCMC Tuning cycle 3 finished, 10 chains, 0 tuned, 0 converged.\n",
      "[ Info: MCMC Tuning cycle 4 finished, 10 chains, 0 tuned, 0 converged.\n",
      "[ Info: MCMC Tuning cycle 5 finished, 10 chains, 3 tuned, 0 converged.\n",
      "[ Info: MCMC Tuning cycle 6 finished, 10 chains, 5 tuned, 0 converged.\n",
      "[ Info: MCMC Tuning cycle 7 finished, 10 chains, 7 tuned, 0 converged.\n",
      "[ Info: Harmonic Mean Integration started. Samples in dataset 1 / 2: \t50000 / 49999\tParameters:\t6\n",
      "[ Info: Data Whitening.\n",
      "[ Info: MCMC Tuning cycle 8 finished, 10 chains, 7 tuned, 10 converged.\n",
      "[ Info: Apply Whitening Transformation to Data Set 2\n",
      "[ Info: Create Space Partitioning Tree\n",
      "[ Info: MCMC Tuning cycle 9 finished, 10 chains, 10 tuned, 10 converged.\n",
      "[ Info: MCMC tuning of 10 chains successful after 9 cycle(s).\n",
      "[ Info: Determine Hyperrectangle Starting Samples\n",
      "[ Info: Create 66 Hyperrectangles using 8 thread(s)\n",
      "[ Info: Determine Tolerances for Hyperrectangle Creation\n",
      "[ Info: Create 96 Hyperrectangles using 8 thread(s)\n"
     ]
    },
    {
     "name": "stdout",
     "output_type": "stream",
     "text": [
      "Progress: 100%|█████████████████████████████████████████| Time: 0:00:01\u001b[K\n"
     ]
    },
    {
     "name": "stderr",
     "output_type": "stream",
     "text": [
      "[ Info: Updating 66 Hyperrectangles using 8 thread(s)\n",
      "[ Info: Integrating 66 Hyperrectangles\n",
      "[ Info: Estimating Uncertainty (cov. weighted result)\n",
      "[ Info: BATPar: Sampling subspace 82:\n",
      "[ Info: Trying to generate 10 viable MCMC chain(s).\n",
      "[ Info: Selected 10 MCMC chain(s).\n",
      "[ Info: Begin tuning of 10 MCMC chain(s).\n",
      "[ Info: MCMC Tuning cycle 1 finished, 10 chains, 0 tuned, 0 converged.\n",
      "[ Info: MCMC Tuning cycle 2 finished, 10 chains, 0 tuned, 0 converged.\n",
      "[ Info: MCMC Tuning cycle 3 finished, 10 chains, 0 tuned, 0 converged.\n",
      "[ Info: MCMC Tuning cycle 4 finished, 10 chains, 0 tuned, 0 converged.\n",
      "[ Info: MCMC Tuning cycle 5 finished, 10 chains, 2 tuned, 0 converged.\n",
      "[ Info: MCMC Tuning cycle 6 finished, 10 chains, 6 tuned, 10 converged.\n"
     ]
    },
    {
     "name": "stdout",
     "output_type": "stream",
     "text": [
      "Progress: 100%|█████████████████████████████████████████| Time: 0:00:02\u001b[K\n"
     ]
    },
    {
     "name": "stderr",
     "output_type": "stream",
     "text": [
      "[ Info: MCMC Tuning cycle 7 finished, 10 chains, 9 tuned, 0 converged.\n",
      "[ Info: Updating 96 Hyperrectangles using 8 thread(s)\n",
      "[ Info: Integrating 96 Hyperrectangles\n",
      "[ Info: Estimating Uncertainty (cov. weighted result)\n",
      "[ Info: Create 43 Hyperrectangles using 8 thread(s)\n",
      "[ Info: Harmonic Mean Integration started. Samples in dataset 1 / 2: \t50000 / 49999\tParameters:\t6\n",
      "[ Info: Data Whitening.\n",
      "[ Info: BATPar: Sampling subspace 83:\n",
      "[ Info: Trying to generate 10 viable MCMC chain(s).\n",
      "[ Info: Apply Whitening Transformation to Data Set 2\n",
      "[ Info: Create Space Partitioning Tree\n",
      "[ Info: Selected 10 MCMC chain(s).\n",
      "[ Info: Begin tuning of 10 MCMC chain(s).\n",
      "[ Info: Determine Hyperrectangle Starting Samples\n",
      "[ Info: MCMC Tuning cycle 1 finished, 10 chains, 0 tuned, 0 converged.\n",
      "[ Info: MCMC Tuning cycle 8 finished, 10 chains, 7 tuned, 10 converged.\n",
      "[ Info: MCMC Tuning cycle 9 finished, 10 chains, 9 tuned, 10 converged.\n",
      "[ Info: Determine Tolerances for Hyperrectangle Creation\n",
      "[ Info: MCMC Tuning cycle 10 finished, 10 chains, 10 tuned, 0 converged.\n",
      "[ Info: MCMC Tuning cycle 11 finished, 10 chains, 10 tuned, 0 converged.\n",
      "[ Info: MCMC Tuning cycle 2 finished, 10 chains, 0 tuned, 0 converged.\n",
      "[ Info: MCMC Tuning cycle 12 finished, 10 chains, 9 tuned, 0 converged.\n",
      "[ Info: MCMC Tuning cycle 3 finished, 10 chains, 0 tuned, 0 converged.\n",
      "[ Info: MCMC Tuning cycle 13 finished, 10 chains, 10 tuned, 0 converged.\n",
      "[ Info: MCMC Tuning cycle 4 finished, 10 chains, 0 tuned, 0 converged.\n"
     ]
    },
    {
     "name": "stdout",
     "output_type": "stream",
     "text": [
      "Progress: 100%|█████████████████████████████████████████| Time: 0:00:01\u001b[K\n"
     ]
    },
    {
     "name": "stderr",
     "output_type": "stream",
     "text": [
      "[ Info: MCMC Tuning cycle 14 finished, 10 chains, 10 tuned, 10 converged.\n",
      "[ Info: MCMC tuning of 10 chains successful after 14 cycle(s).\n",
      "[ Info: MCMC Tuning cycle 5 finished, 10 chains, 1 tuned, 10 converged.\n",
      "[ Info: MCMC Tuning cycle 6 finished, 10 chains, 3 tuned, 0 converged.\n",
      "[ Info: MCMC Tuning cycle 7 finished, 10 chains, 7 tuned, 0 converged.\n",
      "[ Info: Updating 43 Hyperrectangles using 8 thread(s)\n",
      "[ Info: Integrating 43 Hyperrectangles\n",
      "[ Info: Estimating Uncertainty (cov. weighted result)\n",
      "[ Info: MCMC Tuning cycle 8 finished, 10 chains, 8 tuned, 10 converged.\n",
      "[ Info: BATPar: Sampling subspace 84:\n",
      "[ Info: Trying to generate 10 viable MCMC chain(s).\n",
      "[ Info: Selected 10 MCMC chain(s).\n",
      "[ Info: Begin tuning of 10 MCMC chain(s).\n",
      "[ Info: MCMC Tuning cycle 1 finished, 10 chains, 0 tuned, 0 converged.\n",
      "[ Info: MCMC Tuning cycle 2 finished, 10 chains, 0 tuned, 0 converged.\n",
      "[ Info: MCMC Tuning cycle 3 finished, 10 chains, 0 tuned, 0 converged.\n",
      "[ Info: MCMC Tuning cycle 9 finished, 10 chains, 10 tuned, 0 converged.\n",
      "[ Info: MCMC Tuning cycle 10 finished, 10 chains, 10 tuned, 0 converged.\n",
      "[ Info: MCMC Tuning cycle 4 finished, 10 chains, 0 tuned, 0 converged.\n",
      "[ Info: MCMC Tuning cycle 11 finished, 10 chains, 10 tuned, 10 converged.\n",
      "[ Info: MCMC tuning of 10 chains successful after 11 cycle(s).\n",
      "[ Info: MCMC Tuning cycle 5 finished, 10 chains, 0 tuned, 0 converged.\n",
      "[ Info: MCMC Tuning cycle 6 finished, 10 chains, 2 tuned, 0 converged.\n",
      "[ Info: MCMC Tuning cycle 7 finished, 10 chains, 5 tuned, 0 converged.\n",
      "[ Info: MCMC Tuning cycle 8 finished, 10 chains, 7 tuned, 0 converged.\n",
      "[ Info: MCMC Tuning cycle 9 finished, 10 chains, 8 tuned, 0 converged.\n",
      "[ Info: MCMC Tuning cycle 10 finished, 10 chains, 10 tuned, 10 converged.\n",
      "[ Info: MCMC tuning of 10 chains successful after 10 cycle(s).\n",
      "[ Info: Create 73 Hyperrectangles using 8 thread(s)\n",
      "[ Info: Harmonic Mean Integration started. Samples in dataset 1 / 2: \t50000 / 49999\tParameters:\t6\n",
      "[ Info: Data Whitening.\n",
      "[ Info: Apply Whitening Transformation to Data Set 2\n",
      "[ Info: Create Space Partitioning Tree\n",
      "[ Info: Determine Hyperrectangle Starting Samples\n",
      "[ Info: Determine Tolerances for Hyperrectangle Creation\n",
      "[ Info: Harmonic Mean Integration started. Samples in dataset 1 / 2: \t50000 / 49999\tParameters:\t6\n",
      "[ Info: Data Whitening.\n",
      "[ Info: Apply Whitening Transformation to Data Set 2\n",
      "[ Info: Create Space Partitioning Tree\n",
      "[ Info: Determine Hyperrectangle Starting Samples\n",
      "[ Info: Harmonic Mean Integration started. Samples in dataset 1 / 2: \t50000 / 49999\tParameters:\t6\n",
      "[ Info: Data Whitening.\n",
      "[ Info: Determine Tolerances for Hyperrectangle Creation\n"
     ]
    },
    {
     "name": "stdout",
     "output_type": "stream",
     "text": [
      "Progress: 100%|█████████████████████████████████████████| Time: 0:00:01\u001b[K\n"
     ]
    },
    {
     "name": "stderr",
     "output_type": "stream",
     "text": [
      "[ Info: Apply Whitening Transformation to Data Set 2\n",
      "[ Info: Create Space Partitioning Tree\n",
      "[ Info: Determine Hyperrectangle Starting Samples\n",
      "[ Info: Determine Tolerances for Hyperrectangle Creation\n",
      "[ Info: Updating 73 Hyperrectangles using 8 thread(s)\n",
      "[ Info: Integrating 73 Hyperrectangles\n",
      "[ Info: Estimating Uncertainty (cov. weighted result)\n",
      "[ Info: BATPar: Sampling subspace 85:\n",
      "[ Info: Trying to generate 10 viable MCMC chain(s).\n",
      "[ Info: Selected 10 MCMC chain(s).\n",
      "[ Info: Begin tuning of 10 MCMC chain(s).\n",
      "[ Info: MCMC Tuning cycle 1 finished, 10 chains, 0 tuned, 0 converged.\n",
      "[ Info: MCMC Tuning cycle 2 finished, 10 chains, 0 tuned, 0 converged.\n",
      "[ Info: MCMC Tuning cycle 3 finished, 10 chains, 0 tuned, 0 converged.\n",
      "[ Info: MCMC Tuning cycle 4 finished, 10 chains, 0 tuned, 0 converged.\n",
      "[ Info: MCMC Tuning cycle 5 finished, 10 chains, 2 tuned, 0 converged.\n",
      "[ Info: MCMC Tuning cycle 6 finished, 10 chains, 3 tuned, 10 converged.\n",
      "[ Info: MCMC Tuning cycle 7 finished, 10 chains, 8 tuned, 0 converged.\n",
      "[ Info: MCMC Tuning cycle 8 finished, 10 chains, 9 tuned, 0 converged.\n",
      "[ Info: Create 78 Hyperrectangles using 8 thread(s)\n",
      "[ Info: MCMC Tuning cycle 9 finished, 10 chains, 9 tuned, 10 converged.\n",
      "[ Info: MCMC Tuning cycle 10 finished, 10 chains, 10 tuned, 0 converged.\n",
      "[ Info: MCMC Tuning cycle 11 finished, 10 chains, 9 tuned, 10 converged.\n",
      "[ Info: MCMC Tuning cycle 12 finished, 10 chains, 10 tuned, 0 converged.\n",
      "[ Info: Create 52 Hyperrectangles using 8 thread(s)\n",
      "[ Info: Create 66 Hyperrectangles using 8 thread(s)\n",
      "[ Info: MCMC Tuning cycle 13 finished, 10 chains, 10 tuned, 10 converged.\n",
      "[ Info: MCMC tuning of 10 chains successful after 13 cycle(s).\n"
     ]
    },
    {
     "name": "stdout",
     "output_type": "stream",
     "text": [
      "Progress: 100%|█████████████████████████████████████████| Time: 0:00:01\u001b[K\n"
     ]
    },
    {
     "name": "stderr",
     "output_type": "stream",
     "text": [
      "[ Info: Updating 52 Hyperrectangles using 8 thread(s)\n"
     ]
    },
    {
     "name": "stdout",
     "output_type": "stream",
     "text": [
      "Progress: 100%|█████████████████████████████████████████| Time: 0:00:00\u001b[K\n"
     ]
    },
    {
     "name": "stderr",
     "output_type": "stream",
     "text": [
      "[ Info: Integrating 52 Hyperrectangles\n",
      "[ Info: Estimating Uncertainty (cov. weighted result)\n",
      "[ Info: BATPar: Sampling subspace 86:\n",
      "[ Info: Trying to generate 10 viable MCMC chain(s).\n",
      "[ Info: Selected 10 MCMC chain(s).\n",
      "[ Info: Begin tuning of 10 MCMC chain(s).\n"
     ]
    },
    {
     "name": "stdout",
     "output_type": "stream",
     "text": [
      "Progress: 100%|█████████████████████████████████████████| Time: 0:00:02\u001b[K\n"
     ]
    },
    {
     "name": "stderr",
     "output_type": "stream",
     "text": [
      "[ Info: MCMC Tuning cycle 1 finished, 10 chains, 0 tuned, 0 converged.\n",
      "[ Info: MCMC Tuning cycle 2 finished, 10 chains, 0 tuned, 0 converged.\n",
      "[ Info: Updating 78 Hyperrectangles using 8 thread(s)\n",
      "[ Info: Integrating 78 Hyperrectangles\n"
     ]
    },
    {
     "name": "stdout",
     "output_type": "stream",
     "text": [
      "Progress: 100%|█████████████████████████████████████████| Time: 0:00:02\u001b[K\n"
     ]
    },
    {
     "name": "stderr",
     "output_type": "stream",
     "text": [
      "[ Info: Estimating Uncertainty (cov. weighted result)\n",
      "[ Info: BATPar: Sampling subspace 87:\n",
      "[ Info: Trying to generate 10 viable MCMC chain(s).\n",
      "[ Info: MCMC Tuning cycle 3 finished, 10 chains, 0 tuned, 0 converged.\n",
      "[ Info: Selected 10 MCMC chain(s).\n",
      "[ Info: Begin tuning of 10 MCMC chain(s).\n",
      "[ Info: MCMC Tuning cycle 4 finished, 10 chains, 0 tuned, 0 converged.\n",
      "[ Info: MCMC Tuning cycle 5 finished, 10 chains, 0 tuned, 0 converged.\n",
      "[ Info: Updating 66 Hyperrectangles using 8 thread(s)\n",
      "[ Info: MCMC Tuning cycle 6 finished, 10 chains, 0 tuned, 0 converged.\n",
      "[ Info: Integrating 66 Hyperrectangles\n",
      "[ Info: MCMC Tuning cycle 1 finished, 10 chains, 0 tuned, 0 converged.\n",
      "[ Info: Estimating Uncertainty (cov. weighted result)\n",
      "[ Info: MCMC Tuning cycle 7 finished, 10 chains, 3 tuned, 0 converged.\n",
      "[ Info: BATPar: Sampling subspace 88:\n",
      "[ Info: Trying to generate 10 viable MCMC chain(s).\n",
      "[ Info: MCMC Tuning cycle 2 finished, 10 chains, 0 tuned, 0 converged.\n",
      "[ Info: Selected 10 MCMC chain(s).\n",
      "[ Info: Begin tuning of 10 MCMC chain(s).\n",
      "[ Info: MCMC Tuning cycle 3 finished, 10 chains, 0 tuned, 0 converged.\n",
      "[ Info: MCMC Tuning cycle 1 finished, 10 chains, 0 tuned, 0 converged.\n",
      "[ Info: MCMC Tuning cycle 4 finished, 10 chains, 0 tuned, 0 converged.\n",
      "[ Info: Harmonic Mean Integration started. Samples in dataset 1 / 2: \t50000 / 49999\tParameters:\t6\n",
      "[ Info: Data Whitening.\n",
      "[ Info: MCMC Tuning cycle 2 finished, 10 chains, 0 tuned, 0 converged.\n",
      "[ Info: Apply Whitening Transformation to Data Set 2\n",
      "[ Info: Create Space Partitioning Tree\n",
      "[ Info: MCMC Tuning cycle 5 finished, 10 chains, 0 tuned, 0 converged.\n",
      "[ Info: MCMC Tuning cycle 6 finished, 10 chains, 0 tuned, 0 converged.\n",
      "[ Info: Determine Hyperrectangle Starting Samples\n",
      "[ Info: MCMC Tuning cycle 7 finished, 10 chains, 2 tuned, 0 converged.\n",
      "[ Info: Determine Tolerances for Hyperrectangle Creation\n",
      "[ Info: MCMC Tuning cycle 8 finished, 10 chains, 7 tuned, 10 converged.\n",
      "[ Info: MCMC Tuning cycle 3 finished, 10 chains, 0 tuned, 0 converged.\n",
      "[ Info: MCMC Tuning cycle 9 finished, 10 chains, 9 tuned, 0 converged.\n",
      "[ Info: MCMC Tuning cycle 4 finished, 10 chains, 0 tuned, 0 converged.\n",
      "[ Info: MCMC Tuning cycle 5 finished, 10 chains, 0 tuned, 0 converged.\n",
      "[ Info: MCMC Tuning cycle 10 finished, 10 chains, 9 tuned, 0 converged.\n",
      "[ Info: MCMC Tuning cycle 6 finished, 10 chains, 3 tuned, 10 converged.\n",
      "[ Info: MCMC Tuning cycle 11 finished, 10 chains, 10 tuned, 0 converged.\n",
      "[ Info: MCMC Tuning cycle 12 finished, 10 chains, 10 tuned, 10 converged.\n",
      "[ Info: MCMC tuning of 10 chains successful after 12 cycle(s).\n",
      "[ Info: MCMC Tuning cycle 7 finished, 10 chains, 6 tuned, 10 converged.\n",
      "[ Info: MCMC Tuning cycle 8 finished, 10 chains, 6 tuned, 10 converged.\n",
      "[ Info: MCMC Tuning cycle 8 finished, 10 chains, 10 tuned, 10 converged.\n",
      "[ Info: MCMC tuning of 10 chains successful after 8 cycle(s).\n",
      "[ Info: MCMC Tuning cycle 9 finished, 10 chains, 9 tuned, 10 converged.\n",
      "[ Info: MCMC Tuning cycle 10 finished, 10 chains, 10 tuned, 0 converged.\n",
      "[ Info: MCMC Tuning cycle 11 finished, 10 chains, 10 tuned, 0 converged.\n",
      "[ Info: MCMC Tuning cycle 12 finished, 10 chains, 10 tuned, 10 converged.\n",
      "[ Info: MCMC tuning of 10 chains successful after 12 cycle(s).\n",
      "[ Info: Create 53 Hyperrectangles using 8 thread(s)\n"
     ]
    },
    {
     "name": "stdout",
     "output_type": "stream",
     "text": [
      "Progress: 100%|█████████████████████████████████████████| Time: 0:00:00\u001b[K\n"
     ]
    },
    {
     "name": "stderr",
     "output_type": "stream",
     "text": [
      "[ Info: Updating 53 Hyperrectangles using 8 thread(s)\n",
      "[ Info: Harmonic Mean Integration started. Samples in dataset 1 / 2: \t50000 / 49999\tParameters:\t6\n",
      "[ Info: Data Whitening.\n",
      "[ Info: Integrating 53 Hyperrectangles\n",
      "[ Info: Apply Whitening Transformation to Data Set 2\n",
      "[ Info: Create Space Partitioning Tree\n",
      "[ Info: Determine Hyperrectangle Starting Samples\n",
      "[ Info: Harmonic Mean Integration started. Samples in dataset 1 / 2: \t50000 / 49999\tParameters:\t6\n",
      "[ Info: Data Whitening.\n",
      "[ Info: Apply Whitening Transformation to Data Set 2\n",
      "[ Info: Create Space Partitioning Tree\n"
     ]
    },
    {
     "name": "stdout",
     "output_type": "stream",
     "text": [
      "Progress: 100%|█████████████████████████████████████████| Time: 0:00:00\u001b[K\n"
     ]
    },
    {
     "name": "stderr",
     "output_type": "stream",
     "text": [
      "[ Info: Determine Hyperrectangle Starting Samples\n",
      "[ Info: Determine Tolerances for Hyperrectangle Creation\n",
      "┌ Warning: Returned minimum number of starting points: 16\n",
      "└ @ BAT ~/MPP-Server/gitrepos/BAT.jl/src/integration/ahmi/hyper_rectangle.jl:104\n",
      "[ Info: Determine Tolerances for Hyperrectangle Creation\n",
      "[ Info: Harmonic Mean Integration started. Samples in dataset 1 / 2: \t50000 / 49999\tParameters:\t6\n",
      "[ Info: Data Whitening.\n",
      "[ Info: Apply Whitening Transformation to Data Set 2\n",
      "[ Info: Create Space Partitioning Tree\n"
     ]
    },
    {
     "name": "stdout",
     "output_type": "stream",
     "text": [
      "Progress: 100%|█████████████████████████████████████████| Time: 0:00:00\u001b[K\n"
     ]
    },
    {
     "name": "stderr",
     "output_type": "stream",
     "text": [
      "[ Info: Estimating Uncertainty (cov. weighted result)\n",
      "[ Info: BATPar: Sampling subspace 89:\n",
      "[ Info: Trying to generate 10 viable MCMC chain(s).\n",
      "[ Info: Selected 10 MCMC chain(s).\n",
      "[ Info: Begin tuning of 10 MCMC chain(s).\n",
      "[ Info: MCMC Tuning cycle 1 finished, 10 chains, 0 tuned, 0 converged.\n",
      "[ Info: Determine Hyperrectangle Starting Samples\n",
      "[ Info: Determine Tolerances for Hyperrectangle Creation\n",
      "[ Info: MCMC Tuning cycle 2 finished, 10 chains, 0 tuned, 0 converged.\n",
      "[ Info: MCMC Tuning cycle 3 finished, 10 chains, 0 tuned, 0 converged.\n",
      "[ Info: MCMC Tuning cycle 4 finished, 10 chains, 0 tuned, 0 converged.\n",
      "[ Info: MCMC Tuning cycle 5 finished, 10 chains, 0 tuned, 0 converged.\n",
      "[ Info: MCMC Tuning cycle 6 finished, 10 chains, 1 tuned, 0 converged.\n",
      "[ Info: Create 68 Hyperrectangles using 8 thread(s)\n",
      "[ Info: Create 102 Hyperrectangles using 8 thread(s)\n",
      "[ Info: Create 36 Hyperrectangles using 8 thread(s)\n"
     ]
    },
    {
     "name": "stdout",
     "output_type": "stream",
     "text": [
      "Progress: 100%|█████████████████████████████████████████| Time: 0:00:00\u001b[K\n"
     ]
    },
    {
     "name": "stderr",
     "output_type": "stream",
     "text": [
      "[ Info: Updating 36 Hyperrectangles using 8 thread(s)\n",
      "[ Info: Integrating 36 Hyperrectangles\n",
      "[ Info: Estimating Uncertainty (cov. weighted result)\n",
      "[ Info: BATPar: Sampling subspace 90:\n",
      "[ Info: Trying to generate 10 viable MCMC chain(s).\n",
      "[ Info: Selected 10 MCMC chain(s).\n",
      "[ Info: Begin tuning of 10 MCMC chain(s).\n",
      "[ Info: MCMC Tuning cycle 7 finished, 10 chains, 5 tuned, 0 converged.\n",
      "[ Info: MCMC Tuning cycle 8 finished, 10 chains, 8 tuned, 0 converged.\n",
      "[ Info: MCMC Tuning cycle 9 finished, 10 chains, 10 tuned, 10 converged.\n",
      "[ Info: MCMC tuning of 10 chains successful after 9 cycle(s).\n"
     ]
    },
    {
     "name": "stdout",
     "output_type": "stream",
     "text": [
      "Progress: 100%|█████████████████████████████████████████| Time: 0:00:01\u001b[K\n"
     ]
    },
    {
     "name": "stderr",
     "output_type": "stream",
     "text": [
      "[ Info: Updating 68 Hyperrectangles using 8 thread(s)\n",
      "[ Info: Integrating 68 Hyperrectangles\n",
      "[ Info: Estimating Uncertainty (cov. weighted result)\n",
      "[ Info: BATPar: Sampling subspace 91:\n",
      "[ Info: Trying to generate 10 viable MCMC chain(s).\n",
      "[ Info: Selected 10 MCMC chain(s).\n",
      "[ Info: Begin tuning of 10 MCMC chain(s).\n",
      "[ Info: MCMC Tuning cycle 1 finished, 10 chains, 0 tuned, 0 converged.\n",
      "[ Info: MCMC Tuning cycle 1 finished, 10 chains, 0 tuned, 0 converged.\n",
      "[ Info: MCMC Tuning cycle 2 finished, 10 chains, 0 tuned, 0 converged.\n",
      "[ Info: MCMC Tuning cycle 2 finished, 10 chains, 0 tuned, 0 converged.\n",
      "[ Info: MCMC Tuning cycle 3 finished, 10 chains, 0 tuned, 0 converged.\n",
      "[ Info: MCMC Tuning cycle 4 finished, 10 chains, 0 tuned, 0 converged.\n",
      "[ Info: MCMC Tuning cycle 3 finished, 10 chains, 0 tuned, 0 converged.\n",
      "[ Info: MCMC Tuning cycle 5 finished, 10 chains, 0 tuned, 0 converged.\n",
      "[ Info: MCMC Tuning cycle 4 finished, 10 chains, 0 tuned, 0 converged.\n"
     ]
    },
    {
     "name": "stdout",
     "output_type": "stream",
     "text": [
      "Progress: 100%|█████████████████████████████████████████| Time: 0:00:02\u001b[K\n"
     ]
    },
    {
     "name": "stderr",
     "output_type": "stream",
     "text": [
      "[ Info: MCMC Tuning cycle 6 finished, 10 chains, 0 tuned, 0 converged.\n",
      "[ Info: MCMC Tuning cycle 5 finished, 10 chains, 0 tuned, 0 converged.\n",
      "[ Info: Updating 102 Hyperrectangles using 8 thread(s)\n",
      "[ Info: Integrating 102 Hyperrectangles\n",
      "[ Info: MCMC Tuning cycle 7 finished, 10 chains, 0 tuned, 0 converged.\n",
      "[ Info: Estimating Uncertainty (cov. weighted result)\n",
      "[ Info: BATPar: Sampling subspace 92:\n",
      "[ Info: Trying to generate 10 viable MCMC chain(s).\n",
      "[ Info: MCMC Tuning cycle 8 finished, 10 chains, 6 tuned, 0 converged.\n",
      "[ Info: Selected 10 MCMC chain(s).\n",
      "[ Info: Begin tuning of 10 MCMC chain(s).\n",
      "[ Info: MCMC Tuning cycle 9 finished, 10 chains, 8 tuned, 0 converged.\n",
      "[ Info: MCMC Tuning cycle 1 finished, 10 chains, 0 tuned, 0 converged.\n",
      "[ Info: MCMC Tuning cycle 2 finished, 10 chains, 0 tuned, 0 converged.\n",
      "[ Info: MCMC Tuning cycle 10 finished, 10 chains, 9 tuned, 0 converged.\n",
      "[ Info: MCMC Tuning cycle 6 finished, 10 chains, 2 tuned, 0 converged.\n",
      "[ Info: MCMC Tuning cycle 7 finished, 10 chains, 7 tuned, 10 converged.\n",
      "[ Info: MCMC Tuning cycle 8 finished, 10 chains, 8 tuned, 0 converged.\n",
      "[ Info: MCMC Tuning cycle 3 finished, 10 chains, 0 tuned, 0 converged.\n",
      "[ Info: MCMC Tuning cycle 9 finished, 10 chains, 8 tuned, 0 converged.\n",
      "[ Info: MCMC Tuning cycle 4 finished, 10 chains, 0 tuned, 0 converged.\n",
      "[ Info: MCMC Tuning cycle 10 finished, 10 chains, 8 tuned, 0 converged.\n",
      "[ Info: MCMC Tuning cycle 5 finished, 10 chains, 0 tuned, 0 converged.\n",
      "[ Info: MCMC Tuning cycle 11 finished, 10 chains, 8 tuned, 0 converged.\n",
      "[ Info: MCMC Tuning cycle 6 finished, 10 chains, 2 tuned, 0 converged.\n",
      "[ Info: MCMC Tuning cycle 7 finished, 10 chains, 3 tuned, 0 converged.\n",
      "[ Info: MCMC Tuning cycle 8 finished, 10 chains, 8 tuned, 0 converged.\n",
      "[ Info: MCMC Tuning cycle 11 finished, 10 chains, 9 tuned, 10 converged.\n",
      "[ Info: MCMC Tuning cycle 12 finished, 10 chains, 10 tuned, 0 converged.\n",
      "[ Info: MCMC Tuning cycle 9 finished, 10 chains, 10 tuned, 0 converged.\n",
      "[ Info: MCMC Tuning cycle 13 finished, 10 chains, 10 tuned, 0 converged.\n",
      "[ Info: MCMC Tuning cycle 12 finished, 10 chains, 8 tuned, 0 converged.\n",
      "[ Info: MCMC Tuning cycle 14 finished, 10 chains, 10 tuned, 0 converged.\n",
      "[ Info: MCMC Tuning cycle 13 finished, 10 chains, 10 tuned, 0 converged.\n",
      "[ Info: Harmonic Mean Integration started. Samples in dataset 1 / 2: \t50000 / 49999\tParameters:\t6\n",
      "[ Info: Data Whitening.\n",
      "[ Info: MCMC Tuning cycle 14 finished, 10 chains, 10 tuned, 0 converged.\n",
      "[ Info: MCMC Tuning cycle 15 finished, 10 chains, 9 tuned, 0 converged.\n",
      "[ Info: Apply Whitening Transformation to Data Set 2\n",
      "[ Info: Create Space Partitioning Tree\n",
      "[ Info: MCMC Tuning cycle 10 finished, 10 chains, 9 tuned, 10 converged.\n",
      "[ Info: MCMC Tuning cycle 16 finished, 10 chains, 10 tuned, 0 converged.\n",
      "[ Info: MCMC Tuning cycle 15 finished, 10 chains, 10 tuned, 10 converged.\n",
      "[ Info: MCMC tuning of 10 chains successful after 15 cycle(s).\n"
     ]
    },
    {
     "name": "stdout",
     "output_type": "stream",
     "text": [
      "Progress: 100%|█████████████████████████████████████████| Time: 0:00:00\u001b[K\n"
     ]
    },
    {
     "name": "stderr",
     "output_type": "stream",
     "text": [
      "[ Info: MCMC Tuning cycle 11 finished, 10 chains, 10 tuned, 0 converged.\n",
      "[ Info: Determine Hyperrectangle Starting Samples\n",
      "[ Info: Determine Tolerances for Hyperrectangle Creation\n",
      "[ Info: MCMC Tuning cycle 12 finished, 10 chains, 10 tuned, 0 converged.\n",
      "[ Info: MCMC Tuning cycle 17 finished, 10 chains, 9 tuned, 0 converged.\n",
      "[ Info: MCMC Tuning cycle 13 finished, 10 chains, 10 tuned, 0 converged.\n",
      "[ Info: MCMC Tuning cycle 18 finished, 10 chains, 9 tuned, 0 converged.\n",
      "[ Info: MCMC Tuning cycle 14 finished, 10 chains, 9 tuned, 10 converged.\n",
      "[ Info: MCMC Tuning cycle 19 finished, 10 chains, 9 tuned, 10 converged.\n",
      "[ Info: MCMC Tuning cycle 15 finished, 10 chains, 10 tuned, 0 converged.\n",
      "[ Info: MCMC Tuning cycle 16 finished, 10 chains, 10 tuned, 0 converged.\n",
      "[ Info: MCMC Tuning cycle 20 finished, 10 chains, 10 tuned, 0 converged.\n",
      "[ Info: MCMC Tuning cycle 21 finished, 10 chains, 10 tuned, 0 converged.\n",
      "[ Info: MCMC Tuning cycle 22 finished, 10 chains, 10 tuned, 0 converged.\n",
      "[ Info: MCMC Tuning cycle 17 finished, 10 chains, 10 tuned, 10 converged.\n",
      "[ Info: MCMC tuning of 10 chains successful after 17 cycle(s).\n",
      "[ Info: MCMC Tuning cycle 23 finished, 10 chains, 10 tuned, 10 converged.\n",
      "[ Info: MCMC tuning of 10 chains successful after 23 cycle(s).\n",
      "[ Info: Create 66 Hyperrectangles using 8 thread(s)\n"
     ]
    },
    {
     "name": "stdout",
     "output_type": "stream",
     "text": [
      "Progress: 100%|█████████████████████████████████████████| Time: 0:00:01\u001b[K\n"
     ]
    },
    {
     "name": "stderr",
     "output_type": "stream",
     "text": [
      "[ Info: Harmonic Mean Integration started. Samples in dataset 1 / 2: \t50000 / 49999\tParameters:\t6\n",
      "[ Info: Data Whitening.\n",
      "[ Info: Updating 66 Hyperrectangles using 8 thread(s)\n",
      "[ Info: Integrating 66 Hyperrectangles\n",
      "[ Info: Apply Whitening Transformation to Data Set 2\n",
      "[ Info: Create Space Partitioning Tree\n",
      "[ Info: Estimating Uncertainty (cov. weighted result)\n",
      "[ Info: Determine Hyperrectangle Starting Samples\n",
      "[ Info: Determine Tolerances for Hyperrectangle Creation\n",
      "[ Info: Harmonic Mean Integration started. Samples in dataset 1 / 2: \t50000 / 49999\tParameters:\t6\n",
      "[ Info: Data Whitening.\n",
      "[ Info: Apply Whitening Transformation to Data Set 2\n",
      "[ Info: Create Space Partitioning Tree\n",
      "[ Info: Harmonic Mean Integration started. Samples in dataset 1 / 2: \t50000 / 49999\tParameters:\t6\n",
      "[ Info: Data Whitening.\n",
      "[ Info: BATPar: Sampling subspace 93:\n",
      "[ Info: Trying to generate 10 viable MCMC chain(s).\n",
      "[ Info: Determine Hyperrectangle Starting Samples\n",
      "[ Info: Selected 10 MCMC chain(s).\n",
      "[ Info: Begin tuning of 10 MCMC chain(s).\n",
      "[ Info: Apply Whitening Transformation to Data Set 2\n",
      "[ Info: MCMC Tuning cycle 1 finished, 10 chains, 0 tuned, 0 converged.\n",
      "[ Info: Create Space Partitioning Tree\n",
      "[ Info: Determine Tolerances for Hyperrectangle Creation\n"
     ]
    },
    {
     "name": "stdout",
     "output_type": "stream",
     "text": [
      "Progress: 100%|█████████████████████████████████████████| Time: 0:00:00\u001b[K\n"
     ]
    },
    {
     "name": "stderr",
     "output_type": "stream",
     "text": [
      "[ Info: MCMC Tuning cycle 2 finished, 10 chains, 0 tuned, 0 converged.\n",
      "[ Info: Determine Hyperrectangle Starting Samples\n",
      "[ Info: MCMC Tuning cycle 3 finished, 10 chains, 0 tuned, 0 converged.\n",
      "[ Info: Determine Tolerances for Hyperrectangle Creation\n",
      "[ Info: MCMC Tuning cycle 4 finished, 10 chains, 0 tuned, 0 converged.\n",
      "[ Info: MCMC Tuning cycle 5 finished, 10 chains, 0 tuned, 0 converged.\n",
      "[ Info: MCMC Tuning cycle 6 finished, 10 chains, 0 tuned, 0 converged.\n",
      "[ Info: MCMC Tuning cycle 7 finished, 10 chains, 2 tuned, 10 converged.\n",
      "[ Info: MCMC Tuning cycle 8 finished, 10 chains, 7 tuned, 0 converged.\n",
      "[ Info: MCMC Tuning cycle 9 finished, 10 chains, 9 tuned, 0 converged.\n",
      "[ Info: MCMC Tuning cycle 10 finished, 10 chains, 9 tuned, 0 converged.\n",
      "[ Info: MCMC Tuning cycle 11 finished, 10 chains, 8 tuned, 0 converged.\n",
      "[ Info: Create 61 Hyperrectangles using 8 thread(s)\n",
      "[ Info: MCMC Tuning cycle 12 finished, 10 chains, 10 tuned, 0 converged.\n",
      "[ Info: MCMC Tuning cycle 13 finished, 10 chains, 10 tuned, 10 converged.\n",
      "[ Info: MCMC tuning of 10 chains successful after 13 cycle(s).\n",
      "[ Info: Create 56 Hyperrectangles using 8 thread(s)\n",
      "[ Info: Create 65 Hyperrectangles using 8 thread(s)\n"
     ]
    },
    {
     "name": "stdout",
     "output_type": "stream",
     "text": [
      "Progress: 100%|█████████████████████████████████████████| Time: 0:00:01\u001b[K\n",
      "Progress: 100%|█████████████████████████████████████████| Time: 0:00:01\u001b[K\n"
     ]
    },
    {
     "name": "stderr",
     "output_type": "stream",
     "text": [
      "[ Info: Updating 56 Hyperrectangles using 8 thread(s)\n",
      "[ Info: Integrating 56 Hyperrectangles\n",
      "[ Info: Estimating Uncertainty (cov. weighted result)\n",
      "[ Info: BATPar: Sampling subspace 94:\n",
      "[ Info: Trying to generate 10 viable MCMC chain(s).\n",
      "[ Info: Selected 10 MCMC chain(s).\n",
      "[ Info: Begin tuning of 10 MCMC chain(s).\n",
      "[ Info: MCMC Tuning cycle 1 finished, 10 chains, 0 tuned, 0 converged.\n",
      "[ Info: Updating 61 Hyperrectangles using 8 thread(s)\n",
      "[ Info: Integrating 61 Hyperrectangles\n",
      "[ Info: Estimating Uncertainty (cov. weighted result)\n",
      "[ Info: BATPar: Sampling subspace 95:\n",
      "[ Info: Trying to generate 10 viable MCMC chain(s).\n",
      "[ Info: MCMC Tuning cycle 2 finished, 10 chains, 0 tuned, 0 converged.\n",
      "[ Info: Selected 10 MCMC chain(s).\n",
      "[ Info: Begin tuning of 10 MCMC chain(s).\n",
      "[ Info: MCMC Tuning cycle 1 finished, 10 chains, 0 tuned, 0 converged.\n",
      "[ Info: MCMC Tuning cycle 3 finished, 10 chains, 0 tuned, 0 converged.\n"
     ]
    },
    {
     "name": "stdout",
     "output_type": "stream",
     "text": [
      "Progress: 100%|█████████████████████████████████████████| Time: 0:00:01\u001b[K\n"
     ]
    },
    {
     "name": "stderr",
     "output_type": "stream",
     "text": [
      "[ Info: MCMC Tuning cycle 4 finished, 10 chains, 0 tuned, 10 converged.\n",
      "[ Info: MCMC Tuning cycle 5 finished, 10 chains, 1 tuned, 10 converged.\n",
      "[ Info: Updating 65 Hyperrectangles using 8 thread(s)\n",
      "[ Info: Integrating 65 Hyperrectangles\n",
      "[ Info: Estimating Uncertainty (cov. weighted result)\n",
      "[ Info: BATPar: Sampling subspace 96:\n",
      "[ Info: Trying to generate 10 viable MCMC chain(s).\n",
      "[ Info: MCMC Tuning cycle 6 finished, 10 chains, 0 tuned, 10 converged.\n",
      "[ Info: MCMC Tuning cycle 7 finished, 10 chains, 8 tuned, 0 converged.\n",
      "[ Info: MCMC Tuning cycle 2 finished, 10 chains, 0 tuned, 0 converged.\n",
      "[ Info: Selected 10 MCMC chain(s).\n",
      "[ Info: Begin tuning of 10 MCMC chain(s).\n",
      "[ Info: MCMC Tuning cycle 3 finished, 10 chains, 0 tuned, 0 converged.\n",
      "[ Info: MCMC Tuning cycle 1 finished, 10 chains, 0 tuned, 0 converged.\n",
      "[ Info: MCMC Tuning cycle 4 finished, 10 chains, 0 tuned, 0 converged.\n",
      "[ Info: MCMC Tuning cycle 2 finished, 10 chains, 0 tuned, 0 converged.\n",
      "[ Info: MCMC Tuning cycle 5 finished, 10 chains, 3 tuned, 10 converged.\n",
      "[ Info: MCMC Tuning cycle 3 finished, 10 chains, 0 tuned, 0 converged.\n",
      "[ Info: MCMC Tuning cycle 4 finished, 10 chains, 0 tuned, 0 converged.\n",
      "[ Info: MCMC Tuning cycle 6 finished, 10 chains, 4 tuned, 10 converged.\n",
      "[ Info: MCMC Tuning cycle 5 finished, 10 chains, 0 tuned, 0 converged.\n",
      "[ Info: MCMC Tuning cycle 7 finished, 10 chains, 10 tuned, 0 converged.\n",
      "[ Info: MCMC Tuning cycle 6 finished, 10 chains, 0 tuned, 0 converged.\n",
      "[ Info: MCMC Tuning cycle 8 finished, 10 chains, 10 tuned, 10 converged.\n",
      "[ Info: MCMC tuning of 10 chains successful after 8 cycle(s).\n",
      "[ Info: MCMC Tuning cycle 8 finished, 10 chains, 8 tuned, 0 converged.\n",
      "[ Info: MCMC Tuning cycle 9 finished, 10 chains, 9 tuned, 10 converged.\n",
      "[ Info: MCMC Tuning cycle 10 finished, 10 chains, 10 tuned, 0 converged.\n",
      "[ Info: Harmonic Mean Integration started. Samples in dataset 1 / 2: \t50000 / 49999\tParameters:\t6\n",
      "[ Info: Data Whitening.\n",
      "[ Info: MCMC Tuning cycle 11 finished, 10 chains, 10 tuned, 10 converged.\n",
      "[ Info: MCMC tuning of 10 chains successful after 11 cycle(s).\n",
      "[ Info: Apply Whitening Transformation to Data Set 2\n",
      "[ Info: Create Space Partitioning Tree\n",
      "[ Info: MCMC Tuning cycle 7 finished, 10 chains, 1 tuned, 0 converged.\n",
      "[ Info: Determine Hyperrectangle Starting Samples\n",
      "[ Info: MCMC Tuning cycle 8 finished, 10 chains, 6 tuned, 0 converged.\n",
      "[ Info: Determine Tolerances for Hyperrectangle Creation\n",
      "[ Info: MCMC Tuning cycle 9 finished, 10 chains, 7 tuned, 0 converged.\n",
      "[ Info: MCMC Tuning cycle 10 finished, 10 chains, 10 tuned, 0 converged.\n",
      "[ Info: MCMC Tuning cycle 11 finished, 10 chains, 9 tuned, 0 converged.\n",
      "[ Info: MCMC Tuning cycle 12 finished, 10 chains, 10 tuned, 0 converged.\n",
      "[ Info: MCMC Tuning cycle 13 finished, 10 chains, 9 tuned, 0 converged.\n",
      "[ Info: MCMC Tuning cycle 14 finished, 10 chains, 9 tuned, 10 converged.\n",
      "[ Info: MCMC Tuning cycle 15 finished, 10 chains, 10 tuned, 0 converged.\n",
      "[ Info: MCMC Tuning cycle 16 finished, 10 chains, 10 tuned, 0 converged.\n",
      "[ Info: MCMC Tuning cycle 17 finished, 10 chains, 9 tuned, 0 converged.\n",
      "[ Info: MCMC Tuning cycle 18 finished, 10 chains, 9 tuned, 0 converged.\n",
      "[ Info: MCMC Tuning cycle 19 finished, 10 chains, 10 tuned, 0 converged.\n",
      "[ Info: MCMC Tuning cycle 20 finished, 10 chains, 9 tuned, 0 converged.\n",
      "[ Info: MCMC Tuning cycle 21 finished, 10 chains, 10 tuned, 10 converged.\n",
      "[ Info: MCMC tuning of 10 chains successful after 21 cycle(s).\n",
      "[ Info: Harmonic Mean Integration started. Samples in dataset 1 / 2: \t50000 / 49999\tParameters:\t6\n",
      "[ Info: Data Whitening.\n",
      "[ Info: Harmonic Mean Integration started. Samples in dataset 1 / 2: \t50000 / 49999\tParameters:\t6\n",
      "[ Info: Data Whitening.\n",
      "[ Info: Apply Whitening Transformation to Data Set 2\n",
      "[ Info: Create 49 Hyperrectangles using 8 thread(s)\n",
      "[ Info: Create Space Partitioning Tree\n",
      "[ Info: Apply Whitening Transformation to Data Set 2\n",
      "[ Info: Create Space Partitioning Tree\n"
     ]
    },
    {
     "name": "stdout",
     "output_type": "stream",
     "text": [
      "Progress: 100%|█████████████████████████████████████████| Time: 0:00:00\u001b[K\n",
      "Progress: 100%|█████████████████████████████████████████| Time: 0:00:00\u001b[K\n"
     ]
    },
    {
     "name": "stderr",
     "output_type": "stream",
     "text": [
      "[ Info: Determine Hyperrectangle Starting Samples\n",
      "[ Info: Determine Hyperrectangle Starting Samples\n",
      "[ Info: Determine Tolerances for Hyperrectangle Creation\n",
      "[ Info: Determine Tolerances for Hyperrectangle Creation\n"
     ]
    },
    {
     "name": "stdout",
     "output_type": "stream",
     "text": [
      "Progress: 100%|█████████████████████████████████████████| Time: 0:00:00\u001b[K\n"
     ]
    },
    {
     "name": "stderr",
     "output_type": "stream",
     "text": [
      "[ Info: Updating 49 Hyperrectangles using 8 thread(s)\n",
      "[ Info: Integrating 49 Hyperrectangles\n",
      "[ Info: Estimating Uncertainty (cov. weighted result)\n",
      "[ Info: BATPar: Sampling subspace 97:\n",
      "[ Info: Trying to generate 10 viable MCMC chain(s).\n",
      "[ Info: Selected 10 MCMC chain(s).\n",
      "[ Info: Begin tuning of 10 MCMC chain(s).\n",
      "[ Info: MCMC Tuning cycle 1 finished, 10 chains, 0 tuned, 0 converged.\n",
      "[ Info: MCMC Tuning cycle 2 finished, 10 chains, 0 tuned, 0 converged.\n",
      "[ Info: MCMC Tuning cycle 3 finished, 10 chains, 0 tuned, 0 converged.\n",
      "[ Info: Create 94 Hyperrectangles using 8 thread(s)\n",
      "[ Info: MCMC Tuning cycle 4 finished, 10 chains, 0 tuned, 0 converged.\n",
      "[ Info: Harmonic Mean Integration started. Samples in dataset 1 / 2: \t50000 / 49999\tParameters:\t6\n",
      "[ Info: Data Whitening.\n",
      "[ Info: MCMC Tuning cycle 5 finished, 10 chains, 0 tuned, 0 converged.\n",
      "[ Info: MCMC Tuning cycle 6 finished, 10 chains, 0 tuned, 0 converged.\n",
      "[ Info: Apply Whitening Transformation to Data Set 2\n",
      "[ Info: Create Space Partitioning Tree\n",
      "[ Info: Create 60 Hyperrectangles using 8 thread(s)\n"
     ]
    },
    {
     "name": "stdout",
     "output_type": "stream",
     "text": [
      "Progress: 100%|█████████████████████████████████████████| Time: 0:00:00\u001b[K\n"
     ]
    },
    {
     "name": "stderr",
     "output_type": "stream",
     "text": [
      "[ Info: MCMC Tuning cycle 7 finished, 10 chains, 3 tuned, 0 converged.\n",
      "[ Info: MCMC Tuning cycle 8 finished, 10 chains, 5 tuned, 0 converged.\n",
      "[ Info: MCMC Tuning cycle 9 finished, 10 chains, 9 tuned, 0 converged.\n",
      "[ Info: MCMC Tuning cycle 10 finished, 10 chains, 10 tuned, 0 converged.\n",
      "[ Info: MCMC Tuning cycle 11 finished, 10 chains, 10 tuned, 0 converged.\n",
      "[ Info: Determine Hyperrectangle Starting Samples\n",
      "[ Info: MCMC Tuning cycle 12 finished, 10 chains, 10 tuned, 0 converged.\n",
      "[ Info: Determine Tolerances for Hyperrectangle Creation\n",
      "[ Info: MCMC Tuning cycle 13 finished, 10 chains, 10 tuned, 0 converged.\n",
      "[ Info: MCMC Tuning cycle 14 finished, 10 chains, 10 tuned, 0 converged.\n"
     ]
    },
    {
     "name": "stdout",
     "output_type": "stream",
     "text": [
      "Progress: 100%|█████████████████████████████████████████| Time: 0:00:01\u001b[K\n"
     ]
    },
    {
     "name": "stderr",
     "output_type": "stream",
     "text": [
      "[ Info: MCMC Tuning cycle 15 finished, 10 chains, 10 tuned, 10 converged.\n",
      "[ Info: Updating 60 Hyperrectangles using 8 thread(s)\n",
      "[ Info: MCMC tuning of 10 chains successful after 15 cycle(s).\n",
      "[ Info: Integrating 60 Hyperrectangles\n",
      "[ Info: Estimating Uncertainty (cov. weighted result)\n",
      "[ Info: BATPar: Sampling subspace 98:\n",
      "[ Info: Trying to generate 10 viable MCMC chain(s).\n",
      "[ Info: Selected 10 MCMC chain(s).\n",
      "[ Info: Begin tuning of 10 MCMC chain(s).\n",
      "[ Info: MCMC Tuning cycle 1 finished, 10 chains, 0 tuned, 0 converged.\n"
     ]
    },
    {
     "name": "stdout",
     "output_type": "stream",
     "text": [
      "Progress: 100%|█████████████████████████████████████████| Time: 0:00:02\u001b[K\n"
     ]
    },
    {
     "name": "stderr",
     "output_type": "stream",
     "text": [
      "[ Info: MCMC Tuning cycle 2 finished, 10 chains, 0 tuned, 0 converged.\n",
      "[ Info: MCMC Tuning cycle 3 finished, 10 chains, 0 tuned, 0 converged.\n",
      "[ Info: Updating 94 Hyperrectangles using 8 thread(s)\n",
      "[ Info: Create 57 Hyperrectangles using 8 thread(s)\n",
      "[ Info: MCMC Tuning cycle 4 finished, 10 chains, 0 tuned, 0 converged.\n"
     ]
    },
    {
     "name": "stdout",
     "output_type": "stream",
     "text": [
      "Progress: 100%|█████████████████████████████████████████| Time: 0:00:00\u001b[K\n"
     ]
    },
    {
     "name": "stderr",
     "output_type": "stream",
     "text": [
      "[ Info: Integrating 94 Hyperrectangles\n",
      "[ Info: MCMC Tuning cycle 5 finished, 10 chains, 0 tuned, 10 converged.\n",
      "[ Info: Estimating Uncertainty (cov. weighted result)\n",
      "[ Info: BATPar: Sampling subspace 99:\n",
      "[ Info: Trying to generate 10 viable MCMC chain(s).\n",
      "[ Info: Selected 10 MCMC chain(s).\n",
      "[ Info: Begin tuning of 10 MCMC chain(s).\n",
      "[ Info: MCMC Tuning cycle 6 finished, 10 chains, 1 tuned, 0 converged.\n",
      "[ Info: MCMC Tuning cycle 7 finished, 10 chains, 2 tuned, 0 converged.\n",
      "[ Info: MCMC Tuning cycle 1 finished, 10 chains, 0 tuned, 0 converged.\n",
      "[ Info: MCMC Tuning cycle 2 finished, 10 chains, 0 tuned, 0 converged.\n",
      "[ Info: MCMC Tuning cycle 8 finished, 10 chains, 6 tuned, 0 converged.\n",
      "[ Info: MCMC Tuning cycle 9 finished, 10 chains, 9 tuned, 10 converged.\n",
      "[ Info: MCMC Tuning cycle 10 finished, 10 chains, 9 tuned, 10 converged.\n",
      "[ Info: MCMC Tuning cycle 3 finished, 10 chains, 0 tuned, 0 converged.\n",
      "[ Info: MCMC Tuning cycle 11 finished, 10 chains, 10 tuned, 0 converged.\n",
      "[ Info: MCMC Tuning cycle 4 finished, 10 chains, 0 tuned, 0 converged.\n",
      "[ Info: MCMC Tuning cycle 5 finished, 10 chains, 0 tuned, 0 converged.\n",
      "[ Info: MCMC Tuning cycle 6 finished, 10 chains, 3 tuned, 10 converged.\n",
      "[ Info: MCMC Tuning cycle 7 finished, 10 chains, 6 tuned, 10 converged.\n",
      "[ Info: MCMC Tuning cycle 8 finished, 10 chains, 9 tuned, 0 converged.\n",
      "[ Info: Harmonic Mean Integration started. Samples in dataset 1 / 2: \t50000 / 49999\tParameters:\t6\n",
      "[ Info: Data Whitening.\n",
      "[ Info: MCMC Tuning cycle 12 finished, 10 chains, 9 tuned, 0 converged.\n",
      "[ Info: Apply Whitening Transformation to Data Set 2\n",
      "[ Info: Create Space Partitioning Tree\n",
      "[ Info: MCMC Tuning cycle 9 finished, 10 chains, 9 tuned, 0 converged.\n",
      "[ Info: MCMC Tuning cycle 13 finished, 10 chains, 10 tuned, 0 converged.\n",
      "[ Info: Determine Hyperrectangle Starting Samples\n",
      "[ Info: MCMC Tuning cycle 14 finished, 10 chains, 10 tuned, 10 converged.\n",
      "[ Info: MCMC tuning of 10 chains successful after 14 cycle(s).\n",
      "[ Info: Determine Tolerances for Hyperrectangle Creation\n"
     ]
    },
    {
     "name": "stdout",
     "output_type": "stream",
     "text": [
      "Progress: 100%|█████████████████████████████████████████| Time: 0:00:01\u001b[K\n"
     ]
    },
    {
     "name": "stderr",
     "output_type": "stream",
     "text": [
      "[ Info: Updating 57 Hyperrectangles using 8 thread(s)\n",
      "[ Info: Integrating 57 Hyperrectangles\n",
      "[ Info: Estimating Uncertainty (cov. weighted result)\n",
      "[ Info: BATPar: Sampling subspace 100:\n",
      "[ Info: Trying to generate 10 viable MCMC chain(s).\n",
      "[ Info: Selected 10 MCMC chain(s).\n",
      "[ Info: Begin tuning of 10 MCMC chain(s).\n",
      "[ Info: MCMC Tuning cycle 1 finished, 10 chains, 0 tuned, 0 converged.\n",
      "[ Info: MCMC Tuning cycle 10 finished, 10 chains, 8 tuned, 0 converged.\n",
      "[ Info: MCMC Tuning cycle 11 finished, 10 chains, 9 tuned, 0 converged.\n",
      "[ Info: MCMC Tuning cycle 2 finished, 10 chains, 0 tuned, 0 converged.\n",
      "[ Info: MCMC Tuning cycle 12 finished, 10 chains, 9 tuned, 10 converged.\n",
      "[ Info: MCMC Tuning cycle 13 finished, 10 chains, 10 tuned, 0 converged.\n",
      "[ Info: MCMC Tuning cycle 14 finished, 10 chains, 8 tuned, 10 converged.\n",
      "[ Info: MCMC Tuning cycle 3 finished, 10 chains, 0 tuned, 0 converged.\n",
      "[ Info: MCMC Tuning cycle 4 finished, 10 chains, 0 tuned, 0 converged.\n",
      "[ Info: MCMC Tuning cycle 5 finished, 10 chains, 0 tuned, 0 converged.\n",
      "[ Info: MCMC Tuning cycle 15 finished, 10 chains, 10 tuned, 10 converged.\n",
      "[ Info: MCMC tuning of 10 chains successful after 15 cycle(s).\n",
      "[ Info: MCMC Tuning cycle 6 finished, 10 chains, 2 tuned, 0 converged.\n",
      "[ Info: MCMC Tuning cycle 7 finished, 10 chains, 6 tuned, 0 converged.\n",
      "[ Info: MCMC Tuning cycle 8 finished, 10 chains, 8 tuned, 0 converged.\n",
      "[ Info: MCMC Tuning cycle 9 finished, 10 chains, 9 tuned, 10 converged.\n",
      "[ Info: MCMC Tuning cycle 10 finished, 10 chains, 10 tuned, 0 converged.\n",
      "[ Info: Create 63 Hyperrectangles using 8 thread(s)\n",
      "[ Info: MCMC Tuning cycle 11 finished, 10 chains, 10 tuned, 10 converged.\n",
      "[ Info: MCMC tuning of 10 chains successful after 11 cycle(s).\n",
      "[ Info: Harmonic Mean Integration started. Samples in dataset 1 / 2: \t50000 / 49999\tParameters:\t6\n",
      "[ Info: Data Whitening.\n",
      "[ Info: Apply Whitening Transformation to Data Set 2\n",
      "[ Info: Create Space Partitioning Tree\n",
      "[ Info: Determine Hyperrectangle Starting Samples\n",
      "[ Info: Determine Tolerances for Hyperrectangle Creation\n"
     ]
    },
    {
     "name": "stdout",
     "output_type": "stream",
     "text": [
      "Progress: 100%|█████████████████████████████████████████| Time: 0:00:01\u001b[K\n"
     ]
    },
    {
     "name": "stderr",
     "output_type": "stream",
     "text": [
      "[ Info: Updating 63 Hyperrectangles using 8 thread(s)\n",
      "[ Info: Integrating 63 Hyperrectangles\n",
      "[ Info: Estimating Uncertainty (cov. weighted result)\n",
      "[ Info: BATPar: Sampling subspace 101:\n",
      "[ Info: Trying to generate 10 viable MCMC chain(s).\n",
      "[ Info: Selected 10 MCMC chain(s).\n",
      "[ Info: Begin tuning of 10 MCMC chain(s).\n",
      "[ Info: MCMC Tuning cycle 1 finished, 10 chains, 0 tuned, 0 converged.\n",
      "[ Info: MCMC Tuning cycle 2 finished, 10 chains, 0 tuned, 0 converged.\n",
      "[ Info: MCMC Tuning cycle 3 finished, 10 chains, 0 tuned, 0 converged.\n",
      "[ Info: Harmonic Mean Integration started. Samples in dataset 1 / 2: \t50000 / 49999\tParameters:\t6\n",
      "[ Info: Data Whitening.\n",
      "[ Info: MCMC Tuning cycle 4 finished, 10 chains, 0 tuned, 0 converged.\n",
      "[ Info: MCMC Tuning cycle 5 finished, 10 chains, 0 tuned, 0 converged.\n",
      "[ Info: MCMC Tuning cycle 6 finished, 10 chains, 3 tuned, 0 converged.\n",
      "[ Info: Apply Whitening Transformation to Data Set 2\n",
      "[ Info: Create Space Partitioning Tree\n",
      "[ Info: MCMC Tuning cycle 7 finished, 10 chains, 7 tuned, 0 converged.\n",
      "[ Info: Harmonic Mean Integration started. Samples in dataset 1 / 2: \t50000 / 49999\tParameters:\t6\n",
      "[ Info: Data Whitening.\n",
      "[ Info: MCMC Tuning cycle 8 finished, 10 chains, 8 tuned, 0 converged.\n",
      "[ Info: Apply Whitening Transformation to Data Set 2\n",
      "[ Info: Create Space Partitioning Tree\n",
      "[ Info: Determine Hyperrectangle Starting Samples\n",
      "[ Info: Determine Tolerances for Hyperrectangle Creation\n",
      "[ Info: Create 77 Hyperrectangles using 8 thread(s)\n",
      "[ Info: Determine Hyperrectangle Starting Samples\n",
      "[ Info: Determine Tolerances for Hyperrectangle Creation\n",
      "[ Info: MCMC Tuning cycle 9 finished, 10 chains, 7 tuned, 0 converged.\n",
      "[ Info: MCMC Tuning cycle 10 finished, 10 chains, 9 tuned, 0 converged.\n",
      "[ Info: MCMC Tuning cycle 11 finished, 10 chains, 10 tuned, 10 converged.\n",
      "[ Info: MCMC tuning of 10 chains successful after 11 cycle(s).\n",
      "[ Info: Create 53 Hyperrectangles using 8 thread(s)\n"
     ]
    },
    {
     "name": "stdout",
     "output_type": "stream",
     "text": [
      "Progress: 100%|█████████████████████████████████████████| Time: 0:00:01\u001b[K\n"
     ]
    },
    {
     "name": "stderr",
     "output_type": "stream",
     "text": [
      "[ Info: Updating 77 Hyperrectangles using 8 thread(s)\n",
      "[ Info: Integrating 77 Hyperrectangles\n",
      "[ Info: Estimating Uncertainty (cov. weighted result)\n",
      "[ Info: Create 64 Hyperrectangles using 8 thread(s)\n"
     ]
    },
    {
     "name": "stdout",
     "output_type": "stream",
     "text": [
      "Progress: 100%|█████████████████████████████████████████| Time: 0:00:00\u001b[K\n"
     ]
    },
    {
     "name": "stderr",
     "output_type": "stream",
     "text": [
      "[ Info: Updating 53 Hyperrectangles using 8 thread(s)\n",
      "[ Info: Integrating 53 Hyperrectangles\n"
     ]
    },
    {
     "name": "stdout",
     "output_type": "stream",
     "text": [
      "Progress: 100%|█████████████████████████████████████████| Time: 0:00:00\u001b[K\n"
     ]
    },
    {
     "name": "stderr",
     "output_type": "stream",
     "text": [
      "[ Info: Estimating Uncertainty (cov. weighted result)\n",
      "[ Info: Harmonic Mean Integration started. Samples in dataset 1 / 2: \t50000 / 49999\tParameters:\t6\n",
      "[ Info: Data Whitening.\n",
      "[ Info: Apply Whitening Transformation to Data Set 2\n",
      "[ Info: Create Space Partitioning Tree\n",
      "[ Info: Determine Hyperrectangle Starting Samples\n",
      "[ Info: Determine Tolerances for Hyperrectangle Creation\n"
     ]
    },
    {
     "name": "stdout",
     "output_type": "stream",
     "text": [
      "Progress: 100%|█████████████████████████████████████████| Time: 0:00:00\u001b[K\n"
     ]
    },
    {
     "name": "stderr",
     "output_type": "stream",
     "text": [
      "[ Info: Updating 64 Hyperrectangles using 8 thread(s)\n",
      "[ Info: Integrating 64 Hyperrectangles\n",
      "[ Info: Estimating Uncertainty (cov. weighted result)\n",
      "[ Info: Create 49 Hyperrectangles using 8 thread(s)\n"
     ]
    },
    {
     "name": "stdout",
     "output_type": "stream",
     "text": [
      "Progress: 100%|█████████████████████████████████████████| Time: 0:00:00\u001b[K\n"
     ]
    },
    {
     "name": "stderr",
     "output_type": "stream",
     "text": [
      "[ Info: Updating 49 Hyperrectangles using 8 thread(s)\n",
      "[ Info: Integrating 49 Hyperrectangles\n",
      "[ Info: Estimating Uncertainty (cov. weighted result)\n",
      "┌ Info: BATPar: Sampling is finished. Combining samples:\n",
      "└ @ BATPar /Users/vhafych/MPP-Server/gitrepos/BATPar.jl/src/BATPar.jl:58\n",
      "┌ Info: BATPar: Ready!\n",
      "└ @ BATPar /Users/vhafych/MPP-Server/gitrepos/BATPar.jl/src/BATPar.jl:75\n"
     ]
    },
    {
     "name": "stdout",
     "output_type": "stream",
     "text": [
      "215.330753 seconds (356.94 k allocations: 1.757 GiB, 1.14% gc time)\n"
     ]
    }
   ],
   "source": [
    "bounds_part = extract_par_bounds(output)\n",
    "\n",
    "@everywhere BATPar.make_named_prior(i) = BAT.NamedTupleDist( a =  [[i[j,1]..i[j,2] for j in 1:size(i)[1]]...])\n",
    "\n",
    "nnsamples = 10^4\n",
    "nnchains = 10\n",
    "\n",
    "tuning = AdaptiveMetropolisTuning(\n",
    "    λ = 0.5,\n",
    "    α = 0.15..0.35,\n",
    "    β = 1.5,\n",
    "    c = 1e-4..1e2\n",
    ")\n",
    "\n",
    "burnin = MCMCBurninStrategy(\n",
    "    max_nsamples_per_cycle = 4000,\n",
    "    max_nsteps_per_cycle = 4000,\n",
    "    max_time_per_cycle = 25,\n",
    "    max_ncycles = 200\n",
    ")\n",
    "\n",
    "algorithm = MetropolisHastings();\n",
    "\n",
    "@time samples_parallel = bat_sample_parallel(likelihood, bounds_part, (nnsamples, nnchains), algorithm, tuning=tuning, burnin=burnin);"
   ]
  },
  {
   "cell_type": "code",
   "execution_count": 48,
   "metadata": {},
   "outputs": [],
   "source": [
    "smpl_par = hcat(samples_parallel.samples...)\n",
    "x = smpl_par[1,:]\n",
    "y = smpl_par[2,:]\n",
    "w_o = samples_parallel.weights_o\n",
    "w_r =  samples_parallel.weights_r;"
   ]
  },
  {
   "cell_type": "code",
   "execution_count": 49,
   "metadata": {},
   "outputs": [
    {
     "name": "stdout",
     "output_type": "stream",
     "text": [
      "exp(LogTrueIntegral(N)) = 0.9483417417341203\n"
     ]
    },
    {
     "data": {
      "text/plain": [
       "0.9483417417341203"
      ]
     },
     "execution_count": 49,
     "metadata": {},
     "output_type": "execute_result"
    }
   ],
   "source": [
    "@show exp(LogTrueIntegral(N))"
   ]
  },
  {
   "cell_type": "code",
   "execution_count": 50,
   "metadata": {},
   "outputs": [
    {
     "data": {
      "text/plain": [
       "2-element Array{Float64,1}:\n",
       " 0.9477292402438018\n",
       " 0.0018108590943936842"
      ]
     },
     "execution_count": 50,
     "metadata": {},
     "output_type": "execute_result"
    }
   ],
   "source": [
    "[sum(samples_parallel.integrals), sqrt(sum((samples_parallel.uncertainty).^2))]"
   ]
  },
  {
   "cell_type": "code",
   "execution_count": 51,
   "metadata": {},
   "outputs": [
    {
     "data": {
      "image/png": "[encoded data removed]",
      "text/plain": [
       "Figure(PyObject <Figure size 600x600 with 1 Axes>)"
      ]
     },
     "metadata": {},
     "output_type": "display_data"
    },
    {
     "data": {
      "text/plain": [
       "PyObject <matplotlib.patches.Rectangle object at 0x1a4aefd90>"
      ]
     },
     "execution_count": 51,
     "metadata": {},
     "output_type": "execute_result"
    }
   ],
   "source": [
    "histogram_2D_r = fit(Histogram, (x,y), weights(w_o), nbins=200)\n",
    "histogram_2D_r = normalize(histogram_2D_r, mode=:probability)\n",
    "\n",
    "fig, ax = plt.subplots(1,1, figsize=(6, 6))\n",
    "\n",
    "img = ax.pcolormesh(midpoints(histogram_2D_r.edges[1]), midpoints(histogram_2D_r.edges[2]), replace(histogram_2D_r.weights', 0=>NaN), cmap=\"RdYlBu_r\") #terrain_r  vmin = -0.0001, vmax=maximum_v,\n",
    "# fig.colorbar(img)\n",
    "\n",
    "plot_tree(output, [1,2], ax, linewidth=0.8, color=\"black\", alpha=1)"
   ]
  },
  {
   "cell_type": "code",
   "execution_count": 52,
   "metadata": {},
   "outputs": [
    {
     "data": {
      "image/png": "[encoded data removed]",
      "text/plain": [
       "Figure(PyObject <Figure size 1000x1000 with 9 Axes>)"
      ]
     },
     "metadata": {},
     "output_type": "display_data"
    }
   ],
   "source": [
    "function corner_plots(samples::AbstractArray, tree::Node, sample_weights_r::AbstractArray, sample_weights_o::AbstractArray, dim_indices::AbstractArray, dim_names::AbstractArray;\n",
    "        save_plot=false,\n",
    "        FILE_NAME = \"density_function.pdf\",\n",
    "        N_bins = 100,\n",
    "        levels_quantiles = [0.4, 0.7, 0.8, 0.9, 0.99, 1,], \n",
    "        hist_color = plt.cm.tab10(1), \n",
    "        colors = vcat([0 0 0 0.3], plt.cm.YlOrRd(range(0, stop=1, length=10))[2:end,:]),  #vcat([1 1 1 1], plt.cm.Blues(range(0, stop=1, length=20))[2:end,:]),\n",
    "        kwargs...,\n",
    "    )\n",
    "    \n",
    "    N = length(dim_indices)\n",
    "    bins=[]\n",
    "    fig, ax = plt.subplots(N,N, figsize=(10, 10))\n",
    "    fig.subplots_adjust(wspace=0.05, hspace=0.05)\n",
    "    \n",
    "    for idx in 1:N\n",
    "        dim_idx = dim_indices[idx]\n",
    "        bins_tmp = range(minimum(samples[dim_idx,:]), stop=maximum(samples[dim_idx,:]), length=N_bins)\n",
    "        push!(bins, bins_tmp)\n",
    "#         ax[idx, idx].hist(samples[dim_idx,:], weights=sample_weights_o/sum(sample_weights_o), bins=bins_tmp, color=hist_color, alpha=0.4)\n",
    "        ax[idx, idx].hist(samples[dim_idx,:], weights=sample_weights_r/sum(sample_weights_r), bins=bins_tmp,  color=\"lightgray\", alpha=1, linewidth=0.9) #histtype=\"step\",\n",
    "        ax[idx, idx].set_xlim(first(bins_tmp),last(bins_tmp))\n",
    "    end\n",
    "    \n",
    "    for i in 2:N, j in 1:(i-1)\n",
    "        \n",
    "        dim_x = dim_indices[j]\n",
    "        dim_y = dim_indices[i]\n",
    "        \n",
    "        histogram_2D_r = fit(Histogram, (samples[dim_x,:],samples[dim_y,:]), weights(sample_weights_r), (bins[j], bins[i]))\n",
    "        histogram_2D_r = normalize(histogram_2D_r, mode=:probability)\n",
    "        \n",
    "        histogram_2D_o = fit(Histogram, (samples[dim_y,:],samples[dim_x,:]), weights(sample_weights_o), (bins[i], bins[j]))\n",
    "        histogram_2D_o = normalize(histogram_2D_o, mode=:probability)\n",
    "        \n",
    "#         levels=quantile([histogram_2D_r.weights...], levels_quantiles)\n",
    "        min_v_1 = minimum(histogram_2D_r.weights[histogram_2D_r.weights .> 0])\n",
    "        ax[i,j].pcolormesh(midpoints(histogram_2D_r.edges[1]), midpoints(histogram_2D_r.edges[2]), replace( x-> x<500*min_v_1 ? NaN : x, histogram_2D_r.weights'), cmap=\"RdYlBu_r\" , rasterized=true) #bottom | ColorMap(colors) \"RdYlBu_r\"\n",
    "        ax[i,j].set_xlim(first(bins[j]),last(bins[j]))\n",
    "        ax[i,j].set_ylim(first(bins[i]),last(bins[i]))\n",
    "        \n",
    "        min_v_2 = minimum(histogram_2D_o.weights[histogram_2D_o.weights .> 0])\n",
    "        ax[j,i].pcolormesh(midpoints(histogram_2D_o.edges[1]), midpoints(histogram_2D_o.edges[2]), replace( x-> x<300*min_v_2 ? NaN : x, histogram_2D_o.weights'),  cmap=\"RdYlBu_r\" , rasterized=true) # top\n",
    "        plot_tree(tree, [dim_y,dim_x], ax[j,i]; kwargs...,)\n",
    "        \n",
    "        ax[j,i].set_xlim(first(bins[i]),last(bins[i]))\n",
    "        ax[j,i].set_ylim(first(bins[j]),last(bins[j]))\n",
    "        \n",
    "        \n",
    "    end\n",
    "    \n",
    "    for i in 1:N, j in 1:N\n",
    "        if 1<i<N \n",
    "            ax[i,j].get_xaxis().set_visible(false)\n",
    "        elseif i==1 \n",
    "            ax[i,j].xaxis.tick_top()\n",
    "            ax[i,j].xaxis.set_label_position(\"top\")\n",
    "            ax[i,j].set_xlabel(dim_names[j])\n",
    "        else\n",
    "            ax[i,j].set_xlabel(dim_names[j]) \n",
    "        end\n",
    "        \n",
    "        if j == i || N>j>1\n",
    "            # nothing inside \n",
    "            ax[i,j].get_yaxis().set_visible(false) \n",
    "        elseif j==N\n",
    "            # right labels\n",
    "            ax[i,j].set_ylabel(dim_names[i])\n",
    "            ax[i,j].yaxis.set_label_position(\"right\")\n",
    "            ax[i,j].yaxis.tick_right()\n",
    "        else\n",
    "            #left labels\n",
    "            ax[i,j].set_ylabel(dim_names[i])\n",
    "        end\n",
    "    end\n",
    "    \n",
    "    if save_plot \n",
    "        fig.savefig(FILE_NAME, bbox_inches = \"tight\", ) #dpi=500 \n",
    "    end\n",
    "        \n",
    "end\n",
    "\n",
    "corner_plots(smpl_par, output, w_r, w_o, \n",
    "    [1,2,3], [L\"\\lambda_1\", L\"\\lambda_2\", L\"\\lambda_3\", L\"\\lambda_4\",  L\"\\lambda_5\"], \n",
    "    N_bins=120, linewidth=0.6, color=\"black\",\n",
    "    save_plot=false,\n",
    "    FILE_NAME = \"../../MCMC_publication/fig-f-2-a.png\",\n",
    "    )"
   ]
  },
  {
   "cell_type": "code",
   "execution_count": 53,
   "metadata": {},
   "outputs": [
    {
     "data": {
      "image/png": "[encoded data removed]",
      "text/plain": [
       "Figure(PyObject <Figure size 640x480 with 1 Axes>)"
      ]
     },
     "metadata": {},
     "output_type": "display_data"
    },
    {
     "data": {
      "text/plain": [
       "PyObject Text(25.000000000000004, 0.5, 'Counts')"
      ]
     },
     "execution_count": 53,
     "metadata": {},
     "output_type": "execute_result"
    }
   ],
   "source": [
    "bins=collect(0:1:30)\n",
    "plt.hist(samples_parallel.time_mcmc, bins, color=\"royalblue\", label = \"Sampling Time\", alpha=0.8);\n",
    "plt.hist(samples_parallel.time_integration, bins, color=\"peru\", label = \"Integration Time\", alpha=0.8);\n",
    "\n",
    "plt.legend(loc=\"upper right\", frameon=false, framealpha=0.8, ncol=2, )\n",
    "plt.xlabel(\"Time [s]\", labelpad=10,  size=12)\n",
    "plt.ylabel(\"Counts\", labelpad=10,  size=12)"
   ]
  },
  {
   "cell_type": "code",
   "execution_count": 54,
   "metadata": {},
   "outputs": [
    {
     "data": {
      "text/plain": [
       "1491.780769"
      ]
     },
     "execution_count": 54,
     "metadata": {},
     "output_type": "execute_result"
    }
   ],
   "source": [
    "sum(samples_parallel.time_mcmc) + sum(samples_parallel.time_integration)"
   ]
  },
  {
   "cell_type": "code",
   "execution_count": 55,
   "metadata": {},
   "outputs": [],
   "source": [
    "proc_ids = sort(unique(samples_parallel.proc_id))\n",
    "\n",
    "tmp = [sum(samples_parallel.proc_id .== i) for i in proc_ids]\n",
    "\n",
    "min_subspaces = minimum(tmp)\n",
    "max_subspaces = maximum(tmp)\n",
    "\n",
    "proc_names = [\"Worker #$i\" for i in proc_ids]\n",
    "proc_sampling_sum = [sum(samples_parallel.time_mcmc[samples_parallel.proc_id .== i]) for i in proc_ids]\n",
    "proc_int_sum = [sum(samples_parallel.time_integration[samples_parallel.proc_id .== i]) for i in proc_ids]\n",
    "\n",
    "proc_pos = collect(1:1:length(proc_ids));\n",
    "delta = 0.7 / max_subspaces\n",
    "\n",
    "sampling_times = [samples_parallel.time_mcmc[samples_parallel.proc_id .== i] for i in proc_ids]\n",
    "int_times = [samples_parallel.time_integration[samples_parallel.proc_id .== i] for i in proc_ids]\n",
    "\n",
    "fin_positions = maximum.([cumsum(i) for i in (sampling_times .+ int_times)]);"
   ]
  },
  {
   "cell_type": "code",
   "execution_count": 56,
   "metadata": {},
   "outputs": [
    {
     "data": {
      "image/png": "[encoded data removed]",
      "text/plain": [
       "Figure(PyObject <Figure size 1000x600 with 1 Axes>)"
      ]
     },
     "metadata": {},
     "output_type": "display_data"
    }
   ],
   "source": [
    "fig, ax = plt.subplots(figsize=(10, 6))\n",
    "fig.subplots_adjust(left=0.115, right=0.88)\n",
    "\n",
    "label_1 = \"Sampling Time\"\n",
    "label_2 = \"Integration Time\"\n",
    "\n",
    "for p in 1:1:length(proc_names)\n",
    "    n_subspaces = 1:1:length(sampling_times[p])\n",
    "    \n",
    "    cum_sum_int = cumsum(pushfirst!(sampling_times[p]+int_times[p], 0))\n",
    "    \n",
    "    ax.hlines([proc_pos[p] + (i-1)*delta for i in n_subspaces], cum_sum_int[1:end-1], cum_sum_int[1:end-1] .+sampling_times[p], color=\"royalblue\", lw=6,  label=label_1)\n",
    "    ax.hlines([proc_pos[p] + (i-1)*delta for i in n_subspaces], cum_sum_int[2:end] .- int_times[p], cum_sum_int[2:end], color=\"peru\", lw=6, label=label_2)\n",
    "    \n",
    "    label_1 = \"_nolegend_\"\n",
    "    label_2 = \"_nolegend_\"\n",
    "\n",
    "    \n",
    "end\n",
    "\n",
    "ax.hlines(proc_pos[1:end-1].+0.8, 0, maximum(fin_positions), color=\"black\", ls=\"-\", lw=1, alpha=1)\n",
    "ax.set_xlim(0, maximum(fin_positions))\n",
    "ax.set_ylim(0.9, maximum(proc_pos)+0.8)\n",
    "\n",
    "ax.set_yticks(proc_pos)\n",
    "ax.set_yticklabels(proc_names)\n",
    "\n",
    "ax.legend(loc=\"upper left\", frameon=false, framealpha=0.8, ncol=2)\n",
    "ax.set_xlabel(\"Cumulative CPU elapsed time [s]\", labelpad=10,  size=12)\n",
    "ax.set_title(\"Execution Time Summary\",  size=12);\n",
    "\n",
    "\n",
    "ax.set_xticks( range(0, stop=maximum(fin_positions), length=40), minor=true)\n",
    "ax.grid(axis=\"x\", which=\"minor\", alpha=0.2, )"
   ]
  },
  {
   "cell_type": "code",
   "execution_count": 57,
   "metadata": {},
   "outputs": [
    {
     "data": {
      "image/png": "[encoded data removed]",
      "text/plain": [
       "Figure(PyObject <Figure size 900x700 with 1 Axes>)"
      ]
     },
     "metadata": {},
     "output_type": "display_data"
    },
    {
     "data": {
      "text/plain": [
       "PyObject Text(0.5, 25.000000000000004, 'Cumulative CPU elapsed time [s]')"
      ]
     },
     "execution_count": 57,
     "metadata": {},
     "output_type": "execute_result"
    }
   ],
   "source": [
    "fig, ax1 = plt.subplots(figsize=(9, 7))\n",
    "fig.subplots_adjust(left=0.115, right=0.88)\n",
    "\n",
    "\n",
    "ax1.barh(proc_pos, proc_sampling_sum, color=\"royalblue\",\n",
    "                     align=\"center\",\n",
    "                     height=0.3,\n",
    "                     label=\"Sampling Time\")\n",
    "\n",
    "ax1.barh(proc_pos .+ 0.3, proc_int_sum, color=\"peru\",\n",
    "                     align=\"center\",\n",
    "                     height=0.3,\n",
    "                     label=\"Integration Time\")\n",
    "\n",
    "ax1.set_yticks(proc_pos.+0.15)\n",
    "ax1.set_yticklabels(proc_names)\n",
    "\n",
    "ax1.legend(loc=\"upper center\", frameon=true, framealpha=0.8, ncol=2, bbox_to_anchor=(0.5, 1.08))\n",
    "\n",
    "ax1.set_xlabel(\"Cumulative CPU elapsed time [s]\", labelpad=10,  size=12)"
   ]
  },
  {
   "cell_type": "code",
   "execution_count": 58,
   "metadata": {},
   "outputs": [
    {
     "data": {
      "image/png": "[encoded data removed]",
      "text/plain": [
       "Figure(PyObject <Figure size 500x400 with 1 Axes>)"
      ]
     },
     "metadata": {},
     "output_type": "display_data"
    }
   ],
   "source": [
    "fig, ax = plt.subplots(figsize=(5, 4))\n",
    "\n",
    "fig.subplots_adjust(hspace=0.03, wspace=0.03)\n",
    "\n",
    "ax.hist(samples_parallel.integrals, bins=20, color=\"royalblue\")\n",
    "# ax.set_title(\"# Tweets\")\n",
    "# ax.axis(\"equal\");\n",
    "\n",
    "ax.set_xlabel(\"<I>\", labelpad=10,  size=12)\n",
    "ax.set_ylabel(\"counts\", labelpad=10,  size=12)\n",
    "\n",
    "ax.set_xlim(0, maximum(samples_parallel.integrals));"
   ]
  },
  {
   "cell_type": "code",
   "execution_count": 59,
   "metadata": {},
   "outputs": [
    {
     "data": {
      "text/plain": [
       "15.682309"
      ]
     },
     "execution_count": 59,
     "metadata": {},
     "output_type": "execute_result"
    }
   ],
   "source": [
    "minimum_tmp = minimum(minimum(samples_parallel.timestamps))\n",
    "\n",
    "int_data = [(i .- minimum_tmp)*10^-9  for i in samples_parallel.timestamps];\n",
    "\n",
    "maximum_wc_time = maximum(maximum(int_data))\n",
    "maximum_cpu_time = maximum([samples_parallel.time_mcmc..., samples_parallel.time_integration...])"
   ]
  },
  {
   "cell_type": "code",
   "execution_count": 60,
   "metadata": {},
   "outputs": [
    {
     "data": {
      "image/png": "[encoded data removed]",
      "text/plain": [
       "Figure(PyObject <Figure size 1200x900 with 4 Axes>)"
      ]
     },
     "metadata": {},
     "output_type": "display_data"
    },
    {
     "data": {
      "text/plain": [
       "PyObject Text(0.5, 24.99999999999999, 'Wall-clock time [s]')"
      ]
     },
     "execution_count": 60,
     "metadata": {},
     "output_type": "execute_result"
    }
   ],
   "source": [
    "proc_ids = sort(unique(samples_parallel.proc_id))\n",
    "n_workers = length(proc_ids)\n",
    "\n",
    "x_min = 0\n",
    "x_max = maximum_wc_time\n",
    "y_min = 0\n",
    "y_max = maximum_cpu_time + 0.1*maximum_cpu_time\n",
    "\n",
    "# x_min = 0\n",
    "# x_max = maximum_wc_time\n",
    "# y_min = 0\n",
    "# y_max = 10\n",
    "\n",
    "fig, ax = plt.subplots(n_workers,1, sharex=true, figsize=(n_workers*3, 9))\n",
    "fig.subplots_adjust(hspace=0.0, wspace=0.00)\n",
    "# fig.text(0.0, 0.5, \"common Y\", va=\"center\", rotation=\"vertical\")\n",
    "\n",
    "for (i,j) in enumerate(int_data)\n",
    "    \n",
    "    r1 = matplotlib.patches.Rectangle([j[1], 0.0], j[2]-j[1], samples_parallel.time_mcmc[i], fill=true, linewidth=0.8, color=\"royalblue\", alpha=0.5) \n",
    "    ax[samples_parallel.proc_id[i] - 1].add_patch(r1)\n",
    "    \n",
    "    r2 = matplotlib.patches.Rectangle([j[3], 0.0], j[4]-j[3], samples_parallel.time_integration[i], fill=true, linewidth=0.8, color=\"peru\", alpha=0.5) \n",
    "    ax[samples_parallel.proc_id[i] - 1].add_patch(r2)\n",
    "end\n",
    "\n",
    "for i in 1:n_workers\n",
    "    ax[i].set_xlim(x_min, x_max);\n",
    "    ax[i].set_ylim(y_min, y_max);\n",
    "    ax[i].axes.set_aspect(\"equal\")\n",
    "    ax[i].set_ylabel(\"w #$i\", labelpad=10,  size=10)\n",
    "    \n",
    "    if i<n_workers\n",
    "        ax[i].get_xaxis().set_visible(false) \n",
    "    end\n",
    "end\n",
    "\n",
    "\n",
    "ax[n_workers].set_xlabel(\"Wall-clock time [s]\", labelpad=10,  size=12)"
   ]
  },
  {
   "cell_type": "code",
   "execution_count": null,
   "metadata": {},
   "outputs": [],
   "source": []
  },
  {
   "cell_type": "code",
   "execution_count": 61,
   "metadata": {},
   "outputs": [
    {
     "data": {
      "image/png": "[encoded data removed]",
      "text/plain": [
       "Figure(PyObject <Figure size 1200x900 with 4 Axes>)"
      ]
     },
     "metadata": {},
     "output_type": "display_data"
    },
    {
     "data": {
      "text/plain": [
       "PyObject Text(0.5, 24.999999999999996, 'Wall-clock time [s]')"
      ]
     },
     "execution_count": 61,
     "metadata": {},
     "output_type": "execute_result"
    }
   ],
   "source": [
    "samples_ps = samples_parallel \n",
    "\n",
    "minimum_tmp = minimum(minimum(samples_ps.timestamps))\n",
    "\n",
    "int_data = [(i .- minimum_tmp)*10^-9  for i in samples_ps.timestamps];\n",
    "\n",
    "maximum_wc_time = maximum(maximum(int_data))\n",
    "maximum_cpu_time = maximum([samples_ps.time_mcmc..., samples_ps.time_integration...])\n",
    "\n",
    "proc_ids = sort(unique(samples_ps.proc_id))\n",
    "n_workers = length(proc_ids)\n",
    "\n",
    "x_min = 0\n",
    "x_max = maximum_wc_time\n",
    "y_min = 0\n",
    "y_max = maximum_cpu_time + 0.1*maximum_cpu_time\n",
    "\n",
    "# x_min = 0\n",
    "# x_max = maximum_wc_time\n",
    "# y_min = 0\n",
    "# y_max = 10\n",
    "\n",
    "label_1 = \"Sampling\"\n",
    "label_2 = \"Integration\"\n",
    "\n",
    "fig, ax = plt.subplots(n_workers,1, sharex=true, figsize=(n_workers*3, 9))\n",
    "fig.subplots_adjust(hspace=0.0, wspace=0.00)\n",
    "# fig.text(0.0, 0.5, \"common Y\", va=\"center\", rotation=\"vertical\")\n",
    "\n",
    "y_max_tmp = []\n",
    "\n",
    "for (i,j) in enumerate(int_data)\n",
    "\n",
    "    r1 = matplotlib.patches.Rectangle([j[1], 0.0], j[2]-j[1], samples_ps.time_mcmc[i]/(j[2]-j[1]), fill=true, \n",
    "        linewidth=0.8, color=\"royalblue\", alpha=0.5, label=label_1) \n",
    "    ax[samples_ps.proc_id[i] - 1].add_patch(r1)\n",
    "    \n",
    "    r2 = matplotlib.patches.Rectangle([j[3], 0.0], j[4]-j[3], samples_ps.time_integration[i]/(j[4]-j[3]), \n",
    "        fill=true, linewidth=0.8, color=\"peru\", alpha=0.5, label=label_2) \n",
    "    ax[samples_ps.proc_id[i] - 1].add_patch(r2)\n",
    "    \n",
    "    \n",
    "    push!(y_max_tmp, samples_ps.time_mcmc[i]/(j[2]-j[1]))\n",
    "    push!(y_max_tmp, samples_ps.time_integration[i]/(j[4]-j[3]))\n",
    "    \n",
    "    if i==1; ax[samples_ps.proc_id[i] - 1].legend(loc=\"upper left\", frameon=false, framealpha=0.8, ncol=1, bbox_to_anchor=(1.02, 1.0),); end\n",
    "    \n",
    "    label_1 = \"_nolegend_\"\n",
    "    label_2 = \"_nolegend_\"\n",
    "end\n",
    "\n",
    "\n",
    "\n",
    "for i in 1:n_workers\n",
    "    ax[i].set_xlim(x_min, x_max);\n",
    "    ax[i].set_ylim(0, ceil(maximum(y_max_tmp)));\n",
    "    ax[i].set_ylabel(\"w$i\", labelpad=10,  size=10)\n",
    "    \n",
    "    ax[i].set_yticks(range(0, stop=floor(maximum(y_max_tmp)), step=1), minor=true)\n",
    "    ax[i].grid(axis=\"y\", which=\"both\", alpha=0.2, )\n",
    "    \n",
    "    if i<n_workers\n",
    "        ax[i].get_xaxis().set_visible(false) \n",
    "    end\n",
    "end\n",
    "\n",
    "fig.text(0.06, 0.5, \"CPU time / Wall-clock time\", va=\"center\", rotation=\"vertical\", size=12, weight=\"bold\")\n",
    "ax[n_workers].set_xlabel(\"Wall-clock time [s]\", labelpad=12,  size=12, weight=\"bold\")"
   ]
  },
  {
   "cell_type": "code",
   "execution_count": 62,
   "metadata": {},
   "outputs": [
    {
     "name": "stdout",
     "output_type": "stream",
     "text": [
      "(samples_ps.proc_id[i] - 1, n_workers) = (2, 4)\n"
     ]
    },
    {
     "ename": "ErrorException",
     "evalue": "type Array has no field add_patch",
     "output_type": "error",
     "traceback": [
      "type Array has no field add_patch",
      "",
      "Stacktrace:",
      " [1] getproperty(::Array{PyCall.PyObject,1}, ::Symbol) at ./Base.jl:33",
      " [2] top-level scope at ./In[62]:36"
     ]
    }
   ],
   "source": [
    "samples_ps = samples_parallel \n",
    "\n",
    "minimum_tmp = minimum(minimum(samples_ps.timestamps))\n",
    "\n",
    "int_data = [(i .- minimum_tmp)*10^-9  for i in samples_ps.timestamps];\n",
    "\n",
    "maximum_wc_time = maximum(maximum(int_data))\n",
    "maximum_cpu_time = maximum([samples_ps.time_mcmc..., samples_ps.time_integration...])\n",
    "\n",
    "proc_ids = sort(unique(samples_ps.proc_id))\n",
    "n_workers = length(proc_ids)\n",
    "\n",
    "x_min = 0\n",
    "x_max = maximum_wc_time\n",
    "y_min = 0\n",
    "y_max = maximum_cpu_time + 0.1*maximum_cpu_time\n",
    "\n",
    "# x_min = 0\n",
    "# x_max = maximum_wc_time\n",
    "# y_min = 0\n",
    "# y_max = 10\n",
    "\n",
    "label_1 = \"Sampling\"\n",
    "label_2 = \"Integration\"\n",
    "\n",
    "fig, ax = plt.subplots(n_workers,1, sharex=true, figsize=(n_workers*3, 9))\n",
    "fig.subplots_adjust(hspace=0.0, wspace=0.00)\n",
    "# fig.text(0.0, 0.5, \"common Y\", va=\"center\", rotation=\"vertical\")\n",
    "\n",
    "y_max_tmp = []\n",
    "\n",
    "for (i,j) in enumerate(int_data)\n",
    "    @show samples_ps.proc_id[i] - 1, n_workers\n",
    "    r1 = matplotlib.patches.Rectangle([j[1], 0.0], j[2]-j[1], samples_ps.time_mcmc[i]/(j[2]-j[1]), fill=true, \n",
    "        linewidth=0.8, color=\"royalblue\", alpha=0.5, label=label_1) \n",
    "    ax.add_patch(r1)\n",
    "    \n",
    "    r2 = matplotlib.patches.Rectangle([j[3], 0.0], j[4]-j[3], samples_ps.time_integration[i]/(j[4]-j[3]), \n",
    "        fill=true, linewidth=0.8, color=\"peru\", alpha=0.5, label=label_2) \n",
    "    ax.add_patch(r2)\n",
    "    \n",
    "    \n",
    "    push!(y_max_tmp, samples_ps.time_mcmc[i]/(j[2]-j[1]))\n",
    "    push!(y_max_tmp, samples_ps.time_integration[i]/(j[4]-j[3]))\n",
    "    \n",
    "    if i==1; ax.legend(loc=\"upper left\", frameon=false, framealpha=0.8, ncol=1, bbox_to_anchor=(1.02, 1.0),); end\n",
    "    \n",
    "    label_1 = \"_nolegend_\"\n",
    "    label_2 = \"_nolegend_\"\n",
    "end\n",
    "\n",
    "\n",
    "\n",
    "for i in 1:n_workers\n",
    "    ax.set_xlim(x_min, x_max);\n",
    "    ax.set_ylim(0, ceil(maximum(y_max_tmp)));\n",
    "    ax.set_ylabel(\"w$i\", labelpad=10,  size=10)\n",
    "    \n",
    "    ax.set_yticks(range(0, stop=floor(maximum(y_max_tmp)), step=1), minor=true)\n",
    "    ax.grid(axis=\"y\", which=\"both\", alpha=0.2, )\n",
    "    \n",
    "    if i<n_workers\n",
    "        ax.get_xaxis().set_visible(false) \n",
    "    end\n",
    "end\n",
    "\n",
    "fig.text(0.06, 0.5, \"CPU time / Wall-clock time\", va=\"center\", rotation=\"vertical\", size=12, weight=\"bold\")\n",
    "ax.set_xlabel(\"Wall-clock time [s]\", labelpad=12,  size=12, weight=\"bold\")"
   ]
  },
  {
   "cell_type": "code",
   "execution_count": 63,
   "metadata": {},
   "outputs": [
    {
     "data": {
      "text/plain": [
       "212.5910000000001"
      ]
     },
     "execution_count": 63,
     "metadata": {},
     "output_type": "execute_result"
    }
   ],
   "source": [
    "x_min = 0\n",
    "x_max = maximum_wc_time"
   ]
  },
  {
   "cell_type": "code",
   "execution_count": 45,
   "metadata": {},
   "outputs": [],
   "source": [
    "# samples_ps = (samples = samples_parallel.samples,\n",
    "#         weights_o = samples_parallel.weights_o,\n",
    "#         weights_r = samples_parallel.weights_r,\n",
    "#         log_lik = samples_parallel.log_lik,\n",
    "#         space_ind = samples_parallel.space_ind,\n",
    "#         uncertainty = samples_parallel.uncertainty,\n",
    "#         integrals = samples_parallel.integrals,\n",
    "#         time_mcmc = samples_parallel.time_mcmc,\n",
    "#         time_integration = samples_parallel.time_integration,\n",
    "#         proc_id = samples_parallel.proc_id,\n",
    "#         n_threads = samples_parallel.n_threads,\n",
    "#         timestamps = samples_parallel.timestamps\n",
    "# );\n",
    "\n",
    "# @save \"Generated_Data/samples_ps-2.jld\" samples_ps;\n",
    "\n",
    "# # @load \"samples_ps.jld\" samples_ps"
   ]
  },
  {
   "cell_type": "code",
   "execution_count": null,
   "metadata": {},
   "outputs": [],
   "source": []
  }
 ],
 "metadata": {
  "kernelspec": {
   "display_name": "Julia 1.4.0-rc1",
   "language": "julia",
   "name": "julia-1.4"
  },
  "language_info": {
   "file_extension": ".jl",
   "mimetype": "application/julia",
   "name": "julia",
   "version": "1.4.0"
  }
 },
 "nbformat": 4,
 "nbformat_minor": 4
}
