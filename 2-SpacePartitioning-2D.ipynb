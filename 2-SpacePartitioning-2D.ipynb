{
 "cells": [
  {
   "cell_type": "code",
   "execution_count": null,
   "metadata": {},
   "outputs": [],
   "source": [
    "using Distributions \n",
    "using IntervalSets\n",
    "using ValueShapes\n",
    "using ArraysOfArrays\n",
    "using StatsBase \n",
    "using LinearAlgebra\n",
    "using Random123\n",
    "using HCubature\n",
    "using HDF5\n",
    "\n",
    "using KDTree\n",
    "using BAT\n",
    "using BATPar\n",
    "\n",
    "using LaTeXStrings"
   ]
  },
  {
   "cell_type": "code",
   "execution_count": null,
   "metadata": {},
   "outputs": [],
   "source": [
    "using PyPlot\n",
    "\n",
    "plt = PyPlot\n",
    "\n",
    "SMALL_SIZE = 12\n",
    "MEDIUM_SIZE = 13\n",
    "BIGGER_SIZE = 13\n",
    "\n",
    "plt.rc(\"font\", size=SMALL_SIZE)          # controls default text sizes\n",
    "plt.rc(\"axes\", titlesize=SMALL_SIZE)     # fontsize of the axes title\n",
    "plt.rc(\"axes\", labelsize=MEDIUM_SIZE)    # fontsize of the x and y labels\n",
    "plt.rc(\"xtick\", labelsize=SMALL_SIZE)    # fontsize of the tick labels\n",
    "plt.rc(\"ytick\", labelsize=SMALL_SIZE)    # fontsize of the tick labels\n",
    "plt.rc(\"legend\", fontsize=SMALL_SIZE)    # legend fontsize\n",
    "plt.rc(\"figure\", titlesize=BIGGER_SIZE)  # fontsize of the figure title\n",
    "\n",
    "colors = vcat([0 0 0 0], plt.cm.YlOrRd(range(0, stop=1, length=10))[2:end,:]);\n",
    "# colors = vcat([0 0 0 0.1], plt.cm.Blues(range(0, stop=1, length=10))[3:end,:])"
   ]
  },
  {
   "cell_type": "markdown",
   "metadata": {},
   "source": [
    "# Density Functions "
   ]
  },
  {
   "cell_type": "markdown",
   "metadata": {},
   "source": [
    "### Function #1: "
   ]
  },
  {
   "cell_type": "code",
   "execution_count": null,
   "metadata": {},
   "outputs": [],
   "source": [
    "sigma_1 = [0.32716446841097613 0.17276467616026275; 0.17276467616026275 0.33056237691918017]\n",
    "sigma_2 = [0.15152028283087893 -0.11598742336072133; -0.11598742336072133 0.1616797732933265] #[0.1572026439007445 -0.1044956058704804; -0.1044956058704804 0.13445945463874312] \n",
    "sigma_3 = [0.01942201849281335 -0.003187584896683795; -0.003187584896683795 0.017175237584791444]\n",
    "\n",
    "N = 2 \n",
    "min_v = -20\n",
    "max_v = 20\n",
    "lgV = N*log(max_v-min_v); \n",
    "\n",
    "f(x;μ=[0, 0], sigma=sigma) = pdf(MvNormal(μ, sigma), x)\n",
    "\n",
    "g(x) = (1/3)*(f(x, μ=[4, 4], sigma=sigma_1) + f(x, μ=[-4, -4], sigma=sigma_1) + 0.1*f(x, μ=[4.5, -4.5], sigma=sigma_3) + 0.9*f(x, μ=[-4.5, 4.5], sigma=sigma_2))"
   ]
  },
  {
   "cell_type": "markdown",
   "metadata": {},
   "source": [
    "### Function #2:"
   ]
  },
  {
   "cell_type": "code",
   "execution_count": null,
   "metadata": {},
   "outputs": [],
   "source": [
    "g(x;) = prod(pdf.(Normal(), x))\n",
    "\n",
    "N = 2 \n",
    "min_v = -10\n",
    "max_v = 10\n",
    "lgV = N*log(max_v-min_v); "
   ]
  },
  {
   "cell_type": "markdown",
   "metadata": {},
   "source": [
    "### Function #3:"
   ]
  },
  {
   "cell_type": "code",
   "execution_count": null,
   "metadata": {},
   "outputs": [],
   "source": [
    "f(x;μ=[0, 0], sigma=[1,1]) = pdf(Normal(μ[1], sigma[1]), x[1])*pdf(Normal(μ[2], sigma[2]), x[2])\n",
    "\n",
    "g(x) = 0.5*(f(x, μ=[-30, 1], sigma=[1,1]) + f(x, μ=[30, 1], sigma=[1,1]) )\n",
    "\n",
    "N = 2 \n",
    "min_v = -50\n",
    "max_v = 50\n",
    "lgV = N*log(max_v-min_v); "
   ]
  },
  {
   "cell_type": "markdown",
   "metadata": {},
   "source": [
    "### Function #4: "
   ]
  },
  {
   "cell_type": "code",
   "execution_count": null,
   "metadata": {},
   "outputs": [],
   "source": [
    "# Report Example:\n",
    "\n",
    "sigma_1 = [0.32716446841097613 0.17276467616026275; 0.17276467616026275 0.33056237691918017]\n",
    "sigma_3 = [0.01942201849281335 -0.003187584896683795; -0.003187584896683795 0.017175237584791444]\n",
    "\n",
    "N = 2 \n",
    "min_v = -20.\n",
    "max_v = 20.\n",
    "lgV = N*log(max_v-min_v); \n",
    "\n",
    "f(x;μ=[0, 0], sigma=sigma_1) = pdf(MvNormal(μ, sigma), x)\n",
    "\n",
    "g(x) = (1/2.08)*(f(x, μ=[3.5, 3.5], sigma=sigma_1) + f(x, μ=[-3.5, -3.5], sigma=sigma_1) + 0.04*f(x, μ=[3.5, -3.5], sigma=sigma_3) + 0.04*f(x, μ=[-3.5, 3.5], sigma=sigma_3))"
   ]
  },
  {
   "cell_type": "markdown",
   "metadata": {},
   "source": [
    "# Serial Sampling "
   ]
  },
  {
   "cell_type": "code",
   "execution_count": null,
   "metadata": {},
   "outputs": [],
   "source": [
    "tuning = AdaptiveMetropolisTuning(\n",
    "    λ = 0.5,\n",
    "    α = 0.65..0.75,\n",
    "    β = 1.5,\n",
    "    c = 1e-4..1e4\n",
    ")\n",
    "\n",
    "\n",
    "# * `λ`: Controls the weight given to new covariance information in adapting\n",
    "#   the proposal distribution. Defaults to `0.5`.\n",
    "\n",
    "# * `α`: Metropolis-Hastings acceptance ratio target, tuning will try to\n",
    "#   adapt the proposal distribution to bring the acceptance ratio inside this\n",
    "#   interval. Defaults to `IntervalSets.ClosedInterval(0.15, 0.35)`\n",
    "\n",
    "# * `β`: Controls how much the spread of the proposal distribution is\n",
    "#   widened/narrowed depending on the current MH acceptance ratio.\n",
    "\n",
    "# * `c`: Interval for allowed scale/spread of the proposal distribution.\n",
    "#   Defaults to `ClosedInterval(1e-4, 1e2)`.\n",
    "\n",
    "# * `r`: Reweighting factor. Take accumulated sample statistics of previous\n",
    "#   tuning cycles into account with a relative weight of `r`. Set to `0` to\n",
    "#   completely reset sample statistics between each tuning cycle.\n",
    "\n",
    "\n",
    "convergence = BrooksGelmanConvergence(\n",
    "    threshold = 1.1,\n",
    "    corrected = false\n",
    ")\n",
    "\n",
    "init = MCMCInitStrategy(\n",
    "    init_tries_per_chain = 20..1000,\n",
    "    max_nsamples_init = 1000,\n",
    "    max_nsteps_init = 1000,\n",
    "    max_time_init = 18\n",
    ")\n",
    "\n",
    "# `init_tries_per_chain`: Interval that specifies the minimum and maximum\n",
    "#   number of tries per MCMC chain to find a suitable starting position. Many\n",
    "#   candidate chains will be created and run for a short time. The chains with\n",
    "#   the best performance will be selected for tuning/burn-in and MCMC sampling\n",
    "#   run. Defaults to `IntervalSets.ClosedInterval(8, 128)`.\n",
    "\n",
    "# * `max_nsamples_init`: Maximum number of MCMC samples for each candidate\n",
    "#   chain. Defaults to 25. Definition of a sample depends on sampling algorithm.\n",
    "\n",
    "# * `max_nsteps_init`: Maximum number of MCMC steps for each candidate chain.\n",
    "#   Defaults to 250. Definition of a step depends on sampling algorithm.\n",
    "\n",
    "# * `max_time_init::Int`: Maximum wall-clock time to spend per candidate chain,\n",
    "#   in seconds. Defaults to `Inf`.\n",
    "\n",
    "burnin = MCMCBurninStrategy(\n",
    "    max_nsamples_per_cycle = 4000,\n",
    "    max_nsteps_per_cycle = 4000,\n",
    "    max_time_per_cycle = 25,\n",
    "    max_ncycles = 0\n",
    ")\n",
    "\n",
    "# * `max_nsamples_per_cycle`: Maximum number of MCMC samples to generate per\n",
    "#   cycle, defaults to `1000`. Definition of a sample depends on MCMC algorithm.\n",
    "\n",
    "# * `max_nsteps_per_cycle`: Maximum number of MCMC steps per cycle, defaults\n",
    "#   to `10000`. Definition of a step depends on MCMC algorithm.\n",
    "\n",
    "# * `max_time_per_cycle`: Maximum wall-clock time to spend per cycle, in\n",
    "#   seconds. Defaults to `Inf`.\n",
    "\n",
    "# * `max_ncycles`: Maximum number of cycles.\n"
   ]
  },
  {
   "cell_type": "code",
   "execution_count": null,
   "metadata": {},
   "outputs": [],
   "source": [
    "likelihood = params -> LogDVal((log(g(params.a))))\n",
    "prior = NamedTupleDist(a = [[min_v .. max_v for i in 1:N]...],);\n",
    "posterior = PosteriorDensity(likelihood, prior);"
   ]
  },
  {
   "cell_type": "markdown",
   "metadata": {},
   "source": [
    "Compare theoretical distribution and samples:"
   ]
  },
  {
   "cell_type": "markdown",
   "metadata": {},
   "source": [
    "## Serial MCMC over whole parameter space:"
   ]
  },
  {
   "cell_type": "code",
   "execution_count": null,
   "metadata": {},
   "outputs": [],
   "source": [
    "samples_tmp, stats_tmp = bat_sample(posterior, (1*10^4, 2), MetropolisHastings());\n",
    "samples_t = flatview(unshaped.(samples_tmp.v));"
   ]
  },
  {
   "cell_type": "code",
   "execution_count": null,
   "metadata": {},
   "outputs": [],
   "source": [
    "# save samples if needed: \n",
    "\n",
    "# outp = bat_read(\"samples_for_correlation_ahmi_error.hdf5\")\n",
    "# full_space_samples = varshape(prior).(outp);\n",
    "\n",
    "# bat_write(\"samples_1.hdf5\", unshaped.(samples_tmp))"
   ]
  },
  {
   "cell_type": "markdown",
   "metadata": {},
   "source": [
    "### Truth vs. sampling:"
   ]
  },
  {
   "cell_type": "code",
   "execution_count": null,
   "metadata": {},
   "outputs": [],
   "source": [
    "# x_range = range(minimum(samples_t[1,:]), stop=maximum(samples_t[1,:]), length=80)\n",
    "# y_range = range(minimum(samples_t[2,:]), stop=maximum(samples_t[2,:]), length=80)\n",
    "\n",
    "x_range = range(-6, stop=6, length=80)\n",
    "y_range = range(-6, stop=6, length=80)\n",
    "\n",
    "z = [g([i,j]) for i in midpoints(x_range), j in midpoints(y_range)]';\n",
    "\n",
    "histogram_2D_o = fit(Histogram, (samples_t[1,:],samples_t[2,:]), weights(samples_tmp.weight), (x_range, y_range))\n",
    "histogram_2D_o = normalize(histogram_2D_o, mode=:pdf)\n",
    "\n",
    "min_color=minimum([minimum(histogram_2D_o.weights), minimum(z)])\n",
    "maximum_color= maximum(z)\n",
    "\n",
    "levels=range(1e-6, maximum_color, length=6)\n",
    "\n",
    "# levels_quantiles = [ 0.0, 0.1, 0.2, 0.3, 0.4, 0.5, 0.6, 0.8, 0.971, 0.981, 0.988, 0.99, 0.999, 1,]\n",
    "# levels=quantile(sort([z[z.>0.0000001]...]), levels_quantiles)\n",
    "\n",
    "fig, ax = plt.subplots(1,2,figsize=(10, 5),)\n",
    "fig.subplots_adjust(wspace=0.05)\n",
    "\n",
    "ax[1].contourf(midpoints(x_range), midpoints(y_range), z, cmap=\"RdYlBu_r\", levels=levels)\n",
    "ax[1].text(-5,5.1,\"(a)\",horizontalalignment=\"center\", verticalalignment=\"center\")\n",
    "ax[2].contourf(midpoints(x_range), midpoints(y_range), replace( x-> x>maximum_color ? maximum_color : x, histogram_2D_o.weights'), cmap=\"RdYlBu_r\", levels=levels) \n",
    "ax[2].contour(midpoints(x_range), midpoints(y_range), z, linewidths=0.8, linestyles=\"--\", levels=levels, colors=\"black\", )\n",
    "ax[2].text(-5,5.1,\"(b)\",horizontalalignment=\"center\", verticalalignment=\"center\")\n",
    "\n",
    "ax[1].set_yticks([])\n",
    "ax[1].set_xticks([])\n",
    " \n",
    "ax[1].set_xlabel(L\"\\lambda_1\")\n",
    "ax[1].set_ylabel(L\"\\lambda_2\")\n",
    "\n",
    "# ax[2].set_yticks([])\n",
    "ax[2].set_xticks([])\n",
    "\n",
    "ax[2].set_xlabel(L\"\\lambda_1\")\n",
    "ax[2].get_yaxis().set_visible(false) \n",
    "\n",
    "\n",
    "# fig.savefig(\"../../MCMC_publication/fig-a.png\", bbox_inches = \"tight\", dpi=500)\n",
    "\n",
    "# fig.colorbar(cs1)\n",
    "# fig.colorbar(cs2)"
   ]
  },
  {
   "cell_type": "markdown",
   "metadata": {},
   "source": [
    "## Exploration samples: "
   ]
  },
  {
   "cell_type": "code",
   "execution_count": null,
   "metadata": {},
   "outputs": [],
   "source": [
    "nnsamples = 450\n",
    "nnchains = 75\n",
    "\n",
    "samples, stats = bat_sample(posterior, (nnsamples, nnchains), MetropolisHastings(), burnin=burnin);\n",
    "\n",
    "smpl = flatview(unshaped.(samples.v))\n",
    "weights_LogLik = samples.logd\n",
    "weights_Histogram = samples.weight;\n"
   ]
  },
  {
   "cell_type": "code",
   "execution_count": null,
   "metadata": {},
   "outputs": [],
   "source": [
    "data_kdtree = Data(smpl[:,1:5:end], weights_Histogram[1:5:end], weights_LogLik[1:5:end]);"
   ]
  },
  {
   "cell_type": "markdown",
   "metadata": {},
   "source": [
    "# Space Partitioning"
   ]
  },
  {
   "cell_type": "code",
   "execution_count": null,
   "metadata": {},
   "outputs": [],
   "source": [
    "KDTree.evaluate_total_cost(data::Data) = KDTree.cost_f_1(data)\n",
    "\n",
    "output, cost_array = DefineKDTree(data_kdtree, [1,2,], 15);\n",
    "\n",
    "extend_tree_bounds!(output, [min_v, min_v], [max_v, max_v])"
   ]
  },
  {
   "cell_type": "markdown",
   "metadata": {},
   "source": [
    "### Space partitionign: "
   ]
  },
  {
   "cell_type": "code",
   "execution_count": null,
   "metadata": {},
   "outputs": [],
   "source": [
    "fig, ax = plt.subplots(1,2, figsize=(10, 5))\n",
    "fig.subplots_adjust(wspace=0.05)\n",
    "\n",
    "ax[1].contourf(midpoints(x_range), midpoints(y_range), log.(z), cmap=\"RdYlBu_r\", levels=10, alpha=0.15, antialiased =true)\n",
    "ax[1].scatter(smpl[1,:], smpl[2,:], color=\"midnightblue\", s=4)\n",
    "\n",
    "ax[1].set_yticks([])\n",
    "ax[1].set_xticks([])\n",
    " \n",
    "ax[1].set_xlabel(L\"\\lambda_1\")\n",
    "ax[1].set_ylabel(L\"\\lambda_2\")\n",
    "\n",
    "ax[2].contourf(midpoints(x_range), midpoints(y_range), log.(z), cmap=\"RdYlBu_r\", levels=15, alpha=0.15, antialiased =true)\n",
    "ax[2].scatter(smpl[1,:], smpl[2,:], color=\"midnightblue\", s=4, alpha=0.9) #color=get_cmap(\"tab10\", 1) | ColorMap(\"tab10\").colors[1]\n",
    "\n",
    "ax[2].get_yaxis().set_visible(false) \n",
    "ax[2].set_xticks([])\n",
    "ax[2].set_xlabel(L\"\\lambda_1\")\n",
    "\n",
    "plot_tree(output, [1,2], ax[2], color=\"black\", linewidth=0.8)\n",
    "\n",
    "# ax.set_xlim(-11., 11.)\n",
    "# ax.set_ylim(-11., 11.)\n",
    "\n",
    "# fig.savefig(\"../../MCMC_publication/fig-b.pdf\", bbox_inches = \"tight\")"
   ]
  },
  {
   "cell_type": "markdown",
   "metadata": {},
   "source": [
    "# Sampling of subspaces "
   ]
  },
  {
   "cell_type": "code",
   "execution_count": null,
   "metadata": {},
   "outputs": [],
   "source": [
    "bounds_part = extract_par_bounds(output)\n",
    "\n",
    "BATPar.make_named_prior(i) = BAT.NamedTupleDist( a = [i[1,1]..i[1,2], i[2,1]..i[2,2]])\n",
    "\n",
    "nnsamples = 10^4\n",
    "nnchains = 5\n",
    "\n",
    "tuning = AdaptiveMetropolisTuning(\n",
    "    λ = 0.5,\n",
    "    α = 0.15..0.45,\n",
    "    β = 1.5,\n",
    "    c = 1e-4..1e2\n",
    ")\n",
    "\n",
    "algorithm = MetropolisHastings();\n",
    "\n",
    "samples_parallel = bat_sample_parallel(likelihood, bounds_part, (nnsamples, nnchains), algorithm, tuning=tuning);"
   ]
  },
  {
   "cell_type": "code",
   "execution_count": null,
   "metadata": {},
   "outputs": [],
   "source": [
    "smpl_par = hcat(samples_parallel.samples...)\n",
    "x = smpl_par[1,:]\n",
    "y = smpl_par[2,:]\n",
    "w_o = samples_parallel.weights_o\n",
    "w_r =  samples_parallel.weights_r;"
   ]
  },
  {
   "cell_type": "code",
   "execution_count": null,
   "metadata": {},
   "outputs": [],
   "source": [
    "sum(w_r)"
   ]
  },
  {
   "cell_type": "code",
   "execution_count": null,
   "metadata": {},
   "outputs": [],
   "source": [
    "sum(samples_parallel.weights_r)"
   ]
  },
  {
   "cell_type": "code",
   "execution_count": null,
   "metadata": {},
   "outputs": [],
   "source": [
    "sqrt(sum((samples_parallel.uncertainty).^2))"
   ]
  },
  {
   "cell_type": "markdown",
   "metadata": {},
   "source": [
    "#### 2D histogram:"
   ]
  },
  {
   "cell_type": "code",
   "execution_count": null,
   "metadata": {},
   "outputs": [],
   "source": [
    "histogram_2D_r = fit(Histogram, (x,y), weights(w_r), nbins=200)\n",
    "histogram_2D_r = normalize(histogram_2D_r, mode=:probability)\n",
    "\n",
    "# colors = vcat([0 0 0 0], plt.cm.YlOrBr(range(0, stop=1, length=10))[2:end,:])\n",
    "# colors = vcat([0 0 0 0.09], plt.cm.YlOrRd(range(0, stop=1, length=10))[2:end,:]) # very good\n",
    "\n",
    "fig, ax = plt.subplots(1,1, figsize=(7, 5))\n",
    "\n",
    "img = ax.pcolormesh(midpoints(histogram_2D_r.edges[1]), midpoints(histogram_2D_r.edges[2]), replace(histogram_2D_r.weights', 0=>NaN), cmap=\"RdYlBu_r\") #terrain_r  vmin = -0.0001, vmax=maximum_v,\n",
    "#cmap=\"RdYlBu_r\", cmap=ColorMap(colors)\n",
    "fig.colorbar(img)\n",
    "\n",
    "plot_tree(output, [1,2], ax, linewidth=0.8, color=\"black\", alpha=1)"
   ]
  },
  {
   "cell_type": "markdown",
   "metadata": {},
   "source": [
    "#### Corner plot: "
   ]
  },
  {
   "cell_type": "code",
   "execution_count": null,
   "metadata": {},
   "outputs": [],
   "source": [
    "function corner_plots(samples::AbstractArray, tree::Node, sample_weights_r::AbstractArray, sample_weights_o::AbstractArray, dim_indices::AbstractArray, dim_names::AbstractArray;\n",
    "        save_plot=false,\n",
    "        FILE_NAME = \"density_function.pdf\",\n",
    "        N_bins = 100,\n",
    "        levels_quantiles = [0.4, 0.7, 0.8, 0.9, 0.99, 1,], \n",
    "        hist_color = plt.cm.tab10(1), \n",
    "        colors = vcat([0 0 0 0.3], plt.cm.YlOrRd(range(0, stop=1, length=10))[2:end,:]),  #vcat([1 1 1 1], plt.cm.Blues(range(0, stop=1, length=20))[2:end,:]),\n",
    "        kwargs...,\n",
    "    )\n",
    "    \n",
    "    N = length(dim_indices)\n",
    "    bins=[]\n",
    "    fig, ax = plt.subplots(N,N, figsize=(10, 10))\n",
    "    fig.subplots_adjust(wspace=0.05, hspace=0.05)\n",
    "    \n",
    "    for idx in 1:N\n",
    "        dim_idx = dim_indices[idx]\n",
    "        bins_tmp = range(minimum(samples[dim_idx,:]), stop=maximum(samples[dim_idx,:]), length=N_bins)\n",
    "        push!(bins, bins_tmp)\n",
    "#         ax[idx, idx].hist(samples[dim_idx,:], weights=sample_weights_o/sum(sample_weights_o), bins=bins_tmp, color=hist_color, alpha=0.4)\n",
    "        ax[idx, idx].hist(samples[dim_idx,:], weights=sample_weights_r/sum(sample_weights_r), bins=bins_tmp,  color=\"lightgray\", alpha=1, linewidth=0.9) #histtype=\"step\",\n",
    "        ax[idx, idx].set_xlim(first(bins_tmp),last(bins_tmp))\n",
    "    end\n",
    "    \n",
    "    for i in 2:N, j in 1:(i-1)\n",
    "        \n",
    "        dim_x = dim_indices[j]\n",
    "        dim_y = dim_indices[i]\n",
    "        \n",
    "        histogram_2D_r = fit(Histogram, (samples[dim_x,:],samples[dim_y,:]), weights(sample_weights_r), (bins[j], bins[i]))\n",
    "        histogram_2D_r = normalize(histogram_2D_r, mode=:probability)\n",
    "        \n",
    "        histogram_2D_o = fit(Histogram, (samples[dim_y,:],samples[dim_x,:]), weights(sample_weights_o), (bins[i], bins[j]))\n",
    "        histogram_2D_o = normalize(histogram_2D_o, mode=:probability)\n",
    "        \n",
    "        levels=quantile([histogram_2D_r.weights...], levels_quantiles)\n",
    "        \n",
    "        ax[i,j].pcolormesh(midpoints(histogram_2D_r.edges[1]), midpoints(histogram_2D_r.edges[2]), replace(histogram_2D_r.weights', 0=>NaN), cmap=\"RdYlBu_r\" , ) #bottom | ColorMap(colors) \"RdYlBu_r\"\n",
    "        ax[i,j].set_xlim(first(bins[j]),last(bins[j]))\n",
    "        ax[i,j].set_ylim(first(bins[i]),last(bins[i]))\n",
    "        \n",
    "        min_v_2 = minimum(histogram_2D_o.weights[histogram_2D_o.weights .> 0])\n",
    "        ax[j,i].pcolormesh(midpoints(histogram_2D_o.edges[1]), midpoints(histogram_2D_o.edges[2]), replace(histogram_2D_o.weights', 0=>NaN),  cmap=\"RdYlBu_r\" ,) # top\n",
    "        plot_tree(tree, [dim_y,dim_x], ax[j,i]; kwargs...,)\n",
    "        \n",
    "        ax[j,i].set_xlim(first(bins[i]),last(bins[i]))\n",
    "        ax[j,i].set_ylim(first(bins[j]),last(bins[j]))\n",
    "        \n",
    "        \n",
    "    end\n",
    "    \n",
    "    for i in 1:N, j in 1:N\n",
    "        if 1<i<N \n",
    "            ax[i,j].get_xaxis().set_visible(false)\n",
    "        elseif i==1 \n",
    "            ax[i,j].xaxis.tick_top()\n",
    "            ax[i,j].xaxis.set_label_position(\"top\")\n",
    "            ax[i,j].set_xlabel(dim_names[j])\n",
    "        else\n",
    "            ax[i,j].set_xlabel(dim_names[j]) \n",
    "        end\n",
    "        \n",
    "        if j == i || N>j>1\n",
    "            # nothing inside \n",
    "            ax[i,j].get_yaxis().set_visible(false) \n",
    "        elseif j==N\n",
    "            # right labels\n",
    "            ax[i,j].set_ylabel(dim_names[i])\n",
    "            ax[i,j].yaxis.set_label_position(\"right\")\n",
    "            ax[i,j].yaxis.tick_right()\n",
    "        else\n",
    "            #left labels\n",
    "            ax[i,j].set_ylabel(dim_names[i])\n",
    "        end\n",
    "    end\n",
    "    \n",
    "    if save_plot \n",
    "        fig.savefig(FILE_NAME, bbox_inches = \"tight\")\n",
    "    end\n",
    "        \n",
    "end"
   ]
  },
  {
   "cell_type": "code",
   "execution_count": null,
   "metadata": {},
   "outputs": [],
   "source": [
    "corner_plots(smpl_par, output, w_r, w_o, [1,2,], [L\"\\lambda_1\", L\"\\lambda_2\", L\"\\lambda_3\", L\"\\lambda_4\"], N_bins=150; color=\"black\", linewidth=0.4)"
   ]
  },
  {
   "cell_type": "markdown",
   "metadata": {},
   "source": [
    "#### Comparison #1"
   ]
  },
  {
   "cell_type": "code",
   "execution_count": null,
   "metadata": {},
   "outputs": [],
   "source": [
    "histogram_2D_wo = fit(Histogram, (x,y), weights(w_o), nbins=200)\n",
    "histogram_2D_wo = normalize(histogram_2D_wo, mode=:pdf)\n",
    "\n",
    "histogram_2D_wr = fit(Histogram, (x,y), weights(w_r), nbins=200)\n",
    "histogram_2D_wr = normalize(histogram_2D_wr, mode=:pdf)\n",
    "\n",
    "# colors = vcat([0 0 0 0], plt.cm.YlOrBr(range(0, stop=1, length=10))[2:end,:])\n",
    "# colors = vcat([0 0 0 0.09], plt.cm.YlOrRd(range(0, stop=1, length=10))[2:end,:]) # very good\n",
    "\n",
    "fig, ax = plt.subplots(1,3, figsize=(13, 4))\n",
    "fig.subplots_adjust(wspace=0.05)\n",
    "\n",
    "ax[1].pcolormesh(midpoints(histogram_2D_wo.edges[1]), midpoints(histogram_2D_wo.edges[2]), replace(histogram_2D_wo.weights', 0=>NaN), cmap=\"RdYlBu_r\") \n",
    "\n",
    "ax[1].set_yticks([])\n",
    "ax[1].set_xticks([])\n",
    "ax[1].set_xlabel(L\"\\lambda_1\")\n",
    "ax[1].set_ylabel(L\"\\lambda_2\")\n",
    "\n",
    "plot_tree(output, [1,2], ax[1], linewidth=0.6, color=\"black\", alpha=1)\n",
    "\n",
    "ax[2].pcolormesh(midpoints(histogram_2D_wr.edges[1]), midpoints(histogram_2D_wr.edges[2]), replace(histogram_2D_wr.weights', 0=>NaN), cmap=\"RdYlBu_r\") \n",
    "\n",
    "ax[2].set_yticks([])\n",
    "ax[2].set_xticks([])\n",
    "ax[2].set_xlabel(L\"\\lambda_1\")\n",
    "\n",
    "plot_tree(output, [1,2], ax[2], linewidth=0.6, color=\"black\", alpha=1)\n",
    "\n",
    "ax[3].pcolormesh(midpoints(histogram_2D_wr.edges[1]), midpoints(histogram_2D_wr.edges[2]), replace(histogram_2D_wr.weights', 0=>NaN), cmap=\"RdYlBu_r\") \n",
    "ax[3].contour(midpoints(x_range), midpoints(y_range), z, linewidths=0.7, linestyles=\"--\", levels=levels, colors=\"black\", )\n",
    "ax[3].set_yticks([])\n",
    "ax[3].set_xticks([])\n",
    "ax[3].set_xlabel(L\"\\lambda_1\")\n",
    "\n",
    "# fig.savefig(\"../../MCMC_publication/fig-c.pdf\", bbox_inches = \"tight\")"
   ]
  },
  {
   "cell_type": "markdown",
   "metadata": {},
   "source": [
    "#### Comparison #2"
   ]
  },
  {
   "cell_type": "code",
   "execution_count": null,
   "metadata": {},
   "outputs": [],
   "source": [
    "fig, ax = plt.subplots(2,2, figsize=(10, 10))\n",
    "fig.subplots_adjust(wspace=0.1, hspace=0.1)\n",
    "\n",
    "\n",
    "# ax[1,1].contourf(midpoints(x_range), midpoints(y_range), log.(z), cmap=\"RdYlBu_r\", levels=10, alpha=0.15, antialiased =true)\n",
    "ax[1,1].scatter(smpl[1,:], smpl[2,:], color=PyPlot.cm.RdYlBu_r(0,0,), s=2, alpha=0.5) #midnightblue\n",
    "\n",
    "ax[1,1].text(-5.0,5.0,\"(a)\",horizontalalignment=\"center\", verticalalignment=\"center\")\n",
    "# ax[1,2].contourf(midpoints(x_range), midpoints(y_range), log.(z), cmap=\"RdYlBu_r\", levels=15, alpha=0.15, antialiased =true)\n",
    "ax[1,2].scatter(smpl[1,:], smpl[2,:], color=PyPlot.cm.RdYlBu_r(0,0,), s=2, alpha=0.5) #color=get_cmap(\"tab10\", 1) | ColorMap(\"tab10\").colors[1]\n",
    "ax[1,2].text(-5,5,\"(b)\",horizontalalignment=\"center\", verticalalignment=\"center\")\n",
    "plot_tree(output, [1,2], ax[1,2], color=\"black\", linewidth=0.8)\n",
    "\n",
    "\n",
    "ax[2, 1].pcolormesh(midpoints(histogram_2D_wo.edges[1]), midpoints(histogram_2D_wo.edges[2]), replace(histogram_2D_wo.weights', 0=>NaN), cmap=\"RdYlBu_r\", rasterized=true) \n",
    "plot_tree(output, [1,2], ax[2, 1], linewidth=0.6, color=\"black\", alpha=1)\n",
    "ax[2,1].text(-5.3,5.5,\"(c)\",horizontalalignment=\"center\", verticalalignment=\"center\")\n",
    "\n",
    "\n",
    "\n",
    "ax[2,2].pcolormesh(midpoints(histogram_2D_wr.edges[1]), midpoints(histogram_2D_wr.edges[2]), replace(histogram_2D_wr.weights', 0=>NaN), cmap=\"RdYlBu_r\", rasterized=true) \n",
    "ax[2,2].text(-5.3,5.5,\"(d)\",horizontalalignment=\"center\", verticalalignment=\"center\")\n",
    "\n",
    "\n",
    "\n",
    "ax[1,1].get_xaxis().set_visible(false)\n",
    "ax[1,2].get_xaxis().set_visible(false)\n",
    "ax[1,2].get_yaxis().set_visible(false)\n",
    "ax[2,2].get_yaxis().set_visible(false)\n",
    "\n",
    "\n",
    "ax[2,2].set_xticks([])\n",
    "ax[2,2].set_xlabel(L\"\\lambda_1\")\n",
    "\n",
    "ax[2,1].set_xticks([])\n",
    "ax[2,1].set_xlabel(L\"\\lambda_1\")\n",
    "\n",
    "ax[1,1].set_yticks([])\n",
    "ax[1,1].set_ylabel(L\"\\lambda_2\")\n",
    "\n",
    "ax[2,1].set_yticks([])\n",
    "ax[2,1].set_ylabel(L\"\\lambda_2\")\n",
    "\n",
    "# fig.savefig(\"../../MCMC_publication/fig-d.png\", bbox_inches = \"tight\", dpi=500)"
   ]
  },
  {
   "cell_type": "markdown",
   "metadata": {},
   "source": [
    "#### Comparison #3"
   ]
  },
  {
   "cell_type": "code",
   "execution_count": null,
   "metadata": {},
   "outputs": [],
   "source": [
    "fig, ax = plt.subplots(1,2, figsize=(10, 5))\n",
    "fig.subplots_adjust(wspace=0.05)\n",
    "\n",
    "ax[2].contourf(midpoints(histogram_2D_wr.edges[1]), midpoints(histogram_2D_wr.edges[2]), replace( x-> x>maximum_color ? maximum_color : x, histogram_2D_wr.weights'), cmap=\"RdYlBu_r\", levels=levels)\n",
    "ax[2].contour(midpoints(x_range), midpoints(y_range), z, linewidths=0.8, linestyles=\"--\", levels=levels, colors=\"black\", )\n",
    "ax[1].text(-5.3,5.4,\"(a)\",horizontalalignment=\"center\", verticalalignment=\"center\")\n",
    "ax[1].set_yticks([])\n",
    "ax[1].set_xticks([])\n",
    "ax[1].set_xlabel(L\"\\lambda_1\")\n",
    "ax[1].set_ylabel(L\"\\lambda_2\")\n",
    "\n",
    "\n",
    "ax[1].contourf(midpoints(x_range), midpoints(y_range), replace( x-> x>maximum_color ? maximum_color : x, histogram_2D_o.weights'), cmap=\"RdYlBu_r\", levels=levels) \n",
    "ax[1].contour(midpoints(x_range), midpoints(y_range), z, linewidths=0.8, linestyles=\"--\", levels=levels, colors=\"black\", )\n",
    "ax[2].text(-5.5,5.8,\"(b)\",horizontalalignment=\"center\", verticalalignment=\"center\")\n",
    "ax[2].set_xticks([])\n",
    "ax[2].set_xlabel(L\"\\lambda_1\")\n",
    "ax[2].get_yaxis().set_visible(false) \n",
    "\n",
    "# fig.savefig(\"../../MCMC_publication/fig-e.png\", bbox_inches = \"tight\", dpi=500)"
   ]
  },
  {
   "cell_type": "markdown",
   "metadata": {},
   "source": [
    "#### Comparison #4"
   ]
  },
  {
   "cell_type": "code",
   "execution_count": null,
   "metadata": {},
   "outputs": [],
   "source": [
    "bar_width = diff(x_range)[1];\n",
    "bar_height_1 = [sum(z, dims=1)...];\n",
    "bar_height_2 = [sum(z, dims=1)...];\n",
    "\n",
    "fig, ax = plt.subplots(1,2,figsize=(10, 5),)\n",
    "fig.subplots_adjust(wspace=0.12)\n",
    "\n",
    "ax[1].bar(midpoints(x_range), bar_height_1.*bar_width, width=bar_width, alpha=0.4, color=\"gray\", label=\"Truth\")\n",
    "# ax[1].step(midpoints(x_range), bar_height_1.*bar_width, where=\"mid\", alpha=1, color=\"red\", )\n",
    "ax[1].hist(samples_t[1,:], weights=weights(samples_tmp.weight), bins=x_range, density=true, alpha=1, histtype=\"step\", color=\"peru\", label=\"w/o Space Partitioning\")\n",
    "ax[1].hist(x, weights=w_r, bins=x_range, density=true, alpha=1,  histtype=\"step\", color=\"red\", label=\"w/ Space Partitioning\")\n",
    "\n",
    "ax[2].bar(midpoints(y_range), bar_height_2.*bar_width, width=bar_width, alpha=0.5, color=\"gray\", label=\"Truth\")\n",
    "ax[2].hist(samples_t[2,:], weights=weights(samples_tmp.weight), bins=x_range, density=true, alpha=1, histtype=\"step\", color=\"peru\")\n",
    "ax[2].hist(y, weights=w_r, bins=x_range, density=true, histtype=\"step\", color=\"red\")\n",
    "\n",
    "ax[2].set_xticks([])\n",
    "ax[2].set_yticks([])\n",
    "ax[2].set_xlabel(L\"\\lambda_2\")\n",
    "ax[2].set_ylabel(L\"P(\\lambda_2)\")\n",
    "\n",
    "ax[1].set_xticks([])\n",
    "ax[1].set_yticks([])\n",
    "ax[1].set_xlabel(L\"\\lambda_1\")\n",
    "ax[1].set_ylabel(L\"P(\\lambda_1)\")\n",
    "\n",
    "ax[1].legend(loc=\"upper left\", frameon=true, framealpha=0.8, ncol=1)\n",
    "\n",
    "# fig.savefig(\"../../MCMC_publication/fig-g.pdf\", bbox_inches = \"tight\")"
   ]
  },
  {
   "cell_type": "code",
   "execution_count": null,
   "metadata": {},
   "outputs": [],
   "source": []
  }
 ],
 "metadata": {
  "kernelspec": {
   "display_name": "Julia 1.4.0-rc1",
   "language": "julia",
   "name": "julia-1.4"
  },
  "language_info": {
   "file_extension": ".jl",
   "mimetype": "application/julia",
   "name": "julia",
   "version": "1.4.0"
  }
 },
 "nbformat": 4,
 "nbformat_minor": 4
}
