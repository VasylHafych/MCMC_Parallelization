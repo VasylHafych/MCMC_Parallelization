{
 "cells": [
  {
   "cell_type": "code",
   "execution_count": null,
   "metadata": {},
   "outputs": [],
   "source": [
    "using ValueShapes\n",
    "using ArraysOfArrays\n",
    "using StatsBase \n",
    "using LinearAlgebra\n",
    "using Statistics\n",
    "using Distributions \n",
    "using IntervalSets\n",
    "\n",
    "using HCubature\n",
    "using JLD\n",
    "using CPUTime\n",
    "\n",
    "using Plots\n",
    "using Colors\n",
    "using ColorSchemes\n",
    "using LaTeXStrings\n",
    "\n",
    "using SpecialFunctions\n",
    "\n",
    "pyplot(size=(750,500))\n",
    "line_colors = ColorSchemes.tab20b;\n",
    "\n",
    "import PyPlot\n",
    "\n",
    "plt = PyPlot"
   ]
  },
  {
   "cell_type": "code",
   "execution_count": null,
   "metadata": {},
   "outputs": [],
   "source": [
    "SMALL_SIZE = 12\n",
    "MEDIUM_SIZE = 13\n",
    "BIGGER_SIZE = 13\n",
    "\n",
    "plt.rc(\"font\", size=SMALL_SIZE)          # controls default text sizes\n",
    "plt.rc(\"axes\", titlesize=SMALL_SIZE)     # fontsize of the axes title\n",
    "plt.rc(\"axes\", labelsize=MEDIUM_SIZE)    # fontsize of the x and y labels\n",
    "plt.rc(\"xtick\", labelsize=SMALL_SIZE)    # fontsize of the tick labels\n",
    "plt.rc(\"ytick\", labelsize=SMALL_SIZE)    # fontsize of the tick labels\n",
    "plt.rc(\"legend\", fontsize=SMALL_SIZE)    # legend fontsize\n",
    "plt.rc(\"figure\", titlesize=BIGGER_SIZE)  # fontsize of the figure title"
   ]
  },
  {
   "cell_type": "code",
   "execution_count": null,
   "metadata": {},
   "outputs": [],
   "source": [
    "PATH_1 = \"Generated_Data/normal_mac-2.jld\" \n",
    "\n",
    "saved_1 = load(PATH_1)"
   ]
  },
  {
   "cell_type": "code",
   "execution_count": null,
   "metadata": {},
   "outputs": [],
   "source": [
    "cuts_array = saved_1[\"dim_array\"]\n",
    "integrals_par = saved_1[\"integrals_ahmi_array\"]\n",
    "uns_par = saved_1[\"uns_ahmi_array\"]\n",
    "integrals_true = saved_1[\"integrals_true_array\"]\n",
    "mcmc_time_array = saved_1[\"mcmc_time_array\"];\n",
    "\n",
    "integrals_serial = saved_1[\"integrals_serial_array\"];\n",
    "uns_serial = saved_1[\"uns_serial_array\"];"
   ]
  },
  {
   "cell_type": "code",
   "execution_count": null,
   "metadata": {},
   "outputs": [],
   "source": [
    "cuts_range = sort(unique(cuts_array));\n",
    "integrals = integrals_par #./ exp.(integrals_true)\n",
    "unsertanity_par = uns_par #./ exp.(integrals_true)\n",
    "unsertanity_scatter = std(integrals, dims=1)'\n",
    "\n",
    "mean_integrals = mean(integrals, dims=1)'\n",
    "unsertanity_ahmi = mean(unsertanity_par, dims=1)';"
   ]
  },
  {
   "cell_type": "code",
   "execution_count": null,
   "metadata": {},
   "outputs": [],
   "source": [
    "integrals_s = integrals_serial #./ exp.(integrals_true)\n",
    "unsertanity_scatter_s = std(integrals_s, dims=1)'\n",
    "\n",
    "mean_integrals_s = mean(integrals_s, dims=1)'\n",
    "unsertanity_s = mean(uns_serial, dims=1)';"
   ]
  },
  {
   "cell_type": "code",
   "execution_count": null,
   "metadata": {},
   "outputs": [],
   "source": [
    "sz = size(integrals)\n",
    "xx = []\n",
    "yy = []\n",
    "zz = []\n",
    "\n",
    "for i in 1:sz[2]\n",
    "    append!(yy, integrals[:,i])\n",
    "    append!(zz, integrals_s[:,i])\n",
    "    append!(xx, repeat([cuts_range[i]], sz[1]))\n",
    "end"
   ]
  },
  {
   "cell_type": "code",
   "execution_count": null,
   "metadata": {},
   "outputs": [],
   "source": [
    "fig, ax = plt.subplots(figsize=(13, 7), sharex=true)\n",
    "\n",
    "ax.axhline(1, c=\"red\", label=\"Truth\")\n",
    "ax.plot(cuts_range, mean_integrals, color=\"C1\")\n",
    "ax.fill_between(cuts_range, mean_integrals[:,1] .- unsertanity_scatter[:,1], mean_integrals[:,1] .+ unsertanity_scatter[:,1], alpha=0.2, color=\"C1\", label=\"w/ partition\")\n",
    "ax.plot(cuts_range, mean_integrals[:,1] .- unsertanity_ahmi[:,1], alpha=1, ls=\"--\", color=\"C1\",  )\n",
    "ax.plot(cuts_range, mean_integrals[:,1] .+ unsertanity_ahmi[:,1], alpha=1, ls=\"--\", color=\"C1\")\n",
    "ax.scatter(xx, yy, color=\"C1\", s=3)\n",
    "\n",
    "ax.plot(cuts_range, mean_integrals_s, color=\"C0\")\n",
    "ax.fill_between(cuts_range, mean_integrals_s[:,1] .- unsertanity_scatter_s[:,1], mean_integrals_s[:,1] .+ unsertanity_scatter_s[:,1], alpha=0.2, color=\"C0\", label=\"w/o partition\")\n",
    "ax.plot(cuts_range, mean_integrals_s[:,1] .- unsertanity_s[:,1], alpha=1, ls=\"--\", color=\"C0\",  )\n",
    "ax.plot(cuts_range, mean_integrals_s[:,1] .+ unsertanity_s[:,1], alpha=1, ls=\"--\", color=\"C0\")\n",
    "ax.scatter(xx, zz, color=\"C0\", s=3)\n",
    "\n",
    "ax.set_xlabel(\"# Cuts\")\n",
    "ax.set_ylabel(\"Ratio to Truth\")\n",
    "ax.legend(loc=\"upper left\", frameon=true, framealpha=0.8, ncol=5)"
   ]
  },
  {
   "cell_type": "code",
   "execution_count": null,
   "metadata": {},
   "outputs": [],
   "source": [
    "fig, ax = plt.subplots(figsize=(13, 7), sharex=true)\n",
    "\n",
    "ax.axhline(1, c=\"red\", label=\"Truth\")\n",
    "ax.plot(cuts_range, mean_integrals, color=\"C0\")\n",
    "ax.fill_between(cuts_range, mean_integrals[:,1] .- unsertanity_scatter[:,1], mean_integrals[:,1] .+ unsertanity_scatter[:,1], alpha=0.2, color=\"C0\", label=\"w/ partition\")\n",
    "# ax.plot(cuts_range, mean_integrals[:,1] .- unsertanity_ahmi[:,1], alpha=1, ls=\"--\", color=\"C1\",  )\n",
    "# ax.plot(cuts_range, mean_integrals[:,1] .+ unsertanity_ahmi[:,1], alpha=1, ls=\"--\", color=\"C1\")\n",
    "ax.scatter(xx, yy, color=\"C0\", s=3, alpha=0.2)\n",
    "\n",
    "ax.set_xlabel(\"# Cuts\")\n",
    "ax.set_ylabel(\"Ratio to Truth\")\n",
    "ax.legend(loc=\"upper left\", frameon=true, framealpha=0.8, ncol=5)\n",
    "\n",
    "ax.set_xlim(0,4)\n",
    "ax.set_ylim(0.93,1.07)"
   ]
  },
  {
   "cell_type": "code",
   "execution_count": null,
   "metadata": {},
   "outputs": [],
   "source": [
    "mean_time = mean(mcmc_time_array, dims=1)'\n",
    "\n",
    "fig, ax = plt.subplots(figsize=(13, 7), sharex=true)\n",
    "\n",
    "ax.plot(cuts_range, mean_time)"
   ]
  },
  {
   "cell_type": "code",
   "execution_count": null,
   "metadata": {},
   "outputs": [],
   "source": [
    "fig, ax = plt.subplots(figsize=(13, 7), sharex=true)\n",
    "\n",
    "ax.axhline(1, c=\"red\", label=\"Truth\")\n",
    "ax.plot(cuts_range, mean_integrals, color=\"C1\")\n",
    "ax.fill_between(cuts_range, mean_integrals[:,1] .- unsertanity_scatter[:,1], mean_integrals[:,1] .+ unsertanity_scatter[:,1], alpha=0.2, color=\"C1\", label=\"w/ partition\")\n",
    "\n",
    "ax.plot(cuts_range, mean_integrals_s, color=\"gray\")\n",
    "ax.fill_between(cuts_range, mean_integrals_s[:,1] .- unsertanity_scatter_s[:,1], mean_integrals_s[:,1] .+ unsertanity_scatter_s[:,1], alpha=0.2, color=\"gray\", label=\"w/o partition\")\n",
    "\n",
    "ax.set_xlabel(\"# Cuts\")\n",
    "ax.set_ylabel(\"Ratio to Truth\")\n",
    "ax.legend(loc=\"upper left\", frameon=true, framealpha=0.8, ncol=5)\n",
    "\n",
    "ax.set_xlim(0,10)\n",
    "ax.set_ylim(0.95,1.05)"
   ]
  },
  {
   "cell_type": "markdown",
   "metadata": {},
   "source": [
    "# Comparison for different acceptance:"
   ]
  },
  {
   "cell_type": "code",
   "execution_count": null,
   "metadata": {},
   "outputs": [],
   "source": [
    "tmp_1 = load(\"Generated_Data/normal_2-mcmc.jld\")[\"integrals_ahmi_array\"]\n",
    "tmp_2 = load(\"Generated_Data/normal_1-mcmc.jld\")[\"integrals_ahmi_array\"]\n",
    "tmp_3 = load(\"Generated_Data/normal_3-mcmc.jld\")[\"integrals_ahmi_array\"];"
   ]
  },
  {
   "cell_type": "code",
   "execution_count": null,
   "metadata": {},
   "outputs": [],
   "source": [
    "mean_1 = mean(tmp_1, dims=1)'\n",
    "unsertanity_1 = std(tmp_1, dims=1)';\n",
    "\n",
    "mean_2 = mean(tmp_2, dims=1)'\n",
    "unsertanity_2 = std(tmp_2, dims=1)';\n",
    "\n",
    "mean_3 = mean(tmp_3, dims=1)'\n",
    "unsertanity_3 = std(tmp_3, dims=1)';"
   ]
  },
  {
   "cell_type": "code",
   "execution_count": null,
   "metadata": {},
   "outputs": [],
   "source": [
    "fig, ax = plt.subplots(figsize=(13, 7), sharex=true)\n",
    "\n",
    "ax.axhline(1, c=\"red\", label=\"Truth\")\n",
    "\n",
    "ax.plot(0:10, mean_1[1:11], color=PyPlot.ColorMap(\"tab20c\").colors[1], label=L\"\\alpha=0.55:0.65\")\n",
    "ax.fill_between(0:10, mean_1[1:11] .- unsertanity_1[1:11], mean_1[1:11] .+ unsertanity_1[1:11], alpha=0.2, color=PyPlot.ColorMap(\"tab20c\").colors[4])\n",
    "\n",
    "ax.plot(0:10, mean_2[1:11], color=PyPlot.ColorMap(\"tab20c\").colors[9], label=L\"\\alpha=0.15:0.35\")\n",
    "# ax.fill_between(0:10, mean_2[1:11] .- unsertanity_2[1:11], mean_2[1:11] .+ unsertanity_2[1:11], alpha=0.2, color=PyPlot.ColorMap(\"tab20c\").colors[9],)\n",
    "\n",
    "ax.plot(0:10, mean_3[1:11], color=PyPlot.ColorMap(\"tab20c\").colors[5], label=L\"\\alpha=0.05:0.1\")\n",
    "ax.fill_between(0:10, mean_3[1:11] .- unsertanity_3[1:11], mean_3[1:11] .+ unsertanity_3[1:11], alpha=0.2, color=PyPlot.ColorMap(\"tab20c\").colors[7])\n",
    "\n",
    "\n",
    "ax.set_xlabel(\"# Cuts\")\n",
    "ax.set_ylabel(\"Ratio to Truth\")\n",
    "ax.legend(loc=\"upper left\", frameon=true, framealpha=0.8, ncol=5)\n",
    "\n",
    "ax.set_xlim(0,10)\n",
    "ax.set_ylim(0.93,1.07)"
   ]
  },
  {
   "cell_type": "code",
   "execution_count": null,
   "metadata": {},
   "outputs": [],
   "source": []
  }
 ],
 "metadata": {
  "kernelspec": {
   "display_name": "Julia 1.4.0-rc1",
   "language": "julia",
   "name": "julia-1.4"
  },
  "language_info": {
   "file_extension": ".jl",
   "mimetype": "application/julia",
   "name": "julia",
   "version": "1.4.0"
  }
 },
 "nbformat": 4,
 "nbformat_minor": 4
}
