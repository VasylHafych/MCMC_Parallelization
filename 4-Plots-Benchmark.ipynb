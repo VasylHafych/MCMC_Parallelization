{
 "cells": [
  {
   "cell_type": "code",
   "execution_count": null,
   "metadata": {},
   "outputs": [],
   "source": [
    "using ValueShapes\n",
    "using ArraysOfArrays\n",
    "using StatsBase \n",
    "using LinearAlgebra\n",
    "using Statistics\n",
    "using Distributions \n",
    "using IntervalSets\n",
    "\n",
    "using HCubature\n",
    "using JLD\n",
    "using CPUTime\n",
    "\n",
    "using Plots\n",
    "using Colors\n",
    "using ColorSchemes\n",
    "using LaTeXStrings\n",
    "\n",
    "using SpecialFunctions\n",
    "\n",
    "pyplot(size=(750,500))\n",
    "line_colors = ColorSchemes.tab20b;\n",
    "\n",
    "import PyPlot\n",
    "\n",
    "plt = PyPlot"
   ]
  },
  {
   "cell_type": "code",
   "execution_count": null,
   "metadata": {},
   "outputs": [],
   "source": [
    "SMALL_SIZE = 12\n",
    "MEDIUM_SIZE = 13\n",
    "BIGGER_SIZE = 13\n",
    "\n",
    "plt.rc(\"font\", size=SMALL_SIZE)          # controls default text sizes\n",
    "plt.rc(\"axes\", titlesize=SMALL_SIZE)     # fontsize of the axes title\n",
    "plt.rc(\"axes\", labelsize=MEDIUM_SIZE)    # fontsize of the x and y labels\n",
    "plt.rc(\"xtick\", labelsize=SMALL_SIZE)    # fontsize of the tick labels\n",
    "plt.rc(\"ytick\", labelsize=SMALL_SIZE)    # fontsize of the tick labels\n",
    "plt.rc(\"legend\", fontsize=SMALL_SIZE)    # legend fontsize\n",
    "plt.rc(\"figure\", titlesize=BIGGER_SIZE)  # fontsize of the figure title"
   ]
  },
  {
   "cell_type": "code",
   "execution_count": null,
   "metadata": {},
   "outputs": [],
   "source": [
    "# PATH_1 = \"test.jld\"  # 5D [-3, 3]\n",
    "PATH_1 = \"test-normal-7.jld\" #N = 5 min_v = -4. max_v = 4.\n",
    "\n",
    "saved_1 = load(PATH_1)"
   ]
  },
  {
   "cell_type": "code",
   "execution_count": null,
   "metadata": {},
   "outputs": [],
   "source": [
    "cuts_array = saved_1[\"dim_array\"]\n",
    "integrals_par = saved_1[\"integrals_ahmi_array\"]\n",
    "uns_par = saved_1[\"uns_ahmi_array\"]\n",
    "integrals_true = saved_1[\"integrals_true_array\"]\n",
    "mcmc_time_array = saved_1[\"mcmc_time_array\"];"
   ]
  },
  {
   "cell_type": "code",
   "execution_count": null,
   "metadata": {},
   "outputs": [],
   "source": [
    "cuts_range = sort(unique(cuts_array));\n",
    "integrals = integrals_par ./ exp.(integrals_true)\n",
    "unsertanity_par = uns_par ./ exp.(integrals_true)\n",
    "unsertanity_scatter = std(integrals, dims=1)'\n",
    "\n",
    "mean_integrals = mean(integrals, dims=1)'\n",
    "unsertanity_ahmi = mean(unsertanity_par, dims=1)';"
   ]
  },
  {
   "cell_type": "code",
   "execution_count": null,
   "metadata": {},
   "outputs": [],
   "source": [
    "sz = size(integrals)\n",
    "xx = []\n",
    "yy = []\n",
    "\n",
    "for i in 1:sz[2]\n",
    "    append!(yy, integrals[:,i])\n",
    "    append!(xx, repeat([cuts_range[i]], sz[1]))\n",
    "end"
   ]
  },
  {
   "cell_type": "code",
   "execution_count": null,
   "metadata": {},
   "outputs": [],
   "source": [
    "fig, ax = plt.subplots(figsize=(13, 7), sharex=true)\n",
    "\n",
    "ax.axhline(1, c=\"red\", label=\"Truth\")\n",
    "ax.plot(cuts_range, mean_integrals, color=plt.cm.Oranges(0.8))\n",
    "ax.fill_between(cuts_range, mean_integrals[:,1] .- unsertanity_scatter[:,1], mean_integrals[:,1] .+ unsertanity_scatter[:,1], alpha=1, color=plt.cm.Oranges(0.1), label=L\"$\\sigma(\\hat{I})$\")\n",
    "ax.plot(cuts_range, mean_integrals[:,1] .- unsertanity_ahmi[:,1], alpha=1, ls=\"--\", color=plt.cm.Oranges(0.8),  label=L\"$\\langle\\sigma\\rangle$\")\n",
    "ax.plot(cuts_range, mean_integrals[:,1] .+ unsertanity_ahmi[:,1], alpha=1, ls=\"--\", color=plt.cm.Oranges(0.8))\n",
    "ax.scatter(xx, yy, color=\"k\", s=3)\n",
    "\n",
    "ax.set_xlabel(\"# Cuts\")\n",
    "ax.set_ylabel(\"Ratio to Truth\")\n",
    "ax.legend(loc=\"upper left\", frameon=true, framealpha=0.8, ncol=5)"
   ]
  },
  {
   "cell_type": "code",
   "execution_count": null,
   "metadata": {},
   "outputs": [],
   "source": [
    "mean_time = mean(mcmc_time_array, dims=1)'\n",
    "\n",
    "fig, ax = plt.subplots(figsize=(13, 7), sharex=true)\n",
    "\n",
    "ax.plot(cuts_range, mean_time)"
   ]
  },
  {
   "cell_type": "code",
   "execution_count": null,
   "metadata": {},
   "outputs": [],
   "source": []
  },
  {
   "cell_type": "code",
   "execution_count": null,
   "metadata": {},
   "outputs": [],
   "source": []
  },
  {
   "cell_type": "code",
   "execution_count": null,
   "metadata": {},
   "outputs": [],
   "source": []
  }
 ],
 "metadata": {
  "kernelspec": {
   "display_name": "Julia 1.4.0-rc1",
   "language": "julia",
   "name": "julia-1.4"
  },
  "language_info": {
   "file_extension": ".jl",
   "mimetype": "application/julia",
   "name": "julia",
   "version": "1.4.0"
  }
 },
 "nbformat": 4,
 "nbformat_minor": 4
}
