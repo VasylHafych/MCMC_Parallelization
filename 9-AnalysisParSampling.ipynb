{
 "cells": [
  {
   "cell_type": "code",
   "execution_count": 1,
   "metadata": {},
   "outputs": [
    {
     "data": {
      "text/plain": [
       "PyPlot"
      ]
     },
     "execution_count": 1,
     "metadata": {},
     "output_type": "execute_result"
    }
   ],
   "source": [
    "using ValueShapes\n",
    "using ArraysOfArrays\n",
    "using StatsBase \n",
    "using LinearAlgebra\n",
    "using Statistics\n",
    "using Distributions \n",
    "using IntervalSets\n",
    "\n",
    "using HCubature\n",
    "using JLD2\n",
    "using CPUTime\n",
    "\n",
    "# import Plots\n",
    "# using Colors\n",
    "# using ColorSchemes\n",
    "using LaTeXStrings\n",
    "\n",
    "using SpecialFunctions\n",
    "\n",
    "# Plots.pyplot(size=(750,500))\n",
    "\n",
    "using PyPlot\n",
    "plt = PyPlot"
   ]
  },
  {
   "cell_type": "code",
   "execution_count": 2,
   "metadata": {},
   "outputs": [],
   "source": [
    "SMALL_SIZE = 12\n",
    "MEDIUM_SIZE = 13\n",
    "BIGGER_SIZE = 13\n",
    "\n",
    "plt.rc(\"font\", size=SMALL_SIZE)          # controls default text sizes\n",
    "plt.rc(\"axes\", titlesize=SMALL_SIZE)     # fontsize of the axes title\n",
    "plt.rc(\"axes\", labelsize=MEDIUM_SIZE)    # fontsize of the x and y labels\n",
    "plt.rc(\"xtick\", labelsize=SMALL_SIZE)    # fontsize of the tick labels\n",
    "plt.rc(\"ytick\", labelsize=SMALL_SIZE)    # fontsize of the tick labels\n",
    "plt.rc(\"legend\", fontsize=SMALL_SIZE)    # legend fontsize\n",
    "plt.rc(\"figure\", titlesize=BIGGER_SIZE)  # fontsize of the figure title"
   ]
  },
  {
   "cell_type": "code",
   "execution_count": 14,
   "metadata": {},
   "outputs": [
    {
     "ename": "ArgumentError",
     "evalue": "ArgumentError: only JLD2 files are presently supported",
     "output_type": "error",
     "traceback": [
      "ArgumentError: only JLD2 files are presently supported",
      "",
      "Stacktrace:",
      " [1] jldopen(::String, ::Bool, ::Bool, ::Bool, ::Type{JLD2.MmapIO}; compress::Bool, mmaparrays::Bool) at /Users/vhafych/.julia/packages/JLD2/2W9VX/src/JLD2.jl:247",
      " [2] jldopen at /Users/vhafych/.julia/packages/JLD2/2W9VX/src/JLD2.jl:203 [inlined] (repeats 2 times)",
      " [3] jldopen(::String, ::String; kwargs::Base.Iterators.Pairs{Union{},Union{},Tuple{},NamedTuple{(),Tuple{}}}) at /Users/vhafych/.julia/packages/JLD2/2W9VX/src/JLD2.jl:293",
      " [4] jldopen at /Users/vhafych/.julia/packages/JLD2/2W9VX/src/JLD2.jl:288 [inlined] (repeats 2 times)",
      " [5] jldopen(::var\"#9#10\", ::String; kws::Base.Iterators.Pairs{Union{},Union{},Tuple{},NamedTuple{(),Tuple{}}}) at /Users/vhafych/.julia/packages/JLD2/2W9VX/src/loadsave.jl:2",
      " [6] jldopen(::Function, ::String) at /Users/vhafych/.julia/packages/JLD2/2W9VX/src/loadsave.jl:2",
      " [7] top-level scope at /Users/vhafych/.julia/packages/JLD2/2W9VX/src/loadsave.jl:111",
      " [8] top-level scope at In[14]:1"
     ]
    }
   ],
   "source": [
    "JLD2.@load \"Generated_Data/caushy_mac-3.jld\" samples_ps"
   ]
  },
  {
   "cell_type": "code",
   "execution_count": 4,
   "metadata": {},
   "outputs": [
    {
     "ename": "UndefVarError",
     "evalue": "UndefVarError: samples_ps not defined",
     "output_type": "error",
     "traceback": [
      "UndefVarError: samples_ps not defined",
      "",
      "Stacktrace:",
      " [1] top-level scope at In[4]:1"
     ]
    }
   ],
   "source": [
    "smpl_par = hcat(samples_ps.samples...)\n",
    "x = smpl_par[1,:]\n",
    "y = smpl_par[2,:]\n",
    "w_o = samples_ps.weights_o\n",
    "w_r =  samples_ps.weights_r;\n"
   ]
  },
  {
   "cell_type": "code",
   "execution_count": 5,
   "metadata": {},
   "outputs": [
    {
     "ename": "UndefVarError",
     "evalue": "UndefVarError: samples_ps not defined",
     "output_type": "error",
     "traceback": [
      "UndefVarError: samples_ps not defined",
      "",
      "Stacktrace:",
      " [1] top-level scope at In[5]:1"
     ]
    }
   ],
   "source": [
    "[sum(samples_ps.integrals), sqrt(sum((samples_ps.uncertainty).^2))]"
   ]
  },
  {
   "cell_type": "code",
   "execution_count": 6,
   "metadata": {},
   "outputs": [
    {
     "ename": "UndefVarError",
     "evalue": "UndefVarError: w_r not defined",
     "output_type": "error",
     "traceback": [
      "UndefVarError: w_r not defined",
      "",
      "Stacktrace:",
      " [1] top-level scope at In[6]:1"
     ]
    }
   ],
   "source": [
    "histogram_2D_r = fit(Histogram, (x,y), weights(w_r), nbins=200)\n",
    "histogram_2D_r = normalize(histogram_2D_r, mode=:probability)\n",
    "\n",
    "fig, ax = plt.subplots(1,1, figsize=(6, 6))\n",
    "\n",
    "img = ax.pcolormesh(midpoints(histogram_2D_r.edges[1]), midpoints(histogram_2D_r.edges[2]), replace(histogram_2D_r.weights', 0=>NaN), cmap=\"RdYlBu_r\") #terrain_r  vmin = -0.0001, vmax=maximum_v,\n",
    "# fig.colorbar(img)"
   ]
  },
  {
   "cell_type": "code",
   "execution_count": 7,
   "metadata": {},
   "outputs": [
    {
     "ename": "UndefVarError",
     "evalue": "UndefVarError: samples_ps not defined",
     "output_type": "error",
     "traceback": [
      "UndefVarError: samples_ps not defined",
      "",
      "Stacktrace:",
      " [1] top-level scope at In[7]:2"
     ]
    }
   ],
   "source": [
    "bins=collect(0:1:30)\n",
    "plt.hist(samples_ps.time_mcmc, bins, color=\"royalblue\", label = \"Sampling Time\", alpha=0.8);\n",
    "plt.hist(samples_ps.time_integration, bins, color=\"peru\", label = \"Integration Time\", alpha=0.8);\n",
    "\n",
    "plt.legend(loc=\"upper right\", frameon=false, framealpha=0.8, ncol=2, )\n",
    "plt.xlabel(\"Time [s]\", labelpad=10,  size=12)\n",
    "plt.ylabel(\"Counts\", labelpad=10,  size=12)"
   ]
  },
  {
   "cell_type": "code",
   "execution_count": 8,
   "metadata": {},
   "outputs": [
    {
     "ename": "UndefVarError",
     "evalue": "UndefVarError: samples_ps not defined",
     "output_type": "error",
     "traceback": [
      "UndefVarError: samples_ps not defined",
      "",
      "Stacktrace:",
      " [1] top-level scope at In[8]:1"
     ]
    }
   ],
   "source": [
    "proc_ids = sort(unique(samples_ps.proc_id))\n",
    "\n",
    "tmp = [sum(samples_ps.proc_id .== i) for i in proc_ids]\n",
    "\n",
    "min_subspaces = minimum(tmp)\n",
    "max_subspaces = maximum(tmp)\n",
    "\n",
    "proc_names = [\"Worker #$i\" for i in proc_ids]\n",
    "proc_sampling_sum = [sum(samples_ps.time_mcmc[samples_ps.proc_id .== i]) for i in proc_ids]\n",
    "proc_int_sum = [sum(samples_ps.time_integration[samples_ps.proc_id .== i]) for i in proc_ids]\n",
    "\n",
    "proc_pos = collect(1:1:length(proc_ids));\n",
    "delta = 0.7 / max_subspaces\n",
    "\n",
    "sampling_times = [samples_ps.time_mcmc[samples_ps.proc_id .== i] for i in proc_ids]\n",
    "int_times = [samples_ps.time_integration[samples_ps.proc_id .== i] for i in proc_ids]\n",
    "\n",
    "fin_positions = maximum.([cumsum(i) for i in (sampling_times .+ int_times)]);\n",
    "\n",
    "\n",
    "fig, ax = plt.subplots(figsize=(10, 6))\n",
    "fig.subplots_adjust(left=0.115, right=0.88)\n",
    "\n",
    "label_1 = \"Sampling Time\"\n",
    "label_2 = \"Integration Time\"\n",
    "\n",
    "for p in 1:1:length(proc_names)\n",
    "    n_subspaces = 1:1:length(sampling_times[p])\n",
    "    \n",
    "    cum_sum_int = cumsum(pushfirst!(sampling_times[p]+int_times[p], 0))\n",
    "    \n",
    "    ax.hlines([proc_pos[p] + (i-1)*delta for i in n_subspaces], cum_sum_int[1:end-1], cum_sum_int[1:end-1] .+sampling_times[p], color=\"royalblue\", lw=6,  label=label_1)\n",
    "    ax.hlines([proc_pos[p] + (i-1)*delta for i in n_subspaces], cum_sum_int[2:end] .- int_times[p], cum_sum_int[2:end], color=\"peru\", lw=6, label=label_2)\n",
    "    \n",
    "    label_1 = \"_nolegend_\"\n",
    "    label_2 = \"_nolegend_\"\n",
    "\n",
    "    \n",
    "end\n",
    "\n",
    "ax.hlines(proc_pos[1:end-1].+0.8, 0, maximum(fin_positions), color=\"black\", ls=\"-\", lw=1, alpha=1)\n",
    "ax.set_xlim(0, maximum(fin_positions))\n",
    "ax.set_ylim(0.9, maximum(proc_pos)+0.8)\n",
    "\n",
    "ax.set_yticks(proc_pos)\n",
    "ax.set_yticklabels(proc_names)\n",
    "\n",
    "ax.legend(loc=\"upper left\", frameon=false, framealpha=0.8, ncol=2)\n",
    "ax.set_xlabel(\"Cumulative CPU elapsed time [s]\", labelpad=10,  size=12)\n",
    "ax.set_title(\"Execution Time Summary\",  size=12);\n",
    "\n",
    "\n",
    "ax.set_xticks( range(0, stop=maximum(fin_positions), length=40), minor=true)\n",
    "ax.grid(axis=\"x\", which=\"minor\", alpha=0.2, )"
   ]
  },
  {
   "cell_type": "code",
   "execution_count": 9,
   "metadata": {},
   "outputs": [
    {
     "ename": "UndefVarError",
     "evalue": "UndefVarError: samples_ps not defined",
     "output_type": "error",
     "traceback": [
      "UndefVarError: samples_ps not defined",
      "",
      "Stacktrace:",
      " [1] top-level scope at In[9]:1"
     ]
    }
   ],
   "source": [
    "minimum_tmp = minimum(minimum(samples_ps.timestamps))\n",
    "\n",
    "int_data = [(i .- minimum_tmp)*10^-9  for i in samples_ps.timestamps];\n",
    "\n",
    "maximum_wc_time = maximum(maximum(int_data))\n",
    "maximum_cpu_time = maximum([samples_ps.time_mcmc..., samples_ps.time_integration...])\n",
    "\n",
    "proc_ids = sort(unique(samples_ps.proc_id))\n",
    "n_workers = length(proc_ids)\n",
    "\n",
    "x_min = 0\n",
    "x_max = maximum_wc_time\n",
    "y_min = 0\n",
    "y_max = maximum_cpu_time + 0.1*maximum_cpu_time\n",
    "\n",
    "# x_min = 0\n",
    "# x_max = maximum_wc_time\n",
    "# y_min = 0\n",
    "# y_max = 10\n",
    "\n",
    "fig, ax = plt.subplots(1,1, figsize=(9, 5))\n",
    "\n",
    "for (i,j) in enumerate(int_data)\n",
    "    \n",
    "    r1 = matplotlib.patches.Rectangle([j[1], 0.0], j[2]-j[1], samples_ps.time_mcmc[i], fill=false, linewidth=1, color=\"royalblue\", alpha=1) \n",
    "    ax.add_patch(r1)\n",
    "    \n",
    "    r2 = matplotlib.patches.Rectangle([j[3], 0.0], j[4]-j[3], samples_ps.time_integration[i], fill=false, linewidth=1, color=\"peru\", alpha=1) \n",
    "    ax.add_patch(r2)\n",
    "    \n",
    "end\n",
    "\n",
    "ax.set_xlim(x_min, x_max);\n",
    "ax.set_ylim(y_min, y_max);\n",
    "ax.axes.set_aspect(\"equal\")\n",
    "ax.set_ylabel(\"CPU Time\", labelpad=10,  size=10)\n",
    "ax.set_xlabel(\"Wall-clock time [s]\", labelpad=10,  size=12)"
   ]
  },
  {
   "cell_type": "code",
   "execution_count": 10,
   "metadata": {},
   "outputs": [
    {
     "ename": "UndefVarError",
     "evalue": "UndefVarError: samples_ps not defined",
     "output_type": "error",
     "traceback": [
      "UndefVarError: samples_ps not defined",
      "",
      "Stacktrace:",
      " [1] top-level scope at In[10]:1"
     ]
    }
   ],
   "source": [
    "minimum_tmp = minimum(minimum(samples_ps.timestamps))\n",
    "\n",
    "int_data = [(i .- minimum_tmp)*10^-9  for i in samples_ps.timestamps];\n",
    "\n",
    "maximum_wc_time = maximum(maximum(int_data))\n",
    "maximum_cpu_time = maximum([samples_ps.time_mcmc..., samples_ps.time_integration...])\n",
    "\n",
    "proc_ids = sort(unique(samples_ps.proc_id))\n",
    "n_workers = length(proc_ids)\n",
    "\n",
    "x_min = 0\n",
    "x_max = maximum_wc_time\n",
    "y_min = 0\n",
    "y_max = maximum_cpu_time + 0.1*maximum_cpu_time\n",
    "\n",
    "# x_min = 0\n",
    "# x_max = maximum_wc_time\n",
    "# y_min = 0\n",
    "# y_max = 10\n",
    "\n",
    "fig, ax = plt.subplots(1,1, figsize=(9, 5))\n",
    "\n",
    "for (i,j) in enumerate(int_data)\n",
    "    \n",
    "    r1 = matplotlib.patches.Rectangle([j[1], 0.0], j[2]-j[1], samples_ps.time_mcmc[i]/(j[2]-j[1]), fill=false, linewidth=1, color=\"royalblue\", alpha=1) \n",
    "    ax.add_patch(r1)\n",
    "    \n",
    "    r2 = matplotlib.patches.Rectangle([j[3], 0.0], j[4]-j[3], samples_ps.time_integration[i]/(j[4]-j[3]), fill=false, linewidth=1, color=\"peru\", alpha=1) \n",
    "    ax.add_patch(r2)\n",
    "    \n",
    "end\n",
    "\n",
    "ax.set_xlim(x_min, x_max);\n",
    "ax.set_ylim(y_min, 6);\n",
    "\n",
    "ax.set_ylabel(\"CPU Time\", labelpad=10,  size=10)\n",
    "ax.set_xlabel(\"Wall-clock time [s]\", labelpad=10,  size=12)"
   ]
  },
  {
   "cell_type": "code",
   "execution_count": 11,
   "metadata": {},
   "outputs": [
    {
     "ename": "UndefVarError",
     "evalue": "UndefVarError: samples_ps not defined",
     "output_type": "error",
     "traceback": [
      "UndefVarError: samples_ps not defined",
      "",
      "Stacktrace:",
      " [1] top-level scope at In[11]:1"
     ]
    }
   ],
   "source": [
    "minimum_tmp = minimum(minimum(samples_ps.timestamps))\n",
    "\n",
    "int_data = [(i .- minimum_tmp)*10^-9  for i in samples_ps.timestamps];\n",
    "\n",
    "maximum_wc_time = maximum(maximum(int_data))\n",
    "maximum_cpu_time = maximum([samples_ps.time_mcmc..., samples_ps.time_integration...])\n",
    "\n",
    "proc_ids = sort(unique(samples_ps.proc_id))\n",
    "n_workers = length(proc_ids)\n",
    "\n",
    "x_min = 0\n",
    "x_max = maximum_wc_time\n",
    "y_min = 0\n",
    "y_max = maximum_cpu_time + 0.1*maximum_cpu_time\n",
    "\n",
    "# x_min = 0\n",
    "# x_max = maximum_wc_time\n",
    "# y_min = 0\n",
    "# y_max = 10\n",
    "\n",
    "label_1 = \"Sampling\"\n",
    "label_2 = \"Integration\"\n",
    "\n",
    "fig, ax = plt.subplots(n_workers,1, sharex=true, figsize=(n_workers*3, 9))\n",
    "fig.subplots_adjust(hspace=0.0, wspace=0.00)\n",
    "# fig.text(0.0, 0.5, \"common Y\", va=\"center\", rotation=\"vertical\")\n",
    "\n",
    "y_max_tmp = []\n",
    "\n",
    "for (i,j) in enumerate(int_data)\n",
    "    \n",
    "    r1 = matplotlib.patches.Rectangle([j[1], 0.0], j[2]-j[1], samples_ps.time_mcmc[i]/(j[2]-j[1]), fill=true, \n",
    "        linewidth=0.8, color=\"royalblue\", alpha=0.5, label=label_1) \n",
    "    ax[samples_ps.proc_id[i] - 1].add_patch(r1)\n",
    "    \n",
    "    r2 = matplotlib.patches.Rectangle([j[3], 0.0], j[4]-j[3], samples_ps.time_integration[i]/(j[4]-j[3]), \n",
    "        fill=true, linewidth=0.8, color=\"peru\", alpha=0.5, label=label_2) \n",
    "    ax[samples_ps.proc_id[i] - 1].add_patch(r2)\n",
    "    \n",
    "    push!(y_max_tmp, samples_ps.time_mcmc[i]/(j[2]-j[1]))\n",
    "    push!(y_max_tmp, samples_ps.time_integration[i]/(j[4]-j[3]))\n",
    "    \n",
    "    label_1 = \"_nolegend_\"\n",
    "    label_2 = \"_nolegend_\"\n",
    "end\n",
    "\n",
    "ax[1].legend(loc=\"upper left\", frameon=false, framealpha=0.8, ncol=1, bbox_to_anchor=(1.02, 1.0),)\n",
    "\n",
    "for i in 1:n_workers\n",
    "    ax[i].set_xlim(x_min, x_max);\n",
    "    ax[i].set_ylim(0, ceil(maximum(y_max_tmp)));\n",
    "    ax[i].set_ylabel(\"w$i\", labelpad=10,  size=10)\n",
    "    \n",
    "    ax[i].set_yticks(range(0, stop=floor(maximum(y_max_tmp)), step=1), minor=true)\n",
    "    ax[i].grid(axis=\"y\", which=\"both\", alpha=0.2, )\n",
    "    \n",
    "    if i<n_workers\n",
    "        ax[i].get_xaxis().set_visible(false) \n",
    "    end\n",
    "end\n",
    "\n",
    "fig.text(0.06, 0.5, \"CPU time / Wall-clock time\", va=\"center\", rotation=\"vertical\", size=12, weight=\"bold\")\n",
    "ax[n_workers].set_xlabel(\"Wall-clock time [s]\", labelpad=12,  size=12, weight=\"bold\")"
   ]
  },
  {
   "cell_type": "code",
   "execution_count": null,
   "metadata": {},
   "outputs": [],
   "source": []
  },
  {
   "cell_type": "code",
   "execution_count": null,
   "metadata": {},
   "outputs": [],
   "source": []
  },
  {
   "cell_type": "code",
   "execution_count": null,
   "metadata": {},
   "outputs": [],
   "source": []
  }
 ],
 "metadata": {
  "kernelspec": {
   "display_name": "Julia 1.4.2",
   "language": "julia",
   "name": "julia-1.4"
  },
  "language_info": {
   "file_extension": ".jl",
   "mimetype": "application/julia",
   "name": "julia",
   "version": "1.4.2"
  }
 },
 "nbformat": 4,
 "nbformat_minor": 4
}
