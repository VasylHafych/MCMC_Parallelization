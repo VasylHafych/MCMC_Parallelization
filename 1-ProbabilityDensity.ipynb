{
 "cells": [
  {
   "cell_type": "code",
   "execution_count": 1,
   "metadata": {},
   "outputs": [],
   "source": [
    "using ValueShapes\n",
    "using ArraysOfArrays\n",
    "using StatsBase \n",
    "using LinearAlgebra\n",
    "using Statistics\n",
    "using Distributions \n",
    "using IntervalSets\n",
    "using BAT\n",
    "\n",
    "using HCubature\n",
    "using JLD\n",
    "using CPUTime\n",
    "\n",
    "using Plots\n",
    "using Colors\n",
    "using ColorSchemes\n",
    "using LaTeXStrings\n",
    "\n",
    "using SpecialFunctions\n",
    "\n",
    "pyplot(size=(750,500))\n",
    "line_colors = ColorSchemes.tab20b;"
   ]
  },
  {
   "cell_type": "markdown",
   "metadata": {},
   "source": [
    "# Generate Distribution: "
   ]
  },
  {
   "cell_type": "code",
   "execution_count": null,
   "metadata": {},
   "outputs": [],
   "source": [
    "# data = hcat(randn(1000), randn(1000))\n",
    "\n",
    "# sx, sy = 0.12, 0.15\n",
    "\n",
    "# Scale = [sx 0; 0 sy]\n",
    "\n",
    "# theta = 0.75*pi\n",
    "\n",
    "# c, s = cos(theta), sin(theta)\n",
    "\n",
    "# Rot = [c -s; s c]\n",
    "\n",
    "# T = Scale * Rot\n",
    "\n",
    "# data_p =(data * T)';\n",
    "\n",
    "# sigma = cov(data_p')\n",
    "\n",
    "# @show sigma"
   ]
  },
  {
   "cell_type": "code",
   "execution_count": null,
   "metadata": {},
   "outputs": [],
   "source": [
    "# Correlated Normal:\n",
    "\n",
    "sigma_1 = [0.32716446841097613 0.17276467616026275; 0.17276467616026275 0.33056237691918017]\n",
    "sigma_2 = [0.15152028283087893 -0.11598742336072133; -0.11598742336072133 0.1616797732933265] #[0.1572026439007445 -0.1044956058704804; -0.1044956058704804 0.13445945463874312] \n",
    "sigma_3 = [0.01942201849281335 -0.003187584896683795; -0.003187584896683795 0.017175237584791444]\n",
    "\n",
    "N = 2 \n",
    "min_v = -50\n",
    "max_v = 50\n",
    "lgV = N*log(max_v-min_v); \n",
    "\n",
    "g(x;μ=[0, 0], sigma=sigma) = pdf(MvNormal(μ, sigma), x)\n",
    "\n",
    "f(x) = g(x, μ=[5, 5], sigma=sigma_1) + g(x, μ=[-5, -5], sigma=sigma_1) + 0.1*g(x, μ=[5, -5], sigma=sigma_3) + 0.9*g(x, μ=[-5, 5], sigma=sigma_2)"
   ]
  },
  {
   "cell_type": "code",
   "execution_count": null,
   "metadata": {},
   "outputs": [],
   "source": [
    "# Normal Distribution\n",
    "\n",
    "true_param =(μ1=0, μ2=-1, σ=1)\n",
    "min_v = -8\n",
    "max_v = 8\n",
    "N = 4\n",
    "lgV = N*log(max_v-min_v); \n",
    "\n",
    "\n",
    "function f(x::AbstractArray; true_param=true_param)\n",
    "    tmp = prod(pdf.(Normal(true_param.μ1, true_param.σ), x))\n",
    "    return tmp\n",
    "end"
   ]
  },
  {
   "cell_type": "code",
   "execution_count": 2,
   "metadata": {},
   "outputs": [
    {
     "data": {
      "text/plain": [
       "f (generic function with 1 method)"
      ]
     },
     "execution_count": 2,
     "metadata": {},
     "output_type": "execute_result"
    }
   ],
   "source": [
    "#Report distribution\n",
    "\n",
    "sigma_1 = [0.32716446841097613 0.17276467616026275; 0.17276467616026275 0.33056237691918017]\n",
    "sigma_3 = [0.01942201849281335 -0.003187584896683795; -0.003187584896683795 0.017175237584791444]\n",
    "\n",
    "N = 2 \n",
    "min_v = -20\n",
    "max_v = 20\n",
    "lgV = N*log(max_v-min_v); \n",
    "\n",
    "g(x;μ=[0, 0], sigma=sigma_1) = pdf(MvNormal(μ, sigma), x)\n",
    "\n",
    "f(x) = (1/2.08)*(g(x, μ=[3.5, 3.5], sigma=sigma_1) + g(x, μ=[-3.5, -3.5], sigma=sigma_1) + 0.04*g(x, μ=[3.5, -3.5], sigma=sigma_3) + 0.04*g(x, μ=[-3.5, 3.5], sigma=sigma_3))"
   ]
  },
  {
   "cell_type": "markdown",
   "metadata": {},
   "source": [
    "## Plot Distribution: "
   ]
  },
  {
   "cell_type": "code",
   "execution_count": 3,
   "metadata": {},
   "outputs": [
    {
     "name": "stdout",
     "output_type": "stream",
     "text": [
      "levels = [1.1121900092013422e-21, 0.0035844719884968635, 0.031007392601642293, 0.24449572536727365, 0.2728666433966312]\n"
     ]
    },
    {
     "data": {
      "image/png": "[encoded data removed]"
     },
     "execution_count": 3,
     "metadata": {},
     "output_type": "execute_result"
    }
   ],
   "source": [
    "x_range = range(-10, stop=10, length=200)\n",
    "y_range = range(-10, stop=10, length=200)\n",
    "\n",
    "z = [f([i,j]) for i in x_range, j in y_range]';\n",
    "\n",
    "levels_quantiles = [0.6, 0.96, 0.98, 0.999, 1,]\n",
    "levels=quantile([z...], levels_quantiles)\n",
    "\n",
    "@show levels\n",
    "\n",
    "contour(x_range, y_range, z; fill=true, levels=levels, fillalpha=0.2, color=:blues)"
   ]
  },
  {
   "cell_type": "markdown",
   "metadata": {},
   "source": [
    "# Generate MCMC Samples: "
   ]
  },
  {
   "cell_type": "code",
   "execution_count": 4,
   "metadata": {},
   "outputs": [],
   "source": [
    "algorithm = MetropolisHastings()\n",
    "\n",
    "tuning = AdaptiveMetropolisTuning(\n",
    "    λ = 0.5,\n",
    "    α = 0.15..0.35,\n",
    "    β = 1.1,\n",
    "    c = 1e-4..1e2\n",
    ")\n",
    "\n",
    "convergence = BrooksGelmanConvergence(\n",
    "    threshold = 1.1,\n",
    "    corrected = false\n",
    ")\n",
    "\n",
    "init = MCMCInitStrategy(\n",
    "    init_tries_per_chain = 8..128,\n",
    "    max_nsamples_init = 50,\n",
    "    max_nsteps_init = 50,\n",
    "    max_time_init = 18\n",
    ")\n",
    "\n",
    "burnin = MCMCBurninStrategy(\n",
    "    max_nsamples_per_cycle = 10,\n",
    "    max_nsteps_per_cycle = 100,\n",
    "    max_time_per_cycle = 25,\n",
    "    max_ncycles = 1\n",
    ")\n",
    "\n",
    "HMI_Manual_Settings = BAT.HMISettings(BAT.cholesky_partial_whitening!, \n",
    "        1000, \n",
    "        1.5, \n",
    "        0.1, \n",
    "        true, \n",
    "        16, \n",
    "        true, \n",
    "        Dict(\"cov. weighted result\" => BAT.hm_combineresults_covweighted!)\n",
    "    )\n",
    "\n",
    "log_likelihood = params -> LogDVal((log(f(params.a))))\n",
    "\n",
    "prior = NamedTupleDist(a = [[min_v .. max_v for i in 1:N]...],)\n",
    "\n",
    "posterior = PosteriorDensity(log_likelihood, prior);"
   ]
  },
  {
   "cell_type": "code",
   "execution_count": 5,
   "metadata": {},
   "outputs": [],
   "source": [
    "nchains = 2\n",
    "nsamples = 1*10^5\n",
    "max_time = 150\n",
    "max_nsteps = 10 * nsamples;"
   ]
  },
  {
   "cell_type": "code",
   "execution_count": 6,
   "metadata": {},
   "outputs": [
    {
     "name": "stderr",
     "output_type": "stream",
     "text": [
      "┌ Info: Trying to generate 2 viable MCMC chain(s).\n",
      "└ @ BAT /Users/vhafych/MPP-Server/gitrepos/BAT.jl/src/samplers/mcmc/mcmc_tuner.jl:206\n",
      "┌ Info: Selected 2 MCMC chain(s).\n",
      "└ @ BAT /Users/vhafych/MPP-Server/gitrepos/BAT.jl/src/samplers/mcmc/mcmc_tuner.jl:317\n",
      "┌ Info: Begin tuning of 2 MCMC chain(s).\n",
      "└ @ BAT /Users/vhafych/MPP-Server/gitrepos/BAT.jl/src/samplers/mcmc/mcmc_tuner.jl:72\n",
      "┌ Info: MCMC Tuning cycle 1 finished, 2 chains, 0 tuned, 2 converged.\n",
      "└ @ BAT /Users/vhafych/MPP-Server/gitrepos/BAT.jl/src/samplers/mcmc/mcmc_tuner.jl:105\n",
      "┌ Warning: MCMC tuning of 2 chains aborted after 1 cycle(s).\n",
      "└ @ BAT /Users/vhafych/MPP-Server/gitrepos/BAT.jl/src/samplers/mcmc/mcmc_tuner.jl:115\n"
     ]
    }
   ],
   "source": [
    "samples, stats = bat_sample(posterior, (nsamples, nchains), MetropolisHastings(), tuning=tuning, init=init, burnin=burnin);"
   ]
  },
  {
   "cell_type": "code",
   "execution_count": 7,
   "metadata": {},
   "outputs": [
    {
     "name": "stderr",
     "output_type": "stream",
     "text": [
      "┌ Info: Harmonic Mean Integration started. Samples in dataset 1 / 2: \t33022 / 33021\tParameters:\t2\n",
      "└ @ BAT /Users/vhafych/MPP-Server/gitrepos/BAT.jl/src/integration/ahmi/harmonic_mean_integration.jl:93\n",
      "┌ Info: Data Whitening.\n",
      "└ @ BAT /Users/vhafych/MPP-Server/gitrepos/BAT.jl/src/integration/ahmi/harmonic_mean_integration.jl:108\n",
      "┌ Info: Apply Whitening Transformation to Data Set 2\n",
      "└ @ BAT /Users/vhafych/MPP-Server/gitrepos/BAT.jl/src/integration/ahmi/harmonic_mean_integration.jl:117\n",
      "┌ Info: Create Space Partitioning Tree\n",
      "└ @ BAT /Users/vhafych/MPP-Server/gitrepos/BAT.jl/src/integration/ahmi/harmonic_mean_integration.jl:129\n",
      "┌ Info: Determine Hyperrectangle Starting Samples\n",
      "└ @ BAT /Users/vhafych/MPP-Server/gitrepos/BAT.jl/src/integration/ahmi/harmonic_mean_integration.jl:145\n",
      "┌ Warning: Returned minimum number of starting points: 16\n",
      "└ @ BAT /Users/vhafych/MPP-Server/gitrepos/BAT.jl/src/integration/ahmi/hyper_rectangle.jl:104\n",
      "┌ Warning: Returned minimum number of starting points: 16\n",
      "└ @ BAT /Users/vhafych/MPP-Server/gitrepos/BAT.jl/src/integration/ahmi/hyper_rectangle.jl:104\n",
      "┌ Info: Determine Tolerances for Hyperrectangle Creation\n",
      "└ @ BAT /Users/vhafych/MPP-Server/gitrepos/BAT.jl/src/integration/ahmi/harmonic_mean_integration.jl:165\n",
      "┌ Info: Create 34 Hyperrectangles using 8 thread(s)\n",
      "└ @ BAT /Users/vhafych/MPP-Server/gitrepos/BAT.jl/src/integration/ahmi/hm_integration_rectangle.jl:9\n",
      "┌ Info: Updating 34 Hyperrectangles using 8 thread(s)\n",
      "└ @ BAT /Users/vhafych/MPP-Server/gitrepos/BAT.jl/src/integration/ahmi/hm_integration_rectangle.jl:27\n",
      "┌ Info: Integrating 34 Hyperrectangles\n",
      "└ @ BAT /Users/vhafych/MPP-Server/gitrepos/BAT.jl/src/integration/ahmi/harmonic_mean_integration.jl:384\n",
      "┌ Info: Estimating Uncertainty (cov. weighted result)\n",
      "└ @ BAT /Users/vhafych/MPP-Server/gitrepos/BAT.jl/src/integration/ahmi/harmonic_mean_integration.jl:59\n"
     ]
    },
    {
     "data": {
      "text/plain": [
       "2-element Array{Float64,1}:\n",
       "  0.019649310013879706\n",
       " -4.848374309027753"
      ]
     },
     "execution_count": 7,
     "metadata": {},
     "output_type": "execute_result"
    }
   ],
   "source": [
    "hmi_data = BAT.HMIData(unshaped.(samples))\n",
    "ahmi_ex_time = @CPUelapsed BAT.hm_integrate!(hmi_data)\n",
    "\n",
    "ahmi_integral_run =[hmi_data.integralestimates[\"cov. weighted result\"].final.estimate, hmi_data.integralestimates[\"cov. weighted result\"].final.uncertainty]\n",
    "log_smpl_int = log.(ahmi_integral_run) .+ lgV"
   ]
  },
  {
   "cell_type": "code",
   "execution_count": 8,
   "metadata": {},
   "outputs": [
    {
     "data": {
      "text/plain": [
       "2-element Array{Float64,1}:\n",
       " 1.0198436283595977\n",
       " 0.007841114422239464"
      ]
     },
     "execution_count": 8,
     "metadata": {},
     "output_type": "execute_result"
    }
   ],
   "source": [
    "integral = exp.(log_smpl_int)"
   ]
  },
  {
   "cell_type": "code",
   "execution_count": 11,
   "metadata": {},
   "outputs": [
    {
     "name": "stderr",
     "output_type": "stream",
     "text": [
      "┌ Warning: Attribute alias `color` detected in the user recipe defined for the signature (::Histogram{Int64,2,Tuple{StepRangeLen{Float64,Base.TwicePrecision{Float64},Base.TwicePrecision{Float64}},StepRangeLen{Float64,Base.TwicePrecision{Float64},Base.TwicePrecision{Float64}}}}, ::Tuple{Int64,Int64}). To ensure expected behavior it is recommended to use the default attribute `seriescolor`.\n",
      "└ @ Plots /Users/vhafych/.julia/packages/Plots/NVH6y/src/pipeline.jl:15\n",
      "┌ Warning: Attribute alias `color` detected in the user recipe defined for the signature (::Histogram{Int64,2,Tuple{StepRangeLen{Float64,Base.TwicePrecision{Float64},Base.TwicePrecision{Float64}},StepRangeLen{Float64,Base.TwicePrecision{Float64},Base.TwicePrecision{Float64}}}}, ::Tuple{Int64,Int64}). To ensure expected behavior it is recommended to use the default attribute `seriescolor`.\n",
      "└ @ Plots /Users/vhafych/.julia/packages/Plots/NVH6y/src/pipeline.jl:15\n",
      "┌ Warning: Attribute alias `color` detected in the user recipe defined for the signature (::Histogram{Int64,2,Tuple{StepRangeLen{Float64,Base.TwicePrecision{Float64},Base.TwicePrecision{Float64}},StepRangeLen{Float64,Base.TwicePrecision{Float64},Base.TwicePrecision{Float64}}}}, ::Tuple{Int64,Int64}). To ensure expected behavior it is recommended to use the default attribute `seriescolor`.\n",
      "└ @ Plots /Users/vhafych/.julia/packages/Plots/NVH6y/src/pipeline.jl:15\n"
     ]
    },
    {
     "data": {
      "image/png": "[encoded data removed]"
     },
     "execution_count": 11,
     "metadata": {},
     "output_type": "execute_result"
    }
   ],
   "source": [
    "plot(samples, (1,2), legend=true,)"
   ]
  },
  {
   "cell_type": "code",
   "execution_count": null,
   "metadata": {},
   "outputs": [],
   "source": []
  },
  {
   "cell_type": "code",
   "execution_count": null,
   "metadata": {},
   "outputs": [],
   "source": []
  }
 ],
 "metadata": {
  "kernelspec": {
   "display_name": "Julia 1.4.0-rc1",
   "language": "julia",
   "name": "julia-1.4"
  },
  "language_info": {
   "file_extension": ".jl",
   "mimetype": "application/julia",
   "name": "julia",
   "version": "1.4.0"
  }
 },
 "nbformat": 4,
 "nbformat_minor": 4
}
