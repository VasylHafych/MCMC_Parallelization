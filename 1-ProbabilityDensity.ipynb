{
 "cells": [
  {
   "cell_type": "code",
   "execution_count": null,
   "metadata": {},
   "outputs": [],
   "source": [
    "using ValueShapes\n",
    "using ArraysOfArrays\n",
    "using StatsBase \n",
    "using LinearAlgebra\n",
    "using Statistics\n",
    "using Distributions \n",
    "using IntervalSets\n",
    "using BAT\n",
    "\n",
    "using HCubature\n",
    "using JLD\n",
    "using CPUTime\n",
    "\n",
    "using Plots\n",
    "using Colors\n",
    "using ColorSchemes\n",
    "using LaTeXStrings\n",
    "\n",
    "using SpecialFunctions\n",
    "\n",
    "pyplot(size=(750,500))\n",
    "line_colors = ColorSchemes.tab20b;"
   ]
  },
  {
   "cell_type": "markdown",
   "metadata": {},
   "source": [
    "# Generate Distribution: "
   ]
  },
  {
   "cell_type": "code",
   "execution_count": null,
   "metadata": {},
   "outputs": [],
   "source": [
    "# data = hcat(randn(1000), randn(1000))\n",
    "\n",
    "# sx, sy = 0.12, 0.15\n",
    "\n",
    "# Scale = [sx 0; 0 sy]\n",
    "\n",
    "# theta = 0.75*pi\n",
    "\n",
    "# c, s = cos(theta), sin(theta)\n",
    "\n",
    "# Rot = [c -s; s c]\n",
    "\n",
    "# T = Scale * Rot\n",
    "\n",
    "# data_p =(data * T)';\n",
    "\n",
    "# sigma = cov(data_p')\n",
    "\n",
    "# @show sigma"
   ]
  },
  {
   "cell_type": "code",
   "execution_count": null,
   "metadata": {},
   "outputs": [],
   "source": [
    "# Correlated Normal:\n",
    "\n",
    "sigma_1 = [0.32716446841097613 0.17276467616026275; 0.17276467616026275 0.33056237691918017]\n",
    "sigma_2 = [0.15152028283087893 -0.11598742336072133; -0.11598742336072133 0.1616797732933265] #[0.1572026439007445 -0.1044956058704804; -0.1044956058704804 0.13445945463874312] \n",
    "sigma_3 = [0.01942201849281335 -0.003187584896683795; -0.003187584896683795 0.017175237584791444]\n",
    "\n",
    "N = 2 \n",
    "min_v = -10\n",
    "max_v = 10\n",
    "lgV = N*log(max_v-min_v); \n",
    "\n",
    "g(x;μ=[0, 0], sigma=sigma) = pdf(MvNormal(μ, sigma), x)\n",
    "\n",
    "f(x) = g(x, μ=[1, 1], sigma=sigma_1) + g(x, μ=[-1, -1], sigma=sigma_1) + 0.1*g(x, μ=[1.5, -1.5], sigma=sigma_3) + 0.9*g(x, μ=[-1.3, 1.3], sigma=sigma_2)"
   ]
  },
  {
   "cell_type": "code",
   "execution_count": null,
   "metadata": {},
   "outputs": [],
   "source": [
    "# Normal Distribution\n",
    "\n",
    "true_param =(μ1=1, μ2=-1, σ=0.2)\n",
    "min_v = -8\n",
    "max_v = 8\n",
    "N = 4\n",
    "lgV = N*log(max_v-min_v); \n",
    "\n",
    "\n",
    "function fun(x::AbstractArray; true_param=true_param)\n",
    "    tmp = prod(pdf.(Normal(true_param.μ1, true_param.σ), x))\n",
    "    return tmp\n",
    "end"
   ]
  },
  {
   "cell_type": "code",
   "execution_count": null,
   "metadata": {},
   "outputs": [],
   "source": [
    "# Ring: \n",
    "\n",
    "fun(x::AbstractArray; a=2, b=1, n=3) = -(((x[end]^2 + x[1]^2 - a)^2)/ b)^2 - sum((((x[1:end-1].^2 .+ x[2:end].^2  .-a).^2)./b).^2 )\n",
    "\n",
    "min_v = -5\n",
    "max_v = 5\n",
    "N = 2\n",
    "lgV = N*log(max_v-min_v); "
   ]
  },
  {
   "cell_type": "markdown",
   "metadata": {},
   "source": [
    "## Plot Distribution: "
   ]
  },
  {
   "cell_type": "code",
   "execution_count": null,
   "metadata": {},
   "outputs": [],
   "source": [
    "x_range = range(-3, stop=3, length=100)\n",
    "y_range = range(-3, stop=3, length=100)\n",
    "\n",
    "z = [f([i,j]) for i in x_range, j in y_range]';\n",
    "\n",
    "levels_quantiles = [0.2, 0.3, 0.4, 0.5, 0.7,  0.8,  0.85, 0.9, 0.95, 0.99, 0.999, 1,]\n",
    "levels=quantile([z...], levels_quantiles)\n",
    "\n",
    "contour(x_range, y_range, z; fill=true, levels=levels, fillalpha=0.2, color=:blues)"
   ]
  },
  {
   "cell_type": "markdown",
   "metadata": {},
   "source": [
    "# Generate MCMC Samples: "
   ]
  },
  {
   "cell_type": "code",
   "execution_count": null,
   "metadata": {},
   "outputs": [],
   "source": [
    "algorithm = MetropolisHastings()\n",
    "\n",
    "tuning = AdaptiveMetropolisTuning(\n",
    "    λ = 0.5,\n",
    "    α = 0.15..0.35,\n",
    "    β = 1.5,\n",
    "    c = 1e-4..1e2\n",
    ")\n",
    "\n",
    "convergence = BrooksGelmanConvergence(\n",
    "    threshold = 1.1,\n",
    "    corrected = false\n",
    ")\n",
    "\n",
    "init = MCMCInitStrategy(\n",
    "    init_tries_per_chain = 8..128,\n",
    "    max_nsamples_init = 250,\n",
    "    max_nsteps_init = 250,\n",
    "    max_time_init = 180\n",
    ")\n",
    "\n",
    "burnin = MCMCBurninStrategy(\n",
    "    max_nsamples_per_cycle = 1000,\n",
    "    max_nsteps_per_cycle = 10000,\n",
    "    max_time_per_cycle = 250,\n",
    "    max_ncycles = 200\n",
    ")\n",
    "\n",
    "HMI_Manual_Settings = BAT.HMISettings(BAT.cholesky_partial_whitening!, \n",
    "        1000, \n",
    "        1.5, \n",
    "        0.1, \n",
    "        true, \n",
    "        16, \n",
    "        true, \n",
    "        Dict(\"cov. weighted result\" => BAT.hm_combineresults_covweighted!)\n",
    "    )\n",
    "\n",
    "log_likelihood = params -> LogDVal((log(f(params.a))))\n",
    "\n",
    "prior = NamedTupleDist(a = [[min_v .. max_v for i in 1:N]...],)\n",
    "\n",
    "posterior = PosteriorDensity(log_likelihood, prior);"
   ]
  },
  {
   "cell_type": "code",
   "execution_count": null,
   "metadata": {},
   "outputs": [],
   "source": [
    "nchains = 10\n",
    "nsamples = 1*10^4\n",
    "max_time = 150\n",
    "max_nsteps = 10 * nsamples;"
   ]
  },
  {
   "cell_type": "code",
   "execution_count": null,
   "metadata": {},
   "outputs": [],
   "source": [
    "samples, stats = bat_sample(posterior, (nsamples, nchains), MetropolisHastings());"
   ]
  },
  {
   "cell_type": "code",
   "execution_count": null,
   "metadata": {},
   "outputs": [],
   "source": [
    "hmi_data = BAT.HMIData(unshaped.(samples))\n",
    "ahmi_ex_time = @CPUelapsed BAT.hm_integrate!(hmi_data)\n",
    "\n",
    "ahmi_integral_run =[hmi_data.integralestimates[\"cov. weighted result\"].final.estimate, hmi_data.integralestimates[\"cov. weighted result\"].final.uncertainty]\n",
    "log_smpl_int = log.(ahmi_integral_run) .+ lgV"
   ]
  },
  {
   "cell_type": "code",
   "execution_count": null,
   "metadata": {},
   "outputs": [],
   "source": [
    "integral = exp.(log_smpl_int)"
   ]
  },
  {
   "cell_type": "code",
   "execution_count": null,
   "metadata": {},
   "outputs": [],
   "source": [
    "truth = 3"
   ]
  },
  {
   "cell_type": "code",
   "execution_count": null,
   "metadata": {},
   "outputs": [],
   "source": []
  },
  {
   "cell_type": "code",
   "execution_count": null,
   "metadata": {},
   "outputs": [],
   "source": []
  }
 ],
 "metadata": {
  "kernelspec": {
   "display_name": "Julia 1.4.0-rc1",
   "language": "julia",
   "name": "julia-1.4"
  },
  "language_info": {
   "file_extension": ".jl",
   "mimetype": "application/julia",
   "name": "julia",
   "version": "1.4.0"
  }
 },
 "nbformat": 4,
 "nbformat_minor": 4
}
