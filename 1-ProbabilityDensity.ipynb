{
 "cells": [
  {
   "cell_type": "code",
   "execution_count": 96,
   "metadata": {},
   "outputs": [],
   "source": [
    "using ValueShapes\n",
    "using ArraysOfArrays\n",
    "using StatsBase \n",
    "using LinearAlgebra\n",
    "using Statistics\n",
    "using Distributions \n",
    "using IntervalSets\n",
    "using BAT\n",
    "\n",
    "using HCubature\n",
    "using JLD2\n",
    "using CPUTime\n",
    "using LaTeXStrings\n",
    "using SpecialFunctions\n",
    "using KernelDensity\n",
    "\n",
    "# using Plots\n",
    "# using Colors\n",
    "# using ColorSchemes\n",
    "# pyplot(size=(750,500))\n",
    "# line_colors = ColorSchemes.tab20b;"
   ]
  },
  {
   "cell_type": "code",
   "execution_count": 2,
   "metadata": {},
   "outputs": [],
   "source": [
    "using PyPlot"
   ]
  },
  {
   "cell_type": "code",
   "execution_count": 3,
   "metadata": {},
   "outputs": [
    {
     "data": {
      "text/plain": [
       "corner_plots (generic function with 4 methods)"
      ]
     },
     "execution_count": 3,
     "metadata": {},
     "output_type": "execute_result"
    }
   ],
   "source": [
    "using BATPar\n",
    "using KDTree\n",
    "include(\"plotting recipes.jl\")"
   ]
  },
  {
   "cell_type": "markdown",
   "metadata": {},
   "source": [
    "# Generate Distribution: "
   ]
  },
  {
   "cell_type": "code",
   "execution_count": null,
   "metadata": {},
   "outputs": [],
   "source": [
    "# data = hcat(randn(1000), randn(1000))\n",
    "\n",
    "# sx, sy = 0.12, 0.15\n",
    "\n",
    "# Scale = [sx 0; 0 sy]\n",
    "\n",
    "# theta = 0.75*pi\n",
    "\n",
    "# c, s = cos(theta), sin(theta)\n",
    "\n",
    "# Rot = [c -s; s c]\n",
    "\n",
    "# T = Scale * Rot\n",
    "\n",
    "# data_p =(data * T)';\n",
    "\n",
    "# sigma = cov(data_p')\n",
    "\n",
    "# @show sigma"
   ]
  },
  {
   "cell_type": "code",
   "execution_count": null,
   "metadata": {},
   "outputs": [],
   "source": [
    "# Correlated Normal:\n",
    "\n",
    "sigma_1 = [0.32716446841097613 0.17276467616026275; 0.17276467616026275 0.33056237691918017]\n",
    "sigma_2 = [0.15152028283087893 -0.11598742336072133; -0.11598742336072133 0.1616797732933265] #[0.1572026439007445 -0.1044956058704804; -0.1044956058704804 0.13445945463874312] \n",
    "sigma_3 = [0.01942201849281335 -0.003187584896683795; -0.003187584896683795 0.017175237584791444]\n",
    "\n",
    "N = 2 \n",
    "min_v = -50\n",
    "max_v = 50\n",
    "lgV = N*log(max_v-min_v); \n",
    "\n",
    "g(x;μ=[0, 0], sigma=sigma) = pdf(MvNormal(μ, sigma), x)\n",
    "\n",
    "f(x) = g(x, μ=[5, 5], sigma=sigma_1) + g(x, μ=[-5, -5], sigma=sigma_1) + 0.1*g(x, μ=[5, -5], sigma=sigma_3) + 0.9*g(x, μ=[-5, 5], sigma=sigma_2)"
   ]
  },
  {
   "cell_type": "code",
   "execution_count": null,
   "metadata": {},
   "outputs": [],
   "source": [
    "# Normal Distribution\n",
    "\n",
    "true_param =(μ1=0, μ2=-1, σ=1)\n",
    "min_v = -8\n",
    "max_v = 8\n",
    "N = 4\n",
    "lgV = N*log(max_v-min_v); \n",
    "\n",
    "\n",
    "function f(x::AbstractArray; true_param=true_param)\n",
    "    tmp = prod(pdf.(Normal(true_param.μ1, true_param.σ), x))\n",
    "    return tmp\n",
    "end"
   ]
  },
  {
   "cell_type": "code",
   "execution_count": null,
   "metadata": {},
   "outputs": [],
   "source": [
    "#Report distribution\n",
    "\n",
    "sigma_1 = [0.32716446841097613 0.17276467616026275; 0.17276467616026275 0.33056237691918017]\n",
    "sigma_3 = [0.01942201849281335 -0.003187584896683795; -0.003187584896683795 0.017175237584791444]\n",
    "\n",
    "N = 2 \n",
    "min_v = -20\n",
    "max_v = 20\n",
    "lgV = N*log(max_v-min_v); \n",
    "\n",
    "g(x;μ=[0, 0], sigma=sigma_1) = pdf(MvNormal(μ, sigma), x)\n",
    "\n",
    "f(x) = (1/2.08)*(g(x, μ=[3.5, 3.5], sigma=sigma_1) + g(x, μ=[-3.5, -3.5], sigma=sigma_1) + 0.04*g(x, μ=[3.5, -3.5], sigma=sigma_3) + 0.04*g(x, μ=[-3.5, 3.5], sigma=sigma_3))"
   ]
  },
  {
   "cell_type": "markdown",
   "metadata": {},
   "source": [
    "## Plot Distribution: "
   ]
  },
  {
   "cell_type": "code",
   "execution_count": null,
   "metadata": {},
   "outputs": [],
   "source": [
    "x_range = range(-10, stop=10, length=200)\n",
    "y_range = range(-10, stop=10, length=200)\n",
    "\n",
    "z = [f([i,j]) for i in x_range, j in y_range]';\n",
    "\n",
    "levels_quantiles = [0.6, 0.96, 0.98, 0.999, 1,]\n",
    "levels=quantile([z...], levels_quantiles)\n",
    "\n",
    "@show levels\n",
    "\n",
    "contour(x_range, y_range, z; fill=true, levels=levels, fillalpha=0.2, color=:blues)"
   ]
  },
  {
   "cell_type": "markdown",
   "metadata": {},
   "source": [
    "# Generate MCMC Samples: "
   ]
  },
  {
   "cell_type": "code",
   "execution_count": null,
   "metadata": {},
   "outputs": [],
   "source": [
    "algorithm = MetropolisHastings()\n",
    "\n",
    "tuning = AdaptiveMetropolisTuning(\n",
    "    λ = 0.5,\n",
    "    α = 0.15..0.35,\n",
    "    β = 1.1,\n",
    "    c = 1e-4..1e2\n",
    ")\n",
    "\n",
    "convergence = BrooksGelmanConvergence(\n",
    "    threshold = 1.1,\n",
    "    corrected = false\n",
    ")\n",
    "\n",
    "init = MCMCInitStrategy(\n",
    "    init_tries_per_chain = 8..128,\n",
    "    max_nsamples_init = 50,\n",
    "    max_nsteps_init = 50,\n",
    "    max_time_init = 18\n",
    ")\n",
    "\n",
    "burnin = MCMCBurninStrategy(\n",
    "    max_nsamples_per_cycle = 10,\n",
    "    max_nsteps_per_cycle = 100,\n",
    "    max_time_per_cycle = 25,\n",
    "    max_ncycles = 1\n",
    ")\n",
    "\n",
    "HMI_Manual_Settings = BAT.HMISettings(BAT.cholesky_partial_whitening!, \n",
    "        1000, \n",
    "        1.5, \n",
    "        0.1, \n",
    "        true, \n",
    "        16, \n",
    "        true, \n",
    "        Dict(\"cov. weighted result\" => BAT.hm_combineresults_covweighted!)\n",
    "    )\n",
    "\n",
    "log_likelihood = params -> LogDVal((log(f(params.a))))\n",
    "\n",
    "prior = NamedTupleDist(a = [[min_v .. max_v for i in 1:N]...],)\n",
    "\n",
    "posterior = PosteriorDensity(log_likelihood, prior);"
   ]
  },
  {
   "cell_type": "code",
   "execution_count": null,
   "metadata": {},
   "outputs": [],
   "source": [
    "nchains = 2\n",
    "nsamples = 1*10^5\n",
    "max_time = 150\n",
    "max_nsteps = 10 * nsamples;"
   ]
  },
  {
   "cell_type": "code",
   "execution_count": null,
   "metadata": {},
   "outputs": [],
   "source": [
    "samples, stats = bat_sample(posterior, (nsamples, nchains), MetropolisHastings(), tuning=tuning, init=init, burnin=burnin);"
   ]
  },
  {
   "cell_type": "code",
   "execution_count": null,
   "metadata": {},
   "outputs": [],
   "source": [
    "hmi_data = BAT.HMIData(unshaped.(samples))\n",
    "ahmi_ex_time = @CPUelapsed BAT.hm_integrate!(hmi_data)\n",
    "\n",
    "ahmi_integral_run =[hmi_data.integralestimates[\"cov. weighted result\"].final.estimate, hmi_data.integralestimates[\"cov. weighted result\"].final.uncertainty]\n",
    "log_smpl_int = log.(ahmi_integral_run) .+ lgV"
   ]
  },
  {
   "cell_type": "code",
   "execution_count": null,
   "metadata": {},
   "outputs": [],
   "source": [
    "integral = exp.(log_smpl_int)"
   ]
  },
  {
   "cell_type": "code",
   "execution_count": null,
   "metadata": {},
   "outputs": [],
   "source": [
    "plot(samples, (1,2), legend=true,)"
   ]
  },
  {
   "cell_type": "code",
   "execution_count": null,
   "metadata": {},
   "outputs": [],
   "source": []
  },
  {
   "cell_type": "markdown",
   "metadata": {},
   "source": [
    "# Distribution #2 "
   ]
  },
  {
   "cell_type": "code",
   "execution_count": 81,
   "metadata": {},
   "outputs": [
    {
     "data": {
      "text/plain": [
       "randcovmatrix"
      ]
     },
     "execution_count": 81,
     "metadata": {},
     "output_type": "execute_result"
    }
   ],
   "source": [
    "\"\"\"\n",
    "    randcormatrix(d, η)\n",
    "Generate a d-by-d random correlation matrix using the\n",
    "method described in:\n",
    "    Lewandowski, Kurowicka, Joe\n",
    "      \"Generating random correlation matrices based on vines\n",
    "        and extended onion method\"\n",
    "    Journal of Multivariate Analysis 100 (2009)\n",
    "    doi:10.1016/j.jmva.2009.04.008\n",
    "\"\"\"\n",
    "function randcormatrix(d, η)\n",
    "    β = η + (d - 2) / 2\n",
    "    u = rand(Distributions.Beta(β, β))\n",
    "    r₁₂ = 2 * u - 1\n",
    "    r = [   1 r₁₂ ;\n",
    "          r₁₂   1 ]\n",
    "    # In published paper this index is n = 2:d-1. n is never mentioned\n",
    "    # again, but a mysterious k is, so we'll thus use k. A similar approach\n",
    "    # was taken here: http://stats.stackexchange.com/a/125017/58921\n",
    "    for k in 2:d - 1\n",
    "        β = β - 1 / 2\n",
    "        y = rand(Distributions.Beta(k / 2, β))\n",
    "        u = randn(k)\n",
    "        u /= norm(u)\n",
    "        w = sqrt(y) * u\n",
    "        A = cholesky(r).L\n",
    "        z = A * w\n",
    "        r = [ r  z ;\n",
    "              z' 1 ]\n",
    "    end\n",
    "    return r\n",
    "end\n",
    "\n",
    "\"\"\"\n",
    "    randcovmatrix(d, η, σ)\n",
    "Use randcormatrix with desired vector of standard deviations σ\n",
    "for each term to generate a random covariance matrix.\n",
    "\"\"\"\n",
    "function randcovmatrix(d, η, σ)\n",
    "    length(σ) != d && throw(DimensionMismatch(\"length(σ) doesn't match d\"))\n",
    "    r = randcormatrix(d, η)\n",
    "    Σ = zeros(d, d)\n",
    "    @inbounds for i in 1:d, j in 1:d\n",
    "        Σ[i,j] = r[i,j] * σ[i] * σ[j]\n",
    "    end\n",
    "    return Σ\n",
    "end"
   ]
  },
  {
   "cell_type": "code",
   "execution_count": 124,
   "metadata": {},
   "outputs": [],
   "source": [
    "n_clusters = 5\n",
    "n_dims = 6\n",
    "low=-10\n",
    "high=10\n",
    "η = .4\n",
    "\n",
    "means = rand(Uniform(low,high), n_clusters, n_dims)\n",
    "sigma = rand(Uniform(1,(high-low)/2), n_dims)\n",
    "cov_m = zeros(n_clusters, n_dims, n_dims)\n",
    "\n",
    "for i in 1:size(cov_m)[1]\n",
    "#     cov_m[i,:,:] .= randcovmatrix(n_dims, η, sigma)\n",
    "    η = rand(Uniform(0.1,0.5), 1)[1]\n",
    "    cov_m[i,:,:] .= randcovmatrix(n_dims, η, sigma)\n",
    "end"
   ]
  },
  {
   "cell_type": "code",
   "execution_count": 131,
   "metadata": {},
   "outputs": [],
   "source": [
    "# JLD2.@save \"MixtureModels/mixture-1.jld\" means cov_m n_clusters"
   ]
  },
  {
   "cell_type": "code",
   "execution_count": 126,
   "metadata": {},
   "outputs": [],
   "source": [
    "model = MixtureModel(MvNormal[MvNormal(means[i,:], Matrix(Hermitian(cov_m[i,:,:])) ) for i in 1:n_clusters])\n",
    "\n",
    "# samples = rand(model, 10^6)\n",
    "# counts,ybins,xbins,image = plt.hist2d(samples[1,:], samples[2,:], bins=80);\n",
    "# plt.contourf(counts',extent=[minimum(xbins),maximum(xbins),minimum(ybins),maximum(ybins)],linewidths=1)"
   ]
  },
  {
   "cell_type": "code",
   "execution_count": 127,
   "metadata": {},
   "outputs": [],
   "source": [
    "iid_distributions = NamedTupleDist(a = model,)\n",
    "\n",
    "samples_iid = bat_sample(iid_distributions, 10^6).result; "
   ]
  },
  {
   "cell_type": "code",
   "execution_count": 128,
   "metadata": {},
   "outputs": [
    {
     "data": {
      "image/png": "[encoded data removed]",
      "text/plain": [
       "Figure(PyObject <Figure size 1100x1100 with 36 Axes>)"
      ]
     },
     "metadata": {},
     "output_type": "display_data"
    }
   ],
   "source": [
    "corner_plots(samples_iid, [1,2,3,4,5,6], [\"1\", \"2\", \"3\", \"4\", \"5\",\"6\"], N_bins=70, save_plot=false) #levels_quantiles = [ 0.7, 0.9, 0.99, 1,],\n"
   ]
  },
  {
   "cell_type": "code",
   "execution_count": 129,
   "metadata": {},
   "outputs": [],
   "source": [
    "# corner_plots(samples_iid, [6,7,8,9,10], [\"6\", \"7\", \"8\", \"9\", \"10\"], N_bins=70, save_plot=false) #levels_quantiles = [ 0.7, 0.9, 0.99, 1,],\n"
   ]
  },
  {
   "cell_type": "code",
   "execution_count": 123,
   "metadata": {},
   "outputs": [
    {
     "data": {
      "text/plain": [
       "BivariateKDE{StepRangeLen{Float64,Base.TwicePrecision{Float64},Base.TwicePrecision{Float64}},StepRangeLen{Float64,Base.TwicePrecision{Float64},Base.TwicePrecision{Float64}}}(-47.93593696067998:0.3976788467293681:53.47216895530889, -41.640066214141505:0.30736048134119104:36.73685652786221, [3.324194199563603e-18 2.5126242865491053e-17 … 4.46414881644039e-17 5.4337840150021234e-18; 0.0 0.0 … 0.0 0.0; … ; 9.535128130795507e-18 1.8641763939686063e-17 … 5.127449412237225e-17 0.0; 0.0 0.0 … 0.0 0.0])"
      ]
     },
     "execution_count": 123,
     "metadata": {},
     "output_type": "execute_result"
    }
   ],
   "source": [
    "B = kde(collect(flatview(unshaped.(samples_iid.v)))[1:2,:]')"
   ]
  },
  {
   "cell_type": "code",
   "execution_count": null,
   "metadata": {},
   "outputs": [],
   "source": []
  }
 ],
 "metadata": {
  "kernelspec": {
   "display_name": "Julia 1.4.2",
   "language": "julia",
   "name": "julia-1.4"
  },
  "language_info": {
   "file_extension": ".jl",
   "mimetype": "application/julia",
   "name": "julia",
   "version": "1.4.2"
  }
 },
 "nbformat": 4,
 "nbformat_minor": 4
}
