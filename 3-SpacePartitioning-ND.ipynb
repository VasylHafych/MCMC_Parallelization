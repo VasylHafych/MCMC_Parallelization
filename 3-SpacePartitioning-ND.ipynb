{
 "cells": [
  {
   "cell_type": "code",
   "execution_count": null,
   "metadata": {},
   "outputs": [],
   "source": [
    "using Distributions \n",
    "using IntervalSets\n",
    "using ValueShapes\n",
    "using ArraysOfArrays\n",
    "using StatsBase \n",
    "using LinearAlgebra\n",
    "using Random123\n",
    "using HCubature\n",
    "\n",
    "using KDTree\n",
    "using BAT\n",
    "using BATPar\n",
    "\n",
    "using LaTeXStrings"
   ]
  },
  {
   "cell_type": "code",
   "execution_count": null,
   "metadata": {},
   "outputs": [],
   "source": [
    "import Plots\n",
    "import PyPlot\n",
    "Plots.pyplot()\n",
    "\n",
    "plt = PyPlot\n",
    "\n",
    "SMALL_SIZE = 10\n",
    "MEDIUM_SIZE = 11\n",
    "BIGGER_SIZE = 12\n",
    "\n",
    "plt.rc(\"font\", size=SMALL_SIZE)          # controls default text sizes\n",
    "plt.rc(\"axes\", titlesize=SMALL_SIZE)     # fontsize of the axes title\n",
    "plt.rc(\"axes\", labelsize=MEDIUM_SIZE)    # fontsize of the x and y labels\n",
    "plt.rc(\"xtick\", labelsize=SMALL_SIZE)    # fontsize of the tick labels\n",
    "plt.rc(\"ytick\", labelsize=SMALL_SIZE)    # fontsize of the tick labels\n",
    "plt.rc(\"legend\", fontsize=SMALL_SIZE)    # legend fontsize\n",
    "plt.rc(\"figure\", titlesize=BIGGER_SIZE)  # fontsize of the figure title\n",
    "\n",
    "colors = vcat([0 0 0 0], plt.cm.YlOrRd(range(0, stop=1, length=10))[2:end,:]);"
   ]
  },
  {
   "cell_type": "markdown",
   "metadata": {},
   "source": [
    "# Density Function"
   ]
  },
  {
   "cell_type": "markdown",
   "metadata": {},
   "source": [
    "## Density 1:"
   ]
  },
  {
   "cell_type": "code",
   "execution_count": null,
   "metadata": {},
   "outputs": [],
   "source": [
    "# Multimodal Caushy pdf: \n",
    "\n",
    "true_param =(μ1=2, μ2=-2, σ=0.13)\n",
    "\n",
    "function f(x::AbstractArray; true_param=true_param)\n",
    "    tmp = 1\n",
    "    for i in eachindex(x)\n",
    "        if i > 2\n",
    "            tmp *= pdf(Cauchy(true_param.μ1 + true_param.μ2, true_param.σ), x[i])\n",
    "        else \n",
    "            tmp *= 0.5*pdf(Cauchy(true_param.μ1, true_param.σ), x[i]) + 0.5*pdf(Cauchy(true_param.μ2, true_param.σ), x[i])\n",
    "        end\n",
    "    end\n",
    "    return tmp\n",
    "end\n",
    "\n",
    "function LogTrueIntegral(N; max = max_v, min=min_v,  true_param=true_param) \n",
    "    tmp = 0\n",
    "    for i in 1:N\n",
    "        if i > 2\n",
    "            tmp += log(cdf(Cauchy(true_param.μ1 + true_param.μ2,true_param.σ), max_v) - cdf(Cauchy(true_param.μ1 + true_param.μ2,true_param.σ), min_v))\n",
    "        else \n",
    "            tmp += log(cdf(Cauchy(true_param.μ1,true_param.σ), max_v) - cdf(Cauchy(true_param.μ1 ,true_param.σ), min_v))\n",
    "        end\n",
    "    end\n",
    "    return tmp\n",
    "end\n",
    "\n",
    "N = 4\n",
    "min_v = -5.\n",
    "max_v = 5.\n",
    "lgV = N*log(max_v-min_v); "
   ]
  },
  {
   "cell_type": "markdown",
   "metadata": {},
   "source": [
    "## Density 2:"
   ]
  },
  {
   "cell_type": "code",
   "execution_count": null,
   "metadata": {},
   "outputs": [],
   "source": [
    "# simple Normal Distribution: \n",
    "\n",
    "N = 4\n",
    "min_v = -10.\n",
    "max_v = 10.\n",
    "\n",
    "lgV = N*log(max_v-min_v); \n",
    "\n",
    "f(x::AbstractArray) = prod(pdf.(Normal(0, 1), x))\n",
    "\n",
    "LogTrueIntegral(N)=0.0"
   ]
  },
  {
   "cell_type": "markdown",
   "metadata": {},
   "source": [
    "## Density 2:"
   ]
  },
  {
   "cell_type": "code",
   "execution_count": null,
   "metadata": {},
   "outputs": [],
   "source": [
    "# Funnel: \n",
    "\n",
    "density_type = Normal(0.0, 1.0)\n",
    "\n",
    "function f(x::Array{Float64}; density_type=density_type)\n",
    "    b=1\n",
    "    μ = 0.0\n",
    "    σ = 1.0\n",
    "    return pdf(Normal(μ, σ), x[1])*prod(pdf.(Normal(μ, exp(2*b*x[1])), x[2:end]))   \n",
    "end\n",
    "\n",
    "N = 4\n",
    "min_v = -30.\n",
    "max_v = 30.\n",
    "\n",
    "lgV = N*log(max_v-min_v); \n",
    "\n",
    "LogTrueIntegral(N)=0.0"
   ]
  },
  {
   "cell_type": "markdown",
   "metadata": {},
   "source": [
    "# Serial Sampling"
   ]
  },
  {
   "cell_type": "code",
   "execution_count": null,
   "metadata": {},
   "outputs": [],
   "source": [
    "tuning = AdaptiveMetropolisTuning(\n",
    "    λ = 0.5,\n",
    "    α = 0.65..0.75,\n",
    "    β = 1.5,\n",
    "    c = 1e-4..1e4\n",
    ")\n",
    "\n",
    "\n",
    "# * `λ`: Controls the weight given to new covariance information in adapting\n",
    "#   the proposal distribution. Defaults to `0.5`.\n",
    "\n",
    "# * `α`: Metropolis-Hastings acceptance ratio target, tuning will try to\n",
    "#   adapt the proposal distribution to bring the acceptance ratio inside this\n",
    "#   interval. Defaults to `IntervalSets.ClosedInterval(0.15, 0.35)`\n",
    "\n",
    "# * `β`: Controls how much the spread of the proposal distribution is\n",
    "#   widened/narrowed depending on the current MH acceptance ratio.\n",
    "\n",
    "# * `c`: Interval for allowed scale/spread of the proposal distribution.\n",
    "#   Defaults to `ClosedInterval(1e-4, 1e2)`.\n",
    "\n",
    "# * `r`: Reweighting factor. Take accumulated sample statistics of previous\n",
    "#   tuning cycles into account with a relative weight of `r`. Set to `0` to\n",
    "#   completely reset sample statistics between each tuning cycle.\n",
    "\n",
    "\n",
    "convergence = BrooksGelmanConvergence(\n",
    "    threshold = 1.1,\n",
    "    corrected = false\n",
    ")\n",
    "\n",
    "init = MCMCInitStrategy(\n",
    "    init_tries_per_chain = 20..1000,\n",
    "    max_nsamples_init = 1000,\n",
    "    max_nsteps_init = 1000,\n",
    "    max_time_init = 18\n",
    ")\n",
    "\n",
    "# `init_tries_per_chain`: Interval that specifies the minimum and maximum\n",
    "#   number of tries per MCMC chain to find a suitable starting position. Many\n",
    "#   candidate chains will be created and run for a short time. The chains with\n",
    "#   the best performance will be selected for tuning/burn-in and MCMC sampling\n",
    "#   run. Defaults to `IntervalSets.ClosedInterval(8, 128)`.\n",
    "\n",
    "# * `max_nsamples_init`: Maximum number of MCMC samples for each candidate\n",
    "#   chain. Defaults to 25. Definition of a sample depends on sampling algorithm.\n",
    "\n",
    "# * `max_nsteps_init`: Maximum number of MCMC steps for each candidate chain.\n",
    "#   Defaults to 250. Definition of a step depends on sampling algorithm.\n",
    "\n",
    "# * `max_time_init::Int`: Maximum wall-clock time to spend per candidate chain,\n",
    "#   in seconds. Defaults to `Inf`.\n",
    "\n",
    "burnin = MCMCBurninStrategy(\n",
    "    max_nsamples_per_cycle = 4000,\n",
    "    max_nsteps_per_cycle = 4000,\n",
    "    max_time_per_cycle = 25,\n",
    "    max_ncycles = 0\n",
    ")\n",
    "\n",
    "# * `max_nsamples_per_cycle`: Maximum number of MCMC samples to generate per\n",
    "#   cycle, defaults to `1000`. Definition of a sample depends on MCMC algorithm.\n",
    "\n",
    "# * `max_nsteps_per_cycle`: Maximum number of MCMC steps per cycle, defaults\n",
    "#   to `10000`. Definition of a step depends on MCMC algorithm.\n",
    "\n",
    "# * `max_time_per_cycle`: Maximum wall-clock time to spend per cycle, in\n",
    "#   seconds. Defaults to `Inf`.\n",
    "\n",
    "# * `max_ncycles`: Maximum number of cycles.\n",
    "\n"
   ]
  },
  {
   "cell_type": "code",
   "execution_count": null,
   "metadata": {},
   "outputs": [],
   "source": [
    "likelihood = params -> LogDVal((log(f(params.a))))\n",
    "prior = NamedTupleDist(a = [[min_v .. max_v for i in 1:N]...],)\n",
    "posterior = PosteriorDensity(likelihood, prior);"
   ]
  },
  {
   "cell_type": "markdown",
   "metadata": {},
   "source": [
    "## Serial MCMC over whole parameter space:"
   ]
  },
  {
   "cell_type": "code",
   "execution_count": null,
   "metadata": {},
   "outputs": [],
   "source": [
    "samples_serial, stats_serial = bat_sample(posterior, (10^4, 2), MetropolisHastings()); #tuning=tuning, init=init, burnin=burnin"
   ]
  },
  {
   "cell_type": "code",
   "execution_count": null,
   "metadata": {},
   "outputs": [],
   "source": [
    "Plots.plot(samples_serial)"
   ]
  },
  {
   "cell_type": "markdown",
   "metadata": {},
   "source": [
    "## Exploration samples: "
   ]
  },
  {
   "cell_type": "code",
   "execution_count": null,
   "metadata": {},
   "outputs": [],
   "source": [
    "nnsamples = 10^2\n",
    "nnchains = 50\n",
    "\n",
    "samples, stats = bat_sample(posterior, (nnsamples, nnchains), MetropolisHastings(), burnin=burnin);"
   ]
  },
  {
   "cell_type": "code",
   "execution_count": null,
   "metadata": {},
   "outputs": [],
   "source": [
    "smpl = flatview(unshaped.(samples.v))\n",
    "weights_LogLik = samples.logd\n",
    "weights_Histogram = samples.weight;\n",
    "\n",
    "data_kdtree = Data(smpl[:,1:end], weights_Histogram[1:end], weights_LogLik[1:end]);"
   ]
  },
  {
   "cell_type": "code",
   "execution_count": null,
   "metadata": {},
   "outputs": [],
   "source": [
    "# x_range = range(min_v, stop=max_v, length=100)\n",
    "# y_range = range(min_v, stop=max_v, length=100)\n",
    "\n",
    "# z = [f([i,j]) for i in x_range, j in y_range]';\n",
    "\n",
    "# levels_quantiles = [0.2, 0.4, 0.6, 0.8, 0.85, 0.9, 0.95, 0.99, 1,]\n",
    "# levels=quantile([z...], levels_quantiles)\n",
    "\n",
    "# colors = vcat([1 1 1 1], plt.cm.Blues(range(0, stop=1, length=length(levels_quantiles)))[2:end,:])\n",
    "\n",
    "fig, ax = plt.subplots(1,1, figsize=(7, 5))\n",
    "# ax.contourf(x_range, y_range, z, levels=levels, colors=colors, alpha=0.5)\n",
    "ax.scatter(smpl[1,:], smpl[2,:], color=\"k\", s=0.4)\n",
    "\n",
    "# ax.set_yticks([])\n",
    "# ax.set_xticks([])\n",
    " \n",
    "ax.set_xlabel(L\"\\lambda_1\")\n",
    "ax.set_ylabel(L\"\\lambda_2\")"
   ]
  },
  {
   "cell_type": "markdown",
   "metadata": {},
   "source": [
    "# Space Partitioning: "
   ]
  },
  {
   "cell_type": "code",
   "execution_count": null,
   "metadata": {},
   "outputs": [],
   "source": [
    "KDTree.evaluate_total_cost(data::Data) = KDTree.cost_f_1(data)\n",
    "\n",
    "output, cost_array = DefineKDTree(data_kdtree, [1,2,], 6);\n",
    "\n",
    "extend_tree_bounds!(output, repeat([min_v], N), repeat([max_v], N))"
   ]
  },
  {
   "cell_type": "code",
   "execution_count": null,
   "metadata": {},
   "outputs": [],
   "source": [
    "prior_bounds = [min_v, max_v] \n",
    "\n",
    "extend_tree_bounds!(output, repeat([prior_bounds[1]], N), repeat([prior_bounds[2]], N))"
   ]
  },
  {
   "cell_type": "code",
   "execution_count": null,
   "metadata": {},
   "outputs": [],
   "source": [
    "fig, ax = plt.subplots(1,1, figsize=(7, 5))\n",
    "# ax.contourf(x_range, y_range, z, levels=levels, colors=colors, alpha=0.5)\n",
    "ax.scatter(smpl[1,:], smpl[2,:], color=\"k\", s=0.4)\n",
    "\n",
    "# ax.set_yticks([])\n",
    "# ax.set_xticks([])\n",
    " \n",
    "ax.set_xlabel(L\"\\lambda_1\")\n",
    "ax.set_ylabel(L\"\\lambda_2\")\n",
    "\n",
    "plot_tree(output, [1,2], ax, color=\"red\")\n",
    "\n",
    "# ax.set_xlim(-11., 11.)\n",
    "# ax.set_ylim(-11., 11.)\n",
    "\n",
    "# ax.set_xlim(-4., 4.)\n",
    "# ax.set_ylim(-4., 4.)"
   ]
  },
  {
   "cell_type": "markdown",
   "metadata": {},
   "source": [
    "# Sampling of subspaces "
   ]
  },
  {
   "cell_type": "code",
   "execution_count": null,
   "metadata": {},
   "outputs": [],
   "source": [
    "bounds_part = extract_par_bounds(output)\n",
    "\n",
    "BATPar.make_named_prior(i) = BAT.NamedTupleDist( a =  [[i[j,1]..i[j,2] for j in 1:size(i)[1]]...])\n",
    "\n",
    "nnsamples = 10^4\n",
    "nnchains = 12\n",
    "\n",
    "# tuning = AdaptiveMetropolisTuning(\n",
    "#     λ = 0.5,\n",
    "#     α = 0.15..0.45,\n",
    "#     β = 1.5,\n",
    "#     c = 1e-4..1e2\n",
    "# )\n",
    "\n",
    "# init = MCMCInitStrategy(\n",
    "#     init_tries_per_chain = 20..200000,\n",
    "#     max_nsamples_init = 30000,\n",
    "#     max_nsteps_init = 10000,\n",
    "#     max_time_init = 200\n",
    "# )\n",
    "\n",
    "algorithm = MetropolisHastings();\n",
    "\n",
    "samples_parallel = bat_sample_parallel(likelihood, bounds_part, (nnsamples, nnchains), algorithm, ); #tuning=tuning, init=init"
   ]
  },
  {
   "cell_type": "code",
   "execution_count": null,
   "metadata": {},
   "outputs": [],
   "source": [
    "smpl_par = hcat(samples_parallel.samples...)\n",
    "x = smpl_par[1,:]\n",
    "y = smpl_par[2,:]\n",
    "w_o = samples_parallel.weights_o\n",
    "w_r =  samples_parallel.weights_r;"
   ]
  },
  {
   "cell_type": "code",
   "execution_count": null,
   "metadata": {},
   "outputs": [],
   "source": [
    "@show \"Truth\", exp(LogTrueIntegral(N))\n",
    "\n",
    "@show \"Int\", sum(w_r), sqrt(sum((samples_parallel.uncertainty).^2));"
   ]
  },
  {
   "cell_type": "code",
   "execution_count": null,
   "metadata": {},
   "outputs": [],
   "source": [
    "# Tuning improvenment: \n",
    "\n",
    "# tun_cycles = [4,4,5,6,10, 10, 10, 9, 11, 8, 6,4,5,4,7,5]\n",
    "\n",
    "# fig, ax = plt.subplots(1,1, figsize=(5, 4))\n",
    "\n",
    "# ax.hist(tun_cycles, bins=1:1:30, color=\"C0\", label=\"w/ space partitioning\")\n",
    "# ax.vlines([28], 0, 5, color=\"red\", alpha=0.5, ls=\"--\", label=\"w/o space partitioning\")\n",
    "\n",
    "# ax.set_xlabel(\"# tunning cycles\")\n",
    "# ax.set_ylabel(\"counts\")\n",
    "\n",
    "# ax.set_yticks(collect(1:1:4))\n",
    "\n",
    "# ax.set_xlim(0., 30.)\n",
    "# ax.set_ylim(0., 4.5)\n",
    "\n",
    "# ax.legend(loc=\"upper center\", frameon=true, framealpha=0.9, ncol=1)\n",
    "\n",
    "# # fig.savefig(\"../../MCMC_publication/fig-i.pdf\", bbox_inches = \"tight\")"
   ]
  },
  {
   "cell_type": "markdown",
   "metadata": {},
   "source": [
    "#### 2D histogram:"
   ]
  },
  {
   "cell_type": "code",
   "execution_count": null,
   "metadata": {},
   "outputs": [],
   "source": [
    "colors_m = vcat([1 1 1 1], plt.cm.Blues(range(0, stop=1, length=10))[2:end,:])\n",
    "\n",
    "tmp = PyPlot.ColorMap(colors_m)\n",
    "\n",
    "fig, ax = plt.subplots(1,1, figsize=(7, 5))\n",
    "\n",
    "ax.hist2d(x, y, weights=w_r, bins=400,  cmap=\"RdYlBu_r\")\n",
    "\n",
    "ax.set_yticks([])\n",
    "ax.set_xticks([])\n",
    " \n",
    "ax.set_xlabel(L\"\\lambda_1\")\n",
    "ax.set_ylabel(L\"\\lambda_2\")\n",
    "\n",
    "plot_tree(output, [1,2], ax, linewidth=0.4, color=\"black\", alpha=1)\n",
    "\n",
    "# ax.set_xlim(-5., 5.)\n",
    "# ax.set_ylim(-5., 5.)"
   ]
  },
  {
   "cell_type": "code",
   "execution_count": null,
   "metadata": {},
   "outputs": [],
   "source": [
    "function corner_plots(samples::AbstractArray, tree::Node, sample_weights_r::AbstractArray, sample_weights_o::AbstractArray, dim_indices::AbstractArray, dim_names::AbstractArray;\n",
    "        save_plot=false,\n",
    "        FILE_NAME = \"density_function.pdf\",\n",
    "        N_bins = 100,\n",
    "        levels_quantiles = [0.4, 0.7, 0.8, 0.9, 0.99, 1,], \n",
    "        hist_color = plt.cm.tab10(1), \n",
    "        colors = vcat([0 0 0 0.3], plt.cm.YlOrRd(range(0, stop=1, length=10))[2:end,:]),  #vcat([1 1 1 1], plt.cm.Blues(range(0, stop=1, length=20))[2:end,:]),\n",
    "        kwargs...,\n",
    "    )\n",
    "    \n",
    "    N = length(dim_indices)\n",
    "    bins=[]\n",
    "    fig, ax = plt.subplots(N,N, figsize=(10, 10))\n",
    "    fig.subplots_adjust(wspace=0.05, hspace=0.05)\n",
    "    \n",
    "    for idx in 1:N\n",
    "        dim_idx = dim_indices[idx]\n",
    "        bins_tmp = range(minimum(samples[dim_idx,:]), stop=maximum(samples[dim_idx,:]), length=N_bins)\n",
    "        push!(bins, bins_tmp)\n",
    "#         ax[idx, idx].hist(samples[dim_idx,:], weights=sample_weights_o/sum(sample_weights_o), bins=bins_tmp, color=hist_color, alpha=0.4)\n",
    "        ax[idx, idx].hist(samples[dim_idx,:], weights=sample_weights_r/sum(sample_weights_r), bins=bins_tmp,  color=\"lightgray\", alpha=1, linewidth=0.9) #histtype=\"step\",\n",
    "        ax[idx, idx].set_xlim(first(bins_tmp),last(bins_tmp))\n",
    "    end\n",
    "    \n",
    "    for i in 2:N, j in 1:(i-1)\n",
    "        \n",
    "        dim_x = dim_indices[j]\n",
    "        dim_y = dim_indices[i]\n",
    "        \n",
    "        histogram_2D_r = fit(Histogram, (samples[dim_x,:],samples[dim_y,:]), weights(sample_weights_r), (bins[j], bins[i]))\n",
    "        histogram_2D_r = normalize(histogram_2D_r, mode=:probability)\n",
    "        \n",
    "        histogram_2D_o = fit(Histogram, (samples[dim_y,:],samples[dim_x,:]), weights(sample_weights_o), (bins[i], bins[j]))\n",
    "        histogram_2D_o = normalize(histogram_2D_o, mode=:probability)\n",
    "        \n",
    "#         levels=quantile([histogram_2D_r.weights...], levels_quantiles)\n",
    "        min_v_1 = minimum(histogram_2D_r.weights[histogram_2D_r.weights .> 0])\n",
    "        ax[i,j].pcolormesh(midpoints(histogram_2D_r.edges[1]), midpoints(histogram_2D_r.edges[2]), replace( x-> x<500*min_v_1 ? NaN : x, histogram_2D_r.weights'), cmap=\"RdYlBu_r\" , rasterized=true) #bottom | ColorMap(colors) \"RdYlBu_r\"\n",
    "        ax[i,j].set_xlim(first(bins[j]),last(bins[j]))\n",
    "        ax[i,j].set_ylim(first(bins[i]),last(bins[i]))\n",
    "        \n",
    "        min_v_2 = minimum(histogram_2D_o.weights[histogram_2D_o.weights .> 0])\n",
    "        ax[j,i].pcolormesh(midpoints(histogram_2D_o.edges[1]), midpoints(histogram_2D_o.edges[2]), replace( x-> x<300*min_v_2 ? NaN : x, histogram_2D_o.weights'),  cmap=\"RdYlBu_r\" , rasterized=true) # top\n",
    "        plot_tree(tree, [dim_y,dim_x], ax[j,i]; kwargs...,)\n",
    "        \n",
    "        ax[j,i].set_xlim(first(bins[i]),last(bins[i]))\n",
    "        ax[j,i].set_ylim(first(bins[j]),last(bins[j]))\n",
    "        \n",
    "        \n",
    "    end\n",
    "    \n",
    "    for i in 1:N, j in 1:N\n",
    "        if 1<i<N \n",
    "            ax[i,j].get_xaxis().set_visible(false)\n",
    "        elseif i==1 \n",
    "            ax[i,j].xaxis.tick_top()\n",
    "            ax[i,j].xaxis.set_label_position(\"top\")\n",
    "            ax[i,j].set_xlabel(dim_names[j])\n",
    "        else\n",
    "            ax[i,j].set_xlabel(dim_names[j]) \n",
    "        end\n",
    "        \n",
    "        if j == i || N>j>1\n",
    "            # nothing inside \n",
    "            ax[i,j].get_yaxis().set_visible(false) \n",
    "        elseif j==N\n",
    "            # right labels\n",
    "            ax[i,j].set_ylabel(dim_names[i])\n",
    "            ax[i,j].yaxis.set_label_position(\"right\")\n",
    "            ax[i,j].yaxis.tick_right()\n",
    "        else\n",
    "            #left labels\n",
    "            ax[i,j].set_ylabel(dim_names[i])\n",
    "        end\n",
    "    end\n",
    "    \n",
    "    if save_plot \n",
    "        fig.savefig(FILE_NAME, bbox_inches = \"tight\", ) #dpi=500 \n",
    "    end\n",
    "        \n",
    "end"
   ]
  },
  {
   "cell_type": "code",
   "execution_count": null,
   "metadata": {},
   "outputs": [],
   "source": [
    "corner_plots(smpl_par, output, w_r, w_o, \n",
    "    [1,2,3], [L\"\\lambda_1\", L\"\\lambda_2\", L\"\\lambda_3\", L\"\\lambda_4\",  L\"\\lambda_5\"], \n",
    "    N_bins=120, linewidth=0.6, color=\"black\",\n",
    "    save_plot=false,\n",
    "    FILE_NAME = \"../../MCMC_publication/fig-f-2-a.png\",\n",
    "    )"
   ]
  },
  {
   "cell_type": "markdown",
   "metadata": {},
   "source": [
    "## Comparison Plots Parallel vs. Serial: "
   ]
  },
  {
   "cell_type": "code",
   "execution_count": null,
   "metadata": {},
   "outputs": [],
   "source": [
    "smpl_serial = flatview(unshaped.(samples_serial.v))\n",
    "weights_LogLik_serial = samples_serial.logd\n",
    "weights_Histogram_serial = samples_serial.weight;\n"
   ]
  },
  {
   "cell_type": "code",
   "execution_count": null,
   "metadata": {},
   "outputs": [],
   "source": [
    "bin_range = range(-5, stop=5, length=50)\n",
    "\n",
    "histogram_wo = fit(Histogram, (smpl_serial[1,:], smpl_serial[2,:]), weights(weights_Histogram_serial), (bin_range, bin_range))\n",
    "histogram_wo = normalize(histogram_wo, mode=:pdf)\n",
    "\n",
    "histogram_wr = fit(Histogram, (x, y), weights(w_r), (bin_range,bin_range))\n",
    "histogram_wr = normalize(histogram_wr, mode=:pdf);"
   ]
  },
  {
   "cell_type": "code",
   "execution_count": null,
   "metadata": {},
   "outputs": [],
   "source": [
    "z = histogram_wo.weights;\n",
    "\n",
    "levels_quantiles = [ 0.45, 0.92, 0.981, 0.988, 0.99, 0.999, 1,]\n",
    "levels=quantile([z...], levels_quantiles)"
   ]
  },
  {
   "cell_type": "code",
   "execution_count": null,
   "metadata": {},
   "outputs": [],
   "source": [
    "# levels=range(0.03855375566406406, maximum(z), length=6)"
   ]
  },
  {
   "cell_type": "code",
   "execution_count": null,
   "metadata": {},
   "outputs": [],
   "source": [
    "\n",
    "fig, ax = plt.subplots(1,2, figsize=(10, 5))\n",
    "fig.subplots_adjust(wspace=0.05)\n",
    "\n",
    "ax[1].contour(midpoints(histogram_wo.edges[1]), midpoints(histogram_wo.edges[2]), replace(histogram_wo.weights', 0=>NaN), colors=\"black\", levels=levels) \n",
    "ax[2].contour(midpoints(histogram_wr.edges[1]), midpoints(histogram_wr.edges[2]), replace(histogram_wr.weights', 0=>NaN), colors=\"k\", levels=levels) \n",
    "\n",
    "# ax[1].contourf(midpoints(histogram_wo.edges[1]), midpoints(histogram_wo.edges[2]), replace(histogram_wo.weights', 0=>NaN), cmap=\"RdYlBu_r\", levels=levels) \n",
    "# ax[2].contourf(midpoints(histogram_wr.edges[1]), midpoints(histogram_wr.edges[2]), replace(histogram_wr.weights', 0=>NaN), cmap=\"RdYlBu_r\", levels=levels) \n",
    " \n",
    "ax[1].set_xlabel(L\"\\lambda_1\")\n",
    "ax[1].set_ylabel(L\"\\lambda_2\")\n",
    "\n",
    "ax[2].set_xlabel(L\"\\lambda_1\")\n",
    "ax[2].get_yaxis().set_visible(false) \n",
    "\n",
    "ax[1].set_xlim(-3.3, 3.3)\n",
    "ax[1].set_ylim(-3.3, 3.3)\n",
    "ax[2].set_xlim(-3.3, 3.3)\n",
    "ax[2].set_ylim(-3.3, 3.3)\n",
    "\n",
    "# fig.savefig(\"../../MCMC_publication/fig-h.pdf\", bbox_inches = \"tight\")"
   ]
  },
  {
   "cell_type": "code",
   "execution_count": null,
   "metadata": {},
   "outputs": [],
   "source": [
    "fig, ax = plt.subplots(1,2, figsize=(10, 5))\n",
    "fig.subplots_adjust(wspace=0.05)\n",
    "\n",
    "ax[1].pcolormesh(midpoints(histogram_wo.edges[1]), midpoints(histogram_wo.edges[2]), replace(histogram_wo.weights', 0=>NaN), cmap=\"RdYlBu_r\") \n",
    "\n",
    "ax[2].pcolormesh(midpoints(histogram_wr.edges[1]), midpoints(histogram_wr.edges[2]), replace(histogram_wr.weights', 0=>NaN), cmap=\"RdYlBu_r\") \n",
    " \n",
    "ax[1].set_xlabel(L\"\\lambda_1\")\n",
    "ax[1].set_ylabel(L\"\\lambda_2\")\n",
    "\n",
    "ax[2].set_xlabel(L\"\\lambda_1\")\n",
    "ax[2].get_yaxis().set_visible(false) \n"
   ]
  },
  {
   "cell_type": "code",
   "execution_count": null,
   "metadata": {},
   "outputs": [],
   "source": [
    "fig, ax = plt.subplots(1,2, figsize=(10, 5))\n",
    "fig.subplots_adjust(wspace=0.05)\n",
    "\n",
    "ax[1].hist2d(x, y, weights=w_r, bins=400,  cmap=\"RdYlBu_r\")\n",
    "\n",
    "ax[2].hist2d(smpl_serial[1,:], smpl_serial[2,:], weights=weights_Histogram_serial, bins=100,  cmap=\"RdYlBu_r\")\n",
    " \n",
    "ax[1].set_xlabel(L\"\\lambda_1\")\n",
    "ax[1].set_ylabel(L\"\\lambda_2\")\n",
    "\n",
    "ax[2].set_xlabel(L\"\\lambda_1\")\n",
    "ax[2].get_yaxis().set_visible(false) \n"
   ]
  }
 ],
 "metadata": {
  "kernelspec": {
   "display_name": "Julia 1.4.0-rc1",
   "language": "julia",
   "name": "julia-1.4"
  },
  "language_info": {
   "file_extension": ".jl",
   "mimetype": "application/julia",
   "name": "julia",
   "version": "1.4.0"
  }
 },
 "nbformat": 4,
 "nbformat_minor": 4
}
