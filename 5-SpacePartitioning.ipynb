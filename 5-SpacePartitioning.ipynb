{
 "cells": [
  {
   "cell_type": "code",
   "execution_count": null,
   "metadata": {},
   "outputs": [],
   "source": [
    "using Distributions \n",
    "using IntervalSets\n",
    "using ValueShapes\n",
    "using ArraysOfArrays\n",
    "using StatsBase \n",
    "using LinearAlgebra\n",
    "using Random123\n",
    "using HCubature\n",
    "using HDF5\n",
    "\n",
    "using KDTree\n",
    "using BAT\n",
    "using BATPar\n",
    "\n",
    "using LaTeXStrings"
   ]
  },
  {
   "cell_type": "code",
   "execution_count": null,
   "metadata": {},
   "outputs": [],
   "source": [
    "import Plots\n",
    "\n",
    "Plots.pyplot()"
   ]
  },
  {
   "cell_type": "code",
   "execution_count": null,
   "metadata": {},
   "outputs": [],
   "source": [
    "import PyPlot\n",
    "\n",
    "plt = PyPlot\n",
    "\n",
    "SMALL_SIZE = 12\n",
    "MEDIUM_SIZE = 13\n",
    "BIGGER_SIZE = 13\n",
    "\n",
    "plt.rc(\"font\", size=SMALL_SIZE)          # controls default text sizes\n",
    "plt.rc(\"axes\", titlesize=SMALL_SIZE)     # fontsize of the axes title\n",
    "plt.rc(\"axes\", labelsize=MEDIUM_SIZE)    # fontsize of the x and y labels\n",
    "plt.rc(\"xtick\", labelsize=SMALL_SIZE)    # fontsize of the tick labels\n",
    "plt.rc(\"ytick\", labelsize=SMALL_SIZE)    # fontsize of the tick labels\n",
    "plt.rc(\"legend\", fontsize=SMALL_SIZE)    # legend fontsize\n",
    "plt.rc(\"figure\", titlesize=BIGGER_SIZE)  # fontsize of the figure title\n",
    "\n",
    "colors = vcat([0 0 0 0], plt.cm.YlOrRd(range(0, stop=1, length=10))[2:end,:]);\n",
    "# colors = vcat([0 0 0 0.1], plt.cm.Blues(range(0, stop=1, length=10))[3:end,:])"
   ]
  },
  {
   "cell_type": "code",
   "execution_count": null,
   "metadata": {},
   "outputs": [],
   "source": [
    "# prior = NamedTupleDist(a = [[1.0 .. 2.0 for i in 1:2]...],);\n",
    "# outp = bat_read(\"../../MCMC_publication/Saved_samples/samples_2.hdf5\")\n",
    "# samples = varshape(prior).(outp);"
   ]
  },
  {
   "cell_type": "code",
   "execution_count": null,
   "metadata": {},
   "outputs": [],
   "source": [
    "g(x;) = 0.8*pdf.(Normal(-5,0.9), x)+1.2*pdf.(Normal(-1.0,0.4), x) + 0.8*pdf.(Normal(1.0,0.4), x) + 0.8*pdf.(Normal(5,0.9), x) # 2\n",
    "\n",
    "likelihood = params -> LogDVal((log(g(params.a))))\n",
    "prior = NamedTupleDist(a = -10. .. 10.);\n",
    "posterior = PosteriorDensity(likelihood, prior);\n",
    "\n",
    "samples, stats_tmp = bat_sample(posterior, (1000, 10), MetropolisHastings());"
   ]
  },
  {
   "cell_type": "code",
   "execution_count": null,
   "metadata": {},
   "outputs": [],
   "source": [
    "KDTree.evaluate_total_cost(data::Data) = KDTree.cost_f_1(data)"
   ]
  },
  {
   "cell_type": "code",
   "execution_count": null,
   "metadata": {},
   "outputs": [],
   "source": [
    "smpl = flatview(unshaped.(samples.v))\n",
    "weights_LogLik = samples.logd\n",
    "weights_Histogram = samples.weight;\n",
    "\n",
    "data_kdtree = Data(smpl[:,1:5:end], weights_Histogram[1:5:end], weights_LogLik[1:5:end]);"
   ]
  },
  {
   "cell_type": "code",
   "execution_count": null,
   "metadata": {},
   "outputs": [],
   "source": [
    "cost_1 = KDTree.evaluate_total_cost(data_kdtree)\n",
    "output_1 = KDTree.find_min_along_axis(data_kdtree, 1)"
   ]
  },
  {
   "cell_type": "code",
   "execution_count": null,
   "metadata": {},
   "outputs": [],
   "source": [
    "data_kdtree_2 = Data(collect(transpose(data_kdtree.samples[data_kdtree.samples[1,:] .> output_1[3]])), data_kdtree.weights[data_kdtree.samples[1,:] .> output_1[3]], data_kdtree.loglik[data_kdtree.samples[1,:] .> output_1[3]]);\n",
    "data_kdtree_3 = Data(collect(transpose(data_kdtree.samples[data_kdtree.samples[1,:] .< output_1[3]])), data_kdtree.weights[data_kdtree.samples[1,:] .< output_1[3]], data_kdtree.loglik[data_kdtree.samples[1,:] .< output_1[3]]);"
   ]
  },
  {
   "cell_type": "code",
   "execution_count": null,
   "metadata": {},
   "outputs": [],
   "source": [
    "cost_2 = KDTree.evaluate_total_cost(data_kdtree_2)\n",
    "cost_3 = KDTree.evaluate_total_cost(data_kdtree_3)\n",
    "\n",
    "output_2 = KDTree.find_min_along_axis(data_kdtree_2, 1)\n",
    "output_3 = KDTree.find_min_along_axis(data_kdtree_3, 1)"
   ]
  },
  {
   "cell_type": "code",
   "execution_count": null,
   "metadata": {},
   "outputs": [],
   "source": [
    "data_kdtree_4 = Data(collect(transpose(data_kdtree_3.samples[data_kdtree_3.samples[1,:] .> output_3[3]])), data_kdtree_3.weights[data_kdtree_3.samples[1,:] .> output_3[3]], data_kdtree_3.loglik[data_kdtree_3.samples[1,:] .> output_3[3]]);\n",
    "data_kdtree_5 = Data(collect(transpose(data_kdtree_3.samples[data_kdtree_3.samples[1,:] .< output_3[3]])), data_kdtree_3.weights[data_kdtree_3.samples[1,:] .< output_3[3]], data_kdtree_3.loglik[data_kdtree_3.samples[1,:] .< output_3[3]]);"
   ]
  },
  {
   "cell_type": "code",
   "execution_count": null,
   "metadata": {},
   "outputs": [],
   "source": [
    "cost_4 = KDTree.evaluate_total_cost(data_kdtree_4)\n",
    "cost_5 = KDTree.evaluate_total_cost(data_kdtree_5)\n",
    "\n",
    "output_4 = KDTree.find_min_along_axis(data_kdtree_4, 1)\n",
    "output_5 = KDTree.find_min_along_axis(data_kdtree_5, 1)"
   ]
  },
  {
   "cell_type": "code",
   "execution_count": null,
   "metadata": {},
   "outputs": [],
   "source": [
    "cost_array = [cost_1, output_1[4], output_3[4]+cost_2, output_2[4]+cost_5+cost_4]\n",
    "cut_range = 0:1:3"
   ]
  },
  {
   "cell_type": "code",
   "execution_count": null,
   "metadata": {},
   "outputs": [],
   "source": [
    "fig = plt.figure(figsize=(9,8),)\n",
    "\n",
    "fig.subplots_adjust(hspace=0.03, wspace=0.03)\n",
    "\n",
    "ax1 = plt.subplot2grid((3, 2), (1, 0), rowspan=2, colspan=1, yticklabels=[],  yticks=[], )\n",
    "ax2 = plt.subplot2grid((3, 2), (0, 0), rowspan=1, colspan=1, xticklabels=[], yticklabels=[], xticks=[], yticks=[], )\n",
    "# ax3 = plt.subplot2grid((3, 2), (1, 1), rowspan=3, colspan=1, xticklabels=[], yticklabels=[], xticks=[], yticks=[], fc=\"orange\",)\n",
    "ax3 = plt.subplot2grid((3, 2), (1, 1), rowspan=3, colspan=1,  )\n",
    "\n",
    "ax2.hist(data_kdtree.samples[1,:], weights=data_kdtree.weights, bins=50, color=\"gray\", alpha=0.5, label=\"Density\");\n",
    "ax2.vlines(output_1[3], 0, 1700, color=\"red\", ls=\"--\", label=\"Cut position\")\n",
    "ax2.vlines(output_3[3], 0, 1700, color=\"red\", ls=\"--\")\n",
    "ax2.vlines(output_2[3], 0, 1700, color=\"red\", ls=\"--\")\n",
    "ax2.get_xaxis().set_visible(false) \n",
    "# ax2.legend(loc=\"upper left\", frameon=true, framealpha=0.9, ncol=1)\n",
    "ax2.set_ylabel(L\"P(\\lambda)\")\n",
    "\n",
    "# ax1.plot(output_1[1], output_1[2], color=\"steelblue\") #dodgerblue skyblue lightskyblue lightblue\n",
    "# ax1.plot(output_2[1], cost_3 .+ output_2[2], color=\"lightskyblue\")\n",
    "# ax1.plot(output_3[1], cost_2 .+ output_3[2], color=\"lightskyblue\")\n",
    "# ax1.plot(output_4[1],  cost_2 + cost_5 .+ output_4[2], color=\"lightblue\")\n",
    "# ax1.plot(output_5[1], cost_2 + cost_4 .+ output_5[2], color=\"lightblue\")\n",
    "# ax1.plot(output_2[1], cost_5+cost_4 .+ output_2[2], color=\"lightblue\")\n",
    "\n",
    "ax1.plot(output_1[1], output_1[2], color=PyPlot.ColorMap(\"tab20c\").colors[1]) #dodgerblue skyblue lightskyblue lightblue\n",
    "ax1.plot(output_2[1], cost_3 .+ output_2[2], color=PyPlot.ColorMap(\"tab20c\").colors[2])\n",
    "ax1.plot(output_3[1], cost_2 .+ output_3[2], color=PyPlot.ColorMap(\"tab20c\").colors[2])\n",
    "ax1.plot(output_4[1],  cost_2 + cost_5 .+ output_4[2], color=PyPlot.ColorMap(\"tab20c\").colors[4])\n",
    "ax1.plot(output_5[1], cost_2 + cost_4 .+ output_5[2], color=PyPlot.ColorMap(\"tab20c\").colors[4])\n",
    "ax1.plot(output_2[1], cost_5+cost_4 .+ output_2[2], color=PyPlot.ColorMap(\"tab20c\").colors[4])\n",
    "\n",
    "ax1.hlines(output_3[4]+cost_2, -10,10, color=\"gray\", ls=\"--\", alpha=0.5)\n",
    "ax1.hlines(output_2[4]+cost_5+cost_4, -10,10, color=\"gray\", ls=\"--\", alpha=0.5)\n",
    "ax1.hlines(cost_1, -10,10, color=\"gray\", ls=\"--\", alpha=0.5 )\n",
    "ax1.hlines(output_1[4], -10,10, color=\"gray\", ls=\"--\", alpha=0.5)\n",
    "\n",
    "ax1.vlines(output_1[3], output_1[4], cost_1, color=\"red\", alpha=0.5, ls=\"--\")\n",
    "ax1.vlines(output_3[3], output_3[4]+cost_2, output_1[4], color=\"red\", alpha=0.5, ls=\"--\")\n",
    "ax1.vlines(output_2[3], output_2[4]+cost_5+cost_4, output_3[4]+cost_2, color=\"red\", alpha=0.5, ls=\"--\")\n",
    "# ax2.vlines(output_3[3], 0, 700, color=\"red\")\n",
    "# ax2.vlines(output_2[3], 0, 700, color=\"red\")\n",
    "\n",
    "ax1.set_xlabel(L\"\\lambda\")\n",
    "\n",
    "ax3.plot(collect(cut_range), cost_array, color=\"black\", \"-o\", ms=4, mfc=\"k\")\n",
    "ax3.yaxis.tick_right()\n",
    "ax3.yaxis.set_ticks_position(\"right\")\n",
    "ax3.set_xlabel(\"# cuts\")\n",
    "ax3.set_ylabel(\"W\")\n",
    "ax3.yaxis.set_label_position(\"right\")\n",
    "\n",
    "ax3.hlines(output_3[4]+cost_2, 0,4, color=\"gray\", ls=\"--\", alpha=0.2)\n",
    "ax3.hlines(output_2[4]+cost_5+cost_4, 0,4, color=\"gray\", ls=\"--\", alpha=0.2)\n",
    "ax3.hlines(cost_1, 0,4, color=\"gray\", ls=\"--\", alpha=0.2)\n",
    "ax3.hlines(output_1[4], 0,4, color=\"gray\", ls=\"--\", alpha=0.2)\n",
    "ax3.set_xticks(collect(cut_range))\n",
    "ax3.set_xlim(-0.1, 3.1)\n",
    "\n",
    "ax2.set_xlim(-8., 8.)\n",
    "ax1.set_xlim(-8., 8.)\n",
    "\n",
    "ax2.set_ylim(0.0, 1300.)\n",
    "\n",
    "# fig.savefig(\"../../MCMC_publication/fig-partition.pdf\", bbox_inches = \"tight\")"
   ]
  },
  {
   "cell_type": "code",
   "execution_count": null,
   "metadata": {},
   "outputs": [],
   "source": []
  }
 ],
 "metadata": {
  "kernelspec": {
   "display_name": "Julia 1.4.0-rc1",
   "language": "julia",
   "name": "julia-1.4"
  },
  "language_info": {
   "file_extension": ".jl",
   "mimetype": "application/julia",
   "name": "julia",
   "version": "1.4.0"
  }
 },
 "nbformat": 4,
 "nbformat_minor": 4
}
