{
 "cells": [
  {
   "cell_type": "code",
   "execution_count": null,
   "metadata": {},
   "outputs": [],
   "source": [
    "using Distributions \n",
    "using IntervalSets\n",
    "using ValueShapes\n",
    "using Plots\n",
    "using ArraysOfArrays\n",
    "using StatsBase \n",
    "using LinearAlgebra\n",
    "using Random123\n",
    "using HCubature\n",
    "\n",
    "using KDTree\n",
    "using BAT\n",
    "using BATPar\n",
    "\n",
    "pyplot(size=(750,500))"
   ]
  },
  {
   "cell_type": "markdown",
   "metadata": {},
   "source": [
    "# Density Function: "
   ]
  },
  {
   "cell_type": "code",
   "execution_count": null,
   "metadata": {},
   "outputs": [],
   "source": [
    "sigma_1 = [0.32716446841097613 0.17276467616026275; 0.17276467616026275 0.33056237691918017]\n",
    "sigma_2 = [0.15152028283087893 -0.11598742336072133; -0.11598742336072133 0.1616797732933265] #[0.1572026439007445 -0.1044956058704804; -0.1044956058704804 0.13445945463874312] \n",
    "sigma_3 = [0.01942201849281335 -0.003187584896683795; -0.003187584896683795 0.017175237584791444]\n",
    "\n",
    "N = 2 \n",
    "min_v = -10\n",
    "max_v = 10\n",
    "lgV = N*log(max_v-min_v); \n",
    "\n",
    "f(x;μ=[0, 0], sigma=sigma) = pdf(MvNormal(μ, sigma), x)\n",
    "\n",
    "g(x) = f(x, μ=[1, 1], sigma=sigma_1) + f(x, μ=[-1, -1], sigma=sigma_1) + 0.1*f(x, μ=[1.5, -1.5], sigma=sigma_3) + 0.9*f(x, μ=[-1.3, 1.3], sigma=sigma_2)"
   ]
  },
  {
   "cell_type": "markdown",
   "metadata": {},
   "source": [
    "# Seed Samples: "
   ]
  },
  {
   "cell_type": "code",
   "execution_count": null,
   "metadata": {},
   "outputs": [],
   "source": [
    "nnsamples = 10^2\n",
    "nnchains = 10\n",
    "\n",
    "likelihood = params -> LogDVal((log(g(params.a))))\n",
    "prior = NamedTupleDist(a = [[min_v .. max_v for i in 1:N]...],)\n",
    "\n",
    "posterior = PosteriorDensity(likelihood, prior)\n",
    "samples, stats = bat_sample(posterior, (nnsamples, nnchains), MetropolisHastings());"
   ]
  },
  {
   "cell_type": "code",
   "execution_count": null,
   "metadata": {},
   "outputs": [],
   "source": [
    "smpl = flatview(unshaped.(samples.v))\n",
    "weights_LogLik = samples.logd\n",
    "weights_Histogram = samples.weight;\n",
    "\n",
    "data_kdtree = Data(smpl[:,1:end], weights_Histogram[1:end], weights_LogLik[1:end]);"
   ]
  },
  {
   "cell_type": "code",
   "execution_count": null,
   "metadata": {},
   "outputs": [],
   "source": [
    "x_range = range(-3, stop=3, length=100)\n",
    "y_range = range(-3, stop=3, length=100)\n",
    "\n",
    "z = [g([i,j]) for i in x_range, j in y_range]';\n",
    "\n",
    "levels_quantiles = [0.2, 0.3, 0.4, 0.5, 0.7,  0.8,  0.85, 0.9, 0.95, 0.99, 0.999, 1,]\n",
    "levels=quantile([z...], levels_quantiles)\n",
    "\n",
    "contour(x_range, y_range, z; fill=true,levels=levels, fillalpha=0.2, color=:blues)\n",
    "scatter!(smpl[1,:], smpl[2,:], alpha=1, markerstrokewidth=0, markersize=0.2.*weights_Histogram, color=:black, label=\"\")\n",
    "plot!(fillalpha=0.2, size=(600, 600), colorbar=false, frame=false, grid=false, xaxis=false, yaxis=false)"
   ]
  },
  {
   "cell_type": "markdown",
   "metadata": {},
   "source": [
    "# Space Partitioning: "
   ]
  },
  {
   "cell_type": "code",
   "execution_count": null,
   "metadata": {},
   "outputs": [],
   "source": [
    "KDTree.evaluate_total_cost(data::Data) = KDTree.cost_f_1(data)\n",
    "\n",
    "output, cost_array = DefineKDTree(data_kdtree, [1,2,], 30);"
   ]
  },
  {
   "cell_type": "code",
   "execution_count": null,
   "metadata": {},
   "outputs": [],
   "source": [
    "contour(x_range, y_range, z; fill=true,levels=levels, fillalpha=0.2, color=:blues)\n",
    "scatter!(smpl[1,:], smpl[2,:], alpha=1, markerstrokewidth=0, markersize=0.1.*weights_Histogram, color=:black, label=\"\")\n",
    "plot!(fillalpha=0.2, size=(600, 600), colorbar=false, frame=true, grid=false)\n",
    "\n",
    "plot_tree(output, [1,2], linealpha=1, lw=0.4, linecolor=:red)\n",
    "\n",
    "plot!(xaxis=false, yaxis=false)"
   ]
  },
  {
   "cell_type": "markdown",
   "metadata": {},
   "source": [
    "# Sampling: "
   ]
  },
  {
   "cell_type": "code",
   "execution_count": null,
   "metadata": {},
   "outputs": [],
   "source": [
    "bounds_part = extract_par_bounds(output)\n",
    "\n",
    "BATPar.make_named_prior(i) = BAT.NamedTupleDist( a = [i[1,1]..i[1,2], i[2,1]..i[2,2]])\n",
    "\n",
    "nnsamples = 10^3\n",
    "nnchains = 5\n",
    "\n",
    "tuning = AdaptiveMetropolisTuning(\n",
    "    λ = 0.5,\n",
    "    α = 0.15..0.45,\n",
    "    β = 1.5,\n",
    "    c = 1e-4..1e2\n",
    ")\n",
    "\n",
    "algorithm = MetropolisHastings();\n",
    "\n",
    "samples_parallel = bat_sample_parallel(likelihood, bounds_part, (nnsamples, nnchains), algorithm, tuning=tuning);"
   ]
  },
  {
   "cell_type": "code",
   "execution_count": null,
   "metadata": {},
   "outputs": [],
   "source": [
    "smpl_par = hcat(samples_parallel.samples...)\n",
    "x = smpl_par[1,:]\n",
    "y = smpl_par[2,:]\n",
    "w_o = samples_parallel.weights_o\n",
    "w_r =  samples_parallel.weights_r;"
   ]
  },
  {
   "cell_type": "code",
   "execution_count": null,
   "metadata": {},
   "outputs": [],
   "source": [
    "histogram2d(x, y, weights = w_o, bins=300, color = :balance)\n",
    "plot!(title=\"Unweighted MCMC Samples\", xlabel=\"x\", ylabel=\"y\")\n",
    "# plot_tree(output, [1,2], linecolor=:red, linealpha=0.3)"
   ]
  },
  {
   "cell_type": "code",
   "execution_count": null,
   "metadata": {},
   "outputs": [],
   "source": []
  }
 ],
 "metadata": {
  "kernelspec": {
   "display_name": "Julia 1.4.0-rc1",
   "language": "julia",
   "name": "julia-1.4"
  },
  "language_info": {
   "file_extension": ".jl",
   "mimetype": "application/julia",
   "name": "julia",
   "version": "1.4.0"
  }
 },
 "nbformat": 4,
 "nbformat_minor": 4
}
